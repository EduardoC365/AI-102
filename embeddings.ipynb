{
 "cells": [
  {
   "cell_type": "markdown",
   "metadata": {
    "application/vnd.databricks.v1+cell": {
     "cellMetadata": {},
     "inputWidgets": {},
     "nuid": "fdd2140d-f144-4059-9267-6c183af58d6e",
     "showTitle": false,
     "tableResultSettingsMap": {},
     "title": ""
    }
   },
   "source": [
    "# Azure embeddings example\n",
    "\n",
    "This example will cover embeddings using the Azure OpenAI service."
   ]
  },
  {
   "cell_type": "markdown",
   "metadata": {
    "application/vnd.databricks.v1+cell": {
     "cellMetadata": {},
     "inputWidgets": {},
     "nuid": "17999453-687d-438c-9263-f9132efc74ab",
     "showTitle": false,
     "tableResultSettingsMap": {},
     "title": ""
    }
   },
   "source": [
    "## Setup\n",
    "\n",
    "First, we install the necessary dependencies and import the libraries we will be using."
   ]
  },
  {
   "cell_type": "code",
   "execution_count": 0,
   "metadata": {
    "application/vnd.databricks.v1+cell": {
     "cellMetadata": {
      "byteLimit": 2048000,
      "rowLimit": 10000
     },
     "inputWidgets": {},
     "nuid": "d47b4fb6-13a9-4d4b-94e0-d1fcfa1ebcdc",
     "showTitle": false,
     "tableResultSettingsMap": {},
     "title": ""
    }
   },
   "outputs": [
    {
     "output_type": "stream",
     "name": "stdout",
     "output_type": "stream",
     "text": [
      "Collecting openai<2.0.0,>=1.0.0\r\n  Downloading openai-1.59.7-py3-none-any.whl (454 kB)\r\n\u001B[?25l\r\u001B[K     |▊                               | 10 kB 11.2 MB/s eta 0:00:01\r\u001B[K     |█▍                              | 20 kB 7.3 MB/s eta 0:00:01\r\u001B[K     |██▏                             | 30 kB 10.3 MB/s eta 0:00:01\r\u001B[K     |██▉                             | 40 kB 5.6 MB/s eta 0:00:01\r\u001B[K     |███▋                            | 51 kB 6.7 MB/s eta 0:00:01\r\u001B[K     |████▎                           | 61 kB 7.1 MB/s eta 0:00:01\r\u001B[K     |█████                           | 71 kB 6.2 MB/s eta 0:00:01\r\u001B[K     |█████▊                          | 81 kB 5.2 MB/s eta 0:00:01\r\u001B[K     |██████▌                         | 92 kB 5.7 MB/s eta 0:00:01\r\u001B[K     |███████▏                        | 102 kB 5.2 MB/s eta 0:00:01\r\u001B[K     |████████                        | 112 kB 5.2 MB/s eta 0:00:01\r\u001B[K     |████████▋                       | 122 kB 5.2 MB/s eta 0:00:01\r\u001B[K     |█████████▍                      | 133 kB 5.2 MB/s eta 0:00:01\r\u001B[K     |██████████                      | 143 kB 5.2 MB/s eta 0:00:01\r\u001B[K     |██████████▉                     | 153 kB 5.2 MB/s eta 0:00:01\r\u001B[K     |███████████▌                    | 163 kB 5.2 MB/s eta 0:00:01\r\u001B[K     |████████████▎                   | 174 kB 5.2 MB/s eta 0:00:01\r\u001B[K     |█████████████                   | 184 kB 5.2 MB/s eta 0:00:01\r\u001B[K     |█████████████▊                  | 194 kB 5.2 MB/s eta 0:00:01\r\u001B[K     |██████████████▍                 | 204 kB 5.2 MB/s eta 0:00:01\r\u001B[K     |███████████████▏                | 215 kB 5.2 MB/s eta 0:00:01\r\u001B[K     |███████████████▉                | 225 kB 5.2 MB/s eta 0:00:01\r\u001B[K     |████████████████▋               | 235 kB 5.2 MB/s eta 0:00:01\r\u001B[K     |█████████████████▎              | 245 kB 5.2 MB/s eta 0:00:01\r\u001B[K     |██████████████████              | 256 kB 5.2 MB/s eta 0:00:01\r\u001B[K     |██████████████████▊             | 266 kB 5.2 MB/s eta 0:00:01\r\u001B[K     |███████████████████▌            | 276 kB 5.2 MB/s eta 0:00:01\r\u001B[K     |████████████████████▏           | 286 kB 5.2 MB/s eta 0:00:01\r\u001B[K     |█████████████████████           | 296 kB 5.2 MB/s eta 0:00:01\r\u001B[K     |█████████████████████▋          | 307 kB 5.2 MB/s eta 0:00:01\r\u001B[K     |██████████████████████▎         | 317 kB 5.2 MB/s eta 0:00:01\r\u001B[K     |███████████████████████         | 327 kB 5.2 MB/s eta 0:00:01\r\u001B[K     |███████████████████████▊        | 337 kB 5.2 MB/s eta 0:00:01\r\u001B[K     |████████████████████████▌       | 348 kB 5.2 MB/s eta 0:00:01\r\u001B[K     |█████████████████████████▏      | 358 kB 5.2 MB/s eta 0:00:01\r\u001B[K     |██████████████████████████      | 368 kB 5.2 MB/s eta 0:00:01\r\u001B[K     |██████████████████████████▋     | 378 kB 5.2 MB/s eta 0:00:01\r\u001B[K     |███████████████████████████▍    | 389 kB 5.2 MB/s eta 0:00:01\r\u001B[K     |████████████████████████████    | 399 kB 5.2 MB/s eta 0:00:01\r\u001B[K     |████████████████████████████▉   | 409 kB 5.2 MB/s eta 0:00:01\r\u001B[K     |█████████████████████████████▌  | 419 kB 5.2 MB/s eta 0:00:01\r\u001B[K     |██████████████████████████████▎ | 430 kB 5.2 MB/s eta 0:00:01\r\u001B[K     |███████████████████████████████ | 440 kB 5.2 MB/s eta 0:00:01\r\u001B[K     |███████████████████████████████▊| 450 kB 5.2 MB/s eta 0:00:01\r\u001B[K     |████████████████████████████████| 454 kB 5.2 MB/s \r\n\u001B[?25hCollecting typing-extensions<5,>=4.11\r\n  Downloading typing_extensions-4.12.2-py3-none-any.whl (37 kB)\r\nCollecting httpx<1,>=0.23.0\r\n  Downloading httpx-0.28.1-py3-none-any.whl (73 kB)\r\n\u001B[?25l\r\u001B[K     |████▌                           | 10 kB 36.6 MB/s eta 0:00:01\r\u001B[K     |█████████                       | 20 kB 38.2 MB/s eta 0:00:01\r\u001B[K     |█████████████▍                  | 30 kB 42.1 MB/s eta 0:00:01\r\u001B[K     |█████████████████▉              | 40 kB 45.7 MB/s eta 0:00:01\r\u001B[K     |██████████████████████▎         | 51 kB 46.2 MB/s eta 0:00:01\r\u001B[K     |██████████████████████████▊     | 61 kB 48.8 MB/s eta 0:00:01\r\u001B[K     |███████████████████████████████▏| 71 kB 52.3 MB/s eta 0:00:01\r\u001B[K     |████████████████████████████████| 73 kB 936 kB/s \r\n\u001B[?25hCollecting distro<2,>=1.7.0\r\n  Downloading distro-1.9.0-py3-none-any.whl (20 kB)\r\nCollecting jiter<1,>=0.4.0\r\n  Downloading jiter-0.8.2-cp39-cp39-manylinux_2_17_x86_64.manylinux2014_x86_64.whl (345 kB)\r\n\u001B[?25l\r\u001B[K     |█                               | 10 kB 38.0 MB/s eta 0:00:01\r\u001B[K     |██                              | 20 kB 45.0 MB/s eta 0:00:01\r\u001B[K     |██▉                             | 30 kB 55.3 MB/s eta 0:00:01\r\u001B[K     |███▉                            | 40 kB 11.5 MB/s eta 0:00:01\r\u001B[K     |████▊                           | 51 kB 13.5 MB/s eta 0:00:01\r\u001B[K     |█████▊                          | 61 kB 15.7 MB/s eta 0:00:01\r\u001B[K     |██████▋                         | 71 kB 17.8 MB/s eta 0:00:01\r\u001B[K     |███████▋                        | 81 kB 19.8 MB/s eta 0:00:01\r\u001B[K     |████████▌                       | 92 kB 21.9 MB/s eta 0:00:01\r\u001B[K     |█████████▌                      | 102 kB 23.8 MB/s eta 0:00:01\r\u001B[K     |██████████▍                     | 112 kB 23.8 MB/s eta 0:00:01\r\u001B[K     |███████████▍                    | 122 kB 23.8 MB/s eta 0:00:01\r\u001B[K     |████████████▎                   | 133 kB 23.8 MB/s eta 0:00:01\r\u001B[K     |█████████████▎                  | 143 kB 23.8 MB/s eta 0:00:01\r\u001B[K     |██████████████▎                 | 153 kB 23.8 MB/s eta 0:00:01\r\u001B[K     |███████████████▏                | 163 kB 23.8 MB/s eta 0:00:01\r\u001B[K     |████████████████▏               | 174 kB 23.8 MB/s eta 0:00:01\r\u001B[K     |█████████████████               | 184 kB 23.8 MB/s eta 0:00:01\r\u001B[K     |██████████████████              | 194 kB 23.8 MB/s eta 0:00:01\r\u001B[K     |███████████████████             | 204 kB 23.8 MB/s eta 0:00:01\r\u001B[K     |████████████████████            | 215 kB 23.8 MB/s eta 0:00:01\r\u001B[K     |████████████████████▉           | 225 kB 23.8 MB/s eta 0:00:01\r\u001B[K     |█████████████████████▉          | 235 kB 23.8 MB/s eta 0:00:01\r\u001B[K     |██████████████████████▊         | 245 kB 23.8 MB/s eta 0:00:01\r\u001B[K     |███████████████████████▊        | 256 kB 23.8 MB/s eta 0:00:01\r\u001B[K     |████████████████████████▋       | 266 kB 23.8 MB/s eta 0:00:01\r\u001B[K     |█████████████████████████▋      | 276 kB 23.8 MB/s eta 0:00:01\r\u001B[K     |██████████████████████████▌     | 286 kB 23.8 MB/s eta 0:00:01\r\u001B[K     |███████████████████████████▌    | 296 kB 23.8 MB/s eta 0:00:01\r\u001B[K     |████████████████████████████▌   | 307 kB 23.8 MB/s eta 0:00:01\r\u001B[K     |█████████████████████████████▍  | 317 kB 23.8 MB/s eta 0:00:01\r\u001B[K     |██████████████████████████████▍ | 327 kB 23.8 MB/s eta 0:00:01\r\u001B[K     |███████████████████████████████▎| 337 kB 23.8 MB/s eta 0:00:01\r\u001B[K     |████████████████████████████████| 345 kB 23.8 MB/s \r\n\u001B[?25hCollecting sniffio\r\n  Downloading sniffio-1.3.1-py3-none-any.whl (10 kB)\r\nCollecting tqdm>4\r\n  Downloading tqdm-4.67.1-py3-none-any.whl (78 kB)\r\n\u001B[?25l\r\u001B[K     |████▏                           | 10 kB 47.1 MB/s eta 0:00:01\r\u001B[K     |████████▍                       | 20 kB 61.9 MB/s eta 0:00:01\r\u001B[K     |████████████▌                   | 30 kB 75.0 MB/s eta 0:00:01\r\u001B[K     |████████████████▊               | 40 kB 82.0 MB/s eta 0:00:01\r\u001B[K     |████████████████████▉           | 51 kB 87.3 MB/s eta 0:00:01\r\u001B[K     |█████████████████████████       | 61 kB 94.1 MB/s eta 0:00:01\r\u001B[K     |█████████████████████████████▏  | 71 kB 99.0 MB/s eta 0:00:01\r\u001B[K     |████████████████████████████████| 78 kB 9.0 MB/s \r\n\u001B[?25hCollecting pydantic<3,>=1.9.0\r\n  Downloading pydantic-2.10.5-py3-none-any.whl (431 kB)\r\n\u001B[?25l\r\u001B[K     |▊                               | 10 kB 33.5 MB/s eta 0:00:01\r\u001B[K     |█▌                              | 20 kB 36.8 MB/s eta 0:00:01\r\u001B[K     |██▎                             | 30 kB 42.7 MB/s eta 0:00:01\r\u001B[K     |███                             | 40 kB 44.7 MB/s eta 0:00:01\r\u001B[K     |███▉                            | 51 kB 49.0 MB/s eta 0:00:01\r\u001B[K     |████▋                           | 61 kB 54.0 MB/s eta 0:00:01\r\u001B[K     |█████▎                          | 71 kB 55.7 MB/s eta 0:00:01\r\u001B[K     |██████                          | 81 kB 58.3 MB/s eta 0:00:01\r\u001B[K     |██████▉                         | 92 kB 52.7 MB/s eta 0:00:01\r\u001B[K     |███████▋                        | 102 kB 31.0 MB/s eta 0:00:01\r\u001B[K     |████████▍                       | 112 kB 31.0 MB/s eta 0:00:01\r\u001B[K     |█████████▏                      | 122 kB 31.0 MB/s eta 0:00:01\r\u001B[K     |█████████▉                      | 133 kB 31.0 MB/s eta 0:00:01\r\u001B[K     |██████████▋                     | 143 kB 31.0 MB/s eta 0:00:01\r\u001B[K     |███████████▍                    | 153 kB 31.0 MB/s eta 0:00:01\r\u001B[K     |████████████▏                   | 163 kB 31.0 MB/s eta 0:00:01\r\u001B[K     |█████████████                   | 174 kB 31.0 MB/s eta 0:00:01\r\u001B[K     |█████████████▊                  | 184 kB 31.0 MB/s eta 0:00:01\r\u001B[K     |██████████████▍                 | 194 kB 31.0 MB/s eta 0:00:01\r\u001B[K     |███████████████▏                | 204 kB 31.0 MB/s eta 0:00:01\r\u001B[K     |████████████████                | 215 kB 31.0 MB/s eta 0:00:01\r\u001B[K     |████████████████▊               | 225 kB 31.0 MB/s eta 0:00:01\r\u001B[K     |█████████████████▌              | 235 kB 31.0 MB/s eta 0:00:01\r\u001B[K     |██████████████████▎             | 245 kB 31.0 MB/s eta 0:00:01\r\u001B[K     |███████████████████             | 256 kB 31.0 MB/s eta 0:00:01\r\u001B[K     |███████████████████▊            | 266 kB 31.0 MB/s eta 0:00:01\r\u001B[K     |████████████████████▌           | 276 kB 31.0 MB/s eta 0:00:01\r\u001B[K     |█████████████████████▎          | 286 kB 31.0 MB/s eta 0:00:01\r\u001B[K     |██████████████████████          | 296 kB 31.0 MB/s eta 0:00:01\r\u001B[K     |██████████████████████▉         | 307 kB 31.0 MB/s eta 0:00:01\r\u001B[K     |███████████████████████▌        | 317 kB 31.0 MB/s eta 0:00:01\r\u001B[K     |████████████████████████▎       | 327 kB 31.0 MB/s eta 0:00:01\r\u001B[K     |█████████████████████████       | 337 kB 31.0 MB/s eta 0:00:01\r\u001B[K     |█████████████████████████▉      | 348 kB 31.0 MB/s eta 0:00:01\r\u001B[K     |██████████████████████████▋     | 358 kB 31.0 MB/s eta 0:00:01\r\u001B[K     |███████████████████████████▍    | 368 kB 31.0 MB/s eta 0:00:01\r\u001B[K     |████████████████████████████    | 378 kB 31.0 MB/s eta 0:00:01\r\u001B[K     |████████████████████████████▉   | 389 kB 31.0 MB/s eta 0:00:01\r\u001B[K     |█████████████████████████████▋  | 399 kB 31.0 MB/s eta 0:00:01\r\u001B[K     |██████████████████████████████▍ | 409 kB 31.0 MB/s eta 0:00:01\r\u001B[K     |███████████████████████████████▏| 419 kB 31.0 MB/s eta 0:00:01\r\u001B[K     |████████████████████████████████| 430 kB 31.0 MB/s eta 0:00:01\r\u001B[K     |████████████████████████████████| 431 kB 31.0 MB/s \r\n\u001B[?25hCollecting anyio<5,>=3.5.0\r\n  Downloading anyio-4.8.0-py3-none-any.whl (96 kB)\r\n\u001B[?25l\r\u001B[K     |███▍                            | 10 kB 39.4 MB/s eta 0:00:01\r\u001B[K     |██████▉                         | 20 kB 46.9 MB/s eta 0:00:01\r\u001B[K     |██████████▎                     | 30 kB 55.2 MB/s eta 0:00:01\r\u001B[K     |█████████████▋                  | 40 kB 63.8 MB/s eta 0:00:01\r\u001B[K     |█████████████████               | 51 kB 67.5 MB/s eta 0:00:01\r\u001B[K     |████████████████████▌           | 61 kB 75.0 MB/s eta 0:00:01\r\u001B[K     |███████████████████████▉        | 71 kB 81.3 MB/s eta 0:00:01\r\u001B[K     |███████████████████████████▎    | 81 kB 83.7 MB/s eta 0:00:01\r\u001B[K     |██████████████████████████████▊ | 92 kB 87.7 MB/s eta 0:00:01\r\u001B[K     |████████████████████████████████| 96 kB 6.0 MB/s \r\n\u001B[?25hCollecting exceptiongroup>=1.0.2\r\n  Downloading exceptiongroup-1.2.2-py3-none-any.whl (16 kB)\r\nRequirement already satisfied: idna>=2.8 in /databricks/python3/lib/python3.9/site-packages (from anyio<5,>=3.5.0->openai<2.0.0,>=1.0.0) (3.3)\r\nRequirement already satisfied: certifi in /databricks/python3/lib/python3.9/site-packages (from httpx<1,>=0.23.0->openai<2.0.0,>=1.0.0) (2021.10.8)\r\nCollecting httpcore==1.*\r\n  Downloading httpcore-1.0.7-py3-none-any.whl (78 kB)\r\n\u001B[?25l\r\u001B[K     |████▏                           | 10 kB 1.9 MB/s eta 0:00:01\r\u001B[K     |████████▍                       | 20 kB 3.7 MB/s eta 0:00:01\r\u001B[K     |████████████▌                   | 30 kB 5.4 MB/s eta 0:00:01\r\u001B[K     |████████████████▊               | 40 kB 7.1 MB/s eta 0:00:01\r\u001B[K     |████████████████████▉           | 51 kB 8.8 MB/s eta 0:00:01\r\u001B[K     |█████████████████████████       | 61 kB 10.3 MB/s eta 0:00:01\r\u001B[K     |█████████████████████████████▏  | 71 kB 11.7 MB/s eta 0:00:01\r\u001B[K     |████████████████████████████████| 78 kB 3.0 MB/s \r\n\u001B[?25hCollecting h11<0.15,>=0.13\r\n  Downloading h11-0.14.0-py3-none-any.whl (58 kB)\r\n\u001B[?25l\r\u001B[K     |█████▋                          | 10 kB 35.4 MB/s eta 0:00:01\r\u001B[K     |███████████▎                    | 20 kB 45.6 MB/s eta 0:00:01\r\u001B[K     |████████████████▉               | 30 kB 56.6 MB/s eta 0:00:01\r\u001B[K     |██████████████████████▌         | 40 kB 64.2 MB/s eta 0:00:01\r\u001B[K     |████████████████████████████▏   | 51 kB 67.9 MB/s eta 0:00:01\r\u001B[K     |████████████████████████████████| 58 kB 7.2 MB/s \r\n\u001B[?25hCollecting annotated-types>=0.6.0\r\n  Downloading annotated_types-0.7.0-py3-none-any.whl (13 kB)\r\nCollecting pydantic-core==2.27.2\r\n  Downloading pydantic_core-2.27.2-cp39-cp39-manylinux_2_17_x86_64.manylinux2014_x86_64.whl (2.0 MB)\r\n\u001B[?25l\r\u001B[K     |▏                               | 10 kB 41.3 MB/s eta 0:00:01\r\u001B[K     |▎                               | 20 kB 54.3 MB/s eta 0:00:01\r\u001B[K     |▌                               | 30 kB 61.6 MB/s eta 0:00:01\r\u001B[K     |▋                               | 40 kB 63.2 MB/s eta 0:00:01\r\u001B[K     |▉                               | 51 kB 63.2 MB/s eta 0:00:01\r\u001B[K     |█                               | 61 kB 62.7 MB/s eta 0:00:01\r\u001B[K     |█▏                              | 71 kB 65.0 MB/s eta 0:00:01\r\u001B[K     |█▎                              | 81 kB 68.8 MB/s eta 0:00:01\r\u001B[K     |█▌                              | 92 kB 69.0 MB/s eta 0:00:01\r\u001B[K     |█▋                              | 102 kB 65.6 MB/s eta 0:00:01\r\u001B[K     |█▉                              | 112 kB 65.6 MB/s eta 0:00:01\r\u001B[K     |██                              | 122 kB 65.6 MB/s eta 0:00:01\r\u001B[K     |██▏                             | 133 kB 65.6 MB/s eta 0:00:01\r\u001B[K     |██▎                             | 143 kB 65.6 MB/s eta 0:00:01\r\u001B[K     |██▌                             | 153 kB 65.6 MB/s eta 0:00:01\r\u001B[K     |██▋                             | 163 kB 65.6 MB/s eta 0:00:01\r\u001B[K     |██▉                             | 174 kB 65.6 MB/s eta 0:00:01\r\u001B[K     |███                             | 184 kB 65.6 MB/s eta 0:00:01\r\u001B[K     |███▏                            | 194 kB 65.6 MB/s eta 0:00:01\r\u001B[K     |███▎                            | 204 kB 65.6 MB/s eta 0:00:01\r\u001B[K     |███▌                            | 215 kB 65.6 MB/s eta 0:00:01\r\u001B[K     |███▋                            | 225 kB 65.6 MB/s eta 0:00:01\r\u001B[K     |███▊                            | 235 kB 65.6 MB/s eta 0:00:01\r\u001B[K     |████                            | 245 kB 65.6 MB/s eta 0:00:01\r\u001B[K     |████                            | 256 kB 65.6 MB/s eta 0:00:01\r\u001B[K     |████▎                           | 266 kB 65.6 MB/s eta 0:00:01\r\u001B[K     |████▍                           | 276 kB 65.6 MB/s eta 0:00:01\r\u001B[K     |████▋                           | 286 kB 65.6 MB/s eta 0:00:01\r\u001B[K     |████▊                           | 296 kB 65.6 MB/s eta 0:00:01\r\u001B[K     |█████                           | 307 kB 65.6 MB/s eta 0:00:01\r\u001B[K     |█████                           | 317 kB 65.6 MB/s eta 0:00:01\r\u001B[K     |█████▎                          | 327 kB 65.6 MB/s eta 0:00:01\r\u001B[K     |█████▍                          | 337 kB 65.6 MB/s eta 0:00:01\r\u001B[K     |█████▋                          | 348 kB 65.6 MB/s eta 0:00:01\r\u001B[K     |█████▊                          | 358 kB 65.6 MB/s eta 0:00:01\r\u001B[K     |██████                          | 368 kB 65.6 MB/s eta 0:00:01\r\u001B[K     |██████                          | 378 kB 65.6 MB/s eta 0:00:01\r\u001B[K     |██████▎                         | 389 kB 65.6 MB/s eta 0:00:01\r\u001B[K     |██████▍                         | 399 kB 65.6 MB/s eta 0:00:01\r\u001B[K     |██████▋                         | 409 kB 65.6 MB/s eta 0:00:01\r\u001B[K     |██████▊                         | 419 kB 65.6 MB/s eta 0:00:01\r\u001B[K     |███████                         | 430 kB 65.6 MB/s eta 0:00:01\r\u001B[K     |███████                         | 440 kB 65.6 MB/s eta 0:00:01\r\u001B[K     |███████▎                        | 450 kB 65.6 MB/s eta 0:00:01\r\u001B[K     |███████▍                        | 460 kB 65.6 MB/s eta 0:00:01\r\u001B[K     |███████▌                        | 471 kB 65.6 MB/s eta 0:00:01\r\u001B[K     |███████▊                        | 481 kB 65.6 MB/s eta 0:00:01\r\u001B[K     |███████▉                        | 491 kB 65.6 MB/s eta 0:00:01\r\u001B[K     |████████                        | 501 kB 65.6 MB/s eta 0:00:01\r\u001B[K     |████████▏                       | 512 kB 65.6 MB/s eta 0:00:01\r\u001B[K     |████████▍                       | 522 kB 65.6 MB/s eta 0:00:01\r\u001B[K     |████████▌                       | 532 kB 65.6 MB/s eta 0:00:01\r\u001B[K     |████████▊                       | 542 kB 65.6 MB/s eta 0:00:01\r\u001B[K     |████████▉                       | 552 kB 65.6 MB/s eta 0:00:01\r\u001B[K     |█████████                       | 563 kB 65.6 MB/s eta 0:00:01\r\u001B[K     |█████████▏                      | 573 kB 65.6 MB/s eta 0:00:01\r\u001B[K     |█████████▍                      | 583 kB 65.6 MB/s eta 0:00:01\r\u001B[K     |█████████▌                      | 593 kB 65.6 MB/s eta 0:00:01\r\u001B[K     |█████████▊                      | 604 kB 65.6 MB/s eta 0:00:01\r\u001B[K     |█████████▉                      | 614 kB 65.6 MB/s eta 0:00:01\r\u001B[K     |██████████                      | 624 kB 65.6 MB/s eta 0:00:01\r\u001B[K     |██████████▏                     | 634 kB 65.6 MB/s eta 0:00:01\r\u001B[K     |██████████▍                     | 645 kB 65.6 MB/s eta 0:00:01\r\u001B[K     |██████████▌                     | 655 kB 65.6 MB/s eta 0:00:01\r\u001B[K     |██████████▊                     | 665 kB 65.6 MB/s eta 0:00:01\r\u001B[K     |██████████▉                     | 675 kB 65.6 MB/s eta 0:00:01\r\u001B[K     |███████████                     | 686 kB 65.6 MB/s eta 0:00:01\r\u001B[K     |███████████▏                    | 696 kB 65.6 MB/s eta 0:00:01\r\u001B[K     |███████████▎                    | 706 kB 65.6 MB/s eta 0:00:01\r\u001B[K     |███████████▌                    | 716 kB 65.6 MB/s eta 0:00:01\r\u001B[K     |███████████▋                    | 727 kB 65.6 MB/s eta 0:00:01\r\u001B[K     |███████████▉                    | 737 kB 65.6 MB/s eta 0:00:01\r\u001B[K     |████████████                    | 747 kB 65.6 MB/s eta 0:00:01\r\u001B[K     |████████████▏                   | 757 kB 65.6 MB/s eta 0:00:01\r\u001B[K     |████████████▎                   | 768 kB 65.6 MB/s eta 0:00:01\r\u001B[K     |████████████▌                   | 778 kB 65.6 MB/s eta 0:00:01\r\u001B[K     |████████████▋                   | 788 kB 65.6 MB/s eta 0:00:01\r\u001B[K     |████████████▉                   | 798 kB 65.6 MB/s eta 0:00:01\r\u001B[K     |█████████████                   | 808 kB 65.6 MB/s eta 0:00:01\r\u001B[K     |█████████████▏                  | 819 kB 65.6 MB/s eta 0:00:01\r\u001B[K     |█████████████▎                  | 829 kB 65.6 MB/s eta 0:00:01\r\u001B[K     |█████████████▌                  | 839 kB 65.6 MB/s eta 0:00:01\r\u001B[K     |█████████████▋                  | 849 kB 65.6 MB/s eta 0:00:01\r\u001B[K     |█████████████▉                  | 860 kB 65.6 MB/s eta 0:00:01\r\u001B[K     |██████████████                  | 870 kB 65.6 MB/s eta 0:00:01\r\u001B[K     |██████████████▏                 | 880 kB 65.6 MB/s eta 0:00:01\r\u001B[K     |██████████████▎                 | 890 kB 65.6 MB/s eta 0:00:01\r\u001B[K     |██████████████▌                 | 901 kB 65.6 MB/s eta 0:00:01\r\u001B[K     |██████████████▋                 | 911 kB 65.6 MB/s eta 0:00:01\r\u001B[K     |██████████████▊                 | 921 kB 65.6 MB/s eta 0:00:01\r\u001B[K     |███████████████                 | 931 kB 65.6 MB/s eta 0:00:01\r\u001B[K     |███████████████                 | 942 kB 65.6 MB/s eta 0:00:01\r\u001B[K     |███████████████▎                | 952 kB 65.6 MB/s eta 0:00:01\r\u001B[K     |███████████████▍                | 962 kB 65.6 MB/s eta 0:00:01\r\u001B[K     |███████████████▋                | 972 kB 65.6 MB/s eta 0:00:01\r\u001B[K     |███████████████▊                | 983 kB 65.6 MB/s eta 0:00:01\r\u001B[K     |████████████████                | 993 kB 65.6 MB/s eta 0:00:01\r\u001B[K     |████████████████                | 1.0 MB 65.6 MB/s eta 0:00:01\r\u001B[K     |████████████████▎               | 1.0 MB 65.6 MB/s eta 0:00:01\r\u001B[K     |████████████████▍               | 1.0 MB 65.6 MB/s eta 0:00:01\r\u001B[K     |████████████████▋               | 1.0 MB 65.6 MB/s eta 0:00:01\r\u001B[K     |████████████████▊               | 1.0 MB 65.6 MB/s eta 0:00:01\r\u001B[K     |█████████████████               | 1.1 MB 65.6 MB/s eta 0:00:01\r\u001B[K     |█████████████████               | 1.1 MB 65.6 MB/s eta 0:00:01\r\u001B[K     |█████████████████▎              | 1.1 MB 65.6 MB/s eta 0:00:01\r\u001B[K     |█████████████████▍              | 1.1 MB 65.6 MB/s eta 0:00:01\r\u001B[K     |█████████████████▋              | 1.1 MB 65.6 MB/s eta 0:00:01\r\u001B[K     |█████████████████▊              | 1.1 MB 65.6 MB/s eta 0:00:01\r\u001B[K     |██████████████████              | 1.1 MB 65.6 MB/s eta 0:00:01\r\u001B[K     |██████████████████              | 1.1 MB 65.6 MB/s eta 0:00:01\r\u001B[K     |██████████████████▎             | 1.1 MB 65.6 MB/s eta 0:00:01\r\u001B[K     |██████████████████▍             | 1.1 MB 65.6 MB/s eta 0:00:01\r\u001B[K     |██████████████████▌             | 1.2 MB 65.6 MB/s eta 0:00:01\r\u001B[K     |██████████████████▊             | 1.2 MB 65.6 MB/s eta 0:00:01\r\u001B[K     |██████████████████▉             | 1.2 MB 65.6 MB/s eta 0:00:01\r\u001B[K     |███████████████████             | 1.2 MB 65.6 MB/s eta 0:00:01\r\u001B[K     |███████████████████▏            | 1.2 MB 65.6 MB/s eta 0:00:01\r\u001B[K     |███████████████████▍            | 1.2 MB 65.6 MB/s eta 0:00:01\r\u001B[K     |███████████████████▌            | 1.2 MB 65.6 MB/s eta 0:00:01\r\u001B[K     |███████████████████▊            | 1.2 MB 65.6 MB/s eta 0:00:01\r\u001B[K     |███████████████████▉            | 1.2 MB 65.6 MB/s eta 0:00:01\r\u001B[K     |████████████████████            | 1.2 MB 65.6 MB/s eta 0:00:01\r\u001B[K     |████████████████████▏           | 1.3 MB 65.6 MB/s eta 0:00:01\r\u001B[K     |████████████████████▍           | 1.3 MB 65.6 MB/s eta 0:00:01\r\u001B[K     |████████████████████▌           | 1.3 MB 65.6 MB/s eta 0:00:01\r\u001B[K     |████████████████████▊           | 1.3 MB 65.6 MB/s eta 0:00:01\r\u001B[K     |████████████████████▉           | 1.3 MB 65.6 MB/s eta 0:00:01\r\u001B[K     |█████████████████████           | 1.3 MB 65.6 MB/s eta 0:00:01\r\u001B[K     |█████████████████████▏          | 1.3 MB 65.6 MB/s eta 0:00:01\r\u001B[K     |█████████████████████▍          | 1.3 MB 65.6 MB/s eta 0:00:01\r\u001B[K     |█████████████████████▌          | 1.3 MB 65.6 MB/s eta 0:00:01\r\u001B[K     |█████████████████████▊          | 1.4 MB 65.6 MB/s eta 0:00:01\r\u001B[K     |█████████████████████▉          | 1.4 MB 65.6 MB/s eta 0:00:01\r\u001B[K     |██████████████████████          | 1.4 MB 65.6 MB/s eta 0:00:01\r\u001B[K     |██████████████████████▏         | 1.4 MB 65.6 MB/s eta 0:00:01\r\u001B[K     |██████████████████████▎         | 1.4 MB 65.6 MB/s eta 0:00:01\r\u001B[K     |██████████████████████▌         | 1.4 MB 65.6 MB/s eta 0:00:01\r\u001B[K     |██████████████████████▋         | 1.4 MB 65.6 MB/s eta 0:00:01\r\u001B[K     |██████████████████████▉         | 1.4 MB 65.6 MB/s eta 0:00:01\r\u001B[K     |███████████████████████         | 1.4 MB 65.6 MB/s eta 0:00:01\r\u001B[K     |███████████████████████▏        | 1.4 MB 65.6 MB/s eta 0:00:01\r\u001B[K     |███████████████████████▎        | 1.5 MB 65.6 MB/s eta 0:00:01\r\u001B[K     |███████████████████████▌        | 1.5 MB 65.6 MB/s eta 0:00:01\r\u001B[K     |███████████████████████▋        | 1.5 MB 65.6 MB/s eta 0:00:01\r\u001B[K     |███████████████████████▉        | 1.5 MB 65.6 MB/s eta 0:00:01\r\u001B[K     |████████████████████████        | 1.5 MB 65.6 MB/s eta 0:00:01\r\u001B[K     |████████████████████████▏       | 1.5 MB 65.6 MB/s eta 0:00:01\r\u001B[K     |████████████████████████▎       | 1.5 MB 65.6 MB/s eta 0:00:01\r\u001B[K     |████████████████████████▌       | 1.5 MB 65.6 MB/s eta 0:00:01\r\u001B[K     |████████████████████████▋       | 1.5 MB 65.6 MB/s eta 0:00:01\r\u001B[K     |████████████████████████▉       | 1.5 MB 65.6 MB/s eta 0:00:01\r\u001B[K     |█████████████████████████       | 1.6 MB 65.6 MB/s eta 0:00:01\r\u001B[K     |█████████████████████████▏      | 1.6 MB 65.6 MB/s eta 0:00:01\r\u001B[K     |█████████████████████████▎      | 1.6 MB 65.6 MB/s eta 0:00:01\r\u001B[K     |█████████████████████████▌      | 1.6 MB 65.6 MB/s eta 0:00:01\r\u001B[K     |█████████████████████████▋      | 1.6 MB 65.6 MB/s eta 0:00:01\r\u001B[K     |█████████████████████████▉      | 1.6 MB 65.6 MB/s eta 0:00:01\r\u001B[K     |██████████████████████████      | 1.6 MB 65.6 MB/s eta 0:00:01\r\u001B[K     |██████████████████████████      | 1.6 MB 65.6 MB/s eta 0:00:01\r\u001B[K     |██████████████████████████▎     | 1.6 MB 65.6 MB/s eta 0:00:01\r\u001B[K     |██████████████████████████▍     | 1.6 MB 65.6 MB/s eta 0:00:01\r\u001B[K     |██████████████████████████▋     | 1.7 MB 65.6 MB/s eta 0:00:01\r\u001B[K     |██████████████████████████▊     | 1.7 MB 65.6 MB/s eta 0:00:01\r\u001B[K     |███████████████████████████     | 1.7 MB 65.6 MB/s eta 0:00:01\r\u001B[K     |███████████████████████████     | 1.7 MB 65.6 MB/s eta 0:00:01\r\u001B[K     |███████████████████████████▎    | 1.7 MB 65.6 MB/s eta 0:00:01\r\u001B[K     |███████████████████████████▍    | 1.7 MB 65.6 MB/s eta 0:00:01\r\u001B[K     |███████████████████████████▋    | 1.7 MB 65.6 MB/s eta 0:00:01\r\u001B[K     |███████████████████████████▊    | 1.7 MB 65.6 MB/s eta 0:00:01\r\u001B[K     |████████████████████████████    | 1.7 MB 65.6 MB/s eta 0:00:01\r\u001B[K     |████████████████████████████    | 1.8 MB 65.6 MB/s eta 0:00:01\r\u001B[K     |████████████████████████████▎   | 1.8 MB 65.6 MB/s eta 0:00:01\r\u001B[K     |████████████████████████████▍   | 1.8 MB 65.6 MB/s eta 0:00:01\r\u001B[K     |████████████████████████████▋   | 1.8 MB 65.6 MB/s eta 0:00:01\r\u001B[K     |████████████████████████████▊   | 1.8 MB 65.6 MB/s eta 0:00:01\r\u001B[K     |█████████████████████████████   | 1.8 MB 65.6 MB/s eta 0:00:01\r\u001B[K     |█████████████████████████████   | 1.8 MB 65.6 MB/s eta 0:00:01\r\u001B[K     |█████████████████████████████▎  | 1.8 MB 65.6 MB/s eta 0:00:01\r\u001B[K     |█████████████████████████████▍  | 1.8 MB 65.6 MB/s eta 0:00:01\r\u001B[K     |█████████████████████████████▌  | 1.8 MB 65.6 MB/s eta 0:00:01\r\u001B[K     |█████████████████████████████▊  | 1.9 MB 65.6 MB/s eta 0:00:01\r\u001B[K     |█████████████████████████████▉  | 1.9 MB 65.6 MB/s eta 0:00:01\r\u001B[K     |██████████████████████████████  | 1.9 MB 65.6 MB/s eta 0:00:01\r\u001B[K     |██████████████████████████████▏ | 1.9 MB 65.6 MB/s eta 0:00:01\r\u001B[K     |██████████████████████████████▍ | 1.9 MB 65.6 MB/s eta 0:00:01\r\u001B[K     |██████████████████████████████▌ | 1.9 MB 65.6 MB/s eta 0:00:01\r\u001B[K     |██████████████████████████████▊ | 1.9 MB 65.6 MB/s eta 0:00:01\r\u001B[K     |██████████████████████████████▉ | 1.9 MB 65.6 MB/s eta 0:00:01\r\u001B[K     |███████████████████████████████ | 1.9 MB 65.6 MB/s eta 0:00:01\r\u001B[K     |███████████████████████████████▏| 1.9 MB 65.6 MB/s eta 0:00:01\r\u001B[K     |███████████████████████████████▍| 2.0 MB 65.6 MB/s eta 0:00:01\r\u001B[K     |███████████████████████████████▌| 2.0 MB 65.6 MB/s eta 0:00:01\r\u001B[K     |███████████████████████████████▊| 2.0 MB 65.6 MB/s eta 0:00:01\r\u001B[K     |███████████████████████████████▉| 2.0 MB 65.6 MB/s eta 0:00:01\r\u001B[K     |████████████████████████████████| 2.0 MB 65.6 MB/s \r\n\u001B[?25hInstalling collected packages: typing-extensions, sniffio, h11, exceptiongroup, pydantic-core, httpcore, anyio, annotated-types, tqdm, pydantic, jiter, httpx, distro, openai\r\n  Attempting uninstall: typing-extensions\r\n    Found existing installation: typing-extensions 4.1.1\r\n    Not uninstalling typing-extensions at /databricks/python3/lib/python3.9/site-packages, outside environment /local_disk0/.ephemeral_nfs/envs/pythonEnv-2f91762e-2265-43ff-8230-7b115e586e9e\r\n    Can't uninstall 'typing-extensions'. No files were found to uninstall.\r\n  Attempting uninstall: distro\r\n    Found existing installation: distro 1.4.0\r\n    Not uninstalling distro at /usr/lib/python3/dist-packages, outside environment /local_disk0/.ephemeral_nfs/envs/pythonEnv-2f91762e-2265-43ff-8230-7b115e586e9e\r\n    Can't uninstall 'distro'. No files were found to uninstall.\r\nSuccessfully installed annotated-types-0.7.0 anyio-4.8.0 distro-1.9.0 exceptiongroup-1.2.2 h11-0.14.0 httpcore-1.0.7 httpx-0.28.1 jiter-0.8.2 openai-1.59.7 pydantic-2.10.5 pydantic-core-2.27.2 sniffio-1.3.1 tqdm-4.67.1 typing-extensions-4.12.2\r\n\u001B[33mWARNING: You are using pip version 21.2.4; however, version 24.3.1 is available.\r\nYou should consider upgrading via the '/local_disk0/.ephemeral_nfs/envs/pythonEnv-2f91762e-2265-43ff-8230-7b115e586e9e/bin/python -m pip install --upgrade pip' command.\u001B[0m\r\nCollecting python-dotenv\r\n  Downloading python_dotenv-1.0.1-py3-none-any.whl (19 kB)\r\nInstalling collected packages: python-dotenv\r\nSuccessfully installed python-dotenv-1.0.1\r\n\u001B[33mWARNING: You are using pip version 21.2.4; however, version 24.3.1 is available.\r\nYou should consider upgrading via the '/local_disk0/.ephemeral_nfs/envs/pythonEnv-2f91762e-2265-43ff-8230-7b115e586e9e/bin/python -m pip install --upgrade pip' command.\u001B[0m\r\n"
     ]
    }
   ],
   "source": [
    "! pip install \"openai>=1.0.0,<2.0.0\"\n",
    "! pip install python-dotenv"
   ]
  },
  {
   "cell_type": "code",
   "execution_count": 0,
   "metadata": {
    "application/vnd.databricks.v1+cell": {
     "cellMetadata": {
      "byteLimit": 2048000,
      "rowLimit": 10000
     },
     "inputWidgets": {},
     "nuid": "8e887fde-e114-434c-96d4-ac9411cdd8d6",
     "showTitle": false,
     "tableResultSettingsMap": {},
     "title": ""
    }
   },
   "outputs": [
    {
     "output_type": "stream",
     "name": "stdout",
     "output_type": "stream",
     "text": [
      "Python interpreter will be restarted.\nRequirement already satisfied: openai in /local_disk0/.ephemeral_nfs/envs/pythonEnv-2f91762e-2265-43ff-8230-7b115e586e9e/lib/python3.9/site-packages (1.59.7)\nRequirement already satisfied: typing-extensions<5,>=4.11 in /local_disk0/.ephemeral_nfs/envs/pythonEnv-2f91762e-2265-43ff-8230-7b115e586e9e/lib/python3.9/site-packages (from openai) (4.12.2)\nRequirement already satisfied: httpx<1,>=0.23.0 in /local_disk0/.ephemeral_nfs/envs/pythonEnv-2f91762e-2265-43ff-8230-7b115e586e9e/lib/python3.9/site-packages (from openai) (0.28.1)\nRequirement already satisfied: distro<2,>=1.7.0 in /local_disk0/.ephemeral_nfs/envs/pythonEnv-2f91762e-2265-43ff-8230-7b115e586e9e/lib/python3.9/site-packages (from openai) (1.9.0)\nRequirement already satisfied: jiter<1,>=0.4.0 in /local_disk0/.ephemeral_nfs/envs/pythonEnv-2f91762e-2265-43ff-8230-7b115e586e9e/lib/python3.9/site-packages (from openai) (0.8.2)\nRequirement already satisfied: sniffio in /local_disk0/.ephemeral_nfs/envs/pythonEnv-2f91762e-2265-43ff-8230-7b115e586e9e/lib/python3.9/site-packages (from openai) (1.3.1)\nRequirement already satisfied: tqdm>4 in /local_disk0/.ephemeral_nfs/envs/pythonEnv-2f91762e-2265-43ff-8230-7b115e586e9e/lib/python3.9/site-packages (from openai) (4.67.1)\nRequirement already satisfied: pydantic<3,>=1.9.0 in /local_disk0/.ephemeral_nfs/envs/pythonEnv-2f91762e-2265-43ff-8230-7b115e586e9e/lib/python3.9/site-packages (from openai) (2.10.5)\nRequirement already satisfied: anyio<5,>=3.5.0 in /local_disk0/.ephemeral_nfs/envs/pythonEnv-2f91762e-2265-43ff-8230-7b115e586e9e/lib/python3.9/site-packages (from openai) (4.8.0)\nRequirement already satisfied: exceptiongroup>=1.0.2 in /local_disk0/.ephemeral_nfs/envs/pythonEnv-2f91762e-2265-43ff-8230-7b115e586e9e/lib/python3.9/site-packages (from anyio<5,>=3.5.0->openai) (1.2.2)\nRequirement already satisfied: idna>=2.8 in /databricks/python3/lib/python3.9/site-packages (from anyio<5,>=3.5.0->openai) (3.3)\nRequirement already satisfied: certifi in /databricks/python3/lib/python3.9/site-packages (from httpx<1,>=0.23.0->openai) (2021.10.8)\nRequirement already satisfied: httpcore==1.* in /local_disk0/.ephemeral_nfs/envs/pythonEnv-2f91762e-2265-43ff-8230-7b115e586e9e/lib/python3.9/site-packages (from httpx<1,>=0.23.0->openai) (1.0.7)\nRequirement already satisfied: h11<0.15,>=0.13 in /local_disk0/.ephemeral_nfs/envs/pythonEnv-2f91762e-2265-43ff-8230-7b115e586e9e/lib/python3.9/site-packages (from httpcore==1.*->httpx<1,>=0.23.0->openai) (0.14.0)\nRequirement already satisfied: annotated-types>=0.6.0 in /local_disk0/.ephemeral_nfs/envs/pythonEnv-2f91762e-2265-43ff-8230-7b115e586e9e/lib/python3.9/site-packages (from pydantic<3,>=1.9.0->openai) (0.7.0)\nRequirement already satisfied: pydantic-core==2.27.2 in /local_disk0/.ephemeral_nfs/envs/pythonEnv-2f91762e-2265-43ff-8230-7b115e586e9e/lib/python3.9/site-packages (from pydantic<3,>=1.9.0->openai) (2.27.2)\nPython interpreter will be restarted.\nPython interpreter will be restarted.\nCollecting tiktoken\n  Downloading tiktoken-0.8.0-cp39-cp39-manylinux_2_17_x86_64.manylinux2014_x86_64.whl (1.2 MB)\nRequirement already satisfied: requests>=2.26.0 in /databricks/python3/lib/python3.9/site-packages (from tiktoken) (2.27.1)\nCollecting regex>=2022.1.18\n  Downloading regex-2024.11.6-cp39-cp39-manylinux_2_17_x86_64.manylinux2014_x86_64.whl (780 kB)\nRequirement already satisfied: charset-normalizer~=2.0.0 in /databricks/python3/lib/python3.9/site-packages (from requests>=2.26.0->tiktoken) (2.0.4)\nRequirement already satisfied: idna<4,>=2.5 in /databricks/python3/lib/python3.9/site-packages (from requests>=2.26.0->tiktoken) (3.3)\nRequirement already satisfied: certifi>=2017.4.17 in /databricks/python3/lib/python3.9/site-packages (from requests>=2.26.0->tiktoken) (2021.10.8)\nRequirement already satisfied: urllib3<1.27,>=1.21.1 in /databricks/python3/lib/python3.9/site-packages (from requests>=2.26.0->tiktoken) (1.26.9)\nInstalling collected packages: regex, tiktoken\nSuccessfully installed regex-2024.11.6 tiktoken-0.8.0\nPython interpreter will be restarted.\nPython interpreter will be restarted.\nRequirement already satisfied: python-dotenv in /local_disk0/.ephemeral_nfs/envs/pythonEnv-2f91762e-2265-43ff-8230-7b115e586e9e/lib/python3.9/site-packages (1.0.1)\nPython interpreter will be restarted.\n"
     ]
    }
   ],
   "source": [
    "%pip install openai\n",
    "%pip install tiktoken\n",
    "%pip install python-dotenv"
   ]
  },
  {
   "cell_type": "code",
   "execution_count": 0,
   "metadata": {
    "application/vnd.databricks.v1+cell": {
     "cellMetadata": {
      "byteLimit": 2048000,
      "rowLimit": 10000
     },
     "inputWidgets": {},
     "nuid": "4b6f797d-235e-4c1b-8160-10a6c6444a91",
     "showTitle": false,
     "tableResultSettingsMap": {},
     "title": ""
    }
   },
   "outputs": [
    {
     "output_type": "stream",
     "name": "stdout",
     "output_type": "stream",
     "text": [
      "Out[1]: False"
     ]
    }
   ],
   "source": [
    "import os\n",
    "import openai\n",
    "import dotenv\n",
    "\n",
    "dotenv.load_dotenv()"
   ]
  },
  {
   "cell_type": "markdown",
   "metadata": {
    "application/vnd.databricks.v1+cell": {
     "cellMetadata": {},
     "inputWidgets": {},
     "nuid": "313f2cfb-62d0-451a-b84d-671eb3d4cc00",
     "showTitle": false,
     "tableResultSettingsMap": {},
     "title": ""
    }
   },
   "source": [
    "### Authentication\n",
    "\n",
    "The Azure OpenAI service supports multiple authentication mechanisms that include API keys and Azure Active Directory token credentials."
   ]
  },
  {
   "cell_type": "code",
   "execution_count": 0,
   "metadata": {
    "application/vnd.databricks.v1+cell": {
     "cellMetadata": {
      "byteLimit": 2048000,
      "rowLimit": 10000
     },
     "inputWidgets": {},
     "nuid": "f02f009f-cd84-41ca-84b4-3769a547d55f",
     "showTitle": false,
     "tableResultSettingsMap": {},
     "title": ""
    }
   },
   "outputs": [],
   "source": [
    "use_azure_active_directory = False  # Set this flag to True if you are using Azure Active Directory"
   ]
  },
  {
   "cell_type": "markdown",
   "metadata": {
    "application/vnd.databricks.v1+cell": {
     "cellMetadata": {},
     "inputWidgets": {},
     "nuid": "e1461acf-ea12-48d4-8c31-dd30896a0cef",
     "showTitle": false,
     "tableResultSettingsMap": {},
     "title": ""
    }
   },
   "source": [
    "#### Authentication using API key\n",
    "\n",
    "To set up the OpenAI SDK to use an *Azure API Key*, we need to set `api_key` to a key associated with your endpoint (you can find this key in *\"Keys and Endpoints\"* under *\"Resource Management\"* in the [Azure Portal](https://portal.azure.com)). You'll also find the endpoint for your resource here."
   ]
  },
  {
   "cell_type": "code",
   "execution_count": 0,
   "metadata": {
    "application/vnd.databricks.v1+cell": {
     "cellMetadata": {
      "byteLimit": 2048000,
      "rowLimit": 10000
     },
     "inputWidgets": {},
     "nuid": "f1fc591a-6502-4db3-a18d-26b1a533ef93",
     "showTitle": false,
     "tableResultSettingsMap": {},
     "title": ""
    }
   },
   "outputs": [],
   "source": [
    "if not use_azure_active_directory:\n",
    "    os.environ[\"AZURE_OPENAI_ENDPOINT\"] = \"https://openai-tajamar-1.openai.azure.com/\"\n",
    "    os.environ[\"AZURE_OPENAI_API_KEY\"] = \"4V6NPGm3iBRNFr3QJpTNBAlmSsbAXsCphvxNuLqXPWdOE1rp9KB4JQQJ99BAACYeBjFXJ3w3AAABACOG4Nul\"\n",
    "    endpoint = os.environ[\"AZURE_OPENAI_ENDPOINT\"]\n",
    "    api_key = os.environ[\"AZURE_OPENAI_API_KEY\"]\n",
    "    model = \"gpt-4o\"\n",
    "    client = openai.AzureOpenAI(\n",
    "        azure_endpoint=endpoint,\n",
    "        api_key=api_key,\n",
    "        api_version=\"2023-09-01-preview\"\n",
    "    )"
   ]
  },
  {
   "cell_type": "markdown",
   "metadata": {
    "application/vnd.databricks.v1+cell": {
     "cellMetadata": {},
     "inputWidgets": {},
     "nuid": "87fd42de-6783-49fe-8320-f0033d7a0b99",
     "showTitle": false,
     "tableResultSettingsMap": {},
     "title": ""
    }
   },
   "source": [
    "#### Authentication using Azure Active Directory\n",
    "Let's now see how we can authenticate via Azure Active Directory. We'll start by installing the `azure-identity` library. This library will provide the token credentials we need to authenticate and help us build a token credential provider through the `get_bearer_token_provider` helper function. It's recommended to use `get_bearer_token_provider` over providing a static token to `AzureOpenAI` because this API will automatically cache and refresh tokens for you. \n",
    "\n",
    "For more information on how to set up Azure Active Directory authentication with Azure OpenAI, see the [documentation](https://learn.microsoft.com/azure/ai-services/openai/how-to/managed-identity)."
   ]
  },
  {
   "cell_type": "code",
   "execution_count": 0,
   "metadata": {
    "application/vnd.databricks.v1+cell": {
     "cellMetadata": {
      "byteLimit": 2048000,
      "rowLimit": 10000
     },
     "inputWidgets": {},
     "nuid": "8326c926-fbab-434f-8e76-05aa3b9c1d24",
     "showTitle": false,
     "tableResultSettingsMap": {},
     "title": ""
    }
   },
   "outputs": [
    {
     "output_type": "stream",
     "name": "stdout",
     "output_type": "stream",
     "text": [
      "Collecting azure-identity>=1.15.0\r\n  Downloading azure_identity-1.19.0-py3-none-any.whl (187 kB)\r\n\u001B[?25l\r\u001B[K     |█▊                              | 10 kB 13.5 MB/s eta 0:00:01\r\u001B[K     |███▌                            | 20 kB 21.0 MB/s eta 0:00:01\r\u001B[K     |█████▎                          | 30 kB 12.6 MB/s eta 0:00:01\r\u001B[K     |███████                         | 40 kB 4.5 MB/s eta 0:00:01\r\u001B[K     |████████▊                       | 51 kB 5.5 MB/s eta 0:00:01\r\u001B[K     |██████████▌                     | 61 kB 6.0 MB/s eta 0:00:01\r\u001B[K     |████████████▎                   | 71 kB 5.9 MB/s eta 0:00:01\r\u001B[K     |██████████████                  | 81 kB 4.7 MB/s eta 0:00:01\r\u001B[K     |███████████████▊                | 92 kB 5.2 MB/s eta 0:00:01\r\u001B[K     |█████████████████▌              | 102 kB 5.3 MB/s eta 0:00:01\r\u001B[K     |███████████████████▏            | 112 kB 5.3 MB/s eta 0:00:01\r\u001B[K     |█████████████████████           | 122 kB 5.3 MB/s eta 0:00:01\r\u001B[K     |██████████████████████▊         | 133 kB 5.3 MB/s eta 0:00:01\r\u001B[K     |████████████████████████▌       | 143 kB 5.3 MB/s eta 0:00:01\r\u001B[K     |██████████████████████████▏     | 153 kB 5.3 MB/s eta 0:00:01\r\u001B[K     |████████████████████████████    | 163 kB 5.3 MB/s eta 0:00:01\r\u001B[K     |█████████████████████████████▊  | 174 kB 5.3 MB/s eta 0:00:01\r\u001B[K     |███████████████████████████████▍| 184 kB 5.3 MB/s eta 0:00:01\r\u001B[K     |████████████████████████████████| 187 kB 5.3 MB/s \r\n\u001B[?25hCollecting msal>=1.30.0\r\n  Downloading msal-1.31.1-py3-none-any.whl (113 kB)\r\n\u001B[?25l\r\u001B[K     |███                             | 10 kB 52.4 MB/s eta 0:00:01\r\u001B[K     |█████▉                          | 20 kB 39.1 MB/s eta 0:00:01\r\u001B[K     |████████▊                       | 30 kB 51.0 MB/s eta 0:00:01\r\u001B[K     |███████████▋                    | 40 kB 58.6 MB/s eta 0:00:01\r\u001B[K     |██████████████▌                 | 51 kB 36.5 MB/s eta 0:00:01\r\u001B[K     |█████████████████▍              | 61 kB 40.6 MB/s eta 0:00:01\r\u001B[K     |████████████████████▎           | 71 kB 30.0 MB/s eta 0:00:01\r\u001B[K     |███████████████████████▏        | 81 kB 32.9 MB/s eta 0:00:01\r\u001B[K     |██████████████████████████      | 92 kB 35.6 MB/s eta 0:00:01\r\u001B[K     |█████████████████████████████   | 102 kB 31.0 MB/s eta 0:00:01\r\u001B[K     |███████████████████████████████▉| 112 kB 31.0 MB/s eta 0:00:01\r\u001B[K     |████████████████████████████████| 113 kB 31.0 MB/s \r\n\u001B[?25hCollecting msal-extensions>=1.2.0\r\n  Downloading msal_extensions-1.2.0-py3-none-any.whl (19 kB)\r\nRequirement already satisfied: typing-extensions>=4.0.0 in /local_disk0/.ephemeral_nfs/envs/pythonEnv-2f91762e-2265-43ff-8230-7b115e586e9e/lib/python3.9/site-packages (from azure-identity>=1.15.0) (4.12.2)\r\nCollecting azure-core>=1.31.0\r\n  Downloading azure_core-1.32.0-py3-none-any.whl (198 kB)\r\n\u001B[?25l\r\u001B[K     |█▋                              | 10 kB 40.0 MB/s eta 0:00:01\r\u001B[K     |███▎                            | 20 kB 44.0 MB/s eta 0:00:01\r\u001B[K     |█████                           | 30 kB 52.0 MB/s eta 0:00:01\r\u001B[K     |██████▋                         | 40 kB 61.7 MB/s eta 0:00:01\r\u001B[K     |████████▎                       | 51 kB 67.4 MB/s eta 0:00:01\r\u001B[K     |█████████▉                      | 61 kB 75.2 MB/s eta 0:00:01\r\u001B[K     |███████████▌                    | 71 kB 80.3 MB/s eta 0:00:01\r\u001B[K     |█████████████▏                  | 81 kB 83.9 MB/s eta 0:00:01\r\u001B[K     |██████████████▉                 | 92 kB 86.9 MB/s eta 0:00:01\r\u001B[K     |████████████████▌               | 102 kB 90.8 MB/s eta 0:00:01\r\u001B[K     |██████████████████▏             | 112 kB 90.8 MB/s eta 0:00:01\r\u001B[K     |███████████████████▊            | 122 kB 90.8 MB/s eta 0:00:01\r\u001B[K     |█████████████████████▍          | 133 kB 90.8 MB/s eta 0:00:01\r\u001B[K     |███████████████████████         | 143 kB 90.8 MB/s eta 0:00:01\r\u001B[K     |████████████████████████▊       | 153 kB 90.8 MB/s eta 0:00:01\r\u001B[K     |██████████████████████████▍     | 163 kB 90.8 MB/s eta 0:00:01\r\u001B[K     |████████████████████████████    | 174 kB 90.8 MB/s eta 0:00:01\r\u001B[K     |█████████████████████████████▋  | 184 kB 90.8 MB/s eta 0:00:01\r\u001B[K     |███████████████████████████████▎| 194 kB 90.8 MB/s eta 0:00:01\r\u001B[K     |████████████████████████████████| 198 kB 90.8 MB/s \r\n\u001B[?25hRequirement already satisfied: cryptography>=2.5 in /databricks/python3/lib/python3.9/site-packages (from azure-identity>=1.15.0) (3.4.8)\r\nRequirement already satisfied: six>=1.11.0 in /databricks/python3/lib/python3.9/site-packages (from azure-core>=1.31.0->azure-identity>=1.15.0) (1.16.0)\r\nRequirement already satisfied: requests>=2.21.0 in /databricks/python3/lib/python3.9/site-packages (from azure-core>=1.31.0->azure-identity>=1.15.0) (2.27.1)\r\nRequirement already satisfied: cffi>=1.12 in /databricks/python3/lib/python3.9/site-packages (from cryptography>=2.5->azure-identity>=1.15.0) (1.15.0)\r\nRequirement already satisfied: pycparser in /databricks/python3/lib/python3.9/site-packages (from cffi>=1.12->cryptography>=2.5->azure-identity>=1.15.0) (2.21)\r\nCollecting PyJWT[crypto]<3,>=1.0.0\r\n  Downloading PyJWT-2.10.1-py3-none-any.whl (22 kB)\r\nCollecting portalocker<3,>=1.4\r\n  Downloading portalocker-2.10.1-py3-none-any.whl (18 kB)\r\nRequirement already satisfied: charset-normalizer~=2.0.0 in /databricks/python3/lib/python3.9/site-packages (from requests>=2.21.0->azure-core>=1.31.0->azure-identity>=1.15.0) (2.0.4)\r\nRequirement already satisfied: idna<4,>=2.5 in /databricks/python3/lib/python3.9/site-packages (from requests>=2.21.0->azure-core>=1.31.0->azure-identity>=1.15.0) (3.3)\r\nRequirement already satisfied: certifi>=2017.4.17 in /databricks/python3/lib/python3.9/site-packages (from requests>=2.21.0->azure-core>=1.31.0->azure-identity>=1.15.0) (2021.10.8)\r\nRequirement already satisfied: urllib3<1.27,>=1.21.1 in /databricks/python3/lib/python3.9/site-packages (from requests>=2.21.0->azure-core>=1.31.0->azure-identity>=1.15.0) (1.26.9)\r\nInstalling collected packages: PyJWT, portalocker, msal, msal-extensions, azure-core, azure-identity\r\nSuccessfully installed PyJWT-2.10.1 azure-core-1.32.0 azure-identity-1.19.0 msal-1.31.1 msal-extensions-1.2.0 portalocker-2.10.1\r\n\u001B[33mWARNING: You are using pip version 21.2.4; however, version 24.3.1 is available.\r\nYou should consider upgrading via the '/local_disk0/.ephemeral_nfs/envs/pythonEnv-2f91762e-2265-43ff-8230-7b115e586e9e/bin/python -m pip install --upgrade pip' command.\u001B[0m\r\n"
     ]
    }
   ],
   "source": [
    "! pip install \"azure-identity>=1.15.0\""
   ]
  },
  {
   "cell_type": "code",
   "execution_count": 0,
   "metadata": {
    "application/vnd.databricks.v1+cell": {
     "cellMetadata": {
      "byteLimit": 2048000,
      "rowLimit": 10000
     },
     "inputWidgets": {},
     "nuid": "645652eb-763a-42a2-ae79-bec9c39488f7",
     "showTitle": false,
     "tableResultSettingsMap": {},
     "title": ""
    }
   },
   "outputs": [],
   "source": [
    "from azure.identity import DefaultAzureCredential, get_bearer_token_provider\n",
    "\n",
    "if use_azure_active_directory:\n",
    "    endpoint = os.environ[\"AZURE_OPENAI_ENDPOINT\"]\n",
    "    api_key = os.environ[\"AZURE_OPENAI_API_KEY\"]\n",
    "\n",
    "    client = openai.AzureOpenAI(\n",
    "        azure_endpoint=endpoint,\n",
    "        azure_ad_token_provider=get_bearer_token_provider(DefaultAzureCredential(), \"https://cognitiveservices.azure.com/.default\"),\n",
    "        api_version=\"2023-09-01-preview\"\n",
    "    )"
   ]
  },
  {
   "cell_type": "markdown",
   "metadata": {
    "application/vnd.databricks.v1+cell": {
     "cellMetadata": {},
     "inputWidgets": {},
     "nuid": "8e163abb-0d36-4f09-9553-50dce83c8a15",
     "showTitle": false,
     "tableResultSettingsMap": {},
     "title": ""
    }
   },
   "source": [
    "> Note: the AzureOpenAI infers the following arguments from their corresponding environment variables if they are not provided:\n",
    "\n",
    "- `api_key` from `AZURE_OPENAI_API_KEY`\n",
    "- `azure_ad_token` from `AZURE_OPENAI_AD_TOKEN`\n",
    "- `api_version` from `OPENAI_API_VERSION`\n",
    "- `azure_endpoint` from `AZURE_OPENAI_ENDPOINT`\n"
   ]
  },
  {
   "cell_type": "markdown",
   "metadata": {
    "application/vnd.databricks.v1+cell": {
     "cellMetadata": {},
     "inputWidgets": {},
     "nuid": "f92859e3-d902-44c3-923b-424d4a0d1fed",
     "showTitle": false,
     "tableResultSettingsMap": {},
     "title": ""
    }
   },
   "source": [
    "## Deployments\n",
    "\n",
    "In this section we are going to create a deployment of a model that we can use to create embeddings."
   ]
  },
  {
   "cell_type": "markdown",
   "metadata": {
    "application/vnd.databricks.v1+cell": {
     "cellMetadata": {},
     "inputWidgets": {},
     "nuid": "bbe5b071-2d2f-45ea-964e-eebd5469ada0",
     "showTitle": false,
     "tableResultSettingsMap": {},
     "title": ""
    }
   },
   "source": [
    "### Deployments: Create in the Azure OpenAI Studio\n",
    "Let's deploy a model to use with embeddings. Go to https://portal.azure.com, find your Azure OpenAI resource, and then navigate to the Azure OpenAI Studio. Click on the \"Deployments\" tab and then create a deployment for the model you want to use for embeddings. The deployment name that you give the model will be used in the code below."
   ]
  },
  {
   "cell_type": "code",
   "execution_count": 0,
   "metadata": {
    "application/vnd.databricks.v1+cell": {
     "cellMetadata": {
      "byteLimit": 2048000,
      "rowLimit": 10000
     },
     "inputWidgets": {},
     "nuid": "39eb81df-a3e3-452a-b882-ca050ceaf010",
     "showTitle": false,
     "tableResultSettingsMap": {},
     "title": ""
    }
   },
   "outputs": [],
   "source": [
    "deployment = \"text-embedding-ada-002\" # Fill in the deployment name from the portal here"
   ]
  },
  {
   "cell_type": "markdown",
   "metadata": {
    "application/vnd.databricks.v1+cell": {
     "cellMetadata": {},
     "inputWidgets": {},
     "nuid": "14ab2c7f-502e-4d64-9f42-6fa46ea3dcf0",
     "showTitle": false,
     "tableResultSettingsMap": {},
     "title": ""
    }
   },
   "source": [
    "## Embeddings\n",
    "\n",
    "Now let's create embeddings using the client we built."
   ]
  },
  {
   "cell_type": "code",
   "execution_count": 0,
   "metadata": {
    "application/vnd.databricks.v1+cell": {
     "cellMetadata": {
      "byteLimit": 2048000,
      "rowLimit": 10000
     },
     "inputWidgets": {},
     "nuid": "da7077ce-2aa3-4894-ac19-1bb19f096323",
     "showTitle": false,
     "tableResultSettingsMap": {},
     "title": ""
    },
    "scrolled": true
   },
   "outputs": [
    {
     "output_type": "stream",
     "name": "stdout",
     "output_type": "stream",
     "text": [
      "CreateEmbeddingResponse(data=[Embedding(embedding=[0.0023481971584260464, -0.00928489863872528, 0.015701189637184143, -0.007710971869528294, -0.0047217803075909615, 0.014863453805446625, -0.009849735535681248, -0.038281962275505066, -0.006930354982614517, -0.028660697862505913, 0.025182828307151794, 0.018112851306796074, -0.0036047999747097492, -0.025576310232281685, 0.000499785237479955, -0.01636122167110443, 0.02827990986406803, 0.005350081715732813, 0.009652994573116302, -0.0163866076618433, -0.015396557748317719, 0.004258487373590469, 0.007006512489169836, -0.007241332437843084, -0.0038491394370794296, 0.018506333231925964, 0.00870736874639988, -0.02268231473863125, 0.011474433355033398, 0.023926224559545517, 0.015625031664967537, -0.0034905634820461273, -0.03493101894855499, -0.004160116892307997, -0.026147492229938507, -0.021539948880672455, -0.005632500164210796, 0.011785411275923252, 0.008453509770333767, 0.004122037906199694, 0.01920444518327713, -0.014444585889577866, 0.008973920717835426, 0.006378211081027985, -0.04569464921951294, 0.017846299335360527, -0.0055595156736671925, -0.0007175487698987126, -0.022136518731713295, -0.0038999111857265234, 0.02103223092854023, -0.01757974736392498, -0.011702907271683216, -0.02264423668384552, 0.01636122167110443, 0.01719895750284195, -0.008409084752202034, 0.0016405647620558739, 0.025132056325674057, -0.024967048317193985, 0.007825208827853203, 0.005778469145298004, -0.022161904722452164, 0.002909860573709011, -0.006127525120973587, -0.025538230314850807, -0.008079067803919315, 0.0010011570993810892, 0.00018355206702835858, 0.004629756323993206, 0.02080375701189041, 0.01345453504472971, 0.004661488812416792, -0.015916969627141953, 0.01655161753296852, -0.008942188695073128, -0.007565002888441086, 0.013683008030056953, -0.006993819493800402, 0.0052961367182433605, 0.009875121526420116, -0.04594850540161133, 0.003078042296692729, 0.024002382531762123, 0.0230250246822834, 0.0069747804664075375, -0.023583514615893364, 0.00992589257657528, -0.006505141034722328, -0.03330632299184799, -0.0026798006147146225, 0.019927943125367165, 0.0017103760037571192, 0.0010408225934952497, -0.022733086720108986, 0.004969292785972357, 0.015421943739056587, 0.03158007934689522, -0.005445278715342283, -0.01596774160861969, -0.0051469942554831505, 0.019953329116106033, -0.009373749606311321, -0.0061782971024513245, -0.031199289485812187, -0.009456253610551357, -0.01525693479925394, -0.028813013806939125, 0.0209941528737545, -0.018341323360800743, -0.0029336598236113787, 0.01275642216205597, 0.0050962227396667, -0.04957869276404381, -0.042978353798389435, -0.00038574691279791296, 0.021590720862150192, -0.016881633549928665, 0.0066003380343317986, -0.041531357914209366, 0.000899613369256258, 0.033484023064374924, 0.012972203083336353, -0.010541501455008984, -0.0005358807975426316, 0.018341323360800743, 9.177603351417929e-05, -0.013137211091816425, 0.011950419284403324, 0.0057911621406674385, 0.007038244977593422, 0.008656596764922142, 0.018455561250448227, -0.0008504281868226826, -0.01917905919253826, 0.021908044815063477, -0.029752293601632118, -0.0042680068872869015, 0.0014985622838139534, -0.005169207230210304, 0.01497768983244896, 0.021387632936239243, -0.01877288520336151, 0.011074605397880077, -0.007476151920855045, 0.02263154275715351, 0.019140981137752533, 0.014964996837079525, -0.003687304211780429, 0.006324266083538532, 0.025715932250022888, -0.027746805921196938, 0.036682646721601486, -0.004433015361428261, 0.0138480169698596, 0.008034641854465008, -0.005673752166330814, 0.010351107455790043, -0.005813374649733305, -0.008732754737138748, 0.010643045417964458, -4.293789606890641e-05, 0.03213856741786003, -0.02382468245923519, -0.0026274423580616713, 0.03031078353524208, 0.029625363647937775, 0.01660238951444626, 0.0021387634333223104, 0.0010305094765499234, -0.01162674929946661, 0.018468253314495087, -0.007571349386125803, 0.007387301418930292, -0.0010828679660335183, 0.0044171493500471115, 0.010033783502876759, -0.007526923902332783, -0.006200510077178478, -0.005727697163820267, -0.0283052958548069, 0.004315605852752924, 0.02934611774981022, 0.024776654317975044, -0.015713881701231003, -0.01821439526975155, 0.007507884409278631, 0.008574092760682106, -0.01172194629907608, -0.006400424055755138, 0.002032459946349263, 0.03693650662899017, -0.002373583149164915, -0.02079106494784355, -0.688872218132019, -0.019572541117668152, 0.0035159492399543524, 0.006733614020049572, 0.02833068184554577, 0.023393120616674423, 0.007146135438233614, 0.010630352422595024, 0.009570490568876266, -0.009424521587789059, -0.021298782899975777, 3.103824928984977e-05, 0.01982639916241169, 0.0022704529110342264, -0.009608568623661995, -0.0020848182030022144, -0.00038515194319188595, 0.006593991536647081, -0.041328269988298416, 0.01120788138359785, -0.013403763063251972, 0.027772191911935806, -0.011398276314139366, 0.0001931709557538852, 0.015472715720534325, -0.0005541269201785326, 0.014495357871055603, -0.008523320779204369, -0.018887121230363846, -0.017744755372405052, -0.00939913559705019, 0.024560872465372086, 0.012953163124620914, -0.00898026768118143, 0.03490563482046127, -0.0050962227396667, -0.024205470457673073, 0.024015076458454132, -0.0037951944395899773, 0.031021589413285255, -0.015015768818557262, -0.02329157665371895, 0.030234625563025475, 0.006911315489560366, 0.010078208521008492, 0.011455394327640533, 0.03033616952598095, 0.01763051748275757, 0.002105444436892867, -0.006727267522364855, 0.009729152545332909, 0.016665853559970856, 0.003655571723356843, 0.027949893847107887, 0.00399828189983964, 0.0031081880442798138, 0.02990460768342018, -0.016894327476620674, 0.0021324169356375933, 0.02325349859893322, 0.011798104271292686, 0.01426688488572836, -0.01981370709836483, -0.029599977657198906, -0.0015826531453058124, 0.01839209534227848, -0.0027385056018829346, 0.019356761127710342, 0.027569103986024857, -0.00849158875644207, 0.01232486218214035, 0.0028178365901112556, -0.005232671741396189, 0.00641946354880929, 0.009329323656857014, 0.02263154275715351, 0.023558130487799644, 0.0010551020968705416, 0.018925199285149574, -0.0029479393269866705, -0.006841504015028477, -0.010186098515987396, -0.007914058864116669, -0.00732383644208312, 0.020524512976408005, 0.010884211398661137, -0.02992999367415905, -0.003804714186117053, 0.0027765845879912376, -0.01897597126662731, 0.02992999367415905, 0.024560872465372086, -0.0044996533542871475, 0.026375966146588326, 0.01756705343723297, 0.04120134189724922, -0.02021988108754158, 0.014622286893427372, 0.021565334871411324, -0.02990460768342018, -0.0014573101652786136, 0.0034810437355190516, 0.03414405509829521, 0.03614954277873039, 0.02810220792889595, 0.018455561250448227, 0.003404885996133089, 0.009386442601680756, 0.020765678957104683, -0.012585067190229893, 0.017072027549147606, 0.011550591327250004, -0.007704625371843576, 0.01332760602235794, -0.0074380734004080296, -0.022504614666104317, 0.005902225151658058, 0.025754012167453766, -0.019115595147013664, -0.01898866519331932, -0.013340299017727375, -0.002609989373013377, 0.022517306730151176, -0.007945791818201542, -0.0008075894438661635, 0.028152979910373688, 0.014000331982970238, -0.02000410109758377, -0.021159160882234573, -0.0029273133259266615, 0.013416456058621407, 0.016094669699668884, 0.01192503422498703, -0.016818169504404068, 0.004855056293308735, -0.013048360124230385, 0.025779396295547485, -0.03033616952598095, 0.01759243942797184, -0.02242845669388771, -0.01882365718483925, 0.0019451957195997238, -0.0061370451003313065, 0.0021006844472140074, -0.0014366841642186046, -0.011169802397489548, -0.005327869206666946, -0.011430008336901665, -0.021552642807364464, 0.005191419739276171, 0.00556586217135191, -0.0002193501713918522, -0.01271834410727024, 0.003430271754041314, 0.02468780241906643, -0.001783360610716045, 0.0012550161918625236, -0.005445278715342283, -0.024802040308713913, -0.03056464157998562, -0.016120055690407753, 0.016729317605495453, -0.0132387550547719, -0.008726408705115318, 0.009507025592029095, -0.007342875935137272, 0.007031898479908705, -0.005689618177711964, -0.012045617215335369, -0.023786602541804314, 0.028787627816200256, -0.01595504768192768, -0.0033382480032742023, 0.0052675772458314896, -0.01680547557771206, 0.0014319242909550667, -0.02185727283358574, -0.019648699089884758, -0.0063306125812232494, 0.016691239550709724, 0.008770833723247051, 0.0041855028830468655, -0.013822630979120731, -0.012870659120380878, 0.009513371624052525, 0.005797508638352156, 0.0013898789184167981, 0.025322450324892998, -0.01782091334462166, 0.015396557748317719, 0.002041979692876339, -0.011068259365856647, 0.007406340911984444, 0.0015818598913028836, 0.015904275700449944, 0.01345453504472971, -0.002713119611144066, 0.002114964183419943, 0.014178033918142319, -0.002319637918844819, -0.00424896739423275, -0.006555912550538778, 0.0030748690478503704, -0.004699567798525095, 0.0132387550547719, -0.017452817410230637, -0.011157109402120113, -0.029676135629415512, 0.0036587449721992016, 0.007476151920855045, 0.016094669699668884, -0.013797244988381863, -0.017224343493580818, -0.003760288702324033, 0.02143840491771698, 0.017046641558408737, 0.019280603155493736, 0.006873236503452063, -0.013898788951337337, -0.009253166615962982, -0.002367236651480198, -0.020930686965584755, -0.0052548847161233425, -0.0015001489082351327, 0.006432156544178724, 0.0030336168128997087, 0.0029289000667631626, -0.007374608423560858, 0.0012145574437454343, -0.00209909793920815, -0.0019245697185397148, 0.01860787533223629, 0.0007635607616975904, 0.015104619786143303, 0.007025551982223988, 0.0013660795520991087, 0.01637391559779644, -0.008713715709745884, 0.01675470359623432, -0.000449806684628129, -0.007730011362582445, 0.01678008958697319, -0.0008107626927085221, -0.028026049956679344, 0.010909597389400005, 9.54450952121988e-05, -0.00607040710747242, -0.011277693323791027, -0.02749294601380825, 0.008897763676941395, 0.012857966125011444, 0.016843555495142937, -0.01757974736392498, 0.014685751870274544, -0.003969722427427769, 0.00809176079928875, -0.001878557726740837, -0.01881096325814724, 0.03419482707977295, 0.020956072956323624, 0.016513537615537643, 0.022199982777237892, 0.015396557748317719, -0.0009591116104274988, 0.004474267829209566, 0.0005100982380099595, -0.007774436846375465, -0.026198264211416245, 0.009856081567704678, -0.0067145745269954205, 0.01476190984249115, -0.02588094025850296, -0.002365649910643697, -0.0066320705227553844, 0.006701881531625986, -0.0012304235715419054, -0.018658647313714027, 0.0021974684204906225, -0.017846299335360527, 0.004924867767840624, 0.0031240542884916067, -0.021781114861369133, 0.029879221692681313, 0.011848876252770424, -0.0027067733462899923, -0.011074605397880077, -0.01736396551132202, 0.007361915428191423, -0.012356594204902649, 0.003303342266008258, 0.007203253451734781, 0.014406506903469563, 0.0011756852036342025, -0.009627608582377434, 0.014051103964447975, 0.00063147465698421, 0.04612620919942856, -0.02079106494784355, 0.03160546347498894, -0.005131128244102001, 0.006568605545908213, -0.025385916233062744, -0.028203751891851425, -0.02346927858889103, 0.026198264211416245, -0.01314990408718586, -0.022314218804240227, -0.0005513503565452993, 0.023405814543366432, -0.007723664864897728, 0.006511487532407045, -0.0060228086076676846, -0.012489870190620422, -0.0021498696878552437, 0.024015076458454132, -0.0033287282567471266, -0.029447661712765694, 0.001962648704648018, 0.007660199888050556, -0.0008147292537614703, -0.030463099479675293, -0.017135493457317352, -0.008853337727487087, -0.013518000021576881, 0.07803630083799362, -0.004829670302569866, 0.015168084762990475, 0.008256768807768822, 0.03680957853794098, 0.0005342941731214523, -0.0388658381998539, -0.004674181807786226, -0.005423066206276417, -0.012166200205683708, -0.006727267522364855, 0.009678380563855171, 0.024928968399763107, 0.007114402949810028, 0.026375966146588326, -0.004309259355068207, -0.0059434776194393635, -0.024624338373541832, 0.019318681210279465, -0.023799296468496323, -0.008218689821660519, 0.01661508157849312, 0.01599312759935856, 0.0270867720246315, -0.01525693479925394, 0.004388590343296528, 0.02551284432411194, 0.026198264211416245, -0.0011399862123653293, -0.023393120616674423, 0.0015755133936181664, -0.0012439098209142685, -0.005004198756068945, -0.0023926226422190666, -0.01554887369275093, 0.00479793781414628, 0.00044465018436312675, -0.012242358177900314, 0.004905828274786472, -0.00627032108604908, 0.040515922009944916, -0.008732754737138748, 0.005099395755678415, -0.01695779152214527, 0.0046519688330590725, -0.001635804888792336, -0.027772191911935806, 0.05097491666674614, -0.030437713488936424, -0.0028495690785348415, 0.01537117175757885, 0.027137544006109238, 0.0023434374015778303, -0.010427264496684074, -0.004321951884776354, 0.011163456365466118, -0.0066320705227553844, -0.02426893450319767, -0.014000331982970238, 0.01619621366262436, -0.014698444865643978, -0.037698086351156235, -0.005502397194504738, -0.0007306383922696114, -0.025944406166672707, -0.0204483550041914, -0.012616800144314766, -0.012413712218403816, -0.0028527423273772, -0.002898754319176078, -0.012439098209142685, 0.003757115453481674, -0.012775462120771408, -0.007031898479908705, 0.01737665943801403, -0.0025734971277415752, -0.0034905634820461273, -0.009754537604749203, -0.0010392359690740705, 0.009913199581205845, 0.0007726838230155408, -0.00818695779889822, 0.001354179927147925, 0.0036492254585027695, -0.029244573786854744, 0.022771166637539864, 0.026579054072499275, 0.01111268438398838, 0.005435759201645851, 0.0043378183618187904, -0.00217684218659997, -0.0025211386382579803, 0.005093049257993698, -0.01558695174753666, -0.005457971710711718, -0.021958816796541214, -0.016234293580055237, 0.025170134380459785, -0.008453509770333767, -0.003265263279899955, -0.008155225776135921, 0.0019277429673820734, -0.00929124467074871, 0.0006160050979815423, 0.043587617576122284, -0.0084979347884655, -0.011353850364685059, -0.025005126371979713, 0.004277526866644621, -0.011157109402120113, 0.020473740994930267, 0.014888839796185493, -0.01900135725736618, 0.0075523098930716515, -0.012128121219575405, 0.03051386959850788, 0.012172546237707138, 0.032468587160110474, 0.0035952802281826735, -0.009037385694682598, -0.007387301418930292, -0.0064511955715715885, 0.02504320628941059, -0.012261397205293179, 0.009475292637944221, -0.000981324352324009, 0.012502563185989857, -0.013226062059402466, -0.0014819027855992317, -0.012762769125401974, -0.0036841309629380703, 0.007139788940548897, -0.010446304455399513, 0.010046476498246193, -0.004236274864524603, -0.0025639773812144995, -0.004179156385362148, 0.010877864435315132, -0.025627082213759422, -0.024142006412148476, -0.04018590599298477, -0.015244241803884506, 0.012902391143143177, -0.013276834040880203, -0.028660697862505913, -0.023494664579629898, -0.0049153477884829044, -0.008034641854465008, -0.01619621366262436, 0.05150802433490753, 0.011785411275923252, 0.009221433661878109, -0.03170700743794441, 0.03960202634334564, 0.00464244931936264, -0.014228805899620056, -0.014799988828599453, -0.006511487532407045, 0.004518692847341299, 0.027137544006109238, 0.021717650815844536, -0.0002318448096048087, 0.01963600516319275, 0.003693650709465146, -0.00012375634105410427, -0.0067145745269954205, -0.010890557430684566, -0.0046075438149273396, -0.030361555516719818, 0.029650749638676643, 0.026553668081760406, 0.014825374819338322, 0.00979896355420351, 0.009265859611332417, -0.020930686965584755, 0.003636532463133335, 0.004655142314732075, -0.008675636723637581, -0.009564143605530262, -0.013873402960598469, 0.017706675454974174, -0.02749294601380825, 0.00500737177208066, 0.0072095999494194984, 0.03300169110298157, -0.007539616897702217, 0.02264423668384552, 0.006251281592994928, 0.016081977635622025, -0.00035222957376390696, 0.028635311871767044, -0.014444585889577866, 0.002524311887100339, -0.010186098515987396, -0.017325887456536293, 0.010395532473921776, -0.005264404229819775, -0.015358478762209415, -0.01841748133301735, -0.0003563944483175874, 0.027645261958241463, 0.001110633835196495, 0.005058143753558397, -0.013441842049360275, -0.007945791818201542, 0.005061316769570112, 0.013505307026207447, -0.01436842791736126, -0.0047598592936992645, -0.02612210623919964, -0.018747499212622643, -0.01959792710840702, -0.012642186135053635, -0.029803065583109856, -0.009849735535681248, -0.0033763267565518618, -0.041353657841682434, 0.013073746114969254, -0.009424521587789059, -0.03818041831254959, -0.0007080290233716369, -0.003976068925112486, -0.01426688488572836, -0.003928470425307751, 0.016691239550709724, -0.0007036658353172243, -0.01738935150206089, -0.01556156575679779, 0.029574591666460037, -0.004325125366449356, -0.009837042540311813, -5.513503492693417e-05, 0.011506166309118271, 0.02506859228014946, -0.021895352751016617, -0.018925199285149574, 0.021565334871411324, 0.010116287507116795, -0.022885402664542198, 0.013644929975271225, -0.004677354823797941, 0.029676135629415512, -0.012819887138903141, 0.018341323360800743, 0.0005545236053876579, 0.012921431101858616, -0.020943380892276764, 0.00348421698436141, 0.003636532463133335, 0.006746307015419006, -0.030006151646375656, -0.002124483697116375, -0.02428162842988968, 0.026172878220677376, -0.009849735535681248, -0.010236870497465134, 0.008155225776135921, -0.01000839751213789, -0.013099132105708122, 0.021882658824324608, -0.010941329412162304, 0.008364658802747726, -0.008561399765312672, 0.016450073570013046, -0.0036746112164109945, -0.009722805581986904, 0.013479921035468578, -0.007850594818592072, 0.018100157380104065, 0.019458305090665817, -0.022479228675365448, -0.023520050570368767, 0.0036746112164109945, 0.009386442601680756, 0.02728985995054245, -0.007120749447494745, -0.015206163749098778, -0.01702125556766987, -0.004588504321873188, -0.013644929975271225, -0.005619807168841362, 0.010439957492053509, 0.005054970271885395, 0.008174264803528786, -0.0007171520846895874, -0.03251935914158821, -0.028229137882590294, 0.004782071802765131, 0.006076753605157137, -0.016018513590097427, -0.021768422797322273, -0.020943380892276764, 0.0015620271442458034, -0.0016532577574253082, 0.024763960391283035, -0.001965821720659733, -0.012407366186380386, 0.015269627794623375, -0.012680265121161938, 0.009018346667289734, -0.010236870497465134, 0.019140981137752533, -0.0254620723426342, 0.008472549729049206, 0.003325555007904768, 0.012997589074075222, 0.02244114875793457, -0.008954881690442562, -0.02321542054414749, -0.01636122167110443, 0.0012280436931177974, -0.004296566359698772, 0.01820170134305954, -0.005746736656874418, 0.026147492229938507, 0.005277097225189209, 0.006695535033941269, -0.006263974588364363, -0.018074771389365196, 0.019483689218759537, -0.017846299335360527, -0.001215350697748363, 0.02726447395980358, -0.015878889709711075, -0.02060067094862461, 0.03985588625073433, 0.008662943728268147, -0.0022085746750235558, -0.029422275722026825, 0.009342016652226448, -0.0216034147888422, 0.03599722683429718, -0.01424149889498949, -0.014584208838641644, -0.023190034553408623, 0.011563284322619438, -0.01660238951444626, 0.020334118977189064, 0.006397250574082136, -0.013530693016946316, 0.01641199365258217, 0.013187983073294163, 0.0198390930891037, -0.001444617286324501, 0.016259679570794106, 0.004731299821287394, -0.013822630979120731, 0.0078886728733778, -0.036098770797252655, -0.02711215801537037, -0.009938585571944714, 0.009659340605139732, -0.004436188843101263, -0.00979896355420351, -0.014165340922772884, 0.00991954654455185, -0.04305451363325119, 0.02466241642832756, -0.010592273436486721, 0.00479793781414628, 0.011074605397880077, 0.021679572761058807, -0.023570822551846504, 0.006720921024680138, -0.03109774738550186, 0.005845107138156891, -0.0051057422533631325, -0.013822630979120731, -0.006568605545908213, 0.0003934816922992468, 0.009443560615181923, -0.009754537604749203, -0.04241986572742462, -0.01102383341640234, 0.00868198275566101, 0.002452914137393236, 0.012077349238097668, -0.006816118489950895, -0.01406379695981741, -0.007038244977593422, 0.0018388922326266766, 0.014419199898838997, 0.03312861919403076, 0.0052548847161233425, -0.0016707105096429586, -0.012781808152794838, -0.015320399776101112, 0.018328631296753883, -0.005807028152048588, -0.048207852989435196, -0.017732061445713043, 0.009202394634485245, -0.010871518403291702, -9.35237949306611e-06, -0.015840811654925346, -0.028178365901112556, 0.017668597400188446, -0.017300501465797424, -0.0026385486125946045, -0.02246653474867344, -0.01719895750284195, 0.015193470753729343, 0.007952137850224972, -0.019064823165535927, 0.007907712832093239, -0.0001243513252120465, -0.019509075209498405, 0.016450073570013046, 0.007082670461386442, 0.000174924818566069, -0.00931663066148758, -0.015904275700449944, 0.004943907260894775, -0.0059434776194393635, -0.020981458947062492, 0.003519122488796711, 0.0039221239276230335, -0.0016437380108982325, 0.00444253534078598, 0.01271834410727024, -0.014888839796185493, 0.01242640521377325, 0.0023450239095836878, -0.003804714186117053, 0.0004716227122116834, -0.008846991695463657, 0.015815425664186478, -0.01736396551132202, -0.016729317605495453, -0.005210459232330322, -0.0222126767039299, -0.02061336301267147, 0.018074771389365196, 0.009354709647595882, -0.007710971869528294, 0.02589363418519497, 0.21933430433273315, 0.012007538229227066, -0.005045450758188963, 0.03741883859038353, -0.0003673024766612798, 0.031427763402462006, 0.001835718983784318, 0.0024925796315073967, -0.01716087944805622, 0.013187983073294163, -0.011493473313748837, -0.0066003380343317986, 0.0015533006517216563, -0.0035064294934272766, 0.006263974588364363, -0.00490265479311347, -0.02506859228014946, -0.02383737452328205, 0.00027567517827264965, -0.03556566685438156, 0.010681124404072762, -0.01655161753296852, 0.0008781939977779984, -0.017325887456536293, 0.03777424246072769, 0.0019404359627515078, -0.04404456168413162, 0.006498794537037611, 0.01396225392818451, 0.024421250447630882, -0.01901405118405819, -0.008650250732898712, 0.00590539863333106, 0.0016437380108982325, -0.014406506903469563, 0.013073746114969254, 0.006949394475668669, 0.003925297409296036, 0.005743563175201416, -0.003804714186117053, 0.009881467558443546, -0.01314990408718586, 0.017351273447275162, -0.016500845551490784, 0.01736396551132202, 0.024510100483894348, -0.018747499212622643, -0.02726447395980358, 0.003209731774404645, 0.036504946649074554, -0.015180777758359909, -0.018760191276669502, 0.006476581562310457, 0.010154366493225098, 0.005454798694700003, 0.009183354675769806, 0.02604595012962818, -0.02020718902349472, -0.019889865070581436, -0.0060672336257994175, 0.010674777440726757, 0.009475292637944221, -0.01636122167110443, 0.0009384855511598289, -0.030082309618592262, 0.009640301577746868, -0.014876146800816059, 0.014317655935883522, -0.0032589170150458813, -0.01600581966340542, -0.0014382707886397839, -0.025030512362718582, 0.0001913860032800585, 0.022288834676146507, -0.0090056536719203, -0.010046476498246193, 0.02487819641828537, -0.012832580134272575, 0.019547155126929283, 0.03500717878341675, -0.026807526126503944, -9.27800647332333e-06, -0.006790732499212027, -0.011220574378967285, -0.01694509945809841, -0.03013308160007, 0.004064919892698526, 0.01454612985253334, -0.018963279202580452, -0.020752985030412674, 0.011334811337292194, -0.012610453180968761, -9.286683780374005e-05, -0.0013240341795608401, 0.017871685326099396, 0.00566105917096138, -0.006549566052854061, 0.0101924454793334, 0.003293822519481182, -0.0114109693095088, -0.010934983380138874, -0.055087435990571976, -0.009437213651835918, -0.004931214265525341, -0.028762241825461388, -0.0031383337918668985, 0.0027686513494700193, 0.03678419068455696, 0.0032129050232470036, -0.0055595156736671925, -0.002589363371953368, -0.00025762736913748085, 0.017935149371623993, -0.0015326746506616473, 0.002351370407268405, -0.002684560604393482, -0.016932405531406403, 0.0035794139839708805, 0.030285397544503212, -0.023964304476976395, 0.018760191276669502, -0.019153673201799393, -0.0029860183130949736, 0.03338247910141945, -0.020549898967146873, -0.012953163124620914, -0.011468087323009968, 0.01202657725661993, 0.02544938027858734, -0.011899648234248161, 0.038535818457603455, -0.0033795000053942204, -0.007958484813570976, 0.02004218101501465, -0.03371249511837959, -0.01879827119410038, 0.009602222591638565, 0.01817631535232067, -0.026832912117242813, -0.012216972187161446, 0.024802040308713913, 0.0008067961316555738, -0.0010781080927699804, 0.006394077558070421, -0.005039104260504246, -0.035489510744810104, 0.012280436232686043, 0.0075903888791799545, -0.029980765655636787, -0.018290551379323006, -0.030894659459590912, -0.014558822847902775, -0.017237037420272827, -0.017237037420272827, 0.02490358240902424, -0.02021988108754158, -0.04470459744334221, -0.005648366175591946, -0.013822630979120731, -0.0008512214990332723, -0.002835289342328906, -0.0064797550439834595, 0.053056564182043076, -0.011702907271683216, 0.008079067803919315, 0.005632500164210796, -0.16145442426204681, 0.00919604767113924, -0.02463703043758869, -0.01637391559779644, 0.01573926769196987, 0.0006715367780998349, 0.023190034553408623, -0.007431726902723312, -0.018138237297534943, 0.018887121230363846, 0.010243216529488564, 0.010427264496684074, -0.033077847212553024, 0.0023973823990672827, 0.01901405118405819, 0.016538923606276512, 0.0001445807283744216, -0.01436842791736126, 0.02324080653488636, 0.019674085080623627, 0.0383327342569828, 0.0026798006147146225, 0.0010820745956152678, -0.007565002888441086, 0.002755958354100585, 0.03056464157998562, -0.025550924241542816, 0.00374442245811224, -0.011061912402510643, 0.0017738408641889691, 0.0059434776194393635, -0.002909860573709011, 0.02551284432411194, -0.008472549729049206, 0.010255909524857998, 0.005410373210906982, 0.00012464881001506, -0.00657495204359293, 0.01782091334462166, 0.035311806946992874, 0.013213369064033031, 0.02789912186563015, -0.0014057450462132692, 0.014914225786924362, -0.009792616590857506, 0.009875121526420116, 0.009335670620203018, -0.0017548013711348176, 0.023596208542585373, -0.004728126805275679, 0.009418174624443054, -0.03736806660890579, 0.016069283708930016, 0.0011875848285853863, 0.0022276141680777073, 0.016995869576931, -0.014114568941295147, 0.0014454105403274298, -0.005883186124265194, -0.0006877996493130922, -0.012312169186770916, -0.011309425346553326, -0.013187983073294163, 0.0020578457042574883, -0.0012621559435501695, -0.004007801413536072, -0.006362345069646835, -0.014876146800816059, 0.006511487532407045, 0.005997422616928816, -0.0024862331338226795, 0.00270835985429585, 0.003430271754041314, 0.007520577404648066, 5.726705421693623e-05, 0.02346927858889103, -0.017643211409449577, -0.006549566052854061, 0.021781114861369133, -0.023190034553408623, -0.015130005776882172, 0.03414405509829521, -0.025995178148150444, 0.021336862817406654, -0.015663109719753265, 0.0021958816796541214, 0.004166463389992714, 0.014990382827818394, 0.014228805899620056, -0.0074380734004080296, 0.007380954921245575, -0.003550854977220297, -0.00931663066148758, -0.025601696223020554, 0.018112851306796074, 0.011036526411771774, 0.009031039662659168, 0.01050342246890068, -0.0057943351566791534, -0.0036397057119756937, 0.005588074680417776, -0.021590720862150192, -0.028762241825461388, 0.025538230314850807, 0.01637391559779644, 0.0335855670273304, 0.012375634163618088, 0.0270867720246315, 0.019496383145451546, -0.0051850732415914536, -0.020067567005753517, 0.010287642478942871, 0.019902557134628296, 0.02543668821454048, -0.010750935412943363, 0.03889122232794762, -0.015041154809296131, -0.02544938027858734, 0.030412327498197556, -0.009132582694292068, 0.046608541160821915, 0.0008095726952888072, 0.0017119626281782985, 0.012902391143143177, -0.0007623707642778754, 0.0033350747544318438, -0.10783936828374863, -0.022948866710066795, 0.020587977021932602, 0.020524512976408005, -0.00627032108604908, -0.00531200272962451, 0.009322977624833584, 0.01354338601231575, -0.014279577881097794, 0.0036746112164109945, -0.011245960369706154, -0.0180113073438406, -0.015320399776101112, -0.01363223697990179, 0.02364698052406311, 0.008472549729049206, 0.025182828307151794, -0.028660697862505913, -0.00040696797077544034, 0.005166033748537302, -0.0007115989574231207, 0.011442701332271099, -0.004966119769960642, 0.006778039503842592, -0.004325125366449356, 0.0075523098930716515, -0.009031039662659168, 0.029853835701942444, 0.007222292944788933, 0.011258653365075588, 0.02426893450319767, -0.009938585571944714, 0.017275115475058556, -0.00399828189983964, -0.011671174317598343, -0.0005457971710711718, -0.02466241642832756, 0.002365649910643697, 0.014774602837860584, -0.026959842070937157, 0.012813541106879711, -0.007425380405038595, -0.002352957148104906, -0.047623977065086365, 0.006841504015028477, -0.004474267829209566, 0.00031613398459739983, 0.018709419295191765, 0.022923482581973076, -0.007025551982223988, -0.00374442245811224, 0.025830168277025223, -0.029599977657198906, 0.004613890312612057, 0.04168367385864258, -0.005908571649342775, 0.016653161495923996, -0.0018690379802137613, -0.009748191572725773, -0.006606684532016516, 0.006733614020049572, -0.0011645788326859474, -0.02020718902349472, 0.007939444854855537, 0.008256768807768822, 0.01598043367266655, -0.011093645356595516, -0.002403728896752, 0.005115261767059565, -0.015142698772251606, 0.012051963247358799, -0.006482928059995174, -0.01660238951444626, -0.008999306708574295, -0.010097247548401356, -0.03868813440203667, -0.034093283116817474, 0.00566105917096138, -3.143490175716579e-05, -0.02260615862905979, 0.002024526707828045, -0.009729152545332909, 0.0074380734004080296, -0.0011558524565771222, -0.0007151688332669437, -0.020169109106063843, -0.010205138474702835, -0.006720921024680138, -0.007444419898092747, -0.015866197645664215, -0.004344164859503508, 0.011201535351574421, 0.03114851750433445, -0.01363223697990179, -0.01694509945809841, 0.01816362328827381, -0.014495357871055603, -0.00209433794952929, 0.01741473749279976, -0.02362159453332424, -0.006254455074667931, -0.01010359451174736, -0.04018590599298477, 0.006917661987245083, -0.017858991399407387, -0.006790732499212027, 0.008745447732508183, -0.01000839751213789, 0.016742011532187462, 0.010059168562293053, -0.008332926779985428, 0.01702125556766987, -0.01062400545924902, 0.012711997143924236, 0.01373378001153469, 0.007939444854855537, -0.017135493457317352, -0.008878723718225956, 0.015409250743687153, 0.005191419739276171, 0.022339604794979095, -0.009234126657247543, 0.022314218804240227, 0.03031078353524208, -0.004604370333254337, -0.0006513074040412903, -0.020346811041235924, 0.021908044815063477, -0.013276834040880203, 0.016830861568450928, -0.027594489976763725, -0.010954022407531738, 0.011582324281334877, -0.024611644446849823, 0.003360460512340069, 0.02604595012962818, -0.014406506903469563, -0.030006151646375656, -0.004131557885557413, 0.012274090200662613, 0.009665687568485737, 0.002682973863556981, -0.006555912550538778, -0.03678419068455696, 0.011011140421032906, -0.023710444569587708, -0.011912341229617596, 0.014939610846340656, -0.016094669699668884, -0.004020494408905506, 0.018722113221883774, 0.003877698676660657, -0.008218689821660519, 0.011144417338073254, 0.01052246242761612, -0.01920444518327713, 0.01576465368270874, 0.0014105049194768071, 0.005946650635451078, -0.011829836294054985, 0.005115261767059565, -0.03114851750433445, 0.03594645485281944, -0.009138929657638073, 0.008808912709355354, -0.009132582694292068, -0.004734473302960396, -0.013581464998424053, -0.016703931614756584, -0.013683008030056953, 0.014698444865643978, -0.029853835701942444, -0.0186205692589283, 0.005134301260113716, 0.01982639916241169, 0.011201535351574421, 0.03924662619829178, -0.017909763380885124, -0.00696843396872282, -0.028609925881028175, -0.00830754078924656, 0.01082709338515997, 0.013619543984532356, 0.0198390930891037, -0.02444663643836975, 0.010871518403291702, 0.010293988510966301, 0.024725882336497307, -0.016665853559970856, -0.001294681685976684, 0.005467491690069437, 0.004572637844830751, -0.004639275837689638, -0.013314913026988506, 0.011214228346943855, -0.001549334148876369, 0.003982415422797203, 0.02524629235267639, -0.0030637625604867935, -0.007907712832093239, 0.017858991399407387, 0.031250063329935074, -0.005384987220168114, 0.004639275837689638, 0.0029923648107796907, -0.007171520963311195, -0.01202657725661993, -0.016285065561532974, -0.03389019891619682, -0.0429275818169117, 0.009050078690052032, 0.0073999944142997265, 0.01822708733379841, 0.016716625541448593, -0.003995108418166637, 0.02261885069310665, 0.007495191413909197, 0.0121217742562294, -0.0013938454212620854, -0.00581654766574502, -0.01902674324810505, 0.026959842070937157, 0.0030161640606820583, 0.012159853242337704, 0.00788232684135437, -0.020511819049715996, 0.006016462109982967, 0.017237037420272827, -0.004042706917971373, 0.00016520677309017628, 0.001097147585824132, 0.005162860732525587, -0.0015033221570774913, 0.009475292637944221, -0.016246985644102097, -0.010344760492444038, -0.014508050866425037, 0.007069977466017008, 0.016018513590097427, 0.01883634924888611, -0.02524629235267639, 0.036885734647512436, 0.004436188843101263, 0.008688329719007015, 0.0038999111857265234, -0.007875979878008366, 0.005365947727113962, 0.028051435947418213, -0.020169109106063843, -0.0063274395652115345, 0.0045282128266990185, 0.02443394437432289, 0.007584042381495237, 0.005743563175201416, -0.012502563185989857, -0.026147492229938507, -0.0029812585562467575, 0.00039308503619395196, 0.0008845404954627156, -0.028965329751372337, -0.023418506607413292, 0.00870736874639988, 0.018684033304452896, 0.014406506903469563, 0.028229137882590294, -0.013949560932815075, -0.0031478535383939743, 0.001919809845276177, -0.0034334450028836727, 0.012997589074075222, -0.040947481989860535, 0.0025719106197357178, -0.0018801443511620164, -0.049451764672994614, -0.008846991695463657, -0.004540905822068453, -0.021793808788061142, -0.014101875945925713, -0.015472715720534325, 0.0040744394063949585, 0.002773411339148879, -0.03137699142098427, 0.041125182062387466, -0.017643211409449577, -0.0186205692589283, 0.014508050866425037, 0.010420918464660645, -0.015383864752948284, -0.01938214711844921, -0.002728985855355859], index=0, object='embedding')], model='text-embedding-ada-002', object='list', usage=Usage(prompt_tokens=8, total_tokens=8))\n"
     ]
    }
   ],
   "source": [
    "embeddings = client.embeddings.create(\n",
    "    model=deployment,\n",
    "    input=\"The food was delicious and the waiter...\"\n",
    ")\n",
    "                                \n",
    "print(embeddings)"
   ]
  },
  {
   "cell_type": "markdown",
   "metadata": {
    "application/vnd.databricks.v1+cell": {
     "cellMetadata": {},
     "inputWidgets": {},
     "nuid": "e57ae8c0-9416-48ca-9197-a736cc8fde12",
     "showTitle": false,
     "tableResultSettingsMap": {},
     "title": ""
    }
   },
   "source": [
    "# Ejercicio 1: Generar múltiples embeddings y calcular similitud entre frases\n",
    "## Objetivo: Aprender a generar embeddings para múltiples textos y calcular similitudes entre ellos.\n"
   ]
  },
  {
   "cell_type": "code",
   "execution_count": 0,
   "metadata": {
    "application/vnd.databricks.v1+cell": {
     "cellMetadata": {
      "byteLimit": 2048000,
      "rowLimit": 10000
     },
     "inputWidgets": {},
     "nuid": "54ac8e96-6bae-4d27-9473-ad974a9d6a7b",
     "showTitle": false,
     "tableResultSettingsMap": {},
     "title": ""
    }
   },
   "outputs": [
    {
     "output_type": "stream",
     "name": "stdout",
     "output_type": "stream",
     "text": [
      "Matriz de similitud:\n[[1.         0.86871754 0.81671393 0.80782677]\n [0.86871754 1.         0.7727784  0.86608481]\n [0.81671393 0.7727784  1.         0.80021672]\n [0.80782677 0.86608481 0.80021672 1.        ]]\n"
     ]
    }
   ],
   "source": [
    "# Lista de textos a procesar\n",
    "texts = [\n",
    "    \"The weather is sunny and warm.\",\n",
    "    \"It's a cold and rainy day.\",\n",
    "    \"I love spending time at the beach.\",\n",
    "    \"Reading books indoors on a rainy day is relaxing.\"\n",
    "]\n",
    "\n",
    "# Crear embeddings para cada texto\n",
    "embeddings_list = []\n",
    "for text in texts:\n",
    "    response = client.embeddings.create(\n",
    "    model=deployment,\n",
    "    input=text)\n",
    "    embeddings_list.append(response.data[0].embedding) #FIXME\n",
    "\n",
    "# Calcular la similitud coseno entre embeddings\n",
    "from sklearn.metrics.pairwise import cosine_similarity\n",
    "import numpy as np\n",
    "\n",
    "similarity_matrix = cosine_similarity(np.array(embeddings_list))\n",
    "\n",
    "# Mostrar la matriz de similitud\n",
    "print(\"Matriz de similitud:\")\n",
    "print(similarity_matrix)"
   ]
  },
  {
   "cell_type": "markdown",
   "metadata": {
    "application/vnd.databricks.v1+cell": {
     "cellMetadata": {},
     "inputWidgets": {},
     "nuid": "119f6aeb-8a37-4b5d-bba2-b6fdd56778dc",
     "showTitle": false,
     "tableResultSettingsMap": {},
     "title": ""
    }
   },
   "source": [
    "# Ejercicio 2: Reducción de dimensionalidad y visualización de embeddings\n",
    "## Objetivo: Visualizar la relación entre embeddings utilizando reducción de dimensionalidad (TSNE o PCA).\n"
   ]
  },
  {
   "cell_type": "code",
   "execution_count": 0,
   "metadata": {
    "application/vnd.databricks.v1+cell": {
     "cellMetadata": {
      "byteLimit": 2048000,
      "rowLimit": 10000
     },
     "inputWidgets": {},
     "nuid": "e2920bca-4ef0-40b1-a3f5-0b70a1bf87ac",
     "showTitle": false,
     "tableResultSettingsMap": {},
     "title": ""
    }
   },
   "outputs": [
    {
     "output_type": "display_data",
     "data": {
      "image/png": "[encoded data removed]"
     },
     "metadata": {
      "application/vnd.databricks.v1+output": {
       "addedWidgets": {},
       "arguments": {},
       "data": "data:image/png;base64,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\n",
       "datasetInfos": [],
       "metadata": {},
       "removedWidgets": [],
       "type": "image"
      }
     },
     "output_type": "display_data"
    }
   ],
   "source": [
    "from sklearn.decomposition import PCA\n",
    "import matplotlib.pyplot as plt\n",
    "\n",
    "# Reducir a 2 dimensiones\n",
    "pca = PCA(n_components=2)\n",
    "embeddings_2d = pca.fit_transform(embeddings_list)\n",
    "\n",
    "# Graficar los embeddings\n",
    "plt.figure(figsize=(10, 6))\n",
    "plt.scatter(embeddings_2d[:, 0], embeddings_2d[:, 1], c='blue')\n",
    "for i, text in enumerate(texts):\n",
    "    plt.text(embeddings_2d[i, 0], embeddings_2d[i, 1], text, fontsize=9)\n",
    "plt.title(\"Visualización de Embeddings\")\n",
    "plt.show()"
   ]
  },
  {
   "cell_type": "markdown",
   "metadata": {
    "application/vnd.databricks.v1+cell": {
     "cellMetadata": {},
     "inputWidgets": {},
     "nuid": "c8914bb8-bf4d-4ddb-9b12-601ef3b413f2",
     "showTitle": false,
     "tableResultSettingsMap": {},
     "title": ""
    }
   },
   "source": [
    "# Ejercicio 3: Detección de temas con clustering de embeddings\n",
    "## Objetivo: Agrupar textos con embeddings similares utilizando k-means."
   ]
  },
  {
   "cell_type": "code",
   "execution_count": 0,
   "metadata": {
    "application/vnd.databricks.v1+cell": {
     "cellMetadata": {
      "byteLimit": 2048000,
      "rowLimit": 10000
     },
     "inputWidgets": {},
     "nuid": "d5b2a555-11e4-402a-adf1-f7186c0008c9",
     "showTitle": false,
     "tableResultSettingsMap": {},
     "title": ""
    }
   },
   "outputs": [
    {
     "output_type": "stream",
     "name": "stdout",
     "output_type": "stream",
     "text": [
      "Texto: The weather is sunny and warm. - Cluster: 1\nTexto: It's a cold and rainy day. - Cluster: 1\nTexto: I love spending time at the beach. - Cluster: 0\nTexto: Reading books indoors on a rainy day is relaxing. - Cluster: 1\n"
     ]
    }
   ],
   "source": [
    "from sklearn.cluster import KMeans\n",
    "\n",
    "kmeans = KMeans(n_clusters=2, random_state=42)\n",
    "kmeans.fit(embeddings_list)\n",
    "labels = kmeans.labels_\n",
    "\n",
    "# Mostrar resultados de clustering\n",
    "for i, text in enumerate(texts):\n",
    "    print(f\"Texto: {text} - Cluster: {labels[i]}\")"
   ]
  },
  {
   "cell_type": "markdown",
   "metadata": {
    "application/vnd.databricks.v1+cell": {
     "cellMetadata": {},
     "inputWidgets": {},
     "nuid": "62590ea5-3daa-4262-a8f8-c03b91f15cfd",
     "showTitle": false,
     "tableResultSettingsMap": {},
     "title": ""
    }
   },
   "source": [
    "# Ejercicio 4: Construcción de un motor de búsqueda simple con embeddings\n",
    "## Objetivo: Implementar un motor de búsqueda que retorne el texto más similar a una consulta usando embeddings.\n"
   ]
  },
  {
   "cell_type": "code",
   "execution_count": 0,
   "metadata": {
    "application/vnd.databricks.v1+cell": {
     "cellMetadata": {
      "byteLimit": 2048000,
      "rowLimit": 10000
     },
     "inputWidgets": {},
     "nuid": "39c949da-e5d2-413c-8af0-fa08bc1c5077",
     "showTitle": false,
     "tableResultSettingsMap": {},
     "title": ""
    }
   },
   "outputs": [
    {
     "output_type": "stream",
     "name": "stdout",
     "output_type": "stream",
     "text": [
      "Consulta: I enjoy sunny days at the beach.\nUnexpected exception formatting exception. Falling back to standard exception\n"
     ]
    },
    {
     "output_type": "stream",
     "name": "stderr",
     "output_type": "stream",
     "text": [
      "Traceback (most recent call last):\n  File \"/databricks/python/lib/python3.9/site-packages/IPython/core/interactiveshell.py\", line 3378, in run_code\n    exec(code_obj, self.user_global_ns, self.user_ns)\n  File \"<command-1414879969196050>\", line 14, in <module>\n    print(\"Texto más similar:\", texts[most_similar_index])\nIndexError: list index out of range\n\nDuring handling of the above exception, another exception occurred:\n\nTraceback (most recent call last):\n  File \"/databricks/python/lib/python3.9/site-packages/IPython/core/interactiveshell.py\", line 1997, in showtraceback\n    stb = self.InteractiveTB.structured_traceback(\n  File \"/databricks/python/lib/python3.9/site-packages/IPython/core/ultratb.py\", line 1112, in structured_traceback\n    return FormattedTB.structured_traceback(\n  File \"/databricks/python/lib/python3.9/site-packages/IPython/core/ultratb.py\", line 1006, in structured_traceback\n    return VerboseTB.structured_traceback(\n  File \"/databricks/python/lib/python3.9/site-packages/IPython/core/ultratb.py\", line 859, in structured_traceback\n    formatted_exception = self.format_exception_as_a_whole(etype, evalue, etb, number_of_lines_of_context,\n  File \"/databricks/python/lib/python3.9/site-packages/IPython/core/ultratb.py\", line 812, in format_exception_as_a_whole\n    frames.append(self.format_record(r))\n  File \"/databricks/python/lib/python3.9/site-packages/IPython/core/ultratb.py\", line 730, in format_record\n    result += ''.join(_format_traceback_lines(frame_info.lines, Colors, self.has_colors, lvals))\n  File \"/databricks/python/lib/python3.9/site-packages/stack_data/utils.py\", line 145, in cached_property_wrapper\n    value = obj.__dict__[self.func.__name__] = self.func(obj)\n  File \"/databricks/python/lib/python3.9/site-packages/stack_data/core.py\", line 698, in lines\n    pieces = self.included_pieces\n  File \"/databricks/python/lib/python3.9/site-packages/stack_data/utils.py\", line 145, in cached_property_wrapper\n    value = obj.__dict__[self.func.__name__] = self.func(obj)\n  File \"/databricks/python/lib/python3.9/site-packages/stack_data/core.py\", line 649, in included_pieces\n    pos = scope_pieces.index(self.executing_piece)\n  File \"/databricks/python/lib/python3.9/site-packages/stack_data/utils.py\", line 145, in cached_property_wrapper\n    value = obj.__dict__[self.func.__name__] = self.func(obj)\n  File \"/databricks/python/lib/python3.9/site-packages/stack_data/core.py\", line 628, in executing_piece\n    return only(\n  File \"/databricks/python/lib/python3.9/site-packages/executing/executing.py\", line 164, in only\n    raise NotOneValueFound('Expected one value, found 0')\nexecuting.executing.NotOneValueFound: Expected one value, found 0\n"
     ]
    },
    {
     "output_type": "display_data",
     "data": {
      "text/plain": [
       ""
      ]
     },
     "metadata": {
      "application/vnd.databricks.v1+output": {
       "arguments": {},
       "data": "",
       "errorSummary": "<span class='ansi-red-fg'>IndexError</span>: list index out of range",
       "errorTraceType": "ansi",
       "metadata": {},
       "type": "ipynbError"
      }
     },
     "output_type": "display_data"
    }
   ],
   "source": [
    "query = \"I enjoy sunny days at the beach.\"\n",
    "response = client.embeddings.create(\n",
    "    model=deployment,\n",
    "    input=query\n",
    "    )\n",
    "\n",
    "query_embedding = response.data[0].embedding\n",
    "\n",
    "# Calcular similitud entre la consulta y la lista de textos anteriores\n",
    "similarities = cosine_similarity([query_embedding], embeddings_list)[0]\n",
    "most_similar_index = np.argmax(similarities)\n",
    "\n",
    "print(\"Consulta:\", query)\n",
    "print(\"Texto más similar:\", texts[most_similar_index])"
   ]
  }
 ],
 "metadata": {
  "application/vnd.databricks.v1+notebook": {
   "computePreferences": null,
   "dashboards": [],
   "environmentMetadata": null,
   "language": "python",
   "notebookMetadata": {
    "pythonIndentUnit": 4
   },
   "notebookName": "embeddings",
   "widgets": {}
  },
  "kernelspec": {
   "display_name": "Python [conda env:base] *",
   "language": "python",
   "name": "conda-base-py"
  },
  "language_info": {
   "codemirror_mode": {
    "name": "ipython",
    "version": 3
   },
   "file_extension": ".py",
   "mimetype": "text/x-python",
   "name": "python",
   "nbconvert_exporter": "python",
   "pygments_lexer": "ipython3",
   "version": "3.12.7"
  },
  "vscode": {
   "interpreter": {
    "hash": "3a5103089ab7e7c666b279eeded403fcec76de49a40685dbdfe9f9c78ad97c17"
   }
  }
 },
 "nbformat": 4,
 "nbformat_minor": 0
}
