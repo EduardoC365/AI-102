{
 "cells": [
  {
   "cell_type": "markdown",
   "metadata": {
    "application/vnd.databricks.v1+cell": {
     "cellMetadata": {},
     "inputWidgets": {},
     "nuid": "540bbaa5-9b79-4641-9951-c9cc6764f7b3",
     "showTitle": false,
     "tableResultSettingsMap": {},
     "title": ""
    }
   },
   "source": []
  },
  {
   "cell_type": "code",
   "execution_count": 0,
   "metadata": {
    "application/vnd.databricks.v1+cell": {
     "cellMetadata": {
      "byteLimit": 2048000,
      "rowLimit": 10000
     },
     "inputWidgets": {},
     "nuid": "b09dc6c8-535f-4efe-83c8-e5c03e9c1cc8",
     "showTitle": false,
     "tableResultSettingsMap": {},
     "title": ""
    }
   },
   "outputs": [
    {
     "output_type": "stream",
     "name": "stdout",
     "output_type": "stream",
     "text": [
      "Python interpreter will be restarted.\nCollecting openai\n  Downloading openai-1.59.9-py3-none-any.whl (455 kB)\nCollecting typing-extensions<5,>=4.11\n  Downloading typing_extensions-4.12.2-py3-none-any.whl (37 kB)\nCollecting httpx<1,>=0.23.0\n  Downloading httpx-0.28.1-py3-none-any.whl (73 kB)\nCollecting distro<2,>=1.7.0\n  Downloading distro-1.9.0-py3-none-any.whl (20 kB)\nCollecting jiter<1,>=0.4.0\n  Downloading jiter-0.8.2-cp39-cp39-manylinux_2_17_x86_64.manylinux2014_x86_64.whl (345 kB)\nCollecting sniffio\n  Downloading sniffio-1.3.1-py3-none-any.whl (10 kB)\nCollecting tqdm>4\n  Downloading tqdm-4.67.1-py3-none-any.whl (78 kB)\nCollecting pydantic<3,>=1.9.0\n  Downloading pydantic-2.10.5-py3-none-any.whl (431 kB)\nCollecting anyio<5,>=3.5.0\n  Downloading anyio-4.8.0-py3-none-any.whl (96 kB)\nCollecting exceptiongroup>=1.0.2\n  Downloading exceptiongroup-1.2.2-py3-none-any.whl (16 kB)\nRequirement already satisfied: idna>=2.8 in /databricks/python3/lib/python3.9/site-packages (from anyio<5,>=3.5.0->openai) (3.3)\nRequirement already satisfied: certifi in /databricks/python3/lib/python3.9/site-packages (from httpx<1,>=0.23.0->openai) (2021.10.8)\nCollecting httpcore==1.*\n  Downloading httpcore-1.0.7-py3-none-any.whl (78 kB)\nCollecting h11<0.15,>=0.13\n  Downloading h11-0.14.0-py3-none-any.whl (58 kB)\nCollecting annotated-types>=0.6.0\n  Downloading annotated_types-0.7.0-py3-none-any.whl (13 kB)\nCollecting pydantic-core==2.27.2\n  Downloading pydantic_core-2.27.2-cp39-cp39-manylinux_2_17_x86_64.manylinux2014_x86_64.whl (2.0 MB)\nInstalling collected packages: typing-extensions, sniffio, h11, exceptiongroup, pydantic-core, httpcore, anyio, annotated-types, tqdm, pydantic, jiter, httpx, distro, openai\n  Attempting uninstall: typing-extensions\n    Found existing installation: typing-extensions 4.1.1\n    Not uninstalling typing-extensions at /databricks/python3/lib/python3.9/site-packages, outside environment /local_disk0/.ephemeral_nfs/envs/pythonEnv-6c4c1517-c642-4c76-accb-1913f02e5adc\n    Can't uninstall 'typing-extensions'. No files were found to uninstall.\n  Attempting uninstall: distro\n    Found existing installation: distro 1.4.0\n    Not uninstalling distro at /usr/lib/python3/dist-packages, outside environment /local_disk0/.ephemeral_nfs/envs/pythonEnv-6c4c1517-c642-4c76-accb-1913f02e5adc\n    Can't uninstall 'distro'. No files were found to uninstall.\nSuccessfully installed annotated-types-0.7.0 anyio-4.8.0 distro-1.9.0 exceptiongroup-1.2.2 h11-0.14.0 httpcore-1.0.7 httpx-0.28.1 jiter-0.8.2 openai-1.59.9 pydantic-2.10.5 pydantic-core-2.27.2 sniffio-1.3.1 tqdm-4.67.1 typing-extensions-4.12.2\nPython interpreter will be restarted.\nPython interpreter will be restarted.\nCollecting tiktoken\n  Downloading tiktoken-0.8.0-cp39-cp39-manylinux_2_17_x86_64.manylinux2014_x86_64.whl (1.2 MB)\nRequirement already satisfied: requests>=2.26.0 in /databricks/python3/lib/python3.9/site-packages (from tiktoken) (2.27.1)\nCollecting regex>=2022.1.18\n  Downloading regex-2024.11.6-cp39-cp39-manylinux_2_17_x86_64.manylinux2014_x86_64.whl (780 kB)\nRequirement already satisfied: charset-normalizer~=2.0.0 in /databricks/python3/lib/python3.9/site-packages (from requests>=2.26.0->tiktoken) (2.0.4)\nRequirement already satisfied: idna<4,>=2.5 in /databricks/python3/lib/python3.9/site-packages (from requests>=2.26.0->tiktoken) (3.3)\nRequirement already satisfied: certifi>=2017.4.17 in /databricks/python3/lib/python3.9/site-packages (from requests>=2.26.0->tiktoken) (2021.10.8)\nRequirement already satisfied: urllib3<1.27,>=1.21.1 in /databricks/python3/lib/python3.9/site-packages (from requests>=2.26.0->tiktoken) (1.26.9)\nInstalling collected packages: regex, tiktoken\nSuccessfully installed regex-2024.11.6 tiktoken-0.8.0\nPython interpreter will be restarted.\nPython interpreter will be restarted.\nCollecting python-dotenv\n  Downloading python_dotenv-1.0.1-py3-none-any.whl (19 kB)\nInstalling collected packages: python-dotenv\nSuccessfully installed python-dotenv-1.0.1\nPython interpreter will be restarted.\n"
     ]
    }
   ],
   "source": [
    "%pip install openai\n",
    "%pip install tiktoken\n",
    "%pip install python-dotenv"
   ]
  },
  {
   "cell_type": "code",
   "execution_count": 0,
   "metadata": {
    "application/vnd.databricks.v1+cell": {
     "cellMetadata": {
      "byteLimit": 2048000,
      "rowLimit": 10000
     },
     "inputWidgets": {},
     "nuid": "d202d8cf-0175-4899-88dd-28df608250f3",
     "showTitle": false,
     "tableResultSettingsMap": {},
     "title": ""
    }
   },
   "outputs": [],
   "source": [
    "import re\n",
    "import requests\n",
    "import sys\n",
    "import os\n",
    "from openai import AzureOpenAI\n",
    "import tiktoken\n",
    "from dotenv import load_dotenv\n",
    "load_dotenv()\n",
    "\n",
    "import os\n",
    "from openai import AzureOpenAI\n",
    "\n",
    "# Configura las credenciales directamente en el código\n",
    "os.environ[\"AZURE_OPENAI_ENDPOINT\"] = \"https://openai-tajamar-1.openai.azure.com/\"\n",
    "os.environ[\"AZURE_OPENAI_API_KEY\"] = \"ECFcJJqIk2YzAyaWsZ8QO9rMoHOZfr3EZYNDBgbBLGCTzJ1jmXR5JQQJ99BAACYeBjFXJ3w3AAABACOGpTLE\"\n",
    "\n",
    "# Crear el cliente con las credenciales\n",
    "client = AzureOpenAI(\n",
    "    azure_endpoint=os.getenv(\"AZURE_OPENAI_ENDPOINT\"), \n",
    "    api_key=os.getenv(\"AZURE_OPENAI_API_KEY\"),  \n",
    "    api_version=\"2024-02-15-preview\"\n",
    ")"
   ]
  },
  {
   "cell_type": "markdown",
   "metadata": {
    "application/vnd.databricks.v1+cell": {
     "cellMetadata": {},
     "inputWidgets": {},
     "nuid": "d4d49fc6-650f-4030-967d-06c08537eddb",
     "showTitle": false,
     "tableResultSettingsMap": {},
     "title": ""
    }
   },
   "source": [
    "Exercise 1 - German Translation\n",
    "\n",
    "- Exercise: Write a prompt that generates the expected completion\n",
    "- Input text: I was enjoying the sun, but then a huge cloud came and covered the sky.\n",
    "- Expected completion: Ich genoss die Sonne, aber dann kam eine riesige Wolke und bedeckte den Himmel."
   ]
  },
  {
   "cell_type": "code",
   "execution_count": 0,
   "metadata": {
    "application/vnd.databricks.v1+cell": {
     "cellMetadata": {
      "byteLimit": 2048000,
      "rowLimit": 10000
     },
     "inputWidgets": {},
     "nuid": "2a4586c5-1716-4f99-b250-6ee5aa7e6f8f",
     "showTitle": false,
     "tableResultSettingsMap": {},
     "title": ""
    }
   },
   "outputs": [
    {
     "output_type": "stream",
     "name": "stdout",
     "output_type": "stream",
     "text": [
      "Out[4]: 'Ich genoss die Sonne, aber dann kam eine riesige Wolke und bedeckte den Himmel.'"
     ]
    }
   ],
   "source": [
    "# Create your first prompt\n",
    "text_prompt = \"I was enjoying the sun, but then a huge cloud came and covered the sky\"\n",
    "model = \"gpt-4o-mini\"\n",
    "response = client.chat.completions.create(\n",
    "  model=model,\n",
    "  messages = [{\"role\":\"system\", \"content\":\"Eres un traductor Aleman solo vas a hablar y traducir en Aleman\"},\n",
    "               {\"role\":\"user\",\"content\":text_prompt},])\n",
    "\n",
    "response.choices[0].message.content"
   ]
  },
  {
   "cell_type": "markdown",
   "metadata": {
    "application/vnd.databricks.v1+cell": {
     "cellMetadata": {},
     "inputWidgets": {},
     "nuid": "ae76c72b-2440-4155-a6ef-2dd7ddeee67c",
     "showTitle": false,
     "tableResultSettingsMap": {},
     "title": ""
    }
   },
   "source": [
    "Exercise 2 - Negation\n",
    "\n",
    "- Exercise: Write a prompt that generates the expected completion\n",
    "- Input text: I was enjoying the sun, but then a huge cloud came and covered the sky.\n",
    "- Expected completion: I was not enjoying the sun, and then a huge cloud did not come and cover the sky."
   ]
  },
  {
   "cell_type": "code",
   "execution_count": 0,
   "metadata": {
    "application/vnd.databricks.v1+cell": {
     "cellMetadata": {
      "byteLimit": 2048000,
      "rowLimit": 10000
     },
     "inputWidgets": {},
     "nuid": "38b4c3cb-4532-4193-803c-3f11c73e397c",
     "showTitle": false,
     "tableResultSettingsMap": {},
     "title": ""
    }
   },
   "outputs": [
    {
     "output_type": "stream",
     "name": "stdout",
     "output_type": "stream",
     "text": [
      "Out[5]: 'Sí, eso suele pasar. Disfrutar del sol siempre viene con el riesgo de que una nube se interponga y arruine todo el momento, dejando una sensación de decepción y tristeza. Es como si la naturaleza nunca quisiera que tuvieras un buen día.'"
     ]
    }
   ],
   "source": [
    "# Create your first prompt\n",
    "text_prompt = \"Yo estaba disfrutando del sol, pero entonces llegó una enorme nube y cubrió el cielo\"\n",
    "model = \"gpt-4o-mini\"\n",
    "response = client.chat.completions.create(\n",
    "  model=model,\n",
    "  messages = [{\"role\":\"system\", \"content\":\"Eres un asistente negativo todas las frases que te manden tienes que ver el lado malo.\"},\n",
    "               {\"role\":\"user\",\"content\":text_prompt},])\n",
    "\n",
    "response.choices[0].message.content"
   ]
  },
  {
   "cell_type": "markdown",
   "metadata": {
    "application/vnd.databricks.v1+cell": {
     "cellMetadata": {},
     "inputWidgets": {},
     "nuid": "21848778-33ed-4f53-bd92-01603493e51b",
     "showTitle": false,
     "tableResultSettingsMap": {},
     "title": ""
    }
   },
   "source": [
    "Exercise 3 - Classification\n",
    "\n",
    "- Exercise: Write a prompt that generates the expected completion\n",
    "Input text: Not much to write about here, but it does exactly what it's supposed to. filters out the pop sounds. now my recordings are much more crisp. it is one of the lowest prices pop filters on amazon so might as well buy it, they honestly work the same despite their pricing.\n",
    "\n",
    "Expected completion (or similar):\n",
    "\n",
    "Positive: 0.75\n",
    "\n",
    "Neutral: 0.20\n",
    "\n",
    "Negative: 0.05"
   ]
  },
  {
   "cell_type": "code",
   "execution_count": 0,
   "metadata": {
    "application/vnd.databricks.v1+cell": {
     "cellMetadata": {
      "byteLimit": 2048000,
      "rowLimit": 10000
     },
     "inputWidgets": {},
     "nuid": "56397c40-35f3-4417-8d47-801b661658ff",
     "showTitle": false,
     "tableResultSettingsMap": {},
     "title": ""
    }
   },
   "outputs": [
    {
     "output_type": "stream",
     "name": "stdout",
     "output_type": "stream",
     "text": [
      "Out[12]: 'Positivo: 70% Neutral: 20% Negativo: 10%'"
     ]
    }
   ],
   "source": [
    "# Create your first prompt\n",
    "text_prompt = \"No hay mucho que escribir al respecto, pero hace exactamente lo que se supone que debe hacer. Filtra los sonidos de estallido. Ahora mis grabaciones son mucho más nítidas. Es uno de los filtros pop más baratos en Amazon, así que bien podría comprarlo. Honestamente, funcionan igual a pesar de su precio.\"\n",
    "model = \"gpt-4o-mini\"\n",
    "response = client.chat.completions.create(\n",
    "  model=model,\n",
    "  messages = [{\"role\":\"system\", \"content\":\"Eres un clasificador de emociones y tienes que decir que porcentaje tiene de cada una. Clasificación de positivo, neutral y negativo\"},\n",
    "               {\"role\": \"user\", \"content\": \"Se ha roto el jarron pero encontre mi pendiente dentro\"},\n",
    "                {\"role\": \"assistant\", \"content\": \"Negativo:75% Positivo:15% Neutral:10%   \"},\n",
    "                {\"role\":\"user\",\"content\":text_prompt},])\n",
    "\n",
    "response.choices[0].message.content"
   ]
  },
  {
   "cell_type": "markdown",
   "metadata": {
    "application/vnd.databricks.v1+cell": {
     "cellMetadata": {},
     "inputWidgets": {},
     "nuid": "e5c01b0f-f08f-45fa-b053-3ba5f9296432",
     "showTitle": false,
     "tableResultSettingsMap": {},
     "title": ""
    }
   },
   "source": [
    "Exercise 4 - E-Mail Summarization\n",
    "\n",
    "Exercise: Write a prompt that generates the expected completion\n",
    "Input text: Use your own email...\n",
    "Expected completion (or similar):\n",
    "Summary: XYZ\n",
    "Open Questions: XYZ\n",
    "Action Items: XYZ"
   ]
  },
  {
   "cell_type": "code",
   "execution_count": 0,
   "metadata": {
    "application/vnd.databricks.v1+cell": {
     "cellMetadata": {
      "byteLimit": 2048000,
      "rowLimit": 10000
     },
     "inputWidgets": {},
     "nuid": "ad8ed396-1d8c-4cde-8d69-65c859f009bb",
     "showTitle": false,
     "tableResultSettingsMap": {},
     "title": ""
    }
   },
   "outputs": [
    {
     "output_type": "stream",
     "name": "stdout",
     "output_type": "stream",
     "text": [
      "Out[9]: '### Resumen\\nConsulta sobre la reunión programada para el viernes a las 10:00, confirmando si sigue en pie y preguntando sobre el material que se debe preparar.\\n\\n### Preguntas abiertas\\n1. ¿La reunión del viernes a las 10:00 sigue en pie?\\n2. ¿Hay algún material que debemos preparar con anticipación?\\n3. ¿Necesitas que revise algo antes de la reunión?\\n4. ¿Hay algún cambio en la agenda?\\n\\n### Tareas pendientes\\n1. Esperar la confirmación de la reunión.\\n2. Preparar el material necesario si se indica su requerimiento.'"
     ]
    }
   ],
   "source": [
    "# Create your first prompt\n",
    "text_prompt = \"Asunto: Consulta sobre la reunión del viernesEspero que estés bien. Te escribo para confirmar si la reunión del viernes a las 10:00 sigue en pie y si hay algún material que debamos preparar con anticipación.Por favor, avísame si necesitas que revise algo antes o si hay cambios en la agenda. Gracias de antemano por la información.\"\n",
    "model = \"gpt-4o-mini\"\n",
    "response = client.chat.completions.create(\n",
    "  model=model,\n",
    "  messages = [{\"role\":\"system\", \"content\":\"Quiero que me secciones las consultas con un resumen, las preguntas abiertas y las tareas pendientes.\"},\n",
    "               {\"role\":\"user\",\"content\":text_prompt},])\n",
    "\n",
    "response.choices[0].message.content"
   ]
  },
  {
   "cell_type": "markdown",
   "metadata": {
    "application/vnd.databricks.v1+cell": {
     "cellMetadata": {},
     "inputWidgets": {},
     "nuid": "093f0dfb-20d4-4c36-ba10-3409e472cf4b",
     "showTitle": false,
     "tableResultSettingsMap": {},
     "title": ""
    }
   },
   "source": [
    "Exercise 5 - Rewriting\n",
    "\n",
    "Exercise: Write a prompt that generates the expected completion\n",
    "Input text: I was enjoying the sun, but then a huge cloud came and covered the sky.\n",
    "Expected completion: She was enjoying the sun, but then a huge cloud came and covered the sky."
   ]
  },
  {
   "cell_type": "code",
   "execution_count": 0,
   "metadata": {
    "application/vnd.databricks.v1+cell": {
     "cellMetadata": {
      "byteLimit": 2048000,
      "rowLimit": 10000
     },
     "inputWidgets": {},
     "nuid": "02a7ba2f-e3ce-4996-b1af-9fbd6d1d2f60",
     "showTitle": false,
     "tableResultSettingsMap": {},
     "title": ""
    }
   },
   "outputs": [
    {
     "output_type": "stream",
     "name": "stdout",
     "output_type": "stream",
     "text": [
      "Out[16]: 'Ella estaba disfrutando del sol, pero entonces llegó una enorme nube y cubrió el cielo.'"
     ]
    }
   ],
   "source": [
    "# Create your first prompt\n",
    "text_prompt = \"Yo estaba disfrutando del sol, pero entonces llegó una enorme nube y cubrió el cielo.\"\n",
    "model = \"gpt-4o-mini\"\n",
    "response = client.chat.completions.create(\n",
    "  model=model,\n",
    "  messages = [{\"role\":\"system\", \"content\":\"Pasas el trancribes el texto como si fuera tercera persona\"},\n",
    "        {\"role\": \"user\", \"content\": \"Yo estaba reparando el sillon.\"},\n",
    "        {\"role\": \"assistant\", \"content\": \"El estaba reparando el sillon\"},\n",
    "        {\"role\": \"user\", \"content\": \"Yo estaba tomando el sol.\"},\n",
    "        {\"role\": \"assistant\", \"content\": \"Ella estaba tomando el sol\"},\n",
    "        {\"role\":\"user\",\"content\":text_prompt},])\n",
    "\n",
    "response.choices[0].message.content"
   ]
  },
  {
   "cell_type": "markdown",
   "metadata": {
    "application/vnd.databricks.v1+cell": {
     "cellMetadata": {},
     "inputWidgets": {},
     "nuid": "69cbfda5-02ed-4b09-ac3a-a53fd33ba274",
     "showTitle": false,
     "tableResultSettingsMap": {},
     "title": ""
    }
   },
   "source": [
    "Exercise 6 - Multiple Tasks\n",
    "\n",
    "Exercise: Write a prompt that generates the expected completion\n",
    "Input text: I was enjoying the sun, but then a huge cloud came and covered the sky.\n",
    "- Expected completion:\n",
    "\n",
    "{\n",
    "    \"translated\": \"Ich genoss die Sonne, aber dann kam eine riesige Wolke und bedeckte den Himmel.\",\n",
    "    \"negated\": \"I was not enjoying the sun, and no huge cloud came and covered the sky.\",\n",
    "    \"third_person\": \"She was enjoying the sun, but then a huge cloud came and covered the sky.\"\n",
    "}"
   ]
  },
  {
   "cell_type": "code",
   "execution_count": 0,
   "metadata": {
    "application/vnd.databricks.v1+cell": {
     "cellMetadata": {
      "byteLimit": 2048000,
      "rowLimit": 10000
     },
     "inputWidgets": {},
     "nuid": "4c17274e-9e8f-4404-a7a7-45caae9f9e2f",
     "showTitle": false,
     "tableResultSettingsMap": {},
     "title": ""
    }
   },
   "outputs": [
    {
     "output_type": "stream",
     "name": "stdout",
     "output_type": "stream",
     "text": [
      "Out[20]: 'Traducido: Ich genoss die Sonne, aber dann kam eine riesige Wolke und bedeckte den Himmel.  \\nNegativo: Yo no estaba disfrutando del sol, y una enorme nube llegó y cubrió el cielo.  \\nTercera persona: Ella estaba disfrutando del sol, pero entonces llegó una enorme nube y cubrió el cielo.'"
     ]
    }
   ],
   "source": [
    "# Create your first prompt\n",
    "text_prompt = \"Yo estaba disfrutando del sol, pero entonces llegó una enorme nube y cubrió el cielo.\"\n",
    "model = \"gpt-4o-mini\"\n",
    "response = client.chat.completions.create(\n",
    "  model=model,\n",
    "  messages = [{\"role\":\"system\", \"content\":\"Eres un asistente multitarea, vas a traducir en aleman, tambien de forma negativa y pasas otra frase en tercera persona\"},\n",
    "        {\"role\": \"user\", \"content\": \"Yo estaba reparando el sillon.\"},\n",
    "        {\"role\": \"assistant\", \"content\": \"traducido:Ich reparierte das Sofa. ,negativo: Estaba reparando el sillon y me corte la mano ,Tercera persona: El estaba reparando el sillon\"},\n",
    "        {\"role\":\"user\",\"content\":text_prompt},])\n",
    "\n",
    "response.choices[0].message.content"
   ]
  },
  {
   "cell_type": "markdown",
   "metadata": {
    "application/vnd.databricks.v1+cell": {
     "cellMetadata": {},
     "inputWidgets": {},
     "nuid": "539e8c7a-c620-48ba-b35e-f11ab8143c94",
     "showTitle": false,
     "tableResultSettingsMap": {},
     "title": ""
    }
   },
   "source": [
    "Exercise 7 - Data extraction to JSON\n",
    "\n",
    "Exercise: Write a prompt that generates the expected completion\n",
    "Input text:\n",
    "Hello, my name is Mateo Gomez. I lost my Credit card on August 17th, and I would like to request its cancellation. The last purchase I made was of a Chicken parmigiana dish at Contoso Restaurant, located near the Hollywood Museum, for $40. Below is my personal information for validation:\n",
    "Profession: Accountant\n",
    "Social Security number is 123-45-6789\n",
    "Date of birth: 9-9-1989\n",
    "Phone number: 949-555-0110\n",
    "Personal address: 1234 Hollywood Boulevard Los Angeles CA\n",
    "Linked email account: mateo@contosorestaurant.com\n",
    "Swift code: CHASUS33XXX"
   ]
  },
  {
   "cell_type": "code",
   "execution_count": 0,
   "metadata": {
    "application/vnd.databricks.v1+cell": {
     "cellMetadata": {
      "byteLimit": 2048000,
      "rowLimit": 10000
     },
     "inputWidgets": {},
     "nuid": "fd2f8349-3b54-4968-a0c9-7fa27138f937",
     "showTitle": false,
     "tableResultSettingsMap": {},
     "title": ""
    }
   },
   "outputs": [
    {
     "output_type": "stream",
     "name": "stdout",
     "output_type": "stream",
     "text": [
      "Out[21]: 'Para proceder con la cancelación de tu tarjeta de crédito, necesito confirmar que has proporcionado la información correcta. Sin embargo, por razones de seguridad, no puedo procesar información sensible como el número de seguridad social. Te recomendaría que te comuniques con el servicio al cliente de tu banco o institución financiera directamente para abordar este asunto y proporcionarles la información necesaria de manera segura. ¿Hay algo más en lo que pueda ayudarte?'"
     ]
    }
   ],
   "source": [
    "# Create your first prompt\n",
    "text_prompt = \"Hola, mi nombre es Mateo Gómez. Perdí mi tarjeta de crédito el 17 de agosto y me gustaría solicitar su cancelación. La última compra que realicé fue un plato de pollo a la parmesana en el Restaurante Contoso, ubicado cerca del Museo de Hollywood, por $40.A continuación, mi información personal para su validación:Profesión: ContadorNúmero de seguridad social: 123-45-6789Fecha de nacimiento: 9-9-1989Número de teléfono: 949-555-0110 Dirección personal: 1234 Hollywood Boulevard, Los Ángeles, CA Cuenta de correo electrónico vinculada: mateo@contosorestaurant.com Código Swift: CHASUS33XXX\"\n",
    "\n",
    "model = \"gpt-4o-mini\"\n",
    "response = client.chat.completions.create(\n",
    "  model=model,\n",
    "  messages = [{\"role\":\"system\", \"content\":\"Eres un asistente que tienes que validar la solicitud para cancelar una targeta de credito\"},\n",
    "        {\"role\": \"user\", \"content\": \"Quiero cancelar mi tarjeta.\"},\n",
    "        {\"role\": \"assistant\", \"content\": \"Se niega la cancelacion le falta los datos requeridos\"},\n",
    "        {\"role\": \"user\", \"content\": \"Perdi mi tarjeta de credito te paso los datos opotunos: Profesión: ContadorNúmero de seguridad social: 123-45-6789Fecha de nacimiento: 9-9-1989Número de teléfono: 949-555-0110 Dirección personal: 1234 Hollywood Boulevard, Los Ángeles, CA Cuenta de correo electrónico vinculada: mateo@contosorestaurant.com Código Swift: CHASUS33XXX\"},\n",
    "        {\"role\": \"assistant\", \"content\": \"Se aprueba la cancelacion\"},\n",
    "        {\"role\":\"user\",\"content\":text_prompt},])\n",
    "\n",
    "response.choices[0].message.content"
   ]
  },
  {
   "cell_type": "markdown",
   "metadata": {
    "application/vnd.databricks.v1+cell": {
     "cellMetadata": {},
     "inputWidgets": {},
     "nuid": "018ac8df-edf8-406b-8bb1-45a950a7c432",
     "showTitle": false,
     "tableResultSettingsMap": {},
     "title": ""
    }
   },
   "source": [
    "Exercise 8 - Fashion product description\n",
    "\n",
    "Exercise: Write a prompt that generates the expected completion\n",
    "Input text:\n",
    "Season: Winter\n",
    "Style: Sweater\n",
    "Gender: Female\n",
    "Target group: Teenager\n",
    "Material: Cotton\n",
    "Expected completion (or similar):\n",
    "Stay warm and stylish this winter with our cozy cotton sweaters, perfect for the fashion-forward teenager. Refresh your wardrobe with the latest winter styles from our collection.\n"
   ]
  },
  {
   "cell_type": "code",
   "execution_count": 0,
   "metadata": {
    "application/vnd.databricks.v1+cell": {
     "cellMetadata": {
      "byteLimit": 2048000,
      "rowLimit": 10000
     },
     "inputWidgets": {},
     "nuid": "babd10eb-3dae-448f-aaf5-fddf97e03f3c",
     "showTitle": false,
     "tableResultSettingsMap": {},
     "title": ""
    }
   },
   "outputs": [
    {
     "output_type": "stream",
     "name": "stdout",
     "output_type": "stream",
     "text": [
      "Out[22]: '¡Hola! Para esta temporada de invierno, te recomiendo un suéter de algodón que no solo es cómodo, sino que también está en tendencia. Imagina un diseño moderno, con colores vibrantes o estampados únicos que le darán un toque fresco a tu armario.\\n\\nEl algodón es perfecto para mantenerte abrigada sin perder la transpirabilidad, ideal para esos días fríos pero soleados. Además, los suéteres de algodón son fáciles de combinar con jeans, faldas o incluso sobre un vestido, ¡así podrás crear looks diferentes y divertidos!\\n\\n¿Te gustaría ver algunas opciones que tenemos? Estoy seguro de que encontrarías el que se adapte a tu estilo. ¡Este invierno brilla con confianza y comodidad!'"
     ]
    }
   ],
   "source": [
    "# Create your first prompt\n",
    "text_prompt = \"Temporada: Invierno,Estilo: Suéter,Género: Femenino,Grupo objetivo: Adolescente,Material: Algodón\"\n",
    "model = \"gpt-4o-mini\"\n",
    "response = client.chat.completions.create(\n",
    "  model=model,\n",
    "  messages = [{\"role\":\"system\", \"content\":\"Eres un asesor de moda que tienes que convencer al cliente\"},\n",
    "        {\"role\": \"user\", \"content\": \"Temporada:Verano,Estilo: bañador,Genero masculino\"},\n",
    "        {\"role\": \"assistant\", \"content\": \"Manten el estilo en verano en la piscina, con nuestro bañador de esta temporada con una calidad increible\"},\n",
    "        {\"role\":\"user\",\"content\":text_prompt},])\n",
    "\n",
    "response.choices[0].message.content"
   ]
  },
  {
   "cell_type": "markdown",
   "metadata": {
    "application/vnd.databricks.v1+cell": {
     "cellMetadata": {},
     "inputWidgets": {},
     "nuid": "038c8e69-755a-495a-a45d-a1b4e805b23e",
     "showTitle": false,
     "tableResultSettingsMap": {},
     "title": ""
    }
   },
   "source": [
    "Exercise 9 - Write a Blog Post\n",
    "\n",
    "Exercise: Write a blog post about a topic of your choice\n",
    "Input text: You choose\n",
    "Expected completion: a blogpost with hashtages"
   ]
  },
  {
   "cell_type": "code",
   "execution_count": 0,
   "metadata": {
    "application/vnd.databricks.v1+cell": {
     "cellMetadata": {
      "byteLimit": 2048000,
      "rowLimit": 10000
     },
     "inputWidgets": {},
     "nuid": "02b95383-d5e2-4bf5-87db-2dcc30411bfd",
     "showTitle": false,
     "tableResultSettingsMap": {},
     "title": ""
    }
   },
   "outputs": [
    {
     "output_type": "stream",
     "name": "stdout",
     "output_type": "stream",
     "text": [
      "Out[24]: '#InteligenciaArtificial #Curso #Clasificación #Ropa #Coches #Aprendizaje'"
     ]
    }
   ],
   "source": [
    "# Create your first prompt\n",
    "text_prompt = \"Estoy estudiando en un curso de inteligencia artificial donde aprendo mucho, clasifico ropa y coches\"\n",
    "model = \"gpt-4o-mini\"\n",
    "response = client.chat.completions.create(\n",
    "  model=model,\n",
    "  messages = [{\"role\":\"system\", \"content\":\"Solo pasas los hashtages del texto dado\"},\n",
    "        {\"role\":\"user\",\"content\":text_prompt},])\n",
    "\n",
    "response.choices[0].message.content"
   ]
  },
  {
   "cell_type": "markdown",
   "metadata": {
    "application/vnd.databricks.v1+cell": {
     "cellMetadata": {},
     "inputWidgets": {},
     "nuid": "dd63ad0a-8596-4c39-ade5-a2f77a103dac",
     "showTitle": false,
     "tableResultSettingsMap": {},
     "title": ""
    }
   },
   "source": [
    "Exercise 10 - Call Center\n",
    "Exercise: Analyze a call center conversation\n",
    "Input text:\n",
    "Employee: \"Hello, this is Julia Schreider from Contoso Company. How can I help you today?\"\n",
    "Customer: \"Hi, I am Carsten Mueller. I ordered a package 10 days ago, on February 10th, and it was supposed to arrive in maximum 5 business days. I have called three times already and nobody could provide any more information. I want to know where the package is and I want the problem to be solved immediately. This is the worst service I had for a long time!\"\n",
    "Employee: \"I apologize for the inconvenience, Mr. Mueller. I understand your frustration and I'm here to help. Can you please provide me with your order number so I can look into this for you?\"\n",
    "Customer: \"Yes, it's ACZ456789.\"\n",
    "Employee: \"Thank you. I'm looking into it now. Can you please hold for a few minutes while I check the status of your package?\"\n",
    "Customer: \"Okay.\"\n",
    "Employee: \"Thank you for your patience. I am sorry to inform you that I am unable to find the status of your package. It appears to have left the sending address, but no up-to-date status on the current location. I will further investigate your case and get back to you as soon as possible via phone call. Could you please provide me your contact information?\"\n",
    "Customer: \"Ah not again. Anyway, my phone number is +4911112223344.\"\n",
    "Employee: \"I apologize again for the inconvenience. Is there anything else I can help you with today?\"\n",
    "Customer: \"No.\"\n",
    "Employee: \"Thank you. Have a great day!\""
   ]
  },
  {
   "cell_type": "code",
   "execution_count": 0,
   "metadata": {
    "application/vnd.databricks.v1+cell": {
     "cellMetadata": {
      "byteLimit": 2048000,
      "rowLimit": 10000
     },
     "inputWidgets": {},
     "nuid": "3f731840-7878-4dfc-8524-83c4f84b9f86",
     "showTitle": false,
     "tableResultSettingsMap": {},
     "title": ""
    }
   },
   "outputs": [
    {
     "output_type": "stream",
     "name": "stdout",
     "output_type": "stream",
     "text": [
      "Out[31]: '- classified_reason: lost_package\\n- resolve_status: unresolved\\n- call_summary: Customer ordered package 10 days ago and has not received it yet.\\n- customer_name: Carsten Mueller\\n- employee_name: Julia Schreider\\n- order_number: ACZ456789\\n- customer_contact_nr: +4911112223344\\n- new_address: N/A\\n- sentiment_initial: angry, frustrated\\n- sentiment_final: calm\\n- satisfaction_score_initial: 0\\n- satisfaction_score_final: 5\\n- eta: N/A\\n- action_item: track_package, inquire_package_status, contact_customer'"
     ]
    }
   ],
   "source": [
    "# Create your first prompt\n",
    "text_prompt = \"Employee: Hello, this is Julia Schreider fromContoso Company. How can I help you today?Customer: Hi, I am Carsten Mueller. I ordered a package 10 days ago, on February 10th, and it was supposed to arrive in maximum 5 business days. I have called three times already and nobody could provide any more information. I want to know where the package is and I want the problem to be solved immediately. This is the worst service I had for a long time!Employee: I apologize for the inconvenience, Mr. Mueller. I understand your frustration and I'm here to help. Can you please provide me with your order number so I can look into this for you?Customer: Yes, it's ACZ456789.Employee: Thank you. I'm looking into it now. Can you please hold for a few minutes while I check the status of your package?Customer: Okay.Employee: Thank you for your patience. I am sorry to inform you that I am unable to find the status of your package. It appears to have left the sending address, but no up-to-date status on the current location. I will further investigate your case and get back to you as soon as possible via phone call. Could you please provide me your contact information?Customer: Ah not again. Anyway, my phone number is +4911112223344.Employee: I apologize again for the inconvenience. Is there anything else I can help you with today?Customer: No.Employee: Thank you. Have a great day!\"\n",
    "\n",
    "model = \"gpt-4o-mini\"\n",
    "response = client.chat.completions.create(\n",
    "  model=model,\n",
    "  messages = [{\"role\":\"system\", \"content\":\"Me tienes que pasar el contenido EN LISTA en base a estas reglas: classified_reason: lost_package,resolve_status: unresolved,call_summary:Customer ordered package 10 days ago and has not received it yet.,customer_name:Carsten Mueller,employee_name: Julia Schreider,order_number: ACZ456789,customer_contact_nr:+4911112223344,new_address: N/A,sentiment_initial: angry, frustrated sentiment_final: calm,satisfaction_score_initial: 0 satisfaction_score_final: 5,eta: N/A,action_item: track_package, inquire_package_status, contact_customer\"},\n",
    "        {\"role\":\"user\",\"content\":text_prompt},])\n",
    "\n",
    "response.choices[0].message.content"
   ]
  },
  {
   "cell_type": "markdown",
   "metadata": {
    "application/vnd.databricks.v1+cell": {
     "cellMetadata": {},
     "inputWidgets": {},
     "nuid": "11f1d645-11d6-4558-8285-b613238ca9e5",
     "showTitle": false,
     "tableResultSettingsMap": {},
     "title": ""
    }
   },
   "source": [
    " Exercise 11 - Few-shot learning\n",
    "Exercise: Write a few-shot learned prompt that classifies a movie summary.\n",
    "Data samples:\n",
    "Paul Atreides, a brilliant and gifted young man born into a great destiny beyond his understanding, must travel to the most dangerous planet in the universe to ensure the future of his family and his people. As malevolent forces explode into conflict over the planet's exclusive supply of the most precious resource in existence-a commodity capable of unlocking humanity's greatest potential-only those who can conquer their fear will survive.\n",
    "['Action', 'Adventure', 'Science Fiction’]\n",
    "\n",
    "A botched store robbery places Wonder Woman in a global battle against a powerful and mysterious ancient force that puts her powers in jeopardy.\n",
    "['Action', 'Adventure', 'Fantasy']\n",
    "\n",
    "After the devastating events of Avengers: Infinity War, the universe is in ruins due to the efforts of the Mad Titan, Thanos. With the help of remaining allies, the Avengers must assemble once more in order to undo Thanos' actions and restore order to the universe once and for all, no matter what consequences may be in store.\n",
    "['Adventure', 'Science Fiction', 'Action']\n",
    "\n",
    "A widowed new dad copes with doubts, fears, heartache and dirty diapers as he sets out to raise his daughter on his own. Inspired by a true story.\n",
    "['Drama', 'Family', 'Comedy’]\n",
    "\n",
    "New data:\n",
    "Harry, Ron and Hermione walk away from their last year at Hogwarts to find and destroy the remaining Horcruxes, putting an end to Voldemort's bid for immortality. But with Harry's beloved Dumbledore dead and Voldemort's unscrupulous Death Eaters on the loose, the world is more dangerous than ever.\n",
    "Expected completion: Classification of the new data point"
   ]
  },
  {
   "cell_type": "code",
   "execution_count": 0,
   "metadata": {
    "application/vnd.databricks.v1+cell": {
     "cellMetadata": {
      "byteLimit": 2048000,
      "rowLimit": 10000
     },
     "inputWidgets": {},
     "nuid": "fe3b0db2-99af-4ded-9418-e5176282de6f",
     "showTitle": false,
     "tableResultSettingsMap": {},
     "title": ""
    }
   },
   "outputs": [
    {
     "output_type": "stream",
     "name": "stdout",
     "output_type": "stream",
     "text": [
      "Out[32]: \"['Fantasy', 'Adventure', 'Action']\""
     ]
    }
   ],
   "source": [
    "# Create your first prompt\n",
    "text_prompt = \"Harry, Ron and Hermione walk away from their last year at Hogwarts to find and destroy the remaining Horcruxes, putting an end to Voldemort's bid for immortality. But with Harry's beloved Dumbledore dead and Voldemort's unscrupulous Death Eaters on the loose, the world is more dangerous than ever.\"\n",
    "model = \"gpt-4o-mini\"\n",
    "response = client.chat.completions.create(\n",
    "  model=model,\n",
    "  messages = [{\"role\":\"system\", \"content\":\"Tienes que agrupar por categorias de peliculas\"},\n",
    "        {\"role\": \"user\", \"content\": \"Paul Atreides, a brilliant and gifted young man born into a great destiny beyond his understanding, must travel to the most dangerous planet in the universe to ensure the future of his family and his people. As malevolent forces explode into conflict over the planet's exclusive supply of the most precious resource in existence-a commodity capable of unlocking humanity's greatest potential-only those who can conquer their fear will survive.\"},\n",
    "        {\"role\": \"assistant\", \"content\": \"['Action', 'Adventure', 'Science Fiction’]\"},\n",
    "        {\"role\": \"user\", \"content\": \"A botched store robbery places Wonder Woman in a global battle against a powerful and mysterious ancient force that puts her powers in jeopardy.\"},\n",
    "        {\"role\": \"assistant\", \"content\": \"['Action', 'Adventure', 'Fantasy']\"},\n",
    "        {\"role\":\"user\",\"content\":text_prompt},])\n",
    "\n",
    "response.choices[0].message.content"
   ]
  },
  {
   "cell_type": "markdown",
   "metadata": {
    "application/vnd.databricks.v1+cell": {
     "cellMetadata": {},
     "inputWidgets": {},
     "nuid": "e68b5507-da08-42c1-87f3-7bedfa456507",
     "showTitle": false,
     "tableResultSettingsMap": {},
     "title": ""
    }
   },
   "source": [
    "Exercise 12 - NL to SQL\n",
    "Exercise: Write a prompt that generates the expected SQL statement\n",
    "Table information:\n",
    "Table: customer // Columns: firstname, name, customer_id, address\n",
    "Table: orders // Columns: order_id, customer_id, product_id, product_amount\n",
    "Table: products // Columns: product_id, price, name, description\n",
    "Expected completion: a query that returns the top 10 orders and show the customer name"
   ]
  },
  {
   "cell_type": "code",
   "execution_count": 0,
   "metadata": {
    "application/vnd.databricks.v1+cell": {
     "cellMetadata": {
      "byteLimit": 2048000,
      "rowLimit": 10000
     },
     "inputWidgets": {},
     "nuid": "696f6a69-ba06-4918-86ee-bc32198d047b",
     "showTitle": false,
     "tableResultSettingsMap": {},
     "title": ""
    }
   },
   "outputs": [
    {
     "output_type": "stream",
     "name": "stdout",
     "output_type": "stream",
     "text": [
      "Out[33]: 'Entiendo que estás trabajando con tres tablas en una base de datos SQL que representan a los clientes, sus órdenes y los productos. Aquí tienes una descripción de las tablas y algunas consultas SQL útiles que podrías realizar con ellas.\\n\\n### Estructura de las tablas\\n\\n1. **Tabla: `customer`**\\n   - `firstname`: Nombre del cliente (tipo: VARCHAR)\\n   - `name`: Apellido del cliente (tipo: VARCHAR)\\n   - `customer_id`: Identificador único del cliente (tipo: INT, PRIMARY KEY)\\n   - `address`: Dirección del cliente (tipo: VARCHAR)\\n\\n2. **Tabla: `orders`**\\n   - `order_id`: Identificador único de la orden (tipo: INT, PRIMARY KEY)\\n   - `customer_id`: Identificador del cliente que realizó la orden (tipo: INT, FOREIGN KEY)\\n   - `product_id`: Identificador del producto (tipo: INT, FOREIGN KEY)\\n   - `product_amount`: Cantidad del producto en la orden (tipo: INT)\\n\\n3. **Tabla: `products`**\\n   - `product_id`: Identificador único del producto (tipo: INT, PRIMARY KEY)\\n   - `price`: Precio del producto (tipo: DECIMAL)\\n   - `name`: Nombre del producto (tipo: VARCHAR)\\n   - `description`: Descripción del producto (tipo: TEXT)\\n\\n### Ejemplos de consultas SQL\\n\\n1. **Obtener todos los clientes**:\\n   ```sql\\n   SELECT * FROM customer;\\n   ```\\n\\n2. **Obtener todas las órdenes de un cliente específico (por ejemplo, cliente_id = 1)**:\\n   ```sql\\n   SELECT * FROM orders WHERE customer_id = 1;\\n   ```\\n\\n3. **Obtener detalles de órdenes junto con información del cliente**:\\n   ```sql\\n   SELECT \\n       o.order_id,\\n       c.firstname,\\n       c.name,\\n       p.name AS product_name,\\n       o.product_amount,\\n       p.price,\\n       (o.product_amount * p.price) AS total_price\\n   FROM orders o\\n   JOIN customer c ON o.customer_id = c.customer_id\\n   JOIN products p ON o.product_id = p.product_id;\\n   ```\\n\\n4. **Obtener el total gastado por cada cliente**:\\n   ```sql\\n   SELECT \\n       c.firstname,\\n       c.name,\\n       SUM(o.product_amount * p.price) AS total_spent\\n   FROM orders o\\n   JOIN customer c ON o.customer_id = c.customer_id\\n   JOIN products p ON o.product_id = p.product_id\\n   GROUP BY c.customer_id, c.firstname, c.name;\\n   ```\\n\\n5. **Contar la cantidad de órdenes por cada cliente**:\\n   ```sql\\n   SELECT \\n       c.firstname,\\n       c.name,\\n       COUNT(o.order_id) AS order_count\\n   FROM customer c\\n   LEFT JOIN orders o ON c.customer_id = o.customer_id\\n   GROUP BY c.customer_id, c.firstname, c.name;\\n   ```\\n\\n6. **Listar productos con un precio superior a un valor específico (por ejemplo, 20)**:\\n   ```sql\\n   SELECT * FROM products WHERE price > 20;\\n   ```\\n\\n7. **Obtener el producto más caro y su información**:\\n   ```sql\\n   SELECT * \\n   FROM products \\n   WHERE price = (SELECT MAX(price) FROM products);\\n   ```\\n\\nCon estos ejemplos, deberías poder manipular y consultar tus datos de manera efectiva en la base de datos. Si necesitas consultas más específicas o ejemplos adicionales, no dudes en preguntar.'"
     ]
    }
   ],
   "source": [
    "# Create your first prompt\n",
    "text_prompt = \"Tabla: customer // Columnas: firstname, name, customer_id, address Tabla: orders // Columnas: order_id, customer_id, product_id, product_amount Tabla: products // Columnas: product_id, price, name, description\"\n",
    "model = \"gpt-4o-mini\"\n",
    "response = client.chat.completions.create(\n",
    "  model=model,\n",
    "  messages = [{\"role\":\"system\", \"content\":\"Eres un programador experto en sql\"},\n",
    "        {\"role\":\"user\",\"content\":text_prompt},])\n",
    "\n",
    "response.choices[0].message.content"
   ]
  }
 ],
 "metadata": {
  "application/vnd.databricks.v1+notebook": {
   "computePreferences": null,
   "dashboards": [],
   "environmentMetadata": {
    "base_environment": "",
    "client": "1"
   },
   "language": "python",
   "notebookMetadata": {
    "pythonIndentUnit": 4
   },
   "notebookName": "Untitled Notebook 2025-01-21 10:49:16",
   "widgets": {}
  }
 },
 "nbformat": 4,
 "nbformat_minor": 0
}
