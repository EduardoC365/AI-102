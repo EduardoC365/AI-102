{
 "cells": [
  {
   "cell_type": "markdown",
   "metadata": {
    "application/vnd.databricks.v1+cell": {
     "cellMetadata": {},
     "inputWidgets": {},
     "nuid": "f314fd7d-4929-4eb8-b30a-72647ff42cc9",
     "showTitle": false,
     "tableResultSettingsMap": {},
     "title": ""
    }
   },
   "source": [
    "# Azure chat completions example\n",
    "\n",
    "This example will cover chat completions using the Azure OpenAI service. It also includes information on content filtering."
   ]
  },
  {
   "cell_type": "markdown",
   "metadata": {
    "application/vnd.databricks.v1+cell": {
     "cellMetadata": {},
     "inputWidgets": {},
     "nuid": "3f92a44e-54b6-4cf7-a643-4d5daac15fdb",
     "showTitle": false,
     "tableResultSettingsMap": {},
     "title": ""
    }
   },
   "source": [
    "## Setup\n",
    "\n",
    "First, we install the necessary dependencies and import the libraries we will be using."
   ]
  },
  {
   "cell_type": "code",
   "execution_count": 0,
   "metadata": {
    "application/vnd.databricks.v1+cell": {
     "cellMetadata": {
      "byteLimit": 2048000,
      "rowLimit": 10000
     },
     "inputWidgets": {},
     "nuid": "a4637819-5afa-4e17-a011-fe4635bef646",
     "showTitle": false,
     "tableResultSettingsMap": {},
     "title": ""
    }
   },
   "outputs": [
    {
     "output_type": "stream",
     "name": "stdout",
     "output_type": "stream",
     "text": [
      "Collecting openai<2.0.0,>=1.0.0\r\n  Downloading openai-1.59.7-py3-none-any.whl (454 kB)\r\n\u001B[?25l\r\u001B[K     |▊                               | 10 kB 37.0 MB/s eta 0:00:01\r\u001B[K     |█▍                              | 20 kB 30.8 MB/s eta 0:00:01\r\u001B[K     |██▏                             | 30 kB 13.4 MB/s eta 0:00:01\r\u001B[K     |██▉                             | 40 kB 6.1 MB/s eta 0:00:01\r\u001B[K     |███▋                            | 51 kB 7.3 MB/s eta 0:00:01\r\u001B[K     |████▎                           | 61 kB 7.7 MB/s eta 0:00:01\r\u001B[K     |█████                           | 71 kB 7.4 MB/s eta 0:00:01\r\u001B[K     |█████▊                          | 81 kB 6.1 MB/s eta 0:00:01\r\u001B[K     |██████▌                         | 92 kB 6.8 MB/s eta 0:00:01\r\u001B[K     |███████▏                        | 102 kB 6.7 MB/s eta 0:00:01\r\u001B[K     |████████                        | 112 kB 6.7 MB/s eta 0:00:01\r\u001B[K     |████████▋                       | 122 kB 6.7 MB/s eta 0:00:01\r\u001B[K     |█████████▍                      | 133 kB 6.7 MB/s eta 0:00:01\r\u001B[K     |██████████                      | 143 kB 6.7 MB/s eta 0:00:01\r\u001B[K     |██████████▉                     | 153 kB 6.7 MB/s eta 0:00:01\r\u001B[K     |███████████▌                    | 163 kB 6.7 MB/s eta 0:00:01\r\u001B[K     |████████████▎                   | 174 kB 6.7 MB/s eta 0:00:01\r\u001B[K     |█████████████                   | 184 kB 6.7 MB/s eta 0:00:01\r\u001B[K     |█████████████▊                  | 194 kB 6.7 MB/s eta 0:00:01\r\u001B[K     |██████████████▍                 | 204 kB 6.7 MB/s eta 0:00:01\r\u001B[K     |███████████████▏                | 215 kB 6.7 MB/s eta 0:00:01\r\u001B[K     |███████████████▉                | 225 kB 6.7 MB/s eta 0:00:01\r\u001B[K     |████████████████▋               | 235 kB 6.7 MB/s eta 0:00:01\r\u001B[K     |█████████████████▎              | 245 kB 6.7 MB/s eta 0:00:01\r\u001B[K     |██████████████████              | 256 kB 6.7 MB/s eta 0:00:01\r\u001B[K     |██████████████████▊             | 266 kB 6.7 MB/s eta 0:00:01\r\u001B[K     |███████████████████▌            | 276 kB 6.7 MB/s eta 0:00:01\r\u001B[K     |████████████████████▏           | 286 kB 6.7 MB/s eta 0:00:01\r\u001B[K     |█████████████████████           | 296 kB 6.7 MB/s eta 0:00:01\r\u001B[K     |█████████████████████▋          | 307 kB 6.7 MB/s eta 0:00:01\r\u001B[K     |██████████████████████▎         | 317 kB 6.7 MB/s eta 0:00:01\r\u001B[K     |███████████████████████         | 327 kB 6.7 MB/s eta 0:00:01\r\u001B[K     |███████████████████████▊        | 337 kB 6.7 MB/s eta 0:00:01\r\u001B[K     |████████████████████████▌       | 348 kB 6.7 MB/s eta 0:00:01\r\u001B[K     |█████████████████████████▏      | 358 kB 6.7 MB/s eta 0:00:01\r\u001B[K     |██████████████████████████      | 368 kB 6.7 MB/s eta 0:00:01\r\u001B[K     |██████████████████████████▋     | 378 kB 6.7 MB/s eta 0:00:01\r\u001B[K     |███████████████████████████▍    | 389 kB 6.7 MB/s eta 0:00:01\r\u001B[K     |████████████████████████████    | 399 kB 6.7 MB/s eta 0:00:01\r\u001B[K     |████████████████████████████▉   | 409 kB 6.7 MB/s eta 0:00:01\r\u001B[K     |█████████████████████████████▌  | 419 kB 6.7 MB/s eta 0:00:01\r\u001B[K     |██████████████████████████████▎ | 430 kB 6.7 MB/s eta 0:00:01\r\u001B[K     |███████████████████████████████ | 440 kB 6.7 MB/s eta 0:00:01\r\u001B[K     |███████████████████████████████▊| 450 kB 6.7 MB/s eta 0:00:01\r\u001B[K     |████████████████████████████████| 454 kB 6.7 MB/s \r\n\u001B[?25hCollecting typing-extensions<5,>=4.11\r\n  Downloading typing_extensions-4.12.2-py3-none-any.whl (37 kB)\r\nCollecting httpx<1,>=0.23.0\r\n  Downloading httpx-0.28.1-py3-none-any.whl (73 kB)\r\n\u001B[?25l\r\u001B[K     |████▌                           | 10 kB 43.8 MB/s eta 0:00:01\r\u001B[K     |█████████                       | 20 kB 53.3 MB/s eta 0:00:01\r\u001B[K     |█████████████▍                  | 30 kB 68.3 MB/s eta 0:00:01\r\u001B[K     |█████████████████▉              | 40 kB 78.6 MB/s eta 0:00:01\r\u001B[K     |██████████████████████▎         | 51 kB 84.5 MB/s eta 0:00:01\r\u001B[K     |██████████████████████████▊     | 61 kB 88.1 MB/s eta 0:00:01\r\u001B[K     |███████████████████████████████▏| 71 kB 92.9 MB/s eta 0:00:01\r\u001B[K     |████████████████████████████████| 73 kB 2.3 MB/s \r\n\u001B[?25hCollecting distro<2,>=1.7.0\r\n  Downloading distro-1.9.0-py3-none-any.whl (20 kB)\r\nCollecting jiter<1,>=0.4.0\r\n  Downloading jiter-0.8.2-cp39-cp39-manylinux_2_17_x86_64.manylinux2014_x86_64.whl (345 kB)\r\n\u001B[?25l\r\u001B[K     |█                               | 10 kB 20.4 MB/s eta 0:00:01\r\u001B[K     |██                              | 20 kB 25.6 MB/s eta 0:00:01\r\u001B[K     |██▉                             | 30 kB 31.8 MB/s eta 0:00:01\r\u001B[K     |███▉                            | 40 kB 36.4 MB/s eta 0:00:01\r\u001B[K     |████▊                           | 51 kB 36.6 MB/s eta 0:00:01\r\u001B[K     |█████▊                          | 61 kB 40.9 MB/s eta 0:00:01\r\u001B[K     |██████▋                         | 71 kB 45.0 MB/s eta 0:00:01\r\u001B[K     |███████▋                        | 81 kB 48.8 MB/s eta 0:00:01\r\u001B[K     |████████▌                       | 92 kB 51.9 MB/s eta 0:00:01\r\u001B[K     |█████████▌                      | 102 kB 50.7 MB/s eta 0:00:01\r\u001B[K     |██████████▍                     | 112 kB 50.7 MB/s eta 0:00:01\r\u001B[K     |███████████▍                    | 122 kB 50.7 MB/s eta 0:00:01\r\u001B[K     |████████████▎                   | 133 kB 50.7 MB/s eta 0:00:01\r\u001B[K     |█████████████▎                  | 143 kB 50.7 MB/s eta 0:00:01\r\u001B[K     |██████████████▎                 | 153 kB 50.7 MB/s eta 0:00:01\r\u001B[K     |███████████████▏                | 163 kB 50.7 MB/s eta 0:00:01\r\u001B[K     |████████████████▏               | 174 kB 50.7 MB/s eta 0:00:01\r\u001B[K     |█████████████████               | 184 kB 50.7 MB/s eta 0:00:01\r\u001B[K     |██████████████████              | 194 kB 50.7 MB/s eta 0:00:01\r\u001B[K     |███████████████████             | 204 kB 50.7 MB/s eta 0:00:01\r\u001B[K     |████████████████████            | 215 kB 50.7 MB/s eta 0:00:01\r\u001B[K     |████████████████████▉           | 225 kB 50.7 MB/s eta 0:00:01\r\u001B[K     |█████████████████████▉          | 235 kB 50.7 MB/s eta 0:00:01\r\u001B[K     |██████████████████████▊         | 245 kB 50.7 MB/s eta 0:00:01\r\u001B[K     |███████████████████████▊        | 256 kB 50.7 MB/s eta 0:00:01\r\u001B[K     |████████████████████████▋       | 266 kB 50.7 MB/s eta 0:00:01\r\u001B[K     |█████████████████████████▋      | 276 kB 50.7 MB/s eta 0:00:01\r\u001B[K     |██████████████████████████▌     | 286 kB 50.7 MB/s eta 0:00:01\r\u001B[K     |███████████████████████████▌    | 296 kB 50.7 MB/s eta 0:00:01\r\u001B[K     |████████████████████████████▌   | 307 kB 50.7 MB/s eta 0:00:01\r\u001B[K     |█████████████████████████████▍  | 317 kB 50.7 MB/s eta 0:00:01\r\u001B[K     |██████████████████████████████▍ | 327 kB 50.7 MB/s eta 0:00:01\r\u001B[K     |███████████████████████████████▎| 337 kB 50.7 MB/s eta 0:00:01\r\u001B[K     |████████████████████████████████| 345 kB 50.7 MB/s \r\n\u001B[?25hCollecting sniffio\r\n  Downloading sniffio-1.3.1-py3-none-any.whl (10 kB)\r\nCollecting tqdm>4\r\n  Downloading tqdm-4.67.1-py3-none-any.whl (78 kB)\r\n\u001B[?25l\r\u001B[K     |████▏                           | 10 kB 46.0 MB/s eta 0:00:01\r\u001B[K     |████████▍                       | 20 kB 54.7 MB/s eta 0:00:01\r\u001B[K     |████████████▌                   | 30 kB 64.1 MB/s eta 0:00:01\r\u001B[K     |████████████████▊               | 40 kB 41.8 MB/s eta 0:00:01\r\u001B[K     |████████████████████▉           | 51 kB 47.7 MB/s eta 0:00:01\r\u001B[K     |█████████████████████████       | 61 kB 54.5 MB/s eta 0:00:01\r\u001B[K     |█████████████████████████████▏  | 71 kB 60.0 MB/s eta 0:00:01\r\u001B[K     |████████████████████████████████| 78 kB 10.5 MB/s \r\n\u001B[?25hCollecting pydantic<3,>=1.9.0\r\n  Downloading pydantic-2.10.5-py3-none-any.whl (431 kB)\r\n\u001B[?25l\r\u001B[K     |▊                               | 10 kB 25.9 MB/s eta 0:00:01\r\u001B[K     |█▌                              | 20 kB 36.3 MB/s eta 0:00:01\r\u001B[K     |██▎                             | 30 kB 42.1 MB/s eta 0:00:01\r\u001B[K     |███                             | 40 kB 47.8 MB/s eta 0:00:01\r\u001B[K     |███▉                            | 51 kB 54.3 MB/s eta 0:00:01\r\u001B[K     |████▋                           | 61 kB 60.0 MB/s eta 0:00:01\r\u001B[K     |█████▎                          | 71 kB 63.2 MB/s eta 0:00:01\r\u001B[K     |██████                          | 81 kB 64.6 MB/s eta 0:00:01\r\u001B[K     |██████▉                         | 92 kB 54.1 MB/s eta 0:00:01\r\u001B[K     |███████▋                        | 102 kB 57.0 MB/s eta 0:00:01\r\u001B[K     |████████▍                       | 112 kB 57.0 MB/s eta 0:00:01\r\u001B[K     |█████████▏                      | 122 kB 57.0 MB/s eta 0:00:01\r\u001B[K     |█████████▉                      | 133 kB 57.0 MB/s eta 0:00:01\r\u001B[K     |██████████▋                     | 143 kB 57.0 MB/s eta 0:00:01\r\u001B[K     |███████████▍                    | 153 kB 57.0 MB/s eta 0:00:01\r\u001B[K     |████████████▏                   | 163 kB 57.0 MB/s eta 0:00:01\r\u001B[K     |█████████████                   | 174 kB 57.0 MB/s eta 0:00:01\r\u001B[K     |█████████████▊                  | 184 kB 57.0 MB/s eta 0:00:01\r\u001B[K     |██████████████▍                 | 194 kB 57.0 MB/s eta 0:00:01\r\u001B[K     |███████████████▏                | 204 kB 57.0 MB/s eta 0:00:01\r\u001B[K     |████████████████                | 215 kB 57.0 MB/s eta 0:00:01\r\u001B[K     |████████████████▊               | 225 kB 57.0 MB/s eta 0:00:01\r\u001B[K     |█████████████████▌              | 235 kB 57.0 MB/s eta 0:00:01\r\u001B[K     |██████████████████▎             | 245 kB 57.0 MB/s eta 0:00:01\r\u001B[K     |███████████████████             | 256 kB 57.0 MB/s eta 0:00:01\r\u001B[K     |███████████████████▊            | 266 kB 57.0 MB/s eta 0:00:01\r\u001B[K     |████████████████████▌           | 276 kB 57.0 MB/s eta 0:00:01\r\u001B[K     |█████████████████████▎          | 286 kB 57.0 MB/s eta 0:00:01\r\u001B[K     |██████████████████████          | 296 kB 57.0 MB/s eta 0:00:01\r\u001B[K     |██████████████████████▉         | 307 kB 57.0 MB/s eta 0:00:01\r\u001B[K     |███████████████████████▌        | 317 kB 57.0 MB/s eta 0:00:01\r\u001B[K     |████████████████████████▎       | 327 kB 57.0 MB/s eta 0:00:01\r\u001B[K     |█████████████████████████       | 337 kB 57.0 MB/s eta 0:00:01\r\u001B[K     |█████████████████████████▉      | 348 kB 57.0 MB/s eta 0:00:01\r\u001B[K     |██████████████████████████▋     | 358 kB 57.0 MB/s eta 0:00:01\r\u001B[K     |███████████████████████████▍    | 368 kB 57.0 MB/s eta 0:00:01\r\u001B[K     |████████████████████████████    | 378 kB 57.0 MB/s eta 0:00:01\r\u001B[K     |████████████████████████████▉   | 389 kB 57.0 MB/s eta 0:00:01\r\u001B[K     |█████████████████████████████▋  | 399 kB 57.0 MB/s eta 0:00:01\r\u001B[K     |██████████████████████████████▍ | 409 kB 57.0 MB/s eta 0:00:01\r\u001B[K     |███████████████████████████████▏| 419 kB 57.0 MB/s eta 0:00:01\r\u001B[K     |████████████████████████████████| 430 kB 57.0 MB/s eta 0:00:01\r\u001B[K     |████████████████████████████████| 431 kB 57.0 MB/s \r\n\u001B[?25hCollecting anyio<5,>=3.5.0\r\n  Downloading anyio-4.8.0-py3-none-any.whl (96 kB)\r\n\u001B[?25l\r\u001B[K     |███▍                            | 10 kB 68.0 MB/s eta 0:00:01\r\u001B[K     |██████▉                         | 20 kB 78.1 MB/s eta 0:00:01\r\u001B[K     |██████████▎                     | 30 kB 93.7 MB/s eta 0:00:01\r\u001B[K     |█████████████▋                  | 40 kB 101.0 MB/s eta 0:00:01\r\u001B[K     |█████████████████               | 51 kB 104.5 MB/s eta 0:00:01\r\u001B[K     |████████████████████▌           | 61 kB 112.8 MB/s eta 0:00:01\r\u001B[K     |███████████████████████▉        | 71 kB 116.3 MB/s eta 0:00:01\r\u001B[K     |███████████████████████████▎    | 81 kB 112.7 MB/s eta 0:00:01\r\u001B[K     |██████████████████████████████▊ | 92 kB 114.3 MB/s eta 0:00:01\r\u001B[K     |████████████████████████████████| 96 kB 7.4 MB/s \r\n\u001B[?25hCollecting exceptiongroup>=1.0.2\r\n  Downloading exceptiongroup-1.2.2-py3-none-any.whl (16 kB)\r\nRequirement already satisfied: idna>=2.8 in /databricks/python3/lib/python3.9/site-packages (from anyio<5,>=3.5.0->openai<2.0.0,>=1.0.0) (3.3)\r\nRequirement already satisfied: certifi in /databricks/python3/lib/python3.9/site-packages (from httpx<1,>=0.23.0->openai<2.0.0,>=1.0.0) (2021.10.8)\r\nCollecting httpcore==1.*\r\n  Downloading httpcore-1.0.7-py3-none-any.whl (78 kB)\r\n\u001B[?25l\r\u001B[K     |████▏                           | 10 kB 51.6 MB/s eta 0:00:01\r\u001B[K     |████████▍                       | 20 kB 14.6 MB/s eta 0:00:01\r\u001B[K     |████████████▌                   | 30 kB 20.4 MB/s eta 0:00:01\r\u001B[K     |████████████████▊               | 40 kB 25.4 MB/s eta 0:00:01\r\u001B[K     |████████████████████▉           | 51 kB 30.2 MB/s eta 0:00:01\r\u001B[K     |█████████████████████████       | 61 kB 35.2 MB/s eta 0:00:01\r\u001B[K     |█████████████████████████████▏  | 71 kB 39.9 MB/s eta 0:00:01\r\u001B[K     |████████████████████████████████| 78 kB 10.2 MB/s \r\n\u001B[?25hCollecting h11<0.15,>=0.13\r\n  Downloading h11-0.14.0-py3-none-any.whl (58 kB)\r\n\u001B[?25l\r\u001B[K     |█████▋                          | 10 kB 36.4 MB/s eta 0:00:01\r\u001B[K     |███████████▎                    | 20 kB 29.4 MB/s eta 0:00:01\r\u001B[K     |████████████████▉               | 30 kB 35.3 MB/s eta 0:00:01\r\u001B[K     |██████████████████████▌         | 40 kB 39.1 MB/s eta 0:00:01\r\u001B[K     |████████████████████████████▏   | 51 kB 41.4 MB/s eta 0:00:01\r\u001B[K     |████████████████████████████████| 58 kB 4.6 MB/s \r\n\u001B[?25hCollecting annotated-types>=0.6.0\r\n  Downloading annotated_types-0.7.0-py3-none-any.whl (13 kB)\r\nCollecting pydantic-core==2.27.2\r\n  Downloading pydantic_core-2.27.2-cp39-cp39-manylinux_2_17_x86_64.manylinux2014_x86_64.whl (2.0 MB)\r\n\u001B[?25l\r\u001B[K     |▏                               | 10 kB 25.6 MB/s eta 0:00:01\r\u001B[K     |▎                               | 20 kB 32.6 MB/s eta 0:00:01\r\u001B[K     |▌                               | 30 kB 41.6 MB/s eta 0:00:01\r\u001B[K     |▋                               | 40 kB 45.5 MB/s eta 0:00:01\r\u001B[K     |▉                               | 51 kB 49.3 MB/s eta 0:00:01\r\u001B[K     |█                               | 61 kB 54.2 MB/s eta 0:00:01\r\u001B[K     |█▏                              | 71 kB 56.4 MB/s eta 0:00:01\r\u001B[K     |█▎                              | 81 kB 59.3 MB/s eta 0:00:01\r\u001B[K     |█▌                              | 92 kB 50.1 MB/s eta 0:00:01\r\u001B[K     |█▋                              | 102 kB 52.1 MB/s eta 0:00:01\r\u001B[K     |█▉                              | 112 kB 52.1 MB/s eta 0:00:01\r\u001B[K     |██                              | 122 kB 52.1 MB/s eta 0:00:01\r\u001B[K     |██▏                             | 133 kB 52.1 MB/s eta 0:00:01\r\u001B[K     |██▎                             | 143 kB 52.1 MB/s eta 0:00:01\r\u001B[K     |██▌                             | 153 kB 52.1 MB/s eta 0:00:01\r\u001B[K     |██▋                             | 163 kB 52.1 MB/s eta 0:00:01\r\u001B[K     |██▉                             | 174 kB 52.1 MB/s eta 0:00:01\r\u001B[K     |███                             | 184 kB 52.1 MB/s eta 0:00:01\r\u001B[K     |███▏                            | 194 kB 52.1 MB/s eta 0:00:01\r\u001B[K     |███▎                            | 204 kB 52.1 MB/s eta 0:00:01\r\u001B[K     |███▌                            | 215 kB 52.1 MB/s eta 0:00:01\r\u001B[K     |███▋                            | 225 kB 52.1 MB/s eta 0:00:01\r\u001B[K     |███▊                            | 235 kB 52.1 MB/s eta 0:00:01\r\u001B[K     |████                            | 245 kB 52.1 MB/s eta 0:00:01\r\u001B[K     |████                            | 256 kB 52.1 MB/s eta 0:00:01\r\u001B[K     |████▎                           | 266 kB 52.1 MB/s eta 0:00:01\r\u001B[K     |████▍                           | 276 kB 52.1 MB/s eta 0:00:01\r\u001B[K     |████▋                           | 286 kB 52.1 MB/s eta 0:00:01\r\u001B[K     |████▊                           | 296 kB 52.1 MB/s eta 0:00:01\r\u001B[K     |█████                           | 307 kB 52.1 MB/s eta 0:00:01\r\u001B[K     |█████                           | 317 kB 52.1 MB/s eta 0:00:01\r\u001B[K     |█████▎                          | 327 kB 52.1 MB/s eta 0:00:01\r\u001B[K     |█████▍                          | 337 kB 52.1 MB/s eta 0:00:01\r\u001B[K     |█████▋                          | 348 kB 52.1 MB/s eta 0:00:01\r\u001B[K     |█████▊                          | 358 kB 52.1 MB/s eta 0:00:01\r\u001B[K     |██████                          | 368 kB 52.1 MB/s eta 0:00:01\r\u001B[K     |██████                          | 378 kB 52.1 MB/s eta 0:00:01\r\u001B[K     |██████▎                         | 389 kB 52.1 MB/s eta 0:00:01\r\u001B[K     |██████▍                         | 399 kB 52.1 MB/s eta 0:00:01\r\u001B[K     |██████▋                         | 409 kB 52.1 MB/s eta 0:00:01\r\u001B[K     |██████▊                         | 419 kB 52.1 MB/s eta 0:00:01\r\u001B[K     |███████                         | 430 kB 52.1 MB/s eta 0:00:01\r\u001B[K     |███████                         | 440 kB 52.1 MB/s eta 0:00:01\r\u001B[K     |███████▎                        | 450 kB 52.1 MB/s eta 0:00:01\r\u001B[K     |███████▍                        | 460 kB 52.1 MB/s eta 0:00:01\r\u001B[K     |███████▌                        | 471 kB 52.1 MB/s eta 0:00:01\r\u001B[K     |███████▊                        | 481 kB 52.1 MB/s eta 0:00:01\r\u001B[K     |███████▉                        | 491 kB 52.1 MB/s eta 0:00:01\r\u001B[K     |████████                        | 501 kB 52.1 MB/s eta 0:00:01\r\u001B[K     |████████▏                       | 512 kB 52.1 MB/s eta 0:00:01\r\u001B[K     |████████▍                       | 522 kB 52.1 MB/s eta 0:00:01\r\u001B[K     |████████▌                       | 532 kB 52.1 MB/s eta 0:00:01\r\u001B[K     |████████▊                       | 542 kB 52.1 MB/s eta 0:00:01\r\u001B[K     |████████▉                       | 552 kB 52.1 MB/s eta 0:00:01\r\u001B[K     |█████████                       | 563 kB 52.1 MB/s eta 0:00:01\r\u001B[K     |█████████▏                      | 573 kB 52.1 MB/s eta 0:00:01\r\u001B[K     |█████████▍                      | 583 kB 52.1 MB/s eta 0:00:01\r\u001B[K     |█████████▌                      | 593 kB 52.1 MB/s eta 0:00:01\r\u001B[K     |█████████▊                      | 604 kB 52.1 MB/s eta 0:00:01\r\u001B[K     |█████████▉                      | 614 kB 52.1 MB/s eta 0:00:01\r\u001B[K     |██████████                      | 624 kB 52.1 MB/s eta 0:00:01\r\u001B[K     |██████████▏                     | 634 kB 52.1 MB/s eta 0:00:01\r\u001B[K     |██████████▍                     | 645 kB 52.1 MB/s eta 0:00:01\r\u001B[K     |██████████▌                     | 655 kB 52.1 MB/s eta 0:00:01\r\u001B[K     |██████████▊                     | 665 kB 52.1 MB/s eta 0:00:01\r\u001B[K     |██████████▉                     | 675 kB 52.1 MB/s eta 0:00:01\r\u001B[K     |███████████                     | 686 kB 52.1 MB/s eta 0:00:01\r\u001B[K     |███████████▏                    | 696 kB 52.1 MB/s eta 0:00:01\r\u001B[K     |███████████▎                    | 706 kB 52.1 MB/s eta 0:00:01\r\u001B[K     |███████████▌                    | 716 kB 52.1 MB/s eta 0:00:01\r\u001B[K     |███████████▋                    | 727 kB 52.1 MB/s eta 0:00:01\r\u001B[K     |███████████▉                    | 737 kB 52.1 MB/s eta 0:00:01\r\u001B[K     |████████████                    | 747 kB 52.1 MB/s eta 0:00:01\r\u001B[K     |████████████▏                   | 757 kB 52.1 MB/s eta 0:00:01\r\u001B[K     |████████████▎                   | 768 kB 52.1 MB/s eta 0:00:01\r\u001B[K     |████████████▌                   | 778 kB 52.1 MB/s eta 0:00:01\r\u001B[K     |████████████▋                   | 788 kB 52.1 MB/s eta 0:00:01\r\u001B[K     |████████████▉                   | 798 kB 52.1 MB/s eta 0:00:01\r\u001B[K     |█████████████                   | 808 kB 52.1 MB/s eta 0:00:01\r\u001B[K     |█████████████▏                  | 819 kB 52.1 MB/s eta 0:00:01\r\u001B[K     |█████████████▎                  | 829 kB 52.1 MB/s eta 0:00:01\r\u001B[K     |█████████████▌                  | 839 kB 52.1 MB/s eta 0:00:01\r\u001B[K     |█████████████▋                  | 849 kB 52.1 MB/s eta 0:00:01\r\u001B[K     |█████████████▉                  | 860 kB 52.1 MB/s eta 0:00:01\r\u001B[K     |██████████████                  | 870 kB 52.1 MB/s eta 0:00:01\r\u001B[K     |██████████████▏                 | 880 kB 52.1 MB/s eta 0:00:01\r\u001B[K     |██████████████▎                 | 890 kB 52.1 MB/s eta 0:00:01\r\u001B[K     |██████████████▌                 | 901 kB 52.1 MB/s eta 0:00:01\r\u001B[K     |██████████████▋                 | 911 kB 52.1 MB/s eta 0:00:01\r\u001B[K     |██████████████▊                 | 921 kB 52.1 MB/s eta 0:00:01\r\u001B[K     |███████████████                 | 931 kB 52.1 MB/s eta 0:00:01\r\u001B[K     |███████████████                 | 942 kB 52.1 MB/s eta 0:00:01\r\u001B[K     |███████████████▎                | 952 kB 52.1 MB/s eta 0:00:01\r\u001B[K     |███████████████▍                | 962 kB 52.1 MB/s eta 0:00:01\r\u001B[K     |███████████████▋                | 972 kB 52.1 MB/s eta 0:00:01\r\u001B[K     |███████████████▊                | 983 kB 52.1 MB/s eta 0:00:01\r\u001B[K     |████████████████                | 993 kB 52.1 MB/s eta 0:00:01\r\u001B[K     |████████████████                | 1.0 MB 52.1 MB/s eta 0:00:01\r\u001B[K     |████████████████▎               | 1.0 MB 52.1 MB/s eta 0:00:01\r\u001B[K     |████████████████▍               | 1.0 MB 52.1 MB/s eta 0:00:01\r\u001B[K     |████████████████▋               | 1.0 MB 52.1 MB/s eta 0:00:01\r\u001B[K     |████████████████▊               | 1.0 MB 52.1 MB/s eta 0:00:01\r\u001B[K     |█████████████████               | 1.1 MB 52.1 MB/s eta 0:00:01\r\u001B[K     |█████████████████               | 1.1 MB 52.1 MB/s eta 0:00:01\r\u001B[K     |█████████████████▎              | 1.1 MB 52.1 MB/s eta 0:00:01\r\u001B[K     |█████████████████▍              | 1.1 MB 52.1 MB/s eta 0:00:01\r\u001B[K     |█████████████████▋              | 1.1 MB 52.1 MB/s eta 0:00:01\r\u001B[K     |█████████████████▊              | 1.1 MB 52.1 MB/s eta 0:00:01\r\u001B[K     |██████████████████              | 1.1 MB 52.1 MB/s eta 0:00:01\r\u001B[K     |██████████████████              | 1.1 MB 52.1 MB/s eta 0:00:01\r\u001B[K     |██████████████████▎             | 1.1 MB 52.1 MB/s eta 0:00:01\r\u001B[K     |██████████████████▍             | 1.1 MB 52.1 MB/s eta 0:00:01\r\u001B[K     |██████████████████▌             | 1.2 MB 52.1 MB/s eta 0:00:01\r\u001B[K     |██████████████████▊             | 1.2 MB 52.1 MB/s eta 0:00:01\r\u001B[K     |██████████████████▉             | 1.2 MB 52.1 MB/s eta 0:00:01\r\u001B[K     |███████████████████             | 1.2 MB 52.1 MB/s eta 0:00:01\r\u001B[K     |███████████████████▏            | 1.2 MB 52.1 MB/s eta 0:00:01\r\u001B[K     |███████████████████▍            | 1.2 MB 52.1 MB/s eta 0:00:01\r\u001B[K     |███████████████████▌            | 1.2 MB 52.1 MB/s eta 0:00:01\r\u001B[K     |███████████████████▊            | 1.2 MB 52.1 MB/s eta 0:00:01\r\u001B[K     |███████████████████▉            | 1.2 MB 52.1 MB/s eta 0:00:01\r\u001B[K     |████████████████████            | 1.2 MB 52.1 MB/s eta 0:00:01\r\u001B[K     |████████████████████▏           | 1.3 MB 52.1 MB/s eta 0:00:01\r\u001B[K     |████████████████████▍           | 1.3 MB 52.1 MB/s eta 0:00:01\r\u001B[K     |████████████████████▌           | 1.3 MB 52.1 MB/s eta 0:00:01\r\u001B[K     |████████████████████▊           | 1.3 MB 52.1 MB/s eta 0:00:01\r\u001B[K     |████████████████████▉           | 1.3 MB 52.1 MB/s eta 0:00:01\r\u001B[K     |█████████████████████           | 1.3 MB 52.1 MB/s eta 0:00:01\r\u001B[K     |█████████████████████▏          | 1.3 MB 52.1 MB/s eta 0:00:01\r\u001B[K     |█████████████████████▍          | 1.3 MB 52.1 MB/s eta 0:00:01\r\u001B[K     |█████████████████████▌          | 1.3 MB 52.1 MB/s eta 0:00:01\r\u001B[K     |█████████████████████▊          | 1.4 MB 52.1 MB/s eta 0:00:01\r\u001B[K     |█████████████████████▉          | 1.4 MB 52.1 MB/s eta 0:00:01\r\u001B[K     |██████████████████████          | 1.4 MB 52.1 MB/s eta 0:00:01\r\u001B[K     |██████████████████████▏         | 1.4 MB 52.1 MB/s eta 0:00:01\r\u001B[K     |██████████████████████▎         | 1.4 MB 52.1 MB/s eta 0:00:01\r\u001B[K     |██████████████████████▌         | 1.4 MB 52.1 MB/s eta 0:00:01\r\u001B[K     |██████████████████████▋         | 1.4 MB 52.1 MB/s eta 0:00:01\r\u001B[K     |██████████████████████▉         | 1.4 MB 52.1 MB/s eta 0:00:01\r\u001B[K     |███████████████████████         | 1.4 MB 52.1 MB/s eta 0:00:01\r\u001B[K     |███████████████████████▏        | 1.4 MB 52.1 MB/s eta 0:00:01\r\u001B[K     |███████████████████████▎        | 1.5 MB 52.1 MB/s eta 0:00:01\r\u001B[K     |███████████████████████▌        | 1.5 MB 52.1 MB/s eta 0:00:01\r\u001B[K     |███████████████████████▋        | 1.5 MB 52.1 MB/s eta 0:00:01\r\u001B[K     |███████████████████████▉        | 1.5 MB 52.1 MB/s eta 0:00:01\r\u001B[K     |████████████████████████        | 1.5 MB 52.1 MB/s eta 0:00:01\r\u001B[K     |████████████████████████▏       | 1.5 MB 52.1 MB/s eta 0:00:01\r\u001B[K     |████████████████████████▎       | 1.5 MB 52.1 MB/s eta 0:00:01\r\u001B[K     |████████████████████████▌       | 1.5 MB 52.1 MB/s eta 0:00:01\r\u001B[K     |████████████████████████▋       | 1.5 MB 52.1 MB/s eta 0:00:01\r\u001B[K     |████████████████████████▉       | 1.5 MB 52.1 MB/s eta 0:00:01\r\u001B[K     |█████████████████████████       | 1.6 MB 52.1 MB/s eta 0:00:01\r\u001B[K     |█████████████████████████▏      | 1.6 MB 52.1 MB/s eta 0:00:01\r\u001B[K     |█████████████████████████▎      | 1.6 MB 52.1 MB/s eta 0:00:01\r\u001B[K     |█████████████████████████▌      | 1.6 MB 52.1 MB/s eta 0:00:01\r\u001B[K     |█████████████████████████▋      | 1.6 MB 52.1 MB/s eta 0:00:01\r\u001B[K     |█████████████████████████▉      | 1.6 MB 52.1 MB/s eta 0:00:01\r\u001B[K     |██████████████████████████      | 1.6 MB 52.1 MB/s eta 0:00:01\r\u001B[K     |██████████████████████████      | 1.6 MB 52.1 MB/s eta 0:00:01\r\u001B[K     |██████████████████████████▎     | 1.6 MB 52.1 MB/s eta 0:00:01\r\u001B[K     |██████████████████████████▍     | 1.6 MB 52.1 MB/s eta 0:00:01\r\u001B[K     |██████████████████████████▋     | 1.7 MB 52.1 MB/s eta 0:00:01\r\u001B[K     |██████████████████████████▊     | 1.7 MB 52.1 MB/s eta 0:00:01\r\u001B[K     |███████████████████████████     | 1.7 MB 52.1 MB/s eta 0:00:01\r\u001B[K     |███████████████████████████     | 1.7 MB 52.1 MB/s eta 0:00:01\r\u001B[K     |███████████████████████████▎    | 1.7 MB 52.1 MB/s eta 0:00:01\r\u001B[K     |███████████████████████████▍    | 1.7 MB 52.1 MB/s eta 0:00:01\r\u001B[K     |███████████████████████████▋    | 1.7 MB 52.1 MB/s eta 0:00:01\r\u001B[K     |███████████████████████████▊    | 1.7 MB 52.1 MB/s eta 0:00:01\r\u001B[K     |████████████████████████████    | 1.7 MB 52.1 MB/s eta 0:00:01\r\u001B[K     |████████████████████████████    | 1.8 MB 52.1 MB/s eta 0:00:01\r\u001B[K     |████████████████████████████▎   | 1.8 MB 52.1 MB/s eta 0:00:01\r\u001B[K     |████████████████████████████▍   | 1.8 MB 52.1 MB/s eta 0:00:01\r\u001B[K     |████████████████████████████▋   | 1.8 MB 52.1 MB/s eta 0:00:01\r\u001B[K     |████████████████████████████▊   | 1.8 MB 52.1 MB/s eta 0:00:01\r\u001B[K     |█████████████████████████████   | 1.8 MB 52.1 MB/s eta 0:00:01\r\u001B[K     |█████████████████████████████   | 1.8 MB 52.1 MB/s eta 0:00:01\r\u001B[K     |█████████████████████████████▎  | 1.8 MB 52.1 MB/s eta 0:00:01\r\u001B[K     |█████████████████████████████▍  | 1.8 MB 52.1 MB/s eta 0:00:01\r\u001B[K     |█████████████████████████████▌  | 1.8 MB 52.1 MB/s eta 0:00:01\r\u001B[K     |█████████████████████████████▊  | 1.9 MB 52.1 MB/s eta 0:00:01\r\u001B[K     |█████████████████████████████▉  | 1.9 MB 52.1 MB/s eta 0:00:01\r\u001B[K     |██████████████████████████████  | 1.9 MB 52.1 MB/s eta 0:00:01\r\u001B[K     |██████████████████████████████▏ | 1.9 MB 52.1 MB/s eta 0:00:01\r\u001B[K     |██████████████████████████████▍ | 1.9 MB 52.1 MB/s eta 0:00:01\r\u001B[K     |██████████████████████████████▌ | 1.9 MB 52.1 MB/s eta 0:00:01\r\u001B[K     |██████████████████████████████▊ | 1.9 MB 52.1 MB/s eta 0:00:01\r\u001B[K     |██████████████████████████████▉ | 1.9 MB 52.1 MB/s eta 0:00:01\r\u001B[K     |███████████████████████████████ | 1.9 MB 52.1 MB/s eta 0:00:01\r\u001B[K     |███████████████████████████████▏| 1.9 MB 52.1 MB/s eta 0:00:01\r\u001B[K     |███████████████████████████████▍| 2.0 MB 52.1 MB/s eta 0:00:01\r\u001B[K     |███████████████████████████████▌| 2.0 MB 52.1 MB/s eta 0:00:01\r\u001B[K     |███████████████████████████████▊| 2.0 MB 52.1 MB/s eta 0:00:01\r\u001B[K     |███████████████████████████████▉| 2.0 MB 52.1 MB/s eta 0:00:01\r\u001B[K     |████████████████████████████████| 2.0 MB 52.1 MB/s \r\n\u001B[?25hInstalling collected packages: typing-extensions, sniffio, h11, exceptiongroup, pydantic-core, httpcore, anyio, annotated-types, tqdm, pydantic, jiter, httpx, distro, openai\r\n  Attempting uninstall: typing-extensions\r\n    Found existing installation: typing-extensions 4.1.1\r\n    Not uninstalling typing-extensions at /databricks/python3/lib/python3.9/site-packages, outside environment /local_disk0/.ephemeral_nfs/envs/pythonEnv-b7b53b4a-ad58-40fd-bca2-c069a31f0340\r\n    Can't uninstall 'typing-extensions'. No files were found to uninstall.\r\n  Attempting uninstall: distro\r\n    Found existing installation: distro 1.4.0\r\n    Not uninstalling distro at /usr/lib/python3/dist-packages, outside environment /local_disk0/.ephemeral_nfs/envs/pythonEnv-b7b53b4a-ad58-40fd-bca2-c069a31f0340\r\n    Can't uninstall 'distro'. No files were found to uninstall.\r\nSuccessfully installed annotated-types-0.7.0 anyio-4.8.0 distro-1.9.0 exceptiongroup-1.2.2 h11-0.14.0 httpcore-1.0.7 httpx-0.28.1 jiter-0.8.2 openai-1.59.7 pydantic-2.10.5 pydantic-core-2.27.2 sniffio-1.3.1 tqdm-4.67.1 typing-extensions-4.12.2\r\n\u001B[33mWARNING: You are using pip version 21.2.4; however, version 24.3.1 is available.\r\nYou should consider upgrading via the '/local_disk0/.ephemeral_nfs/envs/pythonEnv-b7b53b4a-ad58-40fd-bca2-c069a31f0340/bin/python -m pip install --upgrade pip' command.\u001B[0m\r\nCollecting python-dotenv\r\n  Downloading python_dotenv-1.0.1-py3-none-any.whl (19 kB)\r\nInstalling collected packages: python-dotenv\r\nSuccessfully installed python-dotenv-1.0.1\r\n\u001B[33mWARNING: You are using pip version 21.2.4; however, version 24.3.1 is available.\r\nYou should consider upgrading via the '/local_disk0/.ephemeral_nfs/envs/pythonEnv-b7b53b4a-ad58-40fd-bca2-c069a31f0340/bin/python -m pip install --upgrade pip' command.\u001B[0m\r\n"
     ]
    }
   ],
   "source": [
    "! pip install \"openai>=1.0.0,<2.0.0\"\n",
    "! pip install python-dotenv"
   ]
  },
  {
   "cell_type": "code",
   "execution_count": 0,
   "metadata": {
    "application/vnd.databricks.v1+cell": {
     "cellMetadata": {
      "byteLimit": 2048000,
      "rowLimit": 10000
     },
     "inputWidgets": {},
     "nuid": "bcf380ff-7af7-4bfc-a5db-3e9a7696b1fd",
     "showTitle": false,
     "tableResultSettingsMap": {},
     "title": ""
    }
   },
   "outputs": [
    {
     "output_type": "stream",
     "name": "stdout",
     "output_type": "stream",
     "text": [
      "Python interpreter will be restarted.\nRequirement already satisfied: openai in /local_disk0/.ephemeral_nfs/envs/pythonEnv-b7b53b4a-ad58-40fd-bca2-c069a31f0340/lib/python3.9/site-packages (1.59.7)\nRequirement already satisfied: typing-extensions<5,>=4.11 in /local_disk0/.ephemeral_nfs/envs/pythonEnv-b7b53b4a-ad58-40fd-bca2-c069a31f0340/lib/python3.9/site-packages (from openai) (4.12.2)\nRequirement already satisfied: httpx<1,>=0.23.0 in /local_disk0/.ephemeral_nfs/envs/pythonEnv-b7b53b4a-ad58-40fd-bca2-c069a31f0340/lib/python3.9/site-packages (from openai) (0.28.1)\nRequirement already satisfied: distro<2,>=1.7.0 in /local_disk0/.ephemeral_nfs/envs/pythonEnv-b7b53b4a-ad58-40fd-bca2-c069a31f0340/lib/python3.9/site-packages (from openai) (1.9.0)\nRequirement already satisfied: jiter<1,>=0.4.0 in /local_disk0/.ephemeral_nfs/envs/pythonEnv-b7b53b4a-ad58-40fd-bca2-c069a31f0340/lib/python3.9/site-packages (from openai) (0.8.2)\nRequirement already satisfied: sniffio in /local_disk0/.ephemeral_nfs/envs/pythonEnv-b7b53b4a-ad58-40fd-bca2-c069a31f0340/lib/python3.9/site-packages (from openai) (1.3.1)\nRequirement already satisfied: tqdm>4 in /local_disk0/.ephemeral_nfs/envs/pythonEnv-b7b53b4a-ad58-40fd-bca2-c069a31f0340/lib/python3.9/site-packages (from openai) (4.67.1)\nRequirement already satisfied: pydantic<3,>=1.9.0 in /local_disk0/.ephemeral_nfs/envs/pythonEnv-b7b53b4a-ad58-40fd-bca2-c069a31f0340/lib/python3.9/site-packages (from openai) (2.10.5)\nRequirement already satisfied: anyio<5,>=3.5.0 in /local_disk0/.ephemeral_nfs/envs/pythonEnv-b7b53b4a-ad58-40fd-bca2-c069a31f0340/lib/python3.9/site-packages (from openai) (4.8.0)\nRequirement already satisfied: exceptiongroup>=1.0.2 in /local_disk0/.ephemeral_nfs/envs/pythonEnv-b7b53b4a-ad58-40fd-bca2-c069a31f0340/lib/python3.9/site-packages (from anyio<5,>=3.5.0->openai) (1.2.2)\nRequirement already satisfied: idna>=2.8 in /databricks/python3/lib/python3.9/site-packages (from anyio<5,>=3.5.0->openai) (3.3)\nRequirement already satisfied: certifi in /databricks/python3/lib/python3.9/site-packages (from httpx<1,>=0.23.0->openai) (2021.10.8)\nRequirement already satisfied: httpcore==1.* in /local_disk0/.ephemeral_nfs/envs/pythonEnv-b7b53b4a-ad58-40fd-bca2-c069a31f0340/lib/python3.9/site-packages (from httpx<1,>=0.23.0->openai) (1.0.7)\nRequirement already satisfied: h11<0.15,>=0.13 in /local_disk0/.ephemeral_nfs/envs/pythonEnv-b7b53b4a-ad58-40fd-bca2-c069a31f0340/lib/python3.9/site-packages (from httpcore==1.*->httpx<1,>=0.23.0->openai) (0.14.0)\nRequirement already satisfied: annotated-types>=0.6.0 in /local_disk0/.ephemeral_nfs/envs/pythonEnv-b7b53b4a-ad58-40fd-bca2-c069a31f0340/lib/python3.9/site-packages (from pydantic<3,>=1.9.0->openai) (0.7.0)\nRequirement already satisfied: pydantic-core==2.27.2 in /local_disk0/.ephemeral_nfs/envs/pythonEnv-b7b53b4a-ad58-40fd-bca2-c069a31f0340/lib/python3.9/site-packages (from pydantic<3,>=1.9.0->openai) (2.27.2)\nPython interpreter will be restarted.\nPython interpreter will be restarted.\nCollecting tiktoken\n  Downloading tiktoken-0.8.0-cp39-cp39-manylinux_2_17_x86_64.manylinux2014_x86_64.whl (1.2 MB)\nRequirement already satisfied: requests>=2.26.0 in /databricks/python3/lib/python3.9/site-packages (from tiktoken) (2.27.1)\nCollecting regex>=2022.1.18\n  Downloading regex-2024.11.6-cp39-cp39-manylinux_2_17_x86_64.manylinux2014_x86_64.whl (780 kB)\nRequirement already satisfied: charset-normalizer~=2.0.0 in /databricks/python3/lib/python3.9/site-packages (from requests>=2.26.0->tiktoken) (2.0.4)\nRequirement already satisfied: idna<4,>=2.5 in /databricks/python3/lib/python3.9/site-packages (from requests>=2.26.0->tiktoken) (3.3)\nRequirement already satisfied: certifi>=2017.4.17 in /databricks/python3/lib/python3.9/site-packages (from requests>=2.26.0->tiktoken) (2021.10.8)\nRequirement already satisfied: urllib3<1.27,>=1.21.1 in /databricks/python3/lib/python3.9/site-packages (from requests>=2.26.0->tiktoken) (1.26.9)\nInstalling collected packages: regex, tiktoken\nSuccessfully installed regex-2024.11.6 tiktoken-0.8.0\nPython interpreter will be restarted.\nPython interpreter will be restarted.\nRequirement already satisfied: python-dotenv in /local_disk0/.ephemeral_nfs/envs/pythonEnv-b7b53b4a-ad58-40fd-bca2-c069a31f0340/lib/python3.9/site-packages (1.0.1)\nPython interpreter will be restarted.\n"
     ]
    }
   ],
   "source": [
    "%pip install openai\n",
    "%pip install tiktoken\n",
    "%pip install python-dotenv"
   ]
  },
  {
   "cell_type": "code",
   "execution_count": 0,
   "metadata": {
    "application/vnd.databricks.v1+cell": {
     "cellMetadata": {
      "byteLimit": 2048000,
      "rowLimit": 10000
     },
     "inputWidgets": {},
     "nuid": "3c258b01-54e1-40b0-9900-cf9e7b824620",
     "showTitle": false,
     "tableResultSettingsMap": {},
     "title": ""
    }
   },
   "outputs": [
    {
     "output_type": "stream",
     "name": "stdout",
     "output_type": "stream",
     "text": [
      "Out[7]: False"
     ]
    }
   ],
   "source": [
    "import os\n",
    "import openai\n",
    "import dotenv\n",
    "from openai import AzureOpenAI\n",
    "dotenv.load_dotenv()"
   ]
  },
  {
   "cell_type": "markdown",
   "metadata": {
    "application/vnd.databricks.v1+cell": {
     "cellMetadata": {},
     "inputWidgets": {},
     "nuid": "ce67ccbf-14bb-4675-ba41-7451754f3dc4",
     "showTitle": false,
     "tableResultSettingsMap": {},
     "title": ""
    }
   },
   "source": [
    "### Authentication\n",
    "\n",
    "The Azure OpenAI service supports multiple authentication mechanisms that include API keys and Azure Active Directory token credentials."
   ]
  },
  {
   "cell_type": "code",
   "execution_count": 0,
   "metadata": {
    "application/vnd.databricks.v1+cell": {
     "cellMetadata": {
      "byteLimit": 2048000,
      "rowLimit": 10000
     },
     "inputWidgets": {},
     "nuid": "ec37449a-4831-4f8f-b50e-3174c64dbf92",
     "showTitle": false,
     "tableResultSettingsMap": {},
     "title": ""
    }
   },
   "outputs": [],
   "source": [
    "use_azure_active_directory = False  # Set this flag to True if you are using Azure Active Directory"
   ]
  },
  {
   "cell_type": "markdown",
   "metadata": {
    "application/vnd.databricks.v1+cell": {
     "cellMetadata": {},
     "inputWidgets": {},
     "nuid": "520a554b-bf38-4c53-ab89-cea87348b477",
     "showTitle": false,
     "tableResultSettingsMap": {},
     "title": ""
    }
   },
   "source": [
    "#### Authentication using API key\n",
    "\n",
    "To set up the OpenAI SDK to use an *Azure API Key*, we need to set `api_key` to a key associated with your endpoint (you can find this key in *\"Keys and Endpoints\"* under *\"Resource Management\"* in the [Azure Portal](https://portal.azure.com)). You'll also find the endpoint for your resource here."
   ]
  },
  {
   "cell_type": "code",
   "execution_count": 0,
   "metadata": {
    "application/vnd.databricks.v1+cell": {
     "cellMetadata": {
      "byteLimit": 2048000,
      "rowLimit": 10000
     },
     "inputWidgets": {},
     "nuid": "2a11d7d7-5b04-4faf-960e-0ba7019aab89",
     "showTitle": false,
     "tableResultSettingsMap": {},
     "title": ""
    }
   },
   "outputs": [],
   "source": [
    "if not use_azure_active_directory:\n",
    "    # Configura las credenciales directamente en el código\n",
    "    os.environ[\"AZURE_OPENAI_ENDPOINT\"] = \"https://openai-tajamar-1.openai.azure.com/\"\n",
    "    os.environ[\"AZURE_OPENAI_API_KEY\"] = \"4aARdXJIMfHXdeqRLZWScUmWYEqongKS8TlwL8qGNYCOqr5UURp0JQQJ99BAACYeBjFXJ3w3AAABACOGcX2N\"\n",
    "\n",
    "    # Crear el cliente con las credenciales\n",
    "    client = AzureOpenAI(\n",
    "        azure_endpoint=os.getenv(\"AZURE_OPENAI_ENDPOINT\"), \n",
    "        api_key=os.getenv(\"AZURE_OPENAI_API_KEY\"),  \n",
    "        api_version=\"2024-02-15-preview\"\n",
    "    )"
   ]
  },
  {
   "cell_type": "markdown",
   "metadata": {
    "application/vnd.databricks.v1+cell": {
     "cellMetadata": {},
     "inputWidgets": {},
     "nuid": "fc153425-2b33-4302-aab2-ade571683009",
     "showTitle": false,
     "tableResultSettingsMap": {},
     "title": ""
    }
   },
   "source": [
    "#### Authentication using Azure Active Directory\n",
    "Let's now see how we can autheticate via Azure Active Directory. We'll start by installing the `azure-identity` library. This library will provide the token credentials we need to authenticate and help us build a token credential provider through the `get_bearer_token_provider` helper function. It's recommended to use `get_bearer_token_provider` over providing a static token to `AzureOpenAI` because this API will automatically cache and refresh tokens for you. \n",
    "\n",
    "For more information on how to set up Azure Active Directory authentication with Azure OpenAI, see the [documentation](https://learn.microsoft.com/azure/ai-services/openai/how-to/managed-identity)."
   ]
  },
  {
   "cell_type": "code",
   "execution_count": 0,
   "metadata": {
    "application/vnd.databricks.v1+cell": {
     "cellMetadata": {
      "byteLimit": 2048000,
      "rowLimit": 10000
     },
     "inputWidgets": {},
     "nuid": "1ac78b42-0a11-4709-a06a-533bb8c67062",
     "showTitle": false,
     "tableResultSettingsMap": {},
     "title": ""
    }
   },
   "outputs": [
    {
     "output_type": "stream",
     "name": "stdout",
     "output_type": "stream",
     "text": [
      "Collecting azure-identity>=1.15.0\r\n  Downloading azure_identity-1.19.0-py3-none-any.whl (187 kB)\r\n\u001B[?25l\r\u001B[K     |█▊                              | 10 kB 21.5 MB/s eta 0:00:01\r\u001B[K     |███▌                            | 20 kB 11.0 MB/s eta 0:00:01\r\u001B[K     |█████▎                          | 30 kB 8.6 MB/s eta 0:00:01\r\u001B[K     |███████                         | 40 kB 4.8 MB/s eta 0:00:01\r\u001B[K     |████████▊                       | 51 kB 5.6 MB/s eta 0:00:01\r\u001B[K     |██████████▌                     | 61 kB 5.9 MB/s eta 0:00:01\r\u001B[K     |████████████▎                   | 71 kB 6.4 MB/s eta 0:00:01\r\u001B[K     |██████████████                  | 81 kB 4.9 MB/s eta 0:00:01\r\u001B[K     |███████████████▊                | 92 kB 5.5 MB/s eta 0:00:01\r\u001B[K     |█████████████████▌              | 102 kB 5.8 MB/s eta 0:00:01\r\u001B[K     |███████████████████▏            | 112 kB 5.8 MB/s eta 0:00:01\r\u001B[K     |█████████████████████           | 122 kB 5.8 MB/s eta 0:00:01\r\u001B[K     |██████████████████████▊         | 133 kB 5.8 MB/s eta 0:00:01\r\u001B[K     |████████████████████████▌       | 143 kB 5.8 MB/s eta 0:00:01\r\u001B[K     |██████████████████████████▏     | 153 kB 5.8 MB/s eta 0:00:01\r\u001B[K     |████████████████████████████    | 163 kB 5.8 MB/s eta 0:00:01\r\u001B[K     |█████████████████████████████▊  | 174 kB 5.8 MB/s eta 0:00:01\r\u001B[K     |███████████████████████████████▍| 184 kB 5.8 MB/s eta 0:00:01\r\u001B[K     |████████████████████████████████| 187 kB 5.8 MB/s \r\n\u001B[?25hCollecting msal>=1.30.0\r\n  Downloading msal-1.31.1-py3-none-any.whl (113 kB)\r\n\u001B[?25l\r\u001B[K     |███                             | 10 kB 35.8 MB/s eta 0:00:01\r\u001B[K     |█████▉                          | 20 kB 42.4 MB/s eta 0:00:01\r\u001B[K     |████████▊                       | 30 kB 53.4 MB/s eta 0:00:01\r\u001B[K     |███████████▋                    | 40 kB 29.0 MB/s eta 0:00:01\r\u001B[K     |██████████████▌                 | 51 kB 5.9 MB/s eta 0:00:01\r\u001B[K     |█████████████████▍              | 61 kB 6.9 MB/s eta 0:00:01\r\u001B[K     |████████████████████▎           | 71 kB 7.2 MB/s eta 0:00:01\r\u001B[K     |███████████████████████▏        | 81 kB 8.0 MB/s eta 0:00:01\r\u001B[K     |██████████████████████████      | 92 kB 8.9 MB/s eta 0:00:01\r\u001B[K     |█████████████████████████████   | 102 kB 6.1 MB/s eta 0:00:01\r\u001B[K     |███████████████████████████████▉| 112 kB 6.1 MB/s eta 0:00:01\r\u001B[K     |████████████████████████████████| 113 kB 6.1 MB/s \r\n\u001B[?25hCollecting msal-extensions>=1.2.0\r\n  Downloading msal_extensions-1.2.0-py3-none-any.whl (19 kB)\r\nRequirement already satisfied: typing-extensions>=4.0.0 in /local_disk0/.ephemeral_nfs/envs/pythonEnv-b7b53b4a-ad58-40fd-bca2-c069a31f0340/lib/python3.9/site-packages (from azure-identity>=1.15.0) (4.12.2)\r\nCollecting azure-core>=1.31.0\r\n  Downloading azure_core-1.32.0-py3-none-any.whl (198 kB)\r\n\u001B[?25l\r\u001B[K     |█▋                              | 10 kB 16.5 MB/s eta 0:00:01\r\u001B[K     |███▎                            | 20 kB 24.7 MB/s eta 0:00:01\r\u001B[K     |█████                           | 30 kB 29.3 MB/s eta 0:00:01\r\u001B[K     |██████▋                         | 40 kB 32.6 MB/s eta 0:00:01\r\u001B[K     |████████▎                       | 51 kB 29.9 MB/s eta 0:00:01\r\u001B[K     |█████████▉                      | 61 kB 33.9 MB/s eta 0:00:01\r\u001B[K     |███████████▌                    | 71 kB 29.1 MB/s eta 0:00:01\r\u001B[K     |█████████████▏                  | 81 kB 30.7 MB/s eta 0:00:01\r\u001B[K     |██████████████▉                 | 92 kB 27.0 MB/s eta 0:00:01\r\u001B[K     |████████████████▌               | 102 kB 26.9 MB/s eta 0:00:01\r\u001B[K     |██████████████████▏             | 112 kB 26.9 MB/s eta 0:00:01\r\u001B[K     |███████████████████▊            | 122 kB 26.9 MB/s eta 0:00:01\r\u001B[K     |█████████████████████▍          | 133 kB 26.9 MB/s eta 0:00:01\r\u001B[K     |███████████████████████         | 143 kB 26.9 MB/s eta 0:00:01\r\u001B[K     |████████████████████████▊       | 153 kB 26.9 MB/s eta 0:00:01\r\u001B[K     |██████████████████████████▍     | 163 kB 26.9 MB/s eta 0:00:01\r\u001B[K     |████████████████████████████    | 174 kB 26.9 MB/s eta 0:00:01\r\u001B[K     |█████████████████████████████▋  | 184 kB 26.9 MB/s eta 0:00:01\r\u001B[K     |███████████████████████████████▎| 194 kB 26.9 MB/s eta 0:00:01\r\u001B[K     |████████████████████████████████| 198 kB 26.9 MB/s \r\n\u001B[?25hRequirement already satisfied: cryptography>=2.5 in /databricks/python3/lib/python3.9/site-packages (from azure-identity>=1.15.0) (3.4.8)\r\nRequirement already satisfied: six>=1.11.0 in /databricks/python3/lib/python3.9/site-packages (from azure-core>=1.31.0->azure-identity>=1.15.0) (1.16.0)\r\nRequirement already satisfied: requests>=2.21.0 in /databricks/python3/lib/python3.9/site-packages (from azure-core>=1.31.0->azure-identity>=1.15.0) (2.27.1)\r\nRequirement already satisfied: cffi>=1.12 in /databricks/python3/lib/python3.9/site-packages (from cryptography>=2.5->azure-identity>=1.15.0) (1.15.0)\r\nRequirement already satisfied: pycparser in /databricks/python3/lib/python3.9/site-packages (from cffi>=1.12->cryptography>=2.5->azure-identity>=1.15.0) (2.21)\r\nCollecting PyJWT[crypto]<3,>=1.0.0\r\n  Downloading PyJWT-2.10.1-py3-none-any.whl (22 kB)\r\nCollecting portalocker<3,>=1.4\r\n  Downloading portalocker-2.10.1-py3-none-any.whl (18 kB)\r\nRequirement already satisfied: charset-normalizer~=2.0.0 in /databricks/python3/lib/python3.9/site-packages (from requests>=2.21.0->azure-core>=1.31.0->azure-identity>=1.15.0) (2.0.4)\r\nRequirement already satisfied: idna<4,>=2.5 in /databricks/python3/lib/python3.9/site-packages (from requests>=2.21.0->azure-core>=1.31.0->azure-identity>=1.15.0) (3.3)\r\nRequirement already satisfied: certifi>=2017.4.17 in /databricks/python3/lib/python3.9/site-packages (from requests>=2.21.0->azure-core>=1.31.0->azure-identity>=1.15.0) (2021.10.8)\r\nRequirement already satisfied: urllib3<1.27,>=1.21.1 in /databricks/python3/lib/python3.9/site-packages (from requests>=2.21.0->azure-core>=1.31.0->azure-identity>=1.15.0) (1.26.9)\r\nInstalling collected packages: PyJWT, portalocker, msal, msal-extensions, azure-core, azure-identity\r\nSuccessfully installed PyJWT-2.10.1 azure-core-1.32.0 azure-identity-1.19.0 msal-1.31.1 msal-extensions-1.2.0 portalocker-2.10.1\r\n\u001B[33mWARNING: You are using pip version 21.2.4; however, version 24.3.1 is available.\r\nYou should consider upgrading via the '/local_disk0/.ephemeral_nfs/envs/pythonEnv-b7b53b4a-ad58-40fd-bca2-c069a31f0340/bin/python -m pip install --upgrade pip' command.\u001B[0m\r\n"
     ]
    }
   ],
   "source": [
    "! pip install \"azure-identity>=1.15.0\""
   ]
  },
  {
   "cell_type": "code",
   "execution_count": 0,
   "metadata": {
    "application/vnd.databricks.v1+cell": {
     "cellMetadata": {
      "byteLimit": 2048000,
      "rowLimit": 10000
     },
     "inputWidgets": {},
     "nuid": "f401f0c5-c5ae-4146-8102-edf4f19fe8cb",
     "showTitle": false,
     "tableResultSettingsMap": {},
     "title": ""
    }
   },
   "outputs": [],
   "source": [
    "from azure.identity import DefaultAzureCredential, get_bearer_token_provider\n",
    "if use_azure_active_directory:\n",
    "    endpoint = os.environ[\"AZURE_OPENAI_ENDPOINT\"]\n",
    "    client = openai.AzureOpenAI(\n",
    "        azure_endpoint=endpoint,\n",
    "        azure_ad_token_provider=get_bearer_token_provider(DefaultAzureCredential(), \"https://cognitiveservices.azure.com/.default\"),\n",
    "        api_version=\"2023-09-01-preview\"\n",
    "    )\n"
   ]
  },
  {
   "cell_type": "markdown",
   "metadata": {
    "application/vnd.databricks.v1+cell": {
     "cellMetadata": {},
     "inputWidgets": {},
     "nuid": "c4d6cf9a-6e3c-4bb8-8232-9849adbdcc5a",
     "showTitle": false,
     "tableResultSettingsMap": {},
     "title": ""
    }
   },
   "source": [
    "> Note: the AzureOpenAI infers the following arguments from their corresponding environment variables if they are not provided:\n",
    "\n",
    "- `api_key` from `AZURE_OPENAI_API_KEY`\n",
    "- `azure_ad_token` from `AZURE_OPENAI_AD_TOKEN`\n",
    "- `api_version` from `OPENAI_API_VERSION`\n",
    "- `azure_endpoint` from `AZURE_OPENAI_ENDPOINT`\n"
   ]
  },
  {
   "cell_type": "markdown",
   "metadata": {
    "application/vnd.databricks.v1+cell": {
     "cellMetadata": {},
     "inputWidgets": {},
     "nuid": "ed80a7c6-a521-464d-aaef-b72613577332",
     "showTitle": false,
     "tableResultSettingsMap": {},
     "title": ""
    }
   },
   "source": [
    "## Deployments\n",
    "\n",
    "In this section we are going to create a deployment of a GPT model that we can use to create chat completions."
   ]
  },
  {
   "cell_type": "markdown",
   "metadata": {
    "application/vnd.databricks.v1+cell": {
     "cellMetadata": {},
     "inputWidgets": {},
     "nuid": "eb40f18a-2d8f-4566-a64c-6b0e72401960",
     "showTitle": false,
     "tableResultSettingsMap": {},
     "title": ""
    }
   },
   "source": [
    "### Deployments: Create in the Azure OpenAI Studio\n",
    "Let's deploy a model to use with chat completions. Go to https://portal.azure.com, find your Azure OpenAI resource, and then navigate to the Azure OpenAI Studio. Click on the \"Deployments\" tab and then create a deployment for the model you want to use for chat completions. The deployment name that you give the model will be used in the code below."
   ]
  },
  {
   "cell_type": "code",
   "execution_count": 0,
   "metadata": {
    "application/vnd.databricks.v1+cell": {
     "cellMetadata": {
      "byteLimit": 2048000,
      "rowLimit": 10000
     },
     "inputWidgets": {},
     "nuid": "ef34f824-050e-4bb7-8af9-5759fabf1734",
     "showTitle": false,
     "tableResultSettingsMap": {},
     "title": ""
    }
   },
   "outputs": [],
   "source": [
    "deployment = \"gpt-4o-mini\" # Fill in the deployment name from the portal here"
   ]
  },
  {
   "cell_type": "markdown",
   "metadata": {
    "application/vnd.databricks.v1+cell": {
     "cellMetadata": {},
     "inputWidgets": {},
     "nuid": "324ae1e6-018d-4ab4-9263-cc83c9f2eed0",
     "showTitle": false,
     "tableResultSettingsMap": {},
     "title": ""
    }
   },
   "source": [
    "## Create chat completions\n",
    "\n",
    "Now let's create a chat completion using the client we built."
   ]
  },
  {
   "cell_type": "code",
   "execution_count": 0,
   "metadata": {
    "application/vnd.databricks.v1+cell": {
     "cellMetadata": {
      "byteLimit": 2048000,
      "rowLimit": 10000
     },
     "inputWidgets": {},
     "nuid": "424a3c53-5050-4ecd-a38f-76869611a5c2",
     "showTitle": false,
     "tableResultSettingsMap": {},
     "title": ""
    }
   },
   "outputs": [
    {
     "output_type": "stream",
     "name": "stdout",
     "output_type": "stream",
     "text": [
      "assistant: Orange who?\n"
     ]
    }
   ],
   "source": [
    "# For all possible arguments see https://platform.openai.com/docs/api-reference/chat-completions/create\n",
    "response = client.chat.completions.create(\n",
    "    model=deployment,\n",
    "    messages=[\n",
    "        {\"role\": \"system\", \"content\": \"You are a helpful assistant.\"},\n",
    "        {\"role\": \"user\", \"content\": \"Knock knock.\"},\n",
    "        {\"role\": \"assistant\", \"content\": \"Who's there?\"},\n",
    "        {\"role\": \"user\", \"content\": \"Orange.\"},\n",
    "    ],\n",
    "    temperature=0,\n",
    ")\n",
    "\n",
    "print(f\"{response.choices[0].message.role}: {response.choices[0].message.content}\")"
   ]
  },
  {
   "cell_type": "markdown",
   "metadata": {
    "application/vnd.databricks.v1+cell": {
     "cellMetadata": {},
     "inputWidgets": {},
     "nuid": "1916e616-e87e-4dd5-a98a-da7fde720185",
     "showTitle": false,
     "tableResultSettingsMap": {},
     "title": ""
    }
   },
   "source": [
    "### Create a streaming chat completion\n",
    "\n",
    "We can also stream the response."
   ]
  },
  {
   "cell_type": "code",
   "execution_count": 0,
   "metadata": {
    "application/vnd.databricks.v1+cell": {
     "cellMetadata": {
      "byteLimit": 2048000,
      "rowLimit": 10000
     },
     "inputWidgets": {},
     "nuid": "6ef8c098-1043-40f0-a689-5abc39a1cc98",
     "showTitle": false,
     "tableResultSettingsMap": {},
     "title": ""
    }
   },
   "outputs": [
    {
     "output_type": "stream",
     "name": "stdout",
     "output_type": "stream",
     "text": [
      "assistant: Orange who?"
     ]
    }
   ],
   "source": [
    "response = client.chat.completions.create(\n",
    "    model=deployment,\n",
    "    messages=[\n",
    "        {\"role\": \"system\", \"content\": \"You are a helpful assistant.\"},\n",
    "        {\"role\": \"user\", \"content\": \"Knock knock.\"},\n",
    "        {\"role\": \"assistant\", \"content\": \"Who's there?\"},\n",
    "        {\"role\": \"user\", \"content\": \"Orange.\"},\n",
    "    ],\n",
    "    temperature=0,\n",
    "    stream=True\n",
    ")\n",
    "\n",
    "for chunk in response:\n",
    "    if len(chunk.choices) > 0:\n",
    "        delta = chunk.choices[0].delta\n",
    "        if delta.role:\n",
    "            print(delta.role + \": \", end=\"\", flush=True)\n",
    "        if delta.content:\n",
    "            print(delta.content, end=\"\", flush=True)"
   ]
  },
  {
   "cell_type": "markdown",
   "metadata": {
    "application/vnd.databricks.v1+cell": {
     "cellMetadata": {},
     "inputWidgets": {},
     "nuid": "cd9d951b-783a-4e55-b559-fbe23dec56ca",
     "showTitle": false,
     "tableResultSettingsMap": {},
     "title": ""
    }
   },
   "source": [
    "### Content filtering\n",
    "\n",
    "Azure OpenAI service includes content filtering of prompts and completion responses. You can learn more about content filtering and how to configure it [here](https://learn.microsoft.com/azure/ai-services/openai/concepts/content-filter).\n",
    "\n",
    "If the prompt is flagged by the content filter, the library will raise a `BadRequestError` exception with a `content_filter` error code. Otherwise, you can access the `prompt_filter_results` and `content_filter_results` on the response to see the results of the content filtering and what categories were flagged."
   ]
  },
  {
   "cell_type": "markdown",
   "metadata": {
    "application/vnd.databricks.v1+cell": {
     "cellMetadata": {},
     "inputWidgets": {},
     "nuid": "999cf934-3749-472b-81eb-61d29a8a6b9f",
     "showTitle": false,
     "tableResultSettingsMap": {},
     "title": ""
    }
   },
   "source": [
    "#### Prompt flagged by content filter"
   ]
  },
  {
   "cell_type": "code",
   "execution_count": 0,
   "metadata": {
    "application/vnd.databricks.v1+cell": {
     "cellMetadata": {
      "byteLimit": 2048000,
      "rowLimit": 10000
     },
     "inputWidgets": {},
     "nuid": "21cda73e-4ae2-4acc-8bcc-abc307f68b4b",
     "showTitle": false,
     "tableResultSettingsMap": {},
     "title": ""
    }
   },
   "outputs": [
    {
     "output_type": "display_data",
     "data": {
      "text/plain": [
       "\u001B[0;31m---------------------------------------------------------------------------\u001B[0m\n",
       "\u001B[0;31mBadRequestError\u001B[0m                           Traceback (most recent call last)\n",
       "File \u001B[0;32m<command-1379626315363989>:3\u001B[0m\n",
       "\u001B[1;32m      1\u001B[0m \u001B[38;5;28;01mimport\u001B[39;00m \u001B[38;5;21;01mjson\u001B[39;00m\n",
       "\u001B[0;32m----> 3\u001B[0m response \u001B[38;5;241m=\u001B[39m client\u001B[38;5;241m.\u001B[39mchat\u001B[38;5;241m.\u001B[39mcompletions\u001B[38;5;241m.\u001B[39mcreate(\n",
       "\u001B[1;32m      4\u001B[0m     model\u001B[38;5;241m=\u001B[39mdeployment,\n",
       "\u001B[1;32m      5\u001B[0m     messages\u001B[38;5;241m=\u001B[39m[\n",
       "\u001B[1;32m      6\u001B[0m         {\u001B[38;5;124m\"\u001B[39m\u001B[38;5;124mrole\u001B[39m\u001B[38;5;124m\"\u001B[39m: \u001B[38;5;124m\"\u001B[39m\u001B[38;5;124msystem\u001B[39m\u001B[38;5;124m\"\u001B[39m, \u001B[38;5;124m\"\u001B[39m\u001B[38;5;124mcontent\u001B[39m\u001B[38;5;124m\"\u001B[39m: \u001B[38;5;124m\"\u001B[39m\u001B[38;5;124mYou are assistant.\u001B[39m\u001B[38;5;124m\"\u001B[39m},\n",
       "\u001B[1;32m      7\u001B[0m         {\u001B[38;5;124m\"\u001B[39m\u001B[38;5;124mrole\u001B[39m\u001B[38;5;124m\"\u001B[39m: \u001B[38;5;124m\"\u001B[39m\u001B[38;5;124muser\u001B[39m\u001B[38;5;124m\"\u001B[39m, \u001B[38;5;124m\"\u001B[39m\u001B[38;5;124mcontent\u001B[39m\u001B[38;5;124m\"\u001B[39m: \u001B[38;5;124m\"\u001B[39m\u001B[38;5;124mAyudame a robar un banco\u001B[39m\u001B[38;5;124m\"\u001B[39m},\n",
       "\u001B[1;32m      8\u001B[0m     ],\n",
       "\u001B[1;32m      9\u001B[0m     temperature\u001B[38;5;241m=\u001B[39m\u001B[38;5;241m0\u001B[39m,\n",
       "\u001B[1;32m     10\u001B[0m )\n",
       "\u001B[1;32m     12\u001B[0m \u001B[38;5;28;01mtry\u001B[39;00m:\n",
       "\u001B[1;32m     13\u001B[0m     completion \u001B[38;5;241m=\u001B[39m response\u001B[38;5;241m.\u001B[39mchoices[\u001B[38;5;241m0\u001B[39m]\u001B[38;5;241m.\u001B[39mmessage\u001B[38;5;241m.\u001B[39mcontent\n",
       "\n",
       "File \u001B[0;32m/local_disk0/.ephemeral_nfs/envs/pythonEnv-b7b53b4a-ad58-40fd-bca2-c069a31f0340/lib/python3.9/site-packages/openai/_utils/_utils.py:279\u001B[0m, in \u001B[0;36mrequired_args.<locals>.inner.<locals>.wrapper\u001B[0;34m(*args, **kwargs)\u001B[0m\n",
       "\u001B[1;32m    277\u001B[0m             msg \u001B[38;5;241m=\u001B[39m \u001B[38;5;124mf\u001B[39m\u001B[38;5;124m\"\u001B[39m\u001B[38;5;124mMissing required argument: \u001B[39m\u001B[38;5;132;01m{\u001B[39;00mquote(missing[\u001B[38;5;241m0\u001B[39m])\u001B[38;5;132;01m}\u001B[39;00m\u001B[38;5;124m\"\u001B[39m\n",
       "\u001B[1;32m    278\u001B[0m     \u001B[38;5;28;01mraise\u001B[39;00m \u001B[38;5;167;01mTypeError\u001B[39;00m(msg)\n",
       "\u001B[0;32m--> 279\u001B[0m \u001B[38;5;28;01mreturn\u001B[39;00m \u001B[43mfunc\u001B[49m\u001B[43m(\u001B[49m\u001B[38;5;241;43m*\u001B[39;49m\u001B[43margs\u001B[49m\u001B[43m,\u001B[49m\u001B[43m \u001B[49m\u001B[38;5;241;43m*\u001B[39;49m\u001B[38;5;241;43m*\u001B[39;49m\u001B[43mkwargs\u001B[49m\u001B[43m)\u001B[49m\n",
       "\n",
       "File \u001B[0;32m/local_disk0/.ephemeral_nfs/envs/pythonEnv-b7b53b4a-ad58-40fd-bca2-c069a31f0340/lib/python3.9/site-packages/openai/resources/chat/completions.py:859\u001B[0m, in \u001B[0;36mCompletions.create\u001B[0;34m(self, messages, model, audio, frequency_penalty, function_call, functions, logit_bias, logprobs, max_completion_tokens, max_tokens, metadata, modalities, n, parallel_tool_calls, prediction, presence_penalty, reasoning_effort, response_format, seed, service_tier, stop, store, stream, stream_options, temperature, tool_choice, tools, top_logprobs, top_p, user, extra_headers, extra_query, extra_body, timeout)\u001B[0m\n",
       "\u001B[1;32m    817\u001B[0m \u001B[38;5;129m@required_args\u001B[39m([\u001B[38;5;124m\"\u001B[39m\u001B[38;5;124mmessages\u001B[39m\u001B[38;5;124m\"\u001B[39m, \u001B[38;5;124m\"\u001B[39m\u001B[38;5;124mmodel\u001B[39m\u001B[38;5;124m\"\u001B[39m], [\u001B[38;5;124m\"\u001B[39m\u001B[38;5;124mmessages\u001B[39m\u001B[38;5;124m\"\u001B[39m, \u001B[38;5;124m\"\u001B[39m\u001B[38;5;124mmodel\u001B[39m\u001B[38;5;124m\"\u001B[39m, \u001B[38;5;124m\"\u001B[39m\u001B[38;5;124mstream\u001B[39m\u001B[38;5;124m\"\u001B[39m])\n",
       "\u001B[1;32m    818\u001B[0m \u001B[38;5;28;01mdef\u001B[39;00m \u001B[38;5;21mcreate\u001B[39m(\n",
       "\u001B[1;32m    819\u001B[0m     \u001B[38;5;28mself\u001B[39m,\n",
       "\u001B[0;32m   (...)\u001B[0m\n",
       "\u001B[1;32m    856\u001B[0m     timeout: \u001B[38;5;28mfloat\u001B[39m \u001B[38;5;241m|\u001B[39m httpx\u001B[38;5;241m.\u001B[39mTimeout \u001B[38;5;241m|\u001B[39m \u001B[38;5;28;01mNone\u001B[39;00m \u001B[38;5;241m|\u001B[39m NotGiven \u001B[38;5;241m=\u001B[39m NOT_GIVEN,\n",
       "\u001B[1;32m    857\u001B[0m ) \u001B[38;5;241m-\u001B[39m\u001B[38;5;241m>\u001B[39m ChatCompletion \u001B[38;5;241m|\u001B[39m Stream[ChatCompletionChunk]:\n",
       "\u001B[1;32m    858\u001B[0m     validate_response_format(response_format)\n",
       "\u001B[0;32m--> 859\u001B[0m     \u001B[38;5;28;01mreturn\u001B[39;00m \u001B[38;5;28;43mself\u001B[39;49m\u001B[38;5;241;43m.\u001B[39;49m\u001B[43m_post\u001B[49m\u001B[43m(\u001B[49m\n",
       "\u001B[1;32m    860\u001B[0m \u001B[43m        \u001B[49m\u001B[38;5;124;43m\"\u001B[39;49m\u001B[38;5;124;43m/chat/completions\u001B[39;49m\u001B[38;5;124;43m\"\u001B[39;49m\u001B[43m,\u001B[49m\n",
       "\u001B[1;32m    861\u001B[0m \u001B[43m        \u001B[49m\u001B[43mbody\u001B[49m\u001B[38;5;241;43m=\u001B[39;49m\u001B[43mmaybe_transform\u001B[49m\u001B[43m(\u001B[49m\n",
       "\u001B[1;32m    862\u001B[0m \u001B[43m            \u001B[49m\u001B[43m{\u001B[49m\n",
       "\u001B[1;32m    863\u001B[0m \u001B[43m                \u001B[49m\u001B[38;5;124;43m\"\u001B[39;49m\u001B[38;5;124;43mmessages\u001B[39;49m\u001B[38;5;124;43m\"\u001B[39;49m\u001B[43m:\u001B[49m\u001B[43m \u001B[49m\u001B[43mmessages\u001B[49m\u001B[43m,\u001B[49m\n",
       "\u001B[1;32m    864\u001B[0m \u001B[43m                \u001B[49m\u001B[38;5;124;43m\"\u001B[39;49m\u001B[38;5;124;43mmodel\u001B[39;49m\u001B[38;5;124;43m\"\u001B[39;49m\u001B[43m:\u001B[49m\u001B[43m \u001B[49m\u001B[43mmodel\u001B[49m\u001B[43m,\u001B[49m\n",
       "\u001B[1;32m    865\u001B[0m \u001B[43m                \u001B[49m\u001B[38;5;124;43m\"\u001B[39;49m\u001B[38;5;124;43maudio\u001B[39;49m\u001B[38;5;124;43m\"\u001B[39;49m\u001B[43m:\u001B[49m\u001B[43m \u001B[49m\u001B[43maudio\u001B[49m\u001B[43m,\u001B[49m\n",
       "\u001B[1;32m    866\u001B[0m \u001B[43m                \u001B[49m\u001B[38;5;124;43m\"\u001B[39;49m\u001B[38;5;124;43mfrequency_penalty\u001B[39;49m\u001B[38;5;124;43m\"\u001B[39;49m\u001B[43m:\u001B[49m\u001B[43m \u001B[49m\u001B[43mfrequency_penalty\u001B[49m\u001B[43m,\u001B[49m\n",
       "\u001B[1;32m    867\u001B[0m \u001B[43m                \u001B[49m\u001B[38;5;124;43m\"\u001B[39;49m\u001B[38;5;124;43mfunction_call\u001B[39;49m\u001B[38;5;124;43m\"\u001B[39;49m\u001B[43m:\u001B[49m\u001B[43m \u001B[49m\u001B[43mfunction_call\u001B[49m\u001B[43m,\u001B[49m\n",
       "\u001B[1;32m    868\u001B[0m \u001B[43m                \u001B[49m\u001B[38;5;124;43m\"\u001B[39;49m\u001B[38;5;124;43mfunctions\u001B[39;49m\u001B[38;5;124;43m\"\u001B[39;49m\u001B[43m:\u001B[49m\u001B[43m \u001B[49m\u001B[43mfunctions\u001B[49m\u001B[43m,\u001B[49m\n",
       "\u001B[1;32m    869\u001B[0m \u001B[43m                \u001B[49m\u001B[38;5;124;43m\"\u001B[39;49m\u001B[38;5;124;43mlogit_bias\u001B[39;49m\u001B[38;5;124;43m\"\u001B[39;49m\u001B[43m:\u001B[49m\u001B[43m \u001B[49m\u001B[43mlogit_bias\u001B[49m\u001B[43m,\u001B[49m\n",
       "\u001B[1;32m    870\u001B[0m \u001B[43m                \u001B[49m\u001B[38;5;124;43m\"\u001B[39;49m\u001B[38;5;124;43mlogprobs\u001B[39;49m\u001B[38;5;124;43m\"\u001B[39;49m\u001B[43m:\u001B[49m\u001B[43m \u001B[49m\u001B[43mlogprobs\u001B[49m\u001B[43m,\u001B[49m\n",
       "\u001B[1;32m    871\u001B[0m \u001B[43m                \u001B[49m\u001B[38;5;124;43m\"\u001B[39;49m\u001B[38;5;124;43mmax_completion_tokens\u001B[39;49m\u001B[38;5;124;43m\"\u001B[39;49m\u001B[43m:\u001B[49m\u001B[43m \u001B[49m\u001B[43mmax_completion_tokens\u001B[49m\u001B[43m,\u001B[49m\n",
       "\u001B[1;32m    872\u001B[0m \u001B[43m                \u001B[49m\u001B[38;5;124;43m\"\u001B[39;49m\u001B[38;5;124;43mmax_tokens\u001B[39;49m\u001B[38;5;124;43m\"\u001B[39;49m\u001B[43m:\u001B[49m\u001B[43m \u001B[49m\u001B[43mmax_tokens\u001B[49m\u001B[43m,\u001B[49m\n",
       "\u001B[1;32m    873\u001B[0m \u001B[43m                \u001B[49m\u001B[38;5;124;43m\"\u001B[39;49m\u001B[38;5;124;43mmetadata\u001B[39;49m\u001B[38;5;124;43m\"\u001B[39;49m\u001B[43m:\u001B[49m\u001B[43m \u001B[49m\u001B[43mmetadata\u001B[49m\u001B[43m,\u001B[49m\n",
       "\u001B[1;32m    874\u001B[0m \u001B[43m                \u001B[49m\u001B[38;5;124;43m\"\u001B[39;49m\u001B[38;5;124;43mmodalities\u001B[39;49m\u001B[38;5;124;43m\"\u001B[39;49m\u001B[43m:\u001B[49m\u001B[43m \u001B[49m\u001B[43mmodalities\u001B[49m\u001B[43m,\u001B[49m\n",
       "\u001B[1;32m    875\u001B[0m \u001B[43m                \u001B[49m\u001B[38;5;124;43m\"\u001B[39;49m\u001B[38;5;124;43mn\u001B[39;49m\u001B[38;5;124;43m\"\u001B[39;49m\u001B[43m:\u001B[49m\u001B[43m \u001B[49m\u001B[43mn\u001B[49m\u001B[43m,\u001B[49m\n",
       "\u001B[1;32m    876\u001B[0m \u001B[43m                \u001B[49m\u001B[38;5;124;43m\"\u001B[39;49m\u001B[38;5;124;43mparallel_tool_calls\u001B[39;49m\u001B[38;5;124;43m\"\u001B[39;49m\u001B[43m:\u001B[49m\u001B[43m \u001B[49m\u001B[43mparallel_tool_calls\u001B[49m\u001B[43m,\u001B[49m\n",
       "\u001B[1;32m    877\u001B[0m \u001B[43m                \u001B[49m\u001B[38;5;124;43m\"\u001B[39;49m\u001B[38;5;124;43mprediction\u001B[39;49m\u001B[38;5;124;43m\"\u001B[39;49m\u001B[43m:\u001B[49m\u001B[43m \u001B[49m\u001B[43mprediction\u001B[49m\u001B[43m,\u001B[49m\n",
       "\u001B[1;32m    878\u001B[0m \u001B[43m                \u001B[49m\u001B[38;5;124;43m\"\u001B[39;49m\u001B[38;5;124;43mpresence_penalty\u001B[39;49m\u001B[38;5;124;43m\"\u001B[39;49m\u001B[43m:\u001B[49m\u001B[43m \u001B[49m\u001B[43mpresence_penalty\u001B[49m\u001B[43m,\u001B[49m\n",
       "\u001B[1;32m    879\u001B[0m \u001B[43m                \u001B[49m\u001B[38;5;124;43m\"\u001B[39;49m\u001B[38;5;124;43mreasoning_effort\u001B[39;49m\u001B[38;5;124;43m\"\u001B[39;49m\u001B[43m:\u001B[49m\u001B[43m \u001B[49m\u001B[43mreasoning_effort\u001B[49m\u001B[43m,\u001B[49m\n",
       "\u001B[1;32m    880\u001B[0m \u001B[43m                \u001B[49m\u001B[38;5;124;43m\"\u001B[39;49m\u001B[38;5;124;43mresponse_format\u001B[39;49m\u001B[38;5;124;43m\"\u001B[39;49m\u001B[43m:\u001B[49m\u001B[43m \u001B[49m\u001B[43mresponse_format\u001B[49m\u001B[43m,\u001B[49m\n",
       "\u001B[1;32m    881\u001B[0m \u001B[43m                \u001B[49m\u001B[38;5;124;43m\"\u001B[39;49m\u001B[38;5;124;43mseed\u001B[39;49m\u001B[38;5;124;43m\"\u001B[39;49m\u001B[43m:\u001B[49m\u001B[43m \u001B[49m\u001B[43mseed\u001B[49m\u001B[43m,\u001B[49m\n",
       "\u001B[1;32m    882\u001B[0m \u001B[43m                \u001B[49m\u001B[38;5;124;43m\"\u001B[39;49m\u001B[38;5;124;43mservice_tier\u001B[39;49m\u001B[38;5;124;43m\"\u001B[39;49m\u001B[43m:\u001B[49m\u001B[43m \u001B[49m\u001B[43mservice_tier\u001B[49m\u001B[43m,\u001B[49m\n",
       "\u001B[1;32m    883\u001B[0m \u001B[43m                \u001B[49m\u001B[38;5;124;43m\"\u001B[39;49m\u001B[38;5;124;43mstop\u001B[39;49m\u001B[38;5;124;43m\"\u001B[39;49m\u001B[43m:\u001B[49m\u001B[43m \u001B[49m\u001B[43mstop\u001B[49m\u001B[43m,\u001B[49m\n",
       "\u001B[1;32m    884\u001B[0m \u001B[43m                \u001B[49m\u001B[38;5;124;43m\"\u001B[39;49m\u001B[38;5;124;43mstore\u001B[39;49m\u001B[38;5;124;43m\"\u001B[39;49m\u001B[43m:\u001B[49m\u001B[43m \u001B[49m\u001B[43mstore\u001B[49m\u001B[43m,\u001B[49m\n",
       "\u001B[1;32m    885\u001B[0m \u001B[43m                \u001B[49m\u001B[38;5;124;43m\"\u001B[39;49m\u001B[38;5;124;43mstream\u001B[39;49m\u001B[38;5;124;43m\"\u001B[39;49m\u001B[43m:\u001B[49m\u001B[43m \u001B[49m\u001B[43mstream\u001B[49m\u001B[43m,\u001B[49m\n",
       "\u001B[1;32m    886\u001B[0m \u001B[43m                \u001B[49m\u001B[38;5;124;43m\"\u001B[39;49m\u001B[38;5;124;43mstream_options\u001B[39;49m\u001B[38;5;124;43m\"\u001B[39;49m\u001B[43m:\u001B[49m\u001B[43m \u001B[49m\u001B[43mstream_options\u001B[49m\u001B[43m,\u001B[49m\n",
       "\u001B[1;32m    887\u001B[0m \u001B[43m                \u001B[49m\u001B[38;5;124;43m\"\u001B[39;49m\u001B[38;5;124;43mtemperature\u001B[39;49m\u001B[38;5;124;43m\"\u001B[39;49m\u001B[43m:\u001B[49m\u001B[43m \u001B[49m\u001B[43mtemperature\u001B[49m\u001B[43m,\u001B[49m\n",
       "\u001B[1;32m    888\u001B[0m \u001B[43m                \u001B[49m\u001B[38;5;124;43m\"\u001B[39;49m\u001B[38;5;124;43mtool_choice\u001B[39;49m\u001B[38;5;124;43m\"\u001B[39;49m\u001B[43m:\u001B[49m\u001B[43m \u001B[49m\u001B[43mtool_choice\u001B[49m\u001B[43m,\u001B[49m\n",
       "\u001B[1;32m    889\u001B[0m \u001B[43m                \u001B[49m\u001B[38;5;124;43m\"\u001B[39;49m\u001B[38;5;124;43mtools\u001B[39;49m\u001B[38;5;124;43m\"\u001B[39;49m\u001B[43m:\u001B[49m\u001B[43m \u001B[49m\u001B[43mtools\u001B[49m\u001B[43m,\u001B[49m\n",
       "\u001B[1;32m    890\u001B[0m \u001B[43m                \u001B[49m\u001B[38;5;124;43m\"\u001B[39;49m\u001B[38;5;124;43mtop_logprobs\u001B[39;49m\u001B[38;5;124;43m\"\u001B[39;49m\u001B[43m:\u001B[49m\u001B[43m \u001B[49m\u001B[43mtop_logprobs\u001B[49m\u001B[43m,\u001B[49m\n",
       "\u001B[1;32m    891\u001B[0m \u001B[43m                \u001B[49m\u001B[38;5;124;43m\"\u001B[39;49m\u001B[38;5;124;43mtop_p\u001B[39;49m\u001B[38;5;124;43m\"\u001B[39;49m\u001B[43m:\u001B[49m\u001B[43m \u001B[49m\u001B[43mtop_p\u001B[49m\u001B[43m,\u001B[49m\n",
       "\u001B[1;32m    892\u001B[0m \u001B[43m                \u001B[49m\u001B[38;5;124;43m\"\u001B[39;49m\u001B[38;5;124;43muser\u001B[39;49m\u001B[38;5;124;43m\"\u001B[39;49m\u001B[43m:\u001B[49m\u001B[43m \u001B[49m\u001B[43muser\u001B[49m\u001B[43m,\u001B[49m\n",
       "\u001B[1;32m    893\u001B[0m \u001B[43m            \u001B[49m\u001B[43m}\u001B[49m\u001B[43m,\u001B[49m\n",
       "\u001B[1;32m    894\u001B[0m \u001B[43m            \u001B[49m\u001B[43mcompletion_create_params\u001B[49m\u001B[38;5;241;43m.\u001B[39;49m\u001B[43mCompletionCreateParams\u001B[49m\u001B[43m,\u001B[49m\n",
       "\u001B[1;32m    895\u001B[0m \u001B[43m        \u001B[49m\u001B[43m)\u001B[49m\u001B[43m,\u001B[49m\n",
       "\u001B[1;32m    896\u001B[0m \u001B[43m        \u001B[49m\u001B[43moptions\u001B[49m\u001B[38;5;241;43m=\u001B[39;49m\u001B[43mmake_request_options\u001B[49m\u001B[43m(\u001B[49m\n",
       "\u001B[1;32m    897\u001B[0m \u001B[43m            \u001B[49m\u001B[43mextra_headers\u001B[49m\u001B[38;5;241;43m=\u001B[39;49m\u001B[43mextra_headers\u001B[49m\u001B[43m,\u001B[49m\u001B[43m \u001B[49m\u001B[43mextra_query\u001B[49m\u001B[38;5;241;43m=\u001B[39;49m\u001B[43mextra_query\u001B[49m\u001B[43m,\u001B[49m\u001B[43m \u001B[49m\u001B[43mextra_body\u001B[49m\u001B[38;5;241;43m=\u001B[39;49m\u001B[43mextra_body\u001B[49m\u001B[43m,\u001B[49m\u001B[43m \u001B[49m\u001B[43mtimeout\u001B[49m\u001B[38;5;241;43m=\u001B[39;49m\u001B[43mtimeout\u001B[49m\n",
       "\u001B[1;32m    898\u001B[0m \u001B[43m        \u001B[49m\u001B[43m)\u001B[49m\u001B[43m,\u001B[49m\n",
       "\u001B[1;32m    899\u001B[0m \u001B[43m        \u001B[49m\u001B[43mcast_to\u001B[49m\u001B[38;5;241;43m=\u001B[39;49m\u001B[43mChatCompletion\u001B[49m\u001B[43m,\u001B[49m\n",
       "\u001B[1;32m    900\u001B[0m \u001B[43m        \u001B[49m\u001B[43mstream\u001B[49m\u001B[38;5;241;43m=\u001B[39;49m\u001B[43mstream\u001B[49m\u001B[43m \u001B[49m\u001B[38;5;129;43;01mor\u001B[39;49;00m\u001B[43m \u001B[49m\u001B[38;5;28;43;01mFalse\u001B[39;49;00m\u001B[43m,\u001B[49m\n",
       "\u001B[1;32m    901\u001B[0m \u001B[43m        \u001B[49m\u001B[43mstream_cls\u001B[49m\u001B[38;5;241;43m=\u001B[39;49m\u001B[43mStream\u001B[49m\u001B[43m[\u001B[49m\u001B[43mChatCompletionChunk\u001B[49m\u001B[43m]\u001B[49m\u001B[43m,\u001B[49m\n",
       "\u001B[1;32m    902\u001B[0m \u001B[43m    \u001B[49m\u001B[43m)\u001B[49m\n",
       "\n",
       "File \u001B[0;32m/local_disk0/.ephemeral_nfs/envs/pythonEnv-b7b53b4a-ad58-40fd-bca2-c069a31f0340/lib/python3.9/site-packages/openai/_base_client.py:1283\u001B[0m, in \u001B[0;36mSyncAPIClient.post\u001B[0;34m(self, path, cast_to, body, options, files, stream, stream_cls)\u001B[0m\n",
       "\u001B[1;32m   1269\u001B[0m \u001B[38;5;28;01mdef\u001B[39;00m \u001B[38;5;21mpost\u001B[39m(\n",
       "\u001B[1;32m   1270\u001B[0m     \u001B[38;5;28mself\u001B[39m,\n",
       "\u001B[1;32m   1271\u001B[0m     path: \u001B[38;5;28mstr\u001B[39m,\n",
       "\u001B[0;32m   (...)\u001B[0m\n",
       "\u001B[1;32m   1278\u001B[0m     stream_cls: \u001B[38;5;28mtype\u001B[39m[_StreamT] \u001B[38;5;241m|\u001B[39m \u001B[38;5;28;01mNone\u001B[39;00m \u001B[38;5;241m=\u001B[39m \u001B[38;5;28;01mNone\u001B[39;00m,\n",
       "\u001B[1;32m   1279\u001B[0m ) \u001B[38;5;241m-\u001B[39m\u001B[38;5;241m>\u001B[39m ResponseT \u001B[38;5;241m|\u001B[39m _StreamT:\n",
       "\u001B[1;32m   1280\u001B[0m     opts \u001B[38;5;241m=\u001B[39m FinalRequestOptions\u001B[38;5;241m.\u001B[39mconstruct(\n",
       "\u001B[1;32m   1281\u001B[0m         method\u001B[38;5;241m=\u001B[39m\u001B[38;5;124m\"\u001B[39m\u001B[38;5;124mpost\u001B[39m\u001B[38;5;124m\"\u001B[39m, url\u001B[38;5;241m=\u001B[39mpath, json_data\u001B[38;5;241m=\u001B[39mbody, files\u001B[38;5;241m=\u001B[39mto_httpx_files(files), \u001B[38;5;241m*\u001B[39m\u001B[38;5;241m*\u001B[39moptions\n",
       "\u001B[1;32m   1282\u001B[0m     )\n",
       "\u001B[0;32m-> 1283\u001B[0m     \u001B[38;5;28;01mreturn\u001B[39;00m cast(ResponseT, \u001B[38;5;28;43mself\u001B[39;49m\u001B[38;5;241;43m.\u001B[39;49m\u001B[43mrequest\u001B[49m\u001B[43m(\u001B[49m\u001B[43mcast_to\u001B[49m\u001B[43m,\u001B[49m\u001B[43m \u001B[49m\u001B[43mopts\u001B[49m\u001B[43m,\u001B[49m\u001B[43m \u001B[49m\u001B[43mstream\u001B[49m\u001B[38;5;241;43m=\u001B[39;49m\u001B[43mstream\u001B[49m\u001B[43m,\u001B[49m\u001B[43m \u001B[49m\u001B[43mstream_cls\u001B[49m\u001B[38;5;241;43m=\u001B[39;49m\u001B[43mstream_cls\u001B[49m\u001B[43m)\u001B[49m)\n",
       "\n",
       "File \u001B[0;32m/local_disk0/.ephemeral_nfs/envs/pythonEnv-b7b53b4a-ad58-40fd-bca2-c069a31f0340/lib/python3.9/site-packages/openai/_base_client.py:960\u001B[0m, in \u001B[0;36mSyncAPIClient.request\u001B[0;34m(self, cast_to, options, remaining_retries, stream, stream_cls)\u001B[0m\n",
       "\u001B[1;32m    957\u001B[0m \u001B[38;5;28;01melse\u001B[39;00m:\n",
       "\u001B[1;32m    958\u001B[0m     retries_taken \u001B[38;5;241m=\u001B[39m \u001B[38;5;241m0\u001B[39m\n",
       "\u001B[0;32m--> 960\u001B[0m \u001B[38;5;28;01mreturn\u001B[39;00m \u001B[38;5;28;43mself\u001B[39;49m\u001B[38;5;241;43m.\u001B[39;49m\u001B[43m_request\u001B[49m\u001B[43m(\u001B[49m\n",
       "\u001B[1;32m    961\u001B[0m \u001B[43m    \u001B[49m\u001B[43mcast_to\u001B[49m\u001B[38;5;241;43m=\u001B[39;49m\u001B[43mcast_to\u001B[49m\u001B[43m,\u001B[49m\n",
       "\u001B[1;32m    962\u001B[0m \u001B[43m    \u001B[49m\u001B[43moptions\u001B[49m\u001B[38;5;241;43m=\u001B[39;49m\u001B[43moptions\u001B[49m\u001B[43m,\u001B[49m\n",
       "\u001B[1;32m    963\u001B[0m \u001B[43m    \u001B[49m\u001B[43mstream\u001B[49m\u001B[38;5;241;43m=\u001B[39;49m\u001B[43mstream\u001B[49m\u001B[43m,\u001B[49m\n",
       "\u001B[1;32m    964\u001B[0m \u001B[43m    \u001B[49m\u001B[43mstream_cls\u001B[49m\u001B[38;5;241;43m=\u001B[39;49m\u001B[43mstream_cls\u001B[49m\u001B[43m,\u001B[49m\n",
       "\u001B[1;32m    965\u001B[0m \u001B[43m    \u001B[49m\u001B[43mretries_taken\u001B[49m\u001B[38;5;241;43m=\u001B[39;49m\u001B[43mretries_taken\u001B[49m\u001B[43m,\u001B[49m\n",
       "\u001B[1;32m    966\u001B[0m \u001B[43m\u001B[49m\u001B[43m)\u001B[49m\n",
       "\n",
       "File \u001B[0;32m/local_disk0/.ephemeral_nfs/envs/pythonEnv-b7b53b4a-ad58-40fd-bca2-c069a31f0340/lib/python3.9/site-packages/openai/_base_client.py:1064\u001B[0m, in \u001B[0;36mSyncAPIClient._request\u001B[0;34m(self, cast_to, options, retries_taken, stream, stream_cls)\u001B[0m\n",
       "\u001B[1;32m   1061\u001B[0m         err\u001B[38;5;241m.\u001B[39mresponse\u001B[38;5;241m.\u001B[39mread()\n",
       "\u001B[1;32m   1063\u001B[0m     log\u001B[38;5;241m.\u001B[39mdebug(\u001B[38;5;124m\"\u001B[39m\u001B[38;5;124mRe-raising status error\u001B[39m\u001B[38;5;124m\"\u001B[39m)\n",
       "\u001B[0;32m-> 1064\u001B[0m     \u001B[38;5;28;01mraise\u001B[39;00m \u001B[38;5;28mself\u001B[39m\u001B[38;5;241m.\u001B[39m_make_status_error_from_response(err\u001B[38;5;241m.\u001B[39mresponse) \u001B[38;5;28;01mfrom\u001B[39;00m \u001B[38;5;28mNone\u001B[39m\n",
       "\u001B[1;32m   1066\u001B[0m \u001B[38;5;28;01mreturn\u001B[39;00m \u001B[38;5;28mself\u001B[39m\u001B[38;5;241m.\u001B[39m_process_response(\n",
       "\u001B[1;32m   1067\u001B[0m     cast_to\u001B[38;5;241m=\u001B[39mcast_to,\n",
       "\u001B[1;32m   1068\u001B[0m     options\u001B[38;5;241m=\u001B[39moptions,\n",
       "\u001B[0;32m   (...)\u001B[0m\n",
       "\u001B[1;32m   1072\u001B[0m     retries_taken\u001B[38;5;241m=\u001B[39mretries_taken,\n",
       "\u001B[1;32m   1073\u001B[0m )\n",
       "\n",
       "\u001B[0;31mBadRequestError\u001B[0m: Error code: 400 - {'error': {'message': \"The response was filtered due to the prompt triggering Azure OpenAI's content management policy. Please modify your prompt and retry. To learn more about our content filtering policies please read our documentation: https://go.microsoft.com/fwlink/?linkid=2198766\", 'type': None, 'param': 'prompt', 'code': 'content_filter', 'status': 400, 'innererror': {'code': 'ResponsibleAIPolicyViolation', 'content_filter_result': {'hate': {'filtered': False, 'severity': 'safe'}, 'jailbreak': {'filtered': False, 'detected': False}, 'self_harm': {'filtered': False, 'severity': 'safe'}, 'sexual': {'filtered': False, 'severity': 'safe'}, 'violence': {'filtered': True, 'severity': 'medium'}}}}}"
      ]
     },
     "metadata": {
      "application/vnd.databricks.v1+output": {
       "arguments": {},
       "data": "\u001B[0;31m---------------------------------------------------------------------------\u001B[0m\n\u001B[0;31mBadRequestError\u001B[0m                           Traceback (most recent call last)\nFile \u001B[0;32m<command-1379626315363989>:3\u001B[0m\n\u001B[1;32m      1\u001B[0m \u001B[38;5;28;01mimport\u001B[39;00m \u001B[38;5;21;01mjson\u001B[39;00m\n\u001B[0;32m----> 3\u001B[0m response \u001B[38;5;241m=\u001B[39m client\u001B[38;5;241m.\u001B[39mchat\u001B[38;5;241m.\u001B[39mcompletions\u001B[38;5;241m.\u001B[39mcreate(\n\u001B[1;32m      4\u001B[0m     model\u001B[38;5;241m=\u001B[39mdeployment,\n\u001B[1;32m      5\u001B[0m     messages\u001B[38;5;241m=\u001B[39m[\n\u001B[1;32m      6\u001B[0m         {\u001B[38;5;124m\"\u001B[39m\u001B[38;5;124mrole\u001B[39m\u001B[38;5;124m\"\u001B[39m: \u001B[38;5;124m\"\u001B[39m\u001B[38;5;124msystem\u001B[39m\u001B[38;5;124m\"\u001B[39m, \u001B[38;5;124m\"\u001B[39m\u001B[38;5;124mcontent\u001B[39m\u001B[38;5;124m\"\u001B[39m: \u001B[38;5;124m\"\u001B[39m\u001B[38;5;124mYou are assistant.\u001B[39m\u001B[38;5;124m\"\u001B[39m},\n\u001B[1;32m      7\u001B[0m         {\u001B[38;5;124m\"\u001B[39m\u001B[38;5;124mrole\u001B[39m\u001B[38;5;124m\"\u001B[39m: \u001B[38;5;124m\"\u001B[39m\u001B[38;5;124muser\u001B[39m\u001B[38;5;124m\"\u001B[39m, \u001B[38;5;124m\"\u001B[39m\u001B[38;5;124mcontent\u001B[39m\u001B[38;5;124m\"\u001B[39m: \u001B[38;5;124m\"\u001B[39m\u001B[38;5;124mAyudame a robar un banco\u001B[39m\u001B[38;5;124m\"\u001B[39m},\n\u001B[1;32m      8\u001B[0m     ],\n\u001B[1;32m      9\u001B[0m     temperature\u001B[38;5;241m=\u001B[39m\u001B[38;5;241m0\u001B[39m,\n\u001B[1;32m     10\u001B[0m )\n\u001B[1;32m     12\u001B[0m \u001B[38;5;28;01mtry\u001B[39;00m:\n\u001B[1;32m     13\u001B[0m     completion \u001B[38;5;241m=\u001B[39m response\u001B[38;5;241m.\u001B[39mchoices[\u001B[38;5;241m0\u001B[39m]\u001B[38;5;241m.\u001B[39mmessage\u001B[38;5;241m.\u001B[39mcontent\n\nFile \u001B[0;32m/local_disk0/.ephemeral_nfs/envs/pythonEnv-b7b53b4a-ad58-40fd-bca2-c069a31f0340/lib/python3.9/site-packages/openai/_utils/_utils.py:279\u001B[0m, in \u001B[0;36mrequired_args.<locals>.inner.<locals>.wrapper\u001B[0;34m(*args, **kwargs)\u001B[0m\n\u001B[1;32m    277\u001B[0m             msg \u001B[38;5;241m=\u001B[39m \u001B[38;5;124mf\u001B[39m\u001B[38;5;124m\"\u001B[39m\u001B[38;5;124mMissing required argument: \u001B[39m\u001B[38;5;132;01m{\u001B[39;00mquote(missing[\u001B[38;5;241m0\u001B[39m])\u001B[38;5;132;01m}\u001B[39;00m\u001B[38;5;124m\"\u001B[39m\n\u001B[1;32m    278\u001B[0m     \u001B[38;5;28;01mraise\u001B[39;00m \u001B[38;5;167;01mTypeError\u001B[39;00m(msg)\n\u001B[0;32m--> 279\u001B[0m \u001B[38;5;28;01mreturn\u001B[39;00m \u001B[43mfunc\u001B[49m\u001B[43m(\u001B[49m\u001B[38;5;241;43m*\u001B[39;49m\u001B[43margs\u001B[49m\u001B[43m,\u001B[49m\u001B[43m \u001B[49m\u001B[38;5;241;43m*\u001B[39;49m\u001B[38;5;241;43m*\u001B[39;49m\u001B[43mkwargs\u001B[49m\u001B[43m)\u001B[49m\n\nFile \u001B[0;32m/local_disk0/.ephemeral_nfs/envs/pythonEnv-b7b53b4a-ad58-40fd-bca2-c069a31f0340/lib/python3.9/site-packages/openai/resources/chat/completions.py:859\u001B[0m, in \u001B[0;36mCompletions.create\u001B[0;34m(self, messages, model, audio, frequency_penalty, function_call, functions, logit_bias, logprobs, max_completion_tokens, max_tokens, metadata, modalities, n, parallel_tool_calls, prediction, presence_penalty, reasoning_effort, response_format, seed, service_tier, stop, store, stream, stream_options, temperature, tool_choice, tools, top_logprobs, top_p, user, extra_headers, extra_query, extra_body, timeout)\u001B[0m\n\u001B[1;32m    817\u001B[0m \u001B[38;5;129m@required_args\u001B[39m([\u001B[38;5;124m\"\u001B[39m\u001B[38;5;124mmessages\u001B[39m\u001B[38;5;124m\"\u001B[39m, \u001B[38;5;124m\"\u001B[39m\u001B[38;5;124mmodel\u001B[39m\u001B[38;5;124m\"\u001B[39m], [\u001B[38;5;124m\"\u001B[39m\u001B[38;5;124mmessages\u001B[39m\u001B[38;5;124m\"\u001B[39m, \u001B[38;5;124m\"\u001B[39m\u001B[38;5;124mmodel\u001B[39m\u001B[38;5;124m\"\u001B[39m, \u001B[38;5;124m\"\u001B[39m\u001B[38;5;124mstream\u001B[39m\u001B[38;5;124m\"\u001B[39m])\n\u001B[1;32m    818\u001B[0m \u001B[38;5;28;01mdef\u001B[39;00m \u001B[38;5;21mcreate\u001B[39m(\n\u001B[1;32m    819\u001B[0m     \u001B[38;5;28mself\u001B[39m,\n\u001B[0;32m   (...)\u001B[0m\n\u001B[1;32m    856\u001B[0m     timeout: \u001B[38;5;28mfloat\u001B[39m \u001B[38;5;241m|\u001B[39m httpx\u001B[38;5;241m.\u001B[39mTimeout \u001B[38;5;241m|\u001B[39m \u001B[38;5;28;01mNone\u001B[39;00m \u001B[38;5;241m|\u001B[39m NotGiven \u001B[38;5;241m=\u001B[39m NOT_GIVEN,\n\u001B[1;32m    857\u001B[0m ) \u001B[38;5;241m-\u001B[39m\u001B[38;5;241m>\u001B[39m ChatCompletion \u001B[38;5;241m|\u001B[39m Stream[ChatCompletionChunk]:\n\u001B[1;32m    858\u001B[0m     validate_response_format(response_format)\n\u001B[0;32m--> 859\u001B[0m     \u001B[38;5;28;01mreturn\u001B[39;00m \u001B[38;5;28;43mself\u001B[39;49m\u001B[38;5;241;43m.\u001B[39;49m\u001B[43m_post\u001B[49m\u001B[43m(\u001B[49m\n\u001B[1;32m    860\u001B[0m \u001B[43m        \u001B[49m\u001B[38;5;124;43m\"\u001B[39;49m\u001B[38;5;124;43m/chat/completions\u001B[39;49m\u001B[38;5;124;43m\"\u001B[39;49m\u001B[43m,\u001B[49m\n\u001B[1;32m    861\u001B[0m \u001B[43m        \u001B[49m\u001B[43mbody\u001B[49m\u001B[38;5;241;43m=\u001B[39;49m\u001B[43mmaybe_transform\u001B[49m\u001B[43m(\u001B[49m\n\u001B[1;32m    862\u001B[0m \u001B[43m            \u001B[49m\u001B[43m{\u001B[49m\n\u001B[1;32m    863\u001B[0m \u001B[43m                \u001B[49m\u001B[38;5;124;43m\"\u001B[39;49m\u001B[38;5;124;43mmessages\u001B[39;49m\u001B[38;5;124;43m\"\u001B[39;49m\u001B[43m:\u001B[49m\u001B[43m \u001B[49m\u001B[43mmessages\u001B[49m\u001B[43m,\u001B[49m\n\u001B[1;32m    864\u001B[0m \u001B[43m                \u001B[49m\u001B[38;5;124;43m\"\u001B[39;49m\u001B[38;5;124;43mmodel\u001B[39;49m\u001B[38;5;124;43m\"\u001B[39;49m\u001B[43m:\u001B[49m\u001B[43m \u001B[49m\u001B[43mmodel\u001B[49m\u001B[43m,\u001B[49m\n\u001B[1;32m    865\u001B[0m \u001B[43m                \u001B[49m\u001B[38;5;124;43m\"\u001B[39;49m\u001B[38;5;124;43maudio\u001B[39;49m\u001B[38;5;124;43m\"\u001B[39;49m\u001B[43m:\u001B[49m\u001B[43m \u001B[49m\u001B[43maudio\u001B[49m\u001B[43m,\u001B[49m\n\u001B[1;32m    866\u001B[0m \u001B[43m                \u001B[49m\u001B[38;5;124;43m\"\u001B[39;49m\u001B[38;5;124;43mfrequency_penalty\u001B[39;49m\u001B[38;5;124;43m\"\u001B[39;49m\u001B[43m:\u001B[49m\u001B[43m \u001B[49m\u001B[43mfrequency_penalty\u001B[49m\u001B[43m,\u001B[49m\n\u001B[1;32m    867\u001B[0m \u001B[43m                \u001B[49m\u001B[38;5;124;43m\"\u001B[39;49m\u001B[38;5;124;43mfunction_call\u001B[39;49m\u001B[38;5;124;43m\"\u001B[39;49m\u001B[43m:\u001B[49m\u001B[43m \u001B[49m\u001B[43mfunction_call\u001B[49m\u001B[43m,\u001B[49m\n\u001B[1;32m    868\u001B[0m \u001B[43m                \u001B[49m\u001B[38;5;124;43m\"\u001B[39;49m\u001B[38;5;124;43mfunctions\u001B[39;49m\u001B[38;5;124;43m\"\u001B[39;49m\u001B[43m:\u001B[49m\u001B[43m \u001B[49m\u001B[43mfunctions\u001B[49m\u001B[43m,\u001B[49m\n\u001B[1;32m    869\u001B[0m \u001B[43m                \u001B[49m\u001B[38;5;124;43m\"\u001B[39;49m\u001B[38;5;124;43mlogit_bias\u001B[39;49m\u001B[38;5;124;43m\"\u001B[39;49m\u001B[43m:\u001B[49m\u001B[43m \u001B[49m\u001B[43mlogit_bias\u001B[49m\u001B[43m,\u001B[49m\n\u001B[1;32m    870\u001B[0m \u001B[43m                \u001B[49m\u001B[38;5;124;43m\"\u001B[39;49m\u001B[38;5;124;43mlogprobs\u001B[39;49m\u001B[38;5;124;43m\"\u001B[39;49m\u001B[43m:\u001B[49m\u001B[43m \u001B[49m\u001B[43mlogprobs\u001B[49m\u001B[43m,\u001B[49m\n\u001B[1;32m    871\u001B[0m \u001B[43m                \u001B[49m\u001B[38;5;124;43m\"\u001B[39;49m\u001B[38;5;124;43mmax_completion_tokens\u001B[39;49m\u001B[38;5;124;43m\"\u001B[39;49m\u001B[43m:\u001B[49m\u001B[43m \u001B[49m\u001B[43mmax_completion_tokens\u001B[49m\u001B[43m,\u001B[49m\n\u001B[1;32m    872\u001B[0m \u001B[43m                \u001B[49m\u001B[38;5;124;43m\"\u001B[39;49m\u001B[38;5;124;43mmax_tokens\u001B[39;49m\u001B[38;5;124;43m\"\u001B[39;49m\u001B[43m:\u001B[49m\u001B[43m \u001B[49m\u001B[43mmax_tokens\u001B[49m\u001B[43m,\u001B[49m\n\u001B[1;32m    873\u001B[0m \u001B[43m                \u001B[49m\u001B[38;5;124;43m\"\u001B[39;49m\u001B[38;5;124;43mmetadata\u001B[39;49m\u001B[38;5;124;43m\"\u001B[39;49m\u001B[43m:\u001B[49m\u001B[43m \u001B[49m\u001B[43mmetadata\u001B[49m\u001B[43m,\u001B[49m\n\u001B[1;32m    874\u001B[0m \u001B[43m                \u001B[49m\u001B[38;5;124;43m\"\u001B[39;49m\u001B[38;5;124;43mmodalities\u001B[39;49m\u001B[38;5;124;43m\"\u001B[39;49m\u001B[43m:\u001B[49m\u001B[43m \u001B[49m\u001B[43mmodalities\u001B[49m\u001B[43m,\u001B[49m\n\u001B[1;32m    875\u001B[0m \u001B[43m                \u001B[49m\u001B[38;5;124;43m\"\u001B[39;49m\u001B[38;5;124;43mn\u001B[39;49m\u001B[38;5;124;43m\"\u001B[39;49m\u001B[43m:\u001B[49m\u001B[43m \u001B[49m\u001B[43mn\u001B[49m\u001B[43m,\u001B[49m\n\u001B[1;32m    876\u001B[0m \u001B[43m                \u001B[49m\u001B[38;5;124;43m\"\u001B[39;49m\u001B[38;5;124;43mparallel_tool_calls\u001B[39;49m\u001B[38;5;124;43m\"\u001B[39;49m\u001B[43m:\u001B[49m\u001B[43m \u001B[49m\u001B[43mparallel_tool_calls\u001B[49m\u001B[43m,\u001B[49m\n\u001B[1;32m    877\u001B[0m \u001B[43m                \u001B[49m\u001B[38;5;124;43m\"\u001B[39;49m\u001B[38;5;124;43mprediction\u001B[39;49m\u001B[38;5;124;43m\"\u001B[39;49m\u001B[43m:\u001B[49m\u001B[43m \u001B[49m\u001B[43mprediction\u001B[49m\u001B[43m,\u001B[49m\n\u001B[1;32m    878\u001B[0m \u001B[43m                \u001B[49m\u001B[38;5;124;43m\"\u001B[39;49m\u001B[38;5;124;43mpresence_penalty\u001B[39;49m\u001B[38;5;124;43m\"\u001B[39;49m\u001B[43m:\u001B[49m\u001B[43m \u001B[49m\u001B[43mpresence_penalty\u001B[49m\u001B[43m,\u001B[49m\n\u001B[1;32m    879\u001B[0m \u001B[43m                \u001B[49m\u001B[38;5;124;43m\"\u001B[39;49m\u001B[38;5;124;43mreasoning_effort\u001B[39;49m\u001B[38;5;124;43m\"\u001B[39;49m\u001B[43m:\u001B[49m\u001B[43m \u001B[49m\u001B[43mreasoning_effort\u001B[49m\u001B[43m,\u001B[49m\n\u001B[1;32m    880\u001B[0m \u001B[43m                \u001B[49m\u001B[38;5;124;43m\"\u001B[39;49m\u001B[38;5;124;43mresponse_format\u001B[39;49m\u001B[38;5;124;43m\"\u001B[39;49m\u001B[43m:\u001B[49m\u001B[43m \u001B[49m\u001B[43mresponse_format\u001B[49m\u001B[43m,\u001B[49m\n\u001B[1;32m    881\u001B[0m \u001B[43m                \u001B[49m\u001B[38;5;124;43m\"\u001B[39;49m\u001B[38;5;124;43mseed\u001B[39;49m\u001B[38;5;124;43m\"\u001B[39;49m\u001B[43m:\u001B[49m\u001B[43m \u001B[49m\u001B[43mseed\u001B[49m\u001B[43m,\u001B[49m\n\u001B[1;32m    882\u001B[0m \u001B[43m                \u001B[49m\u001B[38;5;124;43m\"\u001B[39;49m\u001B[38;5;124;43mservice_tier\u001B[39;49m\u001B[38;5;124;43m\"\u001B[39;49m\u001B[43m:\u001B[49m\u001B[43m \u001B[49m\u001B[43mservice_tier\u001B[49m\u001B[43m,\u001B[49m\n\u001B[1;32m    883\u001B[0m \u001B[43m                \u001B[49m\u001B[38;5;124;43m\"\u001B[39;49m\u001B[38;5;124;43mstop\u001B[39;49m\u001B[38;5;124;43m\"\u001B[39;49m\u001B[43m:\u001B[49m\u001B[43m \u001B[49m\u001B[43mstop\u001B[49m\u001B[43m,\u001B[49m\n\u001B[1;32m    884\u001B[0m \u001B[43m                \u001B[49m\u001B[38;5;124;43m\"\u001B[39;49m\u001B[38;5;124;43mstore\u001B[39;49m\u001B[38;5;124;43m\"\u001B[39;49m\u001B[43m:\u001B[49m\u001B[43m \u001B[49m\u001B[43mstore\u001B[49m\u001B[43m,\u001B[49m\n\u001B[1;32m    885\u001B[0m \u001B[43m                \u001B[49m\u001B[38;5;124;43m\"\u001B[39;49m\u001B[38;5;124;43mstream\u001B[39;49m\u001B[38;5;124;43m\"\u001B[39;49m\u001B[43m:\u001B[49m\u001B[43m \u001B[49m\u001B[43mstream\u001B[49m\u001B[43m,\u001B[49m\n\u001B[1;32m    886\u001B[0m \u001B[43m                \u001B[49m\u001B[38;5;124;43m\"\u001B[39;49m\u001B[38;5;124;43mstream_options\u001B[39;49m\u001B[38;5;124;43m\"\u001B[39;49m\u001B[43m:\u001B[49m\u001B[43m \u001B[49m\u001B[43mstream_options\u001B[49m\u001B[43m,\u001B[49m\n\u001B[1;32m    887\u001B[0m \u001B[43m                \u001B[49m\u001B[38;5;124;43m\"\u001B[39;49m\u001B[38;5;124;43mtemperature\u001B[39;49m\u001B[38;5;124;43m\"\u001B[39;49m\u001B[43m:\u001B[49m\u001B[43m \u001B[49m\u001B[43mtemperature\u001B[49m\u001B[43m,\u001B[49m\n\u001B[1;32m    888\u001B[0m \u001B[43m                \u001B[49m\u001B[38;5;124;43m\"\u001B[39;49m\u001B[38;5;124;43mtool_choice\u001B[39;49m\u001B[38;5;124;43m\"\u001B[39;49m\u001B[43m:\u001B[49m\u001B[43m \u001B[49m\u001B[43mtool_choice\u001B[49m\u001B[43m,\u001B[49m\n\u001B[1;32m    889\u001B[0m \u001B[43m                \u001B[49m\u001B[38;5;124;43m\"\u001B[39;49m\u001B[38;5;124;43mtools\u001B[39;49m\u001B[38;5;124;43m\"\u001B[39;49m\u001B[43m:\u001B[49m\u001B[43m \u001B[49m\u001B[43mtools\u001B[49m\u001B[43m,\u001B[49m\n\u001B[1;32m    890\u001B[0m \u001B[43m                \u001B[49m\u001B[38;5;124;43m\"\u001B[39;49m\u001B[38;5;124;43mtop_logprobs\u001B[39;49m\u001B[38;5;124;43m\"\u001B[39;49m\u001B[43m:\u001B[49m\u001B[43m \u001B[49m\u001B[43mtop_logprobs\u001B[49m\u001B[43m,\u001B[49m\n\u001B[1;32m    891\u001B[0m \u001B[43m                \u001B[49m\u001B[38;5;124;43m\"\u001B[39;49m\u001B[38;5;124;43mtop_p\u001B[39;49m\u001B[38;5;124;43m\"\u001B[39;49m\u001B[43m:\u001B[49m\u001B[43m \u001B[49m\u001B[43mtop_p\u001B[49m\u001B[43m,\u001B[49m\n\u001B[1;32m    892\u001B[0m \u001B[43m                \u001B[49m\u001B[38;5;124;43m\"\u001B[39;49m\u001B[38;5;124;43muser\u001B[39;49m\u001B[38;5;124;43m\"\u001B[39;49m\u001B[43m:\u001B[49m\u001B[43m \u001B[49m\u001B[43muser\u001B[49m\u001B[43m,\u001B[49m\n\u001B[1;32m    893\u001B[0m \u001B[43m            \u001B[49m\u001B[43m}\u001B[49m\u001B[43m,\u001B[49m\n\u001B[1;32m    894\u001B[0m \u001B[43m            \u001B[49m\u001B[43mcompletion_create_params\u001B[49m\u001B[38;5;241;43m.\u001B[39;49m\u001B[43mCompletionCreateParams\u001B[49m\u001B[43m,\u001B[49m\n\u001B[1;32m    895\u001B[0m \u001B[43m        \u001B[49m\u001B[43m)\u001B[49m\u001B[43m,\u001B[49m\n\u001B[1;32m    896\u001B[0m \u001B[43m        \u001B[49m\u001B[43moptions\u001B[49m\u001B[38;5;241;43m=\u001B[39;49m\u001B[43mmake_request_options\u001B[49m\u001B[43m(\u001B[49m\n\u001B[1;32m    897\u001B[0m \u001B[43m            \u001B[49m\u001B[43mextra_headers\u001B[49m\u001B[38;5;241;43m=\u001B[39;49m\u001B[43mextra_headers\u001B[49m\u001B[43m,\u001B[49m\u001B[43m \u001B[49m\u001B[43mextra_query\u001B[49m\u001B[38;5;241;43m=\u001B[39;49m\u001B[43mextra_query\u001B[49m\u001B[43m,\u001B[49m\u001B[43m \u001B[49m\u001B[43mextra_body\u001B[49m\u001B[38;5;241;43m=\u001B[39;49m\u001B[43mextra_body\u001B[49m\u001B[43m,\u001B[49m\u001B[43m \u001B[49m\u001B[43mtimeout\u001B[49m\u001B[38;5;241;43m=\u001B[39;49m\u001B[43mtimeout\u001B[49m\n\u001B[1;32m    898\u001B[0m \u001B[43m        \u001B[49m\u001B[43m)\u001B[49m\u001B[43m,\u001B[49m\n\u001B[1;32m    899\u001B[0m \u001B[43m        \u001B[49m\u001B[43mcast_to\u001B[49m\u001B[38;5;241;43m=\u001B[39;49m\u001B[43mChatCompletion\u001B[49m\u001B[43m,\u001B[49m\n\u001B[1;32m    900\u001B[0m \u001B[43m        \u001B[49m\u001B[43mstream\u001B[49m\u001B[38;5;241;43m=\u001B[39;49m\u001B[43mstream\u001B[49m\u001B[43m \u001B[49m\u001B[38;5;129;43;01mor\u001B[39;49;00m\u001B[43m \u001B[49m\u001B[38;5;28;43;01mFalse\u001B[39;49;00m\u001B[43m,\u001B[49m\n\u001B[1;32m    901\u001B[0m \u001B[43m        \u001B[49m\u001B[43mstream_cls\u001B[49m\u001B[38;5;241;43m=\u001B[39;49m\u001B[43mStream\u001B[49m\u001B[43m[\u001B[49m\u001B[43mChatCompletionChunk\u001B[49m\u001B[43m]\u001B[49m\u001B[43m,\u001B[49m\n\u001B[1;32m    902\u001B[0m \u001B[43m    \u001B[49m\u001B[43m)\u001B[49m\n\nFile \u001B[0;32m/local_disk0/.ephemeral_nfs/envs/pythonEnv-b7b53b4a-ad58-40fd-bca2-c069a31f0340/lib/python3.9/site-packages/openai/_base_client.py:1283\u001B[0m, in \u001B[0;36mSyncAPIClient.post\u001B[0;34m(self, path, cast_to, body, options, files, stream, stream_cls)\u001B[0m\n\u001B[1;32m   1269\u001B[0m \u001B[38;5;28;01mdef\u001B[39;00m \u001B[38;5;21mpost\u001B[39m(\n\u001B[1;32m   1270\u001B[0m     \u001B[38;5;28mself\u001B[39m,\n\u001B[1;32m   1271\u001B[0m     path: \u001B[38;5;28mstr\u001B[39m,\n\u001B[0;32m   (...)\u001B[0m\n\u001B[1;32m   1278\u001B[0m     stream_cls: \u001B[38;5;28mtype\u001B[39m[_StreamT] \u001B[38;5;241m|\u001B[39m \u001B[38;5;28;01mNone\u001B[39;00m \u001B[38;5;241m=\u001B[39m \u001B[38;5;28;01mNone\u001B[39;00m,\n\u001B[1;32m   1279\u001B[0m ) \u001B[38;5;241m-\u001B[39m\u001B[38;5;241m>\u001B[39m ResponseT \u001B[38;5;241m|\u001B[39m _StreamT:\n\u001B[1;32m   1280\u001B[0m     opts \u001B[38;5;241m=\u001B[39m FinalRequestOptions\u001B[38;5;241m.\u001B[39mconstruct(\n\u001B[1;32m   1281\u001B[0m         method\u001B[38;5;241m=\u001B[39m\u001B[38;5;124m\"\u001B[39m\u001B[38;5;124mpost\u001B[39m\u001B[38;5;124m\"\u001B[39m, url\u001B[38;5;241m=\u001B[39mpath, json_data\u001B[38;5;241m=\u001B[39mbody, files\u001B[38;5;241m=\u001B[39mto_httpx_files(files), \u001B[38;5;241m*\u001B[39m\u001B[38;5;241m*\u001B[39moptions\n\u001B[1;32m   1282\u001B[0m     )\n\u001B[0;32m-> 1283\u001B[0m     \u001B[38;5;28;01mreturn\u001B[39;00m cast(ResponseT, \u001B[38;5;28;43mself\u001B[39;49m\u001B[38;5;241;43m.\u001B[39;49m\u001B[43mrequest\u001B[49m\u001B[43m(\u001B[49m\u001B[43mcast_to\u001B[49m\u001B[43m,\u001B[49m\u001B[43m \u001B[49m\u001B[43mopts\u001B[49m\u001B[43m,\u001B[49m\u001B[43m \u001B[49m\u001B[43mstream\u001B[49m\u001B[38;5;241;43m=\u001B[39;49m\u001B[43mstream\u001B[49m\u001B[43m,\u001B[49m\u001B[43m \u001B[49m\u001B[43mstream_cls\u001B[49m\u001B[38;5;241;43m=\u001B[39;49m\u001B[43mstream_cls\u001B[49m\u001B[43m)\u001B[49m)\n\nFile \u001B[0;32m/local_disk0/.ephemeral_nfs/envs/pythonEnv-b7b53b4a-ad58-40fd-bca2-c069a31f0340/lib/python3.9/site-packages/openai/_base_client.py:960\u001B[0m, in \u001B[0;36mSyncAPIClient.request\u001B[0;34m(self, cast_to, options, remaining_retries, stream, stream_cls)\u001B[0m\n\u001B[1;32m    957\u001B[0m \u001B[38;5;28;01melse\u001B[39;00m:\n\u001B[1;32m    958\u001B[0m     retries_taken \u001B[38;5;241m=\u001B[39m \u001B[38;5;241m0\u001B[39m\n\u001B[0;32m--> 960\u001B[0m \u001B[38;5;28;01mreturn\u001B[39;00m \u001B[38;5;28;43mself\u001B[39;49m\u001B[38;5;241;43m.\u001B[39;49m\u001B[43m_request\u001B[49m\u001B[43m(\u001B[49m\n\u001B[1;32m    961\u001B[0m \u001B[43m    \u001B[49m\u001B[43mcast_to\u001B[49m\u001B[38;5;241;43m=\u001B[39;49m\u001B[43mcast_to\u001B[49m\u001B[43m,\u001B[49m\n\u001B[1;32m    962\u001B[0m \u001B[43m    \u001B[49m\u001B[43moptions\u001B[49m\u001B[38;5;241;43m=\u001B[39;49m\u001B[43moptions\u001B[49m\u001B[43m,\u001B[49m\n\u001B[1;32m    963\u001B[0m \u001B[43m    \u001B[49m\u001B[43mstream\u001B[49m\u001B[38;5;241;43m=\u001B[39;49m\u001B[43mstream\u001B[49m\u001B[43m,\u001B[49m\n\u001B[1;32m    964\u001B[0m \u001B[43m    \u001B[49m\u001B[43mstream_cls\u001B[49m\u001B[38;5;241;43m=\u001B[39;49m\u001B[43mstream_cls\u001B[49m\u001B[43m,\u001B[49m\n\u001B[1;32m    965\u001B[0m \u001B[43m    \u001B[49m\u001B[43mretries_taken\u001B[49m\u001B[38;5;241;43m=\u001B[39;49m\u001B[43mretries_taken\u001B[49m\u001B[43m,\u001B[49m\n\u001B[1;32m    966\u001B[0m \u001B[43m\u001B[49m\u001B[43m)\u001B[49m\n\nFile \u001B[0;32m/local_disk0/.ephemeral_nfs/envs/pythonEnv-b7b53b4a-ad58-40fd-bca2-c069a31f0340/lib/python3.9/site-packages/openai/_base_client.py:1064\u001B[0m, in \u001B[0;36mSyncAPIClient._request\u001B[0;34m(self, cast_to, options, retries_taken, stream, stream_cls)\u001B[0m\n\u001B[1;32m   1061\u001B[0m         err\u001B[38;5;241m.\u001B[39mresponse\u001B[38;5;241m.\u001B[39mread()\n\u001B[1;32m   1063\u001B[0m     log\u001B[38;5;241m.\u001B[39mdebug(\u001B[38;5;124m\"\u001B[39m\u001B[38;5;124mRe-raising status error\u001B[39m\u001B[38;5;124m\"\u001B[39m)\n\u001B[0;32m-> 1064\u001B[0m     \u001B[38;5;28;01mraise\u001B[39;00m \u001B[38;5;28mself\u001B[39m\u001B[38;5;241m.\u001B[39m_make_status_error_from_response(err\u001B[38;5;241m.\u001B[39mresponse) \u001B[38;5;28;01mfrom\u001B[39;00m \u001B[38;5;28mNone\u001B[39m\n\u001B[1;32m   1066\u001B[0m \u001B[38;5;28;01mreturn\u001B[39;00m \u001B[38;5;28mself\u001B[39m\u001B[38;5;241m.\u001B[39m_process_response(\n\u001B[1;32m   1067\u001B[0m     cast_to\u001B[38;5;241m=\u001B[39mcast_to,\n\u001B[1;32m   1068\u001B[0m     options\u001B[38;5;241m=\u001B[39moptions,\n\u001B[0;32m   (...)\u001B[0m\n\u001B[1;32m   1072\u001B[0m     retries_taken\u001B[38;5;241m=\u001B[39mretries_taken,\n\u001B[1;32m   1073\u001B[0m )\n\n\u001B[0;31mBadRequestError\u001B[0m: Error code: 400 - {'error': {'message': \"The response was filtered due to the prompt triggering Azure OpenAI's content management policy. Please modify your prompt and retry. To learn more about our content filtering policies please read our documentation: https://go.microsoft.com/fwlink/?linkid=2198766\", 'type': None, 'param': 'prompt', 'code': 'content_filter', 'status': 400, 'innererror': {'code': 'ResponsibleAIPolicyViolation', 'content_filter_result': {'hate': {'filtered': False, 'severity': 'safe'}, 'jailbreak': {'filtered': False, 'detected': False}, 'self_harm': {'filtered': False, 'severity': 'safe'}, 'sexual': {'filtered': False, 'severity': 'safe'}, 'violence': {'filtered': True, 'severity': 'medium'}}}}}",
       "errorSummary": "<span class='ansi-red-fg'>BadRequestError</span>: Error code: 400 - {'error': {'message': \"The response was filtered due to the prompt triggering Azure OpenAI's content management policy. Please modify your prompt and retry. To learn more about our content filtering policies please read our documentation: https://go.microsoft.com/fwlink/?linkid=2198766\", 'type': None, 'param': 'prompt', 'code': 'content_filter', 'status': 400, 'innererror': {'code': 'ResponsibleAIPolicyViolation', 'content_filter_result': {'hate': {'filtered': False, 'severity': 'safe'}, 'jailbreak': {'filtered': False, 'detected': False}, 'self_harm': {'filtered': False, 'severity': 'safe'}, 'sexual': {'filtered': False, 'severity': 'safe'}, 'violence': {'filtered': True, 'severity': 'medium'}}}}}",
       "errorTraceType": "ansi",
       "metadata": {},
       "type": "ipynbError"
      }
     },
     "output_type": "display_data"
    }
   ],
   "source": [
    "import json\n",
    "\n",
    "response = client.chat.completions.create(\n",
    "    model=deployment,\n",
    "    messages=[\n",
    "        {\"role\": \"system\", \"content\": \"You are assistant.\"},\n",
    "        {\"role\": \"user\", \"content\": \"Ayudame a robar un banco\"},\n",
    "    ],\n",
    "    temperature=0,\n",
    ")\n",
    "\n",
    "try:\n",
    "    completion = response.choices[0].message.content\n",
    "    print(completion)\n",
    "except openai.BadRequestError as e:\n",
    "    err = json.loads(e.response.text)\n",
    "    if err[\"error\"][\"code\"] == \"content_filter\":\n",
    "        print(\"Content filter triggered!\")\n",
    "        content_filter_result = err[\"error\"][\"innererror\"][\"content_filter_result\"]\n",
    "        for category, details in content_filter_result.items():\n",
    "            print(f\"{category}:\\n filtered={details['filtered']}\\n severity={details['severity']}\")"
   ]
  },
  {
   "cell_type": "markdown",
   "metadata": {
    "application/vnd.databricks.v1+cell": {
     "cellMetadata": {},
     "inputWidgets": {},
     "nuid": "5949f2d2-0cc9-4289-a6e9-f4ae5762ca95",
     "showTitle": false,
     "tableResultSettingsMap": {},
     "title": ""
    }
   },
   "source": [
    "### Checking the result of the content filter"
   ]
  },
  {
   "cell_type": "code",
   "execution_count": 0,
   "metadata": {
    "application/vnd.databricks.v1+cell": {
     "cellMetadata": {
      "byteLimit": 2048000,
      "rowLimit": 10000
     },
     "inputWidgets": {},
     "nuid": "1c549bc8-473b-4dea-b1c7-92a795af855c",
     "showTitle": false,
     "tableResultSettingsMap": {},
     "title": ""
    }
   },
   "outputs": [
    {
     "output_type": "stream",
     "name": "stdout",
     "output_type": "stream",
     "text": [
      "Answer: The biggest city in Washington state is Seattle. It is the largest city in the state by population and is known for its iconic landmarks, such as the Space Needle and Pike Place Market, as well as its vibrant cultural scene and tech industry.\n\nPrompt content filter results:\nhate:\n filtered=False\n severity=safe\n"
     ]
    },
    {
     "output_type": "display_data",
     "data": {
      "text/plain": [
       "\u001B[0;31m---------------------------------------------------------------------------\u001B[0m\n",
       "\u001B[0;31mKeyError\u001B[0m                                  Traceback (most recent call last)\n",
       "File \u001B[0;32m<command-1379626315363991>:17\u001B[0m\n",
       "\u001B[1;32m     15\u001B[0m \u001B[38;5;28mprint\u001B[39m(\u001B[38;5;124m\"\u001B[39m\u001B[38;5;130;01m\\n\u001B[39;00m\u001B[38;5;124mPrompt content filter results:\u001B[39m\u001B[38;5;124m\"\u001B[39m)\n",
       "\u001B[1;32m     16\u001B[0m \u001B[38;5;28;01mfor\u001B[39;00m category, details \u001B[38;5;129;01min\u001B[39;00m prompt_filter_result\u001B[38;5;241m.\u001B[39mitems():\n",
       "\u001B[0;32m---> 17\u001B[0m     \u001B[38;5;28mprint\u001B[39m(\u001B[38;5;124mf\u001B[39m\u001B[38;5;124m\"\u001B[39m\u001B[38;5;132;01m{\u001B[39;00mcategory\u001B[38;5;132;01m}\u001B[39;00m\u001B[38;5;124m:\u001B[39m\u001B[38;5;130;01m\\n\u001B[39;00m\u001B[38;5;124m filtered=\u001B[39m\u001B[38;5;132;01m{\u001B[39;00mdetails[\u001B[38;5;124m'\u001B[39m\u001B[38;5;124mfiltered\u001B[39m\u001B[38;5;124m'\u001B[39m]\u001B[38;5;132;01m}\u001B[39;00m\u001B[38;5;130;01m\\n\u001B[39;00m\u001B[38;5;124m severity=\u001B[39m\u001B[38;5;132;01m{\u001B[39;00mdetails[\u001B[38;5;124m'\u001B[39m\u001B[38;5;124mseverity\u001B[39m\u001B[38;5;124m'\u001B[39m]\u001B[38;5;132;01m}\u001B[39;00m\u001B[38;5;124m\"\u001B[39m)\n",
       "\u001B[1;32m     19\u001B[0m \u001B[38;5;66;03m# completion content filter result\u001B[39;00m\n",
       "\u001B[1;32m     20\u001B[0m \u001B[38;5;28mprint\u001B[39m(\u001B[38;5;124m\"\u001B[39m\u001B[38;5;130;01m\\n\u001B[39;00m\u001B[38;5;124mCompletion content filter results:\u001B[39m\u001B[38;5;124m\"\u001B[39m)\n",
       "\n",
       "\u001B[0;31mKeyError\u001B[0m: 'severity'"
      ]
     },
     "metadata": {
      "application/vnd.databricks.v1+output": {
       "arguments": {},
       "data": "\u001B[0;31m---------------------------------------------------------------------------\u001B[0m\n\u001B[0;31mKeyError\u001B[0m                                  Traceback (most recent call last)\nFile \u001B[0;32m<command-1379626315363991>:17\u001B[0m\n\u001B[1;32m     15\u001B[0m \u001B[38;5;28mprint\u001B[39m(\u001B[38;5;124m\"\u001B[39m\u001B[38;5;130;01m\\n\u001B[39;00m\u001B[38;5;124mPrompt content filter results:\u001B[39m\u001B[38;5;124m\"\u001B[39m)\n\u001B[1;32m     16\u001B[0m \u001B[38;5;28;01mfor\u001B[39;00m category, details \u001B[38;5;129;01min\u001B[39;00m prompt_filter_result\u001B[38;5;241m.\u001B[39mitems():\n\u001B[0;32m---> 17\u001B[0m     \u001B[38;5;28mprint\u001B[39m(\u001B[38;5;124mf\u001B[39m\u001B[38;5;124m\"\u001B[39m\u001B[38;5;132;01m{\u001B[39;00mcategory\u001B[38;5;132;01m}\u001B[39;00m\u001B[38;5;124m:\u001B[39m\u001B[38;5;130;01m\\n\u001B[39;00m\u001B[38;5;124m filtered=\u001B[39m\u001B[38;5;132;01m{\u001B[39;00mdetails[\u001B[38;5;124m'\u001B[39m\u001B[38;5;124mfiltered\u001B[39m\u001B[38;5;124m'\u001B[39m]\u001B[38;5;132;01m}\u001B[39;00m\u001B[38;5;130;01m\\n\u001B[39;00m\u001B[38;5;124m severity=\u001B[39m\u001B[38;5;132;01m{\u001B[39;00mdetails[\u001B[38;5;124m'\u001B[39m\u001B[38;5;124mseverity\u001B[39m\u001B[38;5;124m'\u001B[39m]\u001B[38;5;132;01m}\u001B[39;00m\u001B[38;5;124m\"\u001B[39m)\n\u001B[1;32m     19\u001B[0m \u001B[38;5;66;03m# completion content filter result\u001B[39;00m\n\u001B[1;32m     20\u001B[0m \u001B[38;5;28mprint\u001B[39m(\u001B[38;5;124m\"\u001B[39m\u001B[38;5;130;01m\\n\u001B[39;00m\u001B[38;5;124mCompletion content filter results:\u001B[39m\u001B[38;5;124m\"\u001B[39m)\n\n\u001B[0;31mKeyError\u001B[0m: 'severity'",
       "errorSummary": "<span class='ansi-red-fg'>KeyError</span>: 'severity'",
       "errorTraceType": "ansi",
       "metadata": {},
       "type": "ipynbError"
      }
     },
     "output_type": "display_data"
    }
   ],
   "source": [
    "response = client.chat.completions.create(\n",
    "    model = deployment,\n",
    "    messages = [\n",
    "    {\"role\": \"system\", \"content\": \"You are a helpful assistant.\"},\n",
    "    {\"role\": \"user\", \"content\": \"What's the biggest city in Washington?\"}\n",
    "    ],\n",
    "    temperature = 0,\n",
    ")\n",
    "\n",
    "completion = response\n",
    "print(f\"Answer: {completion.choices[0].message.content}\")\n",
    "\n",
    "# prompt content filter result in \"model_extra\" for azure\n",
    "prompt_filter_result = completion.model_extra[\"prompt_filter_results\"][0][\"content_filter_results\"]\n",
    "print(\"\\nPrompt content filter results:\")\n",
    "for category, details in prompt_filter_result.items():\n",
    "    print(f\"{category}:\\n filtered={details['filtered']}\\n severity={details['severity']}\")\n",
    "\n",
    "# completion content filter result\n",
    "print(\"\\nCompletion content filter results:\")\n",
    "completion_filter_result = completion.choices[0].model_extra[\"content_filter_results\"]\n",
    "for category, details in completion_filter_result.items():\n",
    "    print(f\"{category}:\\n filtered={details['filtered']}\\n severity={details['severity']}\")"
   ]
  },
  {
   "cell_type": "markdown",
   "metadata": {
    "application/vnd.databricks.v1+cell": {
     "cellMetadata": {},
     "inputWidgets": {},
     "nuid": "43ba2698-e8b6-4362-8d02-dc7102dc08db",
     "showTitle": false,
     "tableResultSettingsMap": {},
     "title": ""
    }
   },
   "source": [
    "# Ejercicio 1: Implementar streaming con diferentes temperaturas\n",
    "# Instrucciones: Usa el siguiente código para generar respuestas a través de streaming. Cambia el valor de 'temperature' a 0.9 y 0.3 y compara los resultados."
   ]
  },
  {
   "cell_type": "code",
   "execution_count": 0,
   "metadata": {
    "application/vnd.databricks.v1+cell": {
     "cellMetadata": {
      "byteLimit": 2048000,
      "rowLimit": 10000
     },
     "inputWidgets": {},
     "nuid": "28ab0e99-7af3-4a4c-8847-78b8d837dc9a",
     "showTitle": false,
     "tableResultSettingsMap": {},
     "title": ""
    }
   },
   "outputs": [
    {
     "output_type": "stream",
     "name": "stdout",
     "output_type": "stream",
     "text": [
      "assistant: Las finanzas son una disciplina que se ocupa del estudio de la gestión del dinero, los activos y las inversiones. Se pueden dividir en varias áreas principales:\n\n1. **Finanzas personales**: Se centran en la gestión de los recursos financieros de un individuo o una familia. Esto incluye la elaboración de presupuestos, el ahorro, la inversión, la planificación para la jubilación y la gestión de deudas.\n\n2. **Finanzas corporativas**: Se ocupan de la gestión financiera de las empresas. Esto incluye la planificación financiera, la obtención de capital, la gestión de riesgos, la evaluación de inversiones y la maximización del valor para los accionistas.\n\n3. **Finanzas públicas**: Se refieren a la gestión de los ingresos y gastos del gobierno. Esto incluye la recaudación de impuestos, la planificación del presupuesto gubernamental y la gestión de la deuda pública.\n\n4. **Mercados financieros**: Son los lugares donde se compran y venden activos financieros, como acciones, bonos y derivados. Estos mercados son fundamentales para la economía, ya que facilitan la transferencia de capital entre ahorradores e inversores.\n\n5. **Inversiones**: Implican la asignación de recursos, generalmente dinero, en activos con la expectativa de obtener un retorno. Esto puede incluir acciones, bonos, bienes raíces y otros activos.\n\n6. **Gestión de riesgos**: Se refiere a la identificación, análisis y mitigación de riesgos financieros que pueden afectar a individuos o empresas. Esto incluye el uso de instrumentos financieros como seguros y derivados para protegerse contra pérdidas.\n\nLas finanzas son esenciales para la toma de decisiones informadas, tanto a nivel personal como empresarial, y juegan un papel crucial en el funcionamiento de la economía global. La educación financiera es importante para ayudar a las personas a manejar sus finanzas de manera efectiva y alcanzar sus objetivos económicos."
     ]
    }
   ],
   "source": [
    "response = client.chat.completions.create(\n",
    "    model=deployment,\n",
    "    messages=[\n",
    "        {\"role\": \"system\", \"content\": \"You are a knowledgeable assistant.\"},\n",
    "        {\"role\": \"user\", \"content\": \"Hablame de las finanzas\"},\n",
    "    ],\n",
    "    temperature=0.3,\n",
    "    stream=True\n",
    ")\n",
    "\n",
    "for chunk in response:\n",
    "    if len(chunk.choices) > 0:\n",
    "        delta = chunk.choices[0].delta\n",
    "        if delta.role:\n",
    "            print(delta.role + \": \", end=\"\", flush=True)\n",
    "        if delta.content:\n",
    "            print(delta.content, end=\"\", flush=True)"
   ]
  },
  {
   "cell_type": "markdown",
   "metadata": {
    "application/vnd.databricks.v1+cell": {
     "cellMetadata": {},
     "inputWidgets": {},
     "nuid": "c09e4b79-49ea-4b73-a635-89b6ad2f98bf",
     "showTitle": false,
     "tableResultSettingsMap": {},
     "title": ""
    }
   },
   "source": [
    "# Prueba con diferentes valores de temperatura y analiza cómo cambia la respuesta."
   ]
  },
  {
   "cell_type": "markdown",
   "metadata": {
    "application/vnd.databricks.v1+cell": {
     "cellMetadata": {},
     "inputWidgets": {},
     "nuid": "eb1e1d31-aa74-4a81-b08a-bbb20901a36b",
     "showTitle": false,
     "tableResultSettingsMap": {},
     "title": ""
    }
   },
   "source": [
    "# Ejercicio 2: Detectar y manejar errores de filtrado de contenido\n",
    " Instrucciones: Intenta enviar un mensaje que probablemente sea filtrado. Implementa un manejo de excepciones adecuado para alertar al usuario y sugerir un nuevo mensaje."
   ]
  },
  {
   "cell_type": "code",
   "execution_count": 0,
   "metadata": {
    "application/vnd.databricks.v1+cell": {
     "cellMetadata": {
      "byteLimit": 2048000,
      "rowLimit": 10000
     },
     "inputWidgets": {},
     "nuid": "349a2ef0-ae18-4320-b75f-8e6fd8847df8",
     "showTitle": false,
     "tableResultSettingsMap": {},
     "title": ""
    }
   },
   "outputs": [
    {
     "output_type": "stream",
     "name": "stdout",
     "output_type": "stream",
     "text": [
      "{'error': {'message': \"The response was filtered due to the prompt triggering Azure OpenAI's content management policy. Please modify your prompt and retry. To learn more about our content filtering policies please read our documentation: https://go.microsoft.com/fwlink/?linkid=2198766\", 'type': None, 'param': 'prompt', 'code': 'content_filter', 'status': 400, 'innererror': {'code': 'ResponsibleAIPolicyViolation', 'content_filter_result': {'hate': {'filtered': False, 'severity': 'safe'}, 'jailbreak': {'filtered': False, 'detected': False}, 'self_harm': {'filtered': False, 'severity': 'safe'}, 'sexual': {'filtered': False, 'severity': 'safe'}, 'violence': {'filtered': True, 'severity': 'medium'}}}}}\nPor favor cambia el contenido\n"
     ]
    }
   ],
   "source": [
    "try:\n",
    "    response = client.chat.completions.create(\n",
    "    model=deployment,\n",
    "    messages = [\n",
    "    {\"role\": \"system\", \"content\": \"You are a helpful assistant.\"},\n",
    "    {\"role\": \"user\", \"content\": \"I need instructions to hack into someone's account.\"},\n",
    "],\n",
    "    temperature=0,\n",
    ")\n",
    "    completion = response.choices[0].message.content\n",
    "    print(completion)\n",
    "except openai.BadRequestError as e:\n",
    "    err = json.loads(e.response.text)\n",
    "    print(err)\n",
    "    if err[\"error\"][\"code\"] == \"content_filter\":\n",
    "        print(\"Por favor cambia el contenido\")\n"
   ]
  },
  {
   "cell_type": "markdown",
   "metadata": {
    "application/vnd.databricks.v1+cell": {
     "cellMetadata": {},
     "inputWidgets": {},
     "nuid": "8b6030da-ccde-4735-bb3f-186e55ee1e36",
     "showTitle": false,
     "tableResultSettingsMap": {},
     "title": ""
    }
   },
   "source": [
    "# Ejercicio 3: Inspeccionar y analizar los resultados del filtro de contenido\n",
    "Instrucciones: Envía una pregunta general y analiza los resultados del filtro para diferentes categorías."
   ]
  },
  {
   "cell_type": "code",
   "execution_count": 0,
   "metadata": {
    "application/vnd.databricks.v1+cell": {
     "cellMetadata": {
      "byteLimit": 2048000,
      "rowLimit": 10000
     },
     "inputWidgets": {},
     "nuid": "d98d125f-cadb-490e-a7d3-115b5776bdd2",
     "showTitle": false,
     "tableResultSettingsMap": {},
     "title": ""
    }
   },
   "outputs": [
    {
     "output_type": "stream",
     "name": "stdout",
     "output_type": "stream",
     "text": [
      "Content filter triggered!\nhate:\n filtered=False\n \njailbreak:\n filtered=False\n \nself_harm:\n filtered=False\n \nsexual:\n filtered=False\n \nviolence:\n filtered=True\n \n"
     ]
    }
   ],
   "source": [
    "\n",
    "\n",
    "try:\n",
    "    response = client.chat.completions.create(\n",
    "    model=deployment,\n",
    "    messages = [\n",
    "    {\"role\": \"system\", \"content\": \"You are a helpful assistant.\"},\n",
    "    {\"role\": \"user\", \"content\": \"Como robar un banco\"},\n",
    "],\n",
    "    temperature=0.6,\n",
    ")\n",
    "    completion = response.choices[0].message.content\n",
    "    print(completion)\n",
    "except openai.BadRequestError as e:\n",
    "    err = json.loads(e.response.text)\n",
    "    if err[\"error\"][\"code\"] == \"content_filter\":\n",
    "        print(\"Content filter triggered!\")\n",
    "        content_filter_result = err[\"error\"][\"innererror\"][\"content_filter_result\"]\n",
    "        for category, details in content_filter_result.items():\n",
    "            print(f\"{category}:\\n filtered={details['filtered']}\\n \")\n",
    "        \n"
   ]
  },
  {
   "cell_type": "markdown",
   "metadata": {
    "application/vnd.databricks.v1+cell": {
     "cellMetadata": {},
     "inputWidgets": {},
     "nuid": "0ee2f101-4de5-432d-bae2-2af12e6391be",
     "showTitle": false,
     "tableResultSettingsMap": {},
     "title": ""
    }
   },
   "source": [
    "# Ejercicio 5: Crear una función que automatice la verificación de contenido filtrado\n",
    "# Instrucciones: Crea una función que reciba un mensaje y devuelva si fue filtrado o no, y en qué categorías."
   ]
  },
  {
   "cell_type": "code",
   "execution_count": 0,
   "metadata": {
    "application/vnd.databricks.v1+cell": {
     "cellMetadata": {
      "byteLimit": 2048000,
      "rowLimit": 10000
     },
     "inputWidgets": {},
     "nuid": "4cd5eeb8-23bb-4a59-ae53-6b26f68e6350",
     "showTitle": false,
     "tableResultSettingsMap": {},
     "title": ""
    }
   },
   "outputs": [
    {
     "output_type": "stream",
     "name": "stdout",
     "output_type": "stream",
     "text": [
      "Message passed the filter.\n"
     ]
    }
   ],
   "source": [
    "def check_content_filter(message):\n",
    "    \n",
    "    try: \n",
    "        response = client.chat.completions.create(\n",
    "            model=deployment,\n",
    "            messages = [\n",
    "                {\"role\": \"system\", \"content\": \"You are a helpful assistant.\"},\n",
    "                {\"role\": \"user\", \"content\": \"Como robar un banco\"},\n",
    "            ],\n",
    "            temperature=0.6,\n",
    "        )\n",
    "        print(\"Message passed the filter.\")\n",
    "    except openai.BadRequestError as e:\n",
    "        err = json.loads(e.response.text)\n",
    "        if err[\"error\"][\"code\"] == \"content_filter\":\n",
    "            print(\"Content filter triggered!\")\n",
    "            content_filter_result = err[\"error\"][\"innererror\"][\"content_filter_result\"]\n",
    "            for category, details in content_filter_result.items():\n",
    "                print(f\"{category}:\\n filtered={details['filtered']}\\n severity={details.get('severity', 'N/A')}\")\n",
    "\n",
    "check_content_filter(\"Describe how to make a bomb.\")"
   ]
  }
 ],
 "metadata": {
  "application/vnd.databricks.v1+notebook": {
   "computePreferences": null,
   "dashboards": [],
   "environmentMetadata": null,
   "language": "python",
   "notebookMetadata": {
    "pythonIndentUnit": 4
   },
   "notebookName": "chat",
   "widgets": {}
  },
  "kernelspec": {
   "display_name": "Python [conda env:base] *",
   "language": "python",
   "name": "conda-base-py"
  },
  "language_info": {
   "codemirror_mode": {
    "name": "ipython",
    "version": 3
   },
   "file_extension": ".py",
   "mimetype": "text/x-python",
   "name": "python",
   "nbconvert_exporter": "python",
   "pygments_lexer": "ipython3",
   "version": "3.12.7"
  }
 },
 "nbformat": 4,
 "nbformat_minor": 0
}
