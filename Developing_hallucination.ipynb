{
 "cells": [
  {
   "cell_type": "markdown",
   "metadata": {
    "application/vnd.databricks.v1+cell": {
     "cellMetadata": {},
     "inputWidgets": {},
     "nuid": "98eb66c9-ade0-4d71-8c01-67000ff13fec",
     "showTitle": false,
     "tableResultSettingsMap": {},
     "title": ""
    }
   },
   "source": [
    "## Developing Hallucination Guardrails\n",
    "\n",
    "A guardrail is a set of rules and checks designed to ensure that the outputs of an LLM are accurate, appropriate, and aligned with user expectations. For more additional information on developing guardrails, you can refer to this [guide on developing guardrails](https://cookbook.openai.com/examples/how_to_use_guardrails).\n",
    "\n",
    "In this notebook, we'll walk through the process of developing an output guardrail that specifically checks model outputs for hallucinations. \n",
    "\n",
    "This notebook will focus on:\n",
    "1. Building out a strong eval set\n",
    "2. Identifying specific criteria to measure hallucinations\n",
    "3. Improving the accuracy of our guardrail with few-shot prompting\n"
   ]
  },
  {
   "cell_type": "code",
   "execution_count": 0,
   "metadata": {
    "application/vnd.databricks.v1+cell": {
     "cellMetadata": {
      "byteLimit": 2048000,
      "rowLimit": 10000
     },
     "inputWidgets": {},
     "nuid": "94289f95-e313-4f9c-b8c2-895efc292667",
     "showTitle": false,
     "tableResultSettingsMap": {},
     "title": ""
    }
   },
   "outputs": [
    {
     "output_type": "stream",
     "name": "stdout",
     "output_type": "stream",
     "text": [
      "Python interpreter will be restarted.\nRequirement already satisfied: pandas in /databricks/python3/lib/python3.9/site-packages (1.4.2)\nRequirement already satisfied: python-dateutil>=2.8.1 in /databricks/python3/lib/python3.9/site-packages (from pandas) (2.8.2)\nRequirement already satisfied: numpy>=1.18.5 in /databricks/python3/lib/python3.9/site-packages (from pandas) (1.21.5)\nRequirement already satisfied: pytz>=2020.1 in /databricks/python3/lib/python3.9/site-packages (from pandas) (2021.3)\nRequirement already satisfied: six>=1.5 in /databricks/python3/lib/python3.9/site-packages (from python-dateutil>=2.8.1->pandas) (1.16.0)\nPython interpreter will be restarted.\nPython interpreter will be restarted.\nCollecting openai\n  Using cached openai-1.59.7-py3-none-any.whl (454 kB)\nCollecting typing-extensions<5,>=4.11\n  Using cached typing_extensions-4.12.2-py3-none-any.whl (37 kB)\nCollecting httpx<1,>=0.23.0\n  Using cached httpx-0.28.1-py3-none-any.whl (73 kB)\nCollecting distro<2,>=1.7.0\n  Using cached distro-1.9.0-py3-none-any.whl (20 kB)\nCollecting jiter<1,>=0.4.0\n  Using cached jiter-0.8.2-cp39-cp39-manylinux_2_17_x86_64.manylinux2014_x86_64.whl (345 kB)\nCollecting sniffio\n  Using cached sniffio-1.3.1-py3-none-any.whl (10 kB)\nCollecting tqdm>4\n  Using cached tqdm-4.67.1-py3-none-any.whl (78 kB)\nCollecting pydantic<3,>=1.9.0\n  Using cached pydantic-2.10.5-py3-none-any.whl (431 kB)\nCollecting anyio<5,>=3.5.0\n  Using cached anyio-4.8.0-py3-none-any.whl (96 kB)\nCollecting exceptiongroup>=1.0.2\n  Using cached exceptiongroup-1.2.2-py3-none-any.whl (16 kB)\nRequirement already satisfied: idna>=2.8 in /databricks/python3/lib/python3.9/site-packages (from anyio<5,>=3.5.0->openai) (3.3)\nRequirement already satisfied: certifi in /databricks/python3/lib/python3.9/site-packages (from httpx<1,>=0.23.0->openai) (2021.10.8)\nCollecting httpcore==1.*\n  Using cached httpcore-1.0.7-py3-none-any.whl (78 kB)\nCollecting h11<0.15,>=0.13\n  Using cached h11-0.14.0-py3-none-any.whl (58 kB)\nCollecting annotated-types>=0.6.0\n  Using cached annotated_types-0.7.0-py3-none-any.whl (13 kB)\nCollecting pydantic-core==2.27.2\n  Using cached pydantic_core-2.27.2-cp39-cp39-manylinux_2_17_x86_64.manylinux2014_x86_64.whl (2.0 MB)\nInstalling collected packages: typing-extensions, sniffio, h11, exceptiongroup, pydantic-core, httpcore, anyio, annotated-types, tqdm, pydantic, jiter, httpx, distro, openai\n  Attempting uninstall: typing-extensions\n    Found existing installation: typing-extensions 4.1.1\n    Not uninstalling typing-extensions at /databricks/python3/lib/python3.9/site-packages, outside environment /local_disk0/.ephemeral_nfs/envs/pythonEnv-4a70a21e-25eb-4d7b-a7ac-685d6a800586\n    Can't uninstall 'typing-extensions'. No files were found to uninstall.\n  Attempting uninstall: distro\n    Found existing installation: distro 1.4.0\n    Not uninstalling distro at /usr/lib/python3/dist-packages, outside environment /local_disk0/.ephemeral_nfs/envs/pythonEnv-4a70a21e-25eb-4d7b-a7ac-685d6a800586\n    Can't uninstall 'distro'. No files were found to uninstall.\nSuccessfully installed annotated-types-0.7.0 anyio-4.8.0 distro-1.9.0 exceptiongroup-1.2.2 h11-0.14.0 httpcore-1.0.7 httpx-0.28.1 jiter-0.8.2 openai-1.59.7 pydantic-2.10.5 pydantic-core-2.27.2 sniffio-1.3.1 tqdm-4.67.1 typing-extensions-4.12.2\nPython interpreter will be restarted.\nPython interpreter will be restarted.\nCollecting tiktoken\n  Using cached tiktoken-0.8.0-cp39-cp39-manylinux_2_17_x86_64.manylinux2014_x86_64.whl (1.2 MB)\nRequirement already satisfied: requests>=2.26.0 in /databricks/python3/lib/python3.9/site-packages (from tiktoken) (2.27.1)\nCollecting regex>=2022.1.18\n  Using cached regex-2024.11.6-cp39-cp39-manylinux_2_17_x86_64.manylinux2014_x86_64.whl (780 kB)\nRequirement already satisfied: charset-normalizer~=2.0.0 in /databricks/python3/lib/python3.9/site-packages (from requests>=2.26.0->tiktoken) (2.0.4)\nRequirement already satisfied: idna<4,>=2.5 in /databricks/python3/lib/python3.9/site-packages (from requests>=2.26.0->tiktoken) (3.3)\nRequirement already satisfied: certifi>=2017.4.17 in /databricks/python3/lib/python3.9/site-packages (from requests>=2.26.0->tiktoken) (2021.10.8)\nRequirement already satisfied: urllib3<1.27,>=1.21.1 in /databricks/python3/lib/python3.9/site-packages (from requests>=2.26.0->tiktoken) (1.26.9)\nInstalling collected packages: regex, tiktoken\nSuccessfully installed regex-2024.11.6 tiktoken-0.8.0\nPython interpreter will be restarted.\nPython interpreter will be restarted.\nRequirement already satisfied: pandas in /databricks/python3/lib/python3.9/site-packages (1.4.2)\nRequirement already satisfied: python-dateutil>=2.8.1 in /databricks/python3/lib/python3.9/site-packages (from pandas) (2.8.2)\nRequirement already satisfied: numpy>=1.18.5 in /databricks/python3/lib/python3.9/site-packages (from pandas) (1.21.5)\nRequirement already satisfied: pytz>=2020.1 in /databricks/python3/lib/python3.9/site-packages (from pandas) (2021.3)\nRequirement already satisfied: six>=1.5 in /databricks/python3/lib/python3.9/site-packages (from python-dateutil>=2.8.1->pandas) (1.16.0)\nPython interpreter will be restarted.\n"
     ]
    }
   ],
   "source": [
    "%pip install pandas\n",
    "%pip install openai\n",
    "%pip install tiktoken\n",
    "%pip install pandas"
   ]
  },
  {
   "cell_type": "code",
   "execution_count": 0,
   "metadata": {
    "application/vnd.databricks.v1+cell": {
     "cellMetadata": {
      "byteLimit": 2048000,
      "rowLimit": 10000
     },
     "inputWidgets": {},
     "nuid": "0768303f-3448-4155-b60f-3a041fe76669",
     "showTitle": false,
     "tableResultSettingsMap": {},
     "title": ""
    }
   },
   "outputs": [
    {
     "output_type": "stream",
     "name": "stdout",
     "output_type": "stream",
     "text": [
      "Python interpreter will be restarted.\nCollecting python-dotenv\n  Using cached python_dotenv-1.0.1-py3-none-any.whl (19 kB)\nInstalling collected packages: python-dotenv\nSuccessfully installed python-dotenv-1.0.1\nPython interpreter will be restarted.\n"
     ]
    }
   ],
   "source": [
    "%pip install python-dotenv"
   ]
  },
  {
   "cell_type": "code",
   "execution_count": 0,
   "metadata": {
    "ExecuteTime": {
     "end_time": "2024-05-20T21:05:07.490991Z",
     "start_time": "2024-05-20T21:05:07.475169Z"
    },
    "application/vnd.databricks.v1+cell": {
     "cellMetadata": {
      "byteLimit": 2048000,
      "rowLimit": 10000
     },
     "inputWidgets": {},
     "nuid": "4e610e80-ec81-4380-9271-fcbb36d88a96",
     "showTitle": false,
     "tableResultSettingsMap": {},
     "title": ""
    }
   },
   "outputs": [
    {
     "output_type": "display_data",
     "data": {
      "application/vnd.databricks.v1+bamboolib_hint": "{\"pd.DataFrames\": [], \"version\": \"0.0.1\"}",
      "text/plain": []
     },
     "metadata": {},
     "output_type": "display_data"
    }
   ],
   "source": [
    "from concurrent.futures import ThreadPoolExecutor\n",
    "from IPython.display import display, HTML\n",
    "import json\n",
    "import pandas as pd\n",
    "from sklearn.metrics import precision_score, recall_score\n",
    "from typing import List\n",
    "import os\n",
    "from openai import AzureOpenAI\n",
    "import tiktoken\n",
    "from dotenv import load_dotenv\n",
    "load_dotenv()\n",
    "\n",
    "# Configura las credenciales directamente en el código\n",
    "os.environ[\"AZURE_OPENAI_ENDPOINT\"] = \"https://openai-tajamar-1.openai.azure.com/\"\n",
    "os.environ[\"AZURE_OPENAI_API_KEY\"] = \"FKJdSGT2eAETzXgKtCelDRQc7CB8fieqAovPDkmyIA0yX7nptgOSJQQJ99BAACYeBjFXJ3w3AAABACOGdCvV\"\n",
    "\n",
    "# Crear el cliente con las credenciales\n",
    "client = AzureOpenAI(\n",
    "    azure_endpoint=os.getenv(\"AZURE_OPENAI_ENDPOINT\"), \n",
    "    api_key=os.getenv(\"AZURE_OPENAI_API_KEY\"),  \n",
    "    api_version=\"2024-02-15-preview\"\n",
    ")"
   ]
  },
  {
   "cell_type": "code",
   "execution_count": 0,
   "metadata": {
    "application/vnd.databricks.v1+cell": {
     "cellMetadata": {
      "byteLimit": 2048000,
      "rowLimit": 10000
     },
     "inputWidgets": {},
     "nuid": "1c9d0182-68d1-4e9e-beb6-a2ca3447d55e",
     "showTitle": false,
     "tableResultSettingsMap": {},
     "title": ""
    }
   },
   "outputs": [],
   "source": [
    "# Function to set up display options for pandas\n",
    "def setup_pandas_display():\n",
    "    # Increase display limits\n",
    "    pd.set_option('display.max_rows', 500)\n",
    "    pd.set_option('display.max_columns', 500)\n",
    "\n",
    "# Function to make DataFrame scrollable in the notebook output\n",
    "def make_scrollable(df):\n",
    "    style = (\n",
    "        '<style>'\n",
    "        'div.output_scroll {'\n",
    "        'resize: both;'\n",
    "        'overflow: auto;'\n",
    "        '}'\n",
    "        '</style>'\n",
    "    )\n",
    "    html = f\"{style}{df.to_html()}\"\n",
    "    display(HTML(html))\n",
    "\n",
    "# Main function to display DataFrame\n",
    "def display_dataframe(df):\n",
    "    setup_pandas_display()    # Enable scrollable view\n",
    "    make_scrollable(df)\n"
   ]
  },
  {
   "cell_type": "markdown",
   "metadata": {
    "application/vnd.databricks.v1+cell": {
     "cellMetadata": {},
     "inputWidgets": {},
     "nuid": "860f8f20-1125-45bb-af8e-12b51d642807",
     "showTitle": false,
     "tableResultSettingsMap": {},
     "title": ""
    }
   },
   "source": [
    "## 1. Building out an eval set\n",
    "\n",
    "Imagine we are a customer support team that is building out an automated support agent. We will be feeding the assistant information from our knowledge base about a specific set of policies for how to handle tickets such as returns, refunds, feedback, and expect the model to follow the policy when interacting with customers.\n",
    "\n",
    "The first thing we will do is use GPT-4o to build out a set of policies that we will want to follow.\n",
    "\n",
    "If you want to do deep dive into generating synthetic data, you can review our Synthetic Data Generation Cookbook [here](https://cookbook.openai.com/examples/sdg1)"
   ]
  },
  {
   "cell_type": "code",
   "execution_count": 0,
   "metadata": {
    "ExecuteTime": {
     "end_time": "2024-05-20T21:05:08.750241Z",
     "start_time": "2024-05-20T21:05:08.748425Z"
    },
    "application/vnd.databricks.v1+cell": {
     "cellMetadata": {
      "byteLimit": 2048000,
      "rowLimit": 10000
     },
     "inputWidgets": {},
     "nuid": "4088a2cb-51e3-41df-a9f0-968dd1383bfe",
     "showTitle": false,
     "tableResultSettingsMap": {},
     "title": ""
    }
   },
   "outputs": [],
   "source": [
    "system_input_prompt = \"\"\"\n",
    "You are a helpful assistant that can generate policies for a support agent at a fictional company to follow. You will be provided with a topic (ie. returns, refunds, feedback) and you are to generate a sample policy for how to handle the it.\n",
    "\n",
    "When constructing the policy, it should contain step-by-step instructions for how to handle the customer inquiry. It should include decision logic for what to do if a customer falls under a certain category, and provide requirements for taking specific actions.\n",
    "\"\"\"\n",
    "\n",
    "user_policy_example_1 = \"\"\"\"\n",
    "RETURN POLICY\n",
    "\"\"\"\n",
    "\n",
    "assistant_policy_example_1 = \"\"\"\n",
    "RETURN POLICY\n",
    "\n",
    "1. ** Ask the customer why they want the order replaced **\n",
    "    - Categorize their issue into one of the following buckets:\n",
    "        - damaged: They received the product in a damaged state\n",
    "        - satisfaction: The customer is not satisfied with the item and does not like the product.\n",
    "        - unnecessary: They no longer need the item\n",
    "2a. **If return category is 'damaged'\n",
    "    - Ask customer for a picture of the damaged item\n",
    "    - If the item is indeed damaged, continue to step 3\n",
    "    - If the item is not damaged, notify the customer that this does not meet our requirements for return and they are not eligible for a refund\n",
    "    - Skip step 3 and go straight to step 4\n",
    "\n",
    "2b. **If return category is either 'satisfaction' or 'unnecessary'**\n",
    "    - Ask the customer if they can provide feedback on the quality of the item\n",
    "    - If the order was made within 30 days, notify them that they are eligible for a full refund\n",
    "    - If the order was made within 31-60 days, notify them that they are eligible for a partial refund of 50%\n",
    "    - If the order was made greater than 60 days ago, notify them that they are not eligible for a refund\n",
    "\n",
    "3. **If the customer is eligible for a return or refund**\n",
    "    - Ask the customer to confirm that they would like a return or refund\n",
    "    - Once they confirm, process their request\n",
    "\n",
    "4 **Provide additional support before closing out ticket**\n",
    "    - Ask the customer if there is anything else you can do to help them today.\n",
    "\n",
    "\"\"\"\n",
    "\n",
    "user_policy_input = \"\"\"\n",
    "{{POLICY}}\n",
    "\"\"\""
   ]
  },
  {
   "cell_type": "code",
   "execution_count": 0,
   "metadata": {
    "application/vnd.databricks.v1+cell": {
     "cellMetadata": {
      "byteLimit": 2048000,
      "rowLimit": 10000
     },
     "inputWidgets": {},
     "nuid": "09b36d36-0958-4361-863a-4a3fc61d2aa5",
     "showTitle": false,
     "tableResultSettingsMap": {},
     "title": ""
    }
   },
   "outputs": [],
   "source": [
    "model = \"gpt-35-turbo-16k\""
   ]
  },
  {
   "cell_type": "code",
   "execution_count": 0,
   "metadata": {
    "ExecuteTime": {
     "end_time": "2024-05-20T21:05:57.764869Z",
     "start_time": "2024-05-20T21:05:09.939704Z"
    },
    "application/vnd.databricks.v1+cell": {
     "cellMetadata": {
      "byteLimit": 2048000,
      "rowLimit": 10000
     },
     "inputWidgets": {},
     "nuid": "d1ce4ea3-0109-4f82-9f3b-ebb02ca2e46a",
     "showTitle": false,
     "tableResultSettingsMap": {},
     "title": ""
    }
   },
   "outputs": [],
   "source": [
    "def generate_policy(policy: str) -> str:\n",
    "    input_message = user_policy_input.replace(\"{{POLICY}}\", policy)\n",
    "    \n",
    "    response = client.chat.completions.create(\n",
    "        model=model,\n",
    "        messages= [\n",
    "            {\"role\": \"system\", \"content\": system_input_prompt},\n",
    "            {\"role\": \"user\", \"content\": user_policy_example_1},\n",
    "            {\"role\": \"assistant\", \"content\": assistant_policy_example_1},\n",
    "            {\"role\": \"user\", \"content\": input_message},\n",
    "        ],\n",
    "    )\n",
    "    return response.choices[0].message.content\n",
    "\n",
    "def generate_policies() -> List[str]:\n",
    "    # List of different types of policies to generate \n",
    "    policies = ['PRODUCT FEEDBACK POLICY', 'SHIPPING POLICY', 'WARRANTY POLICY', 'ACCOUNT DELETION', 'COMPLAINT RESOLUTION']\n",
    "    \n",
    "    with ThreadPoolExecutor() as executor:\n",
    "        policy_instructions_list = list(executor.map(generate_policy, policies))     \n",
    "    return policy_instructions_list\n",
    "\n",
    "policy_instructions = generate_policies()"
   ]
  },
  {
   "cell_type": "markdown",
   "metadata": {
    "application/vnd.databricks.v1+cell": {
     "cellMetadata": {},
     "inputWidgets": {},
     "nuid": "9a63581f-0b89-4da7-876c-e5fcba9b318c",
     "showTitle": false,
     "tableResultSettingsMap": {},
     "title": ""
    }
   },
   "source": [
    "Next we'll take these policies and generate sample customer interactions that do or do not follow the instructions."
   ]
  },
  {
   "cell_type": "code",
   "execution_count": 0,
   "metadata": {
    "ExecuteTime": {
     "end_time": "2024-05-20T21:06:30.811764Z",
     "start_time": "2024-05-20T21:06:30.808903Z"
    },
    "application/vnd.databricks.v1+cell": {
     "cellMetadata": {
      "byteLimit": 2048000,
      "rowLimit": 10000
     },
     "inputWidgets": {},
     "nuid": "3f2a62f1-6f7c-4106-9baa-cb04ae171612",
     "showTitle": false,
     "tableResultSettingsMap": {},
     "title": ""
    }
   },
   "outputs": [],
   "source": [
    "system_input_prompt = \"\"\"\"\n",
    "You are a helpful assistant that can generate fictional interactions between a support assistant and a customer user. You will be given a set of policy instructions that the support agent is instructed to follow.\n",
    "\n",
    "Based on the instructions, you must generate a relevant single-turn or multi-turn interaction between the assistant and the user. It should average between 1-3 turns total.\n",
    "\n",
    "For a given set of instructions, generate an example conversation that where the assistant either does or does not follow the instructions properly. In the assistant's responses, have it give a combination of single sentence and multi-sentence responses.\n",
    "\n",
    "The output must be in a json format with the following three parameters:\n",
    " - accurate: \n",
    "    - This should be a boolean True or False value that matches whether or not the final assistant message accurately follows the policy instructions\n",
    " - kb_article:\n",
    "    - This should be the entire policy instruction that is passed in from the user\n",
    " - chat_history: \n",
    "    - This should contain the entire conversation history except for the final assistant message. \n",
    "    - This should be in a format of an array of jsons where each json contains two parameters: role, and content. \n",
    "    - Role should be set to either 'user' to represent the customer, or 'assistant' to represent the customer support assistant. \n",
    "    - Content should contain the message from the appropriate role.\n",
    "    - The final message in the chat history should always come from the user. The assistant response in the following parameter will be a response to this use message.\n",
    " - assistant_response: \n",
    "    - This should contain the final response from the assistant. This is what we will evaluate to determine whether or not it is accurately following the policy.\n",
    "\"\"\"\n",
    "\n",
    "user_example_1 = \"\"\"\"\n",
    "Here are the policy instructions:\n",
    "RETURN POLICY\n",
    "\n",
    "1. ** Ask the customer why they want the order replaced **\n",
    "    - Categorize their issue into one of the following buckets:\n",
    "        - damaged: They received the product in a damaged state\n",
    "        - satisfaction: The customer is not satisfied with the item and does not like the product.\n",
    "        - unnecessary: They no longer need the item\n",
    "2a. **If return category is 'damaged'\n",
    "    - Ask customer for a picture of the damaged item\n",
    "    - If the item is indeed damaged, continue to step 3\n",
    "    - If the item is not damaged, notify the customer that this does not meet our requirements for return and they are not eligible for a refund\n",
    "    - Skip step 3 and go straight to step 4\n",
    "\n",
    "2b. **If return category is either 'satisfaction' or 'unnecessary'**\n",
    "    - Ask the customer if they can provide feedback on the quality of the item\n",
    "    - If the order was made within 30 days, notify them that they are eligible for a full refund\n",
    "    - If the order was made within 31-60 days, notify them that they are eligible for a partial refund of 50%\n",
    "    - If the order was made greater than 60 days ago, notify them that they are not eligible for a refund\n",
    "\n",
    "3. **If the customer is eligible for a return or refund**\n",
    "    - Ask the customer to confirm that they would like a return or refund\n",
    "    - Once they confirm, process their request\n",
    "\n",
    "4 **Provide additional support before closing out ticket**\n",
    "    - Ask the customer if there is anything else you can do to help them today.\n",
    "\"\"\"\n",
    "\n",
    "assistant_example_1 = \"\"\"\n",
    "{\n",
    "    \"accurate\": \"true\",\n",
    "    \"kb_article\": \"1. ** Ask the customer why they want the order replaced ** - Categorize their issue into one of the following buckets: - damaged: They received the product in a damaged state - satisfaction: The customer is not satisfied with the item and does not like the product. - unnecessary: They no longer need the item 2a. **If return category is 'damaged' - Ask customer for a picture of the damaged item - If the item is indeed damaged, continue to step 3 - If the item is not damaged, notify the customer that this does not meet our requirements for return and they are not eligible for a refund - Skip step 3 and go straight to step 4 2b. **If return category is either 'satisfaction' or 'unnecessary'** - Ask the customer if they can provide feedback on the quality of the item - If the order was made within 30 days, notify them that they are eligible for a full refund - If the order was made within 31-60 days, notify them that they are eligible for a partial refund of 50% - If the order was made greater than 60 days ago, notify them that they are not eligible for a refund 3. **If the customer is eligible for a return or refund** - Ask the customer to confirm that they would like a return or refund - Once they confirm, process their request 4 **Provide additional support before closing out ticket** - Ask the customer if there is anything else you can do to help them today.\",\n",
    "    \"chat_history\": [\n",
    "        {\n",
    "            \"role\": \"user\",\n",
    "            \"content\": \"I would like to return this shirt\"\n",
    "        },\n",
    "        {\n",
    "            \"role\": \"assistant\",\n",
    "            \"content\": \"Hi there, I'm happy to help with processing this return. Can you please provide an explanation for why you'd like to return this shirt?\"\n",
    "        },\n",
    "        {\n",
    "            \"role\": \"user\",\n",
    "            \"content\": \"Yes, I am not satisfied with the design\"\n",
    "        }\n",
    "    ],\n",
    "    \"assistant_response\": {\n",
    "        \"role\": \"assistant\",\n",
    "        \"content\": \"I see. Because the shirt was ordered in the last 30 days, we can provide you with a full refund. Would you like me to process the refund?\"\n",
    "    }\n",
    "}\n",
    "\"\"\"\n",
    "\n",
    "user_example_2 = \"\"\"\"\n",
    "Here are the policy instructions:\n",
    "RETURN POLICY\n",
    "\n",
    "1. ** Ask the customer why they want the order replaced **\n",
    "    - Categorize their issue into one of the following buckets:\n",
    "        - damaged: They received the product in a damaged state\n",
    "        - satisfaction: The customer is not satisfied with the item and does not like the product.\n",
    "        - unnecessary: They no longer need the item\n",
    "2a. **If return category is 'damaged'\n",
    "    - Ask customer for a picture of the damaged item\n",
    "    - If the item is indeed damaged, continue to step 3\n",
    "    - If the item is not damaged, notify the customer that this does not meet our requirements for return and they are not eligible for a refund\n",
    "    - Skip step 3 and go straight to step 4\n",
    "\n",
    "2b. **If return category is either 'satisfaction' or 'unnecessary'**\n",
    "    - Ask the customer if they can provide feedback on the quality of the item\n",
    "    - If the order was made within 30 days, notify them that they are eligible for a full refund\n",
    "    - If the order was made within 31-60 days, notify them that they are eligible for a partial refund of 50%\n",
    "    - If the order was made greater than 60 days ago, notify them that they are not eligible for a refund\n",
    "\n",
    "3. **If the customer is eligible for a return or refund**\n",
    "    - Ask the customer to confirm that they would like a return or refund\n",
    "    - Once they confirm, process their request\n",
    "\n",
    "4 **Provide additional support before closing out ticket**\n",
    "    - Ask the customer if there is anything else you can do to help them today.\n",
    "\"\"\"\n",
    "\n",
    "assistant_example_2 = \"\"\"\n",
    "{\n",
    "    \"accurate\": \"false\",\n",
    "    \"kb_article\": \"1. ** Ask the customer why they want the order replaced ** - Categorize their issue into one of the following buckets: - damaged: They received the product in a damaged state - satisfaction: The customer is not satisfied with the item and does not like the product. - unnecessary: They no longer need the item 2a. **If return category is 'damaged' - Ask customer for a picture of the damaged item - If the item is indeed damaged, continue to step 3 - If the item is not damaged, notify the customer that this does not meet our requirements for return and they are not eligible for a refund - Skip step 3 and go straight to step 4 2b. **If return category is either 'satisfaction' or 'unnecessary'** - Ask the customer if they can provide feedback on the quality of the item - If the order was made within 30 days, notify them that they are eligible for a full refund - If the order was made within 31-60 days, notify them that they are eligible for a partial refund of 50% - If the order was made greater than 60 days ago, notify them that they are not eligible for a refund 3. **If the customer is eligible for a return or refund** - Ask the customer to confirm that they would like a return or refund - Once they confirm, process their request 4 **Provide additional support before closing out ticket** - Ask the customer if there is anything else you can do to help them today.\",\n",
    "    \"chat_history\": [\n",
    "        {\n",
    "            \"role\": \"user\",\n",
    "            \"content\": \"I would like to return this shirt\"\n",
    "        },\n",
    "        {\n",
    "            \"role\": \"assistant\",\n",
    "            \"content\": \"Hi there, I'm happy to help with processing this return. Can you please provide an explanation for why you'd like to return this shirt?\"\n",
    "        },\n",
    "        {\n",
    "            \"role\": \"user\",\n",
    "            \"content\": \"Yes, I am not satisfied with the design\"\n",
    "        }\n",
    "    ],\n",
    "    \"assistant_response\": {\n",
    "        \"role\": \"assistant\",\n",
    "        \"content\": \"I see. Because the shirt was ordered in the last 60 days, we cannot process a refund.\"    \n",
    "    }\n",
    "}\n",
    "\"\"\""
   ]
  },
  {
   "cell_type": "markdown",
   "metadata": {
    "application/vnd.databricks.v1+cell": {
     "cellMetadata": {},
     "inputWidgets": {},
     "nuid": "2ae29d7b-ff73-4877-8fcd-5ded0c67cc9e",
     "showTitle": false,
     "tableResultSettingsMap": {},
     "title": ""
    }
   },
   "source": [
    "Now let's iterate through the policies and generate some examples."
   ]
  },
  {
   "cell_type": "code",
   "execution_count": 0,
   "metadata": {
    "ExecuteTime": {
     "end_time": "2024-05-20T21:07:06.972776Z",
     "start_time": "2024-05-20T21:06:37.958418Z"
    },
    "application/vnd.databricks.v1+cell": {
     "cellMetadata": {
      "byteLimit": 2048000,
      "rowLimit": 10000
     },
     "inputWidgets": {},
     "nuid": "bc2dd4a6-12a6-410d-892d-e024802ba85e",
     "showTitle": false,
     "tableResultSettingsMap": {},
     "title": ""
    }
   },
   "outputs": [],
   "source": [
    "customer_interactions = []\n",
    "\n",
    "def fetch_response(policy):\n",
    "    messages = [\n",
    "        { \"role\": \"system\", \"content\": system_input_prompt},\n",
    "        { \"role\": \"user\", \"content\": user_example_1},\n",
    "        { \"role\": \"assistant\", \"content\": assistant_example_1},\n",
    "        { \"role\": \"user\", \"content\": user_example_2},\n",
    "        { \"role\": \"assistant\", \"content\": assistant_example_2},\n",
    "        { \"role\": \"user\", \"content\": policy}\n",
    "    ]\n",
    "    response = client.chat.completions.create(\n",
    "        model = \"gpt-35-turbo-16k\",\n",
    "        messages = messages,\n",
    "        temperature = 0.7\n",
    "    )# FIXME\n",
    "    return response.choices\n",
    "\n",
    "with ThreadPoolExecutor() as executor:\n",
    "    \n",
    "    futures = [executor.submit(fetch_response, policy) for policy in policy_instructions]\n",
    "    for future in futures:\n",
    "        choices = future.result()\n",
    "        customer_interactions.extend([choice.message.content for choice in choices])\n"
   ]
  },
  {
   "cell_type": "code",
   "execution_count": 0,
   "metadata": {
    "application/vnd.databricks.v1+cell": {
     "cellMetadata": {
      "byteLimit": 2048000,
      "rowLimit": 10000
     },
     "inputWidgets": {},
     "nuid": "464f6bb8-aa80-4766-9a16-21f84a973b95",
     "showTitle": false,
     "tableResultSettingsMap": {},
     "title": ""
    }
   },
   "outputs": [
    {
     "output_type": "display_data",
     "data": {
      "text/html": [
       "<style>div.output_scroll {resize: both;overflow: auto;}</style><table border=\"1\" class=\"dataframe\">\n",
       "  <thead>\n",
       "    <tr style=\"text-align: right;\">\n",
       "      <th></th>\n",
       "      <th>accurate</th>\n",
       "      <th>kb_article</th>\n",
       "      <th>chat_history</th>\n",
       "      <th>assistant_response</th>\n",
       "    </tr>\n",
       "  </thead>\n",
       "  <tbody>\n",
       "    <tr>\n",
       "      <th>0</th>\n",
       "      <td>True</td>\n",
       "      <td>PRODUCT FEEDBACK POLICY\\n\\n1. **Ask the customer for feedback on the product** - Inquire if they are satisfied with the item and if they would recommend it to others. - Encourage the customer to provide detailed feedback so we can improve our products in the future.\\n\\n2. **If the customer is satisfied with the item** - Thank the customer for their positive feedback. - Let them know that their feedback is valuable to us and that we appreciate their support.\\n\\n3. **If the customer is not satisfied with the item** - Apologize to the customer for their dissatisfaction. - Ask the customer to provide specific details about what they didn't like or what could be improved.\\n\\n4. **Offer a resolution to the customer** - If the customer is open to it, offer to replace the item or provide a refund as per our return policy. - If the customer prefers not to have a replacement or refund, ask if there's anything else we can do to assist them.\\n\\n5. **Closing** - Thank the customer for their feedback and assure them that their feedback will be used to improve our products and services. - Ask if there's anything else the customer needs assistance with.</td>\n",
       "      <td>[{'role': 'user', 'content': 'I would like to provide some feedback on a product'}, {'role': 'assistant', 'content': 'Sure! We value your feedback. Could you please let us know if you are satisfied with the product and if you would recommend it to others?'}, {'role': 'user', 'content': 'I am not satisfied with the product. The quality is poor and it didn't meet my expectations.'}]</td>\n",
       "      <td>{'role': 'assistant', 'content': 'I apologize for your dissatisfaction with our product. We appreciate your feedback and would like to understand more about what you didn't like or how we can improve. Could you please provide specific details about the issues you experienced?'}</td>\n",
       "    </tr>\n",
       "  </tbody>\n",
       "</table>"
      ]
     },
     "metadata": {
      "application/vnd.databricks.v1+output": {
       "addedWidgets": {},
       "arguments": {},
       "data": "<style>div.output_scroll {resize: both;overflow: auto;}</style><table border=\"1\" class=\"dataframe\">\n  <thead>\n    <tr style=\"text-align: right;\">\n      <th></th>\n      <th>accurate</th>\n      <th>kb_article</th>\n      <th>chat_history</th>\n      <th>assistant_response</th>\n    </tr>\n  </thead>\n  <tbody>\n    <tr>\n      <th>0</th>\n      <td>True</td>\n      <td>PRODUCT FEEDBACK POLICY\\n\\n1. **Ask the customer for feedback on the product** - Inquire if they are satisfied with the item and if they would recommend it to others. - Encourage the customer to provide detailed feedback so we can improve our products in the future.\\n\\n2. **If the customer is satisfied with the item** - Thank the customer for their positive feedback. - Let them know that their feedback is valuable to us and that we appreciate their support.\\n\\n3. **If the customer is not satisfied with the item** - Apologize to the customer for their dissatisfaction. - Ask the customer to provide specific details about what they didn't like or what could be improved.\\n\\n4. **Offer a resolution to the customer** - If the customer is open to it, offer to replace the item or provide a refund as per our return policy. - If the customer prefers not to have a replacement or refund, ask if there's anything else we can do to assist them.\\n\\n5. **Closing** - Thank the customer for their feedback and assure them that their feedback will be used to improve our products and services. - Ask if there's anything else the customer needs assistance with.</td>\n      <td>[{'role': 'user', 'content': 'I would like to provide some feedback on a product'}, {'role': 'assistant', 'content': 'Sure! We value your feedback. Could you please let us know if you are satisfied with the product and if you would recommend it to others?'}, {'role': 'user', 'content': 'I am not satisfied with the product. The quality is poor and it didn't meet my expectations.'}]</td>\n      <td>{'role': 'assistant', 'content': 'I apologize for your dissatisfaction with our product. We appreciate your feedback and would like to understand more about what you didn't like or how we can improve. Could you please provide specific details about the issues you experienced?'}</td>\n    </tr>\n  </tbody>\n</table>",
       "datasetInfos": [],
       "metadata": {},
       "removedWidgets": [],
       "textData": null,
       "type": "htmlSandbox"
      }
     },
     "output_type": "display_data"
    }
   ],
   "source": [
    "interaction_dict = json.loads(customer_interactions[0])\n",
    "\n",
    "df_interaction = pd.DataFrame([interaction_dict])# FIXME\n",
    "\n",
    "# Pretty print the DataFrame\n",
    "display_dataframe(df_interaction)# FIXME\n"
   ]
  },
  {
   "cell_type": "code",
   "execution_count": 0,
   "metadata": {
    "ExecuteTime": {
     "end_time": "2024-05-20T21:10:44.913077Z",
     "start_time": "2024-05-20T21:10:44.907165Z"
    },
    "application/vnd.databricks.v1+cell": {
     "cellMetadata": {
      "byteLimit": 2048000,
      "rowLimit": 10000
     },
     "inputWidgets": {},
     "nuid": "e4e740fd-968b-4dcc-a04c-95691a31af19",
     "showTitle": false,
     "tableResultSettingsMap": {},
     "title": ""
    }
   },
   "outputs": [],
   "source": [
    "# Decode the JSON strings\n",
    "data = [json.loads(entry) for entry in customer_interactions]\n",
    "\n",
    "# Create a DataFrame from the cleaned data\n",
    "df = pd.DataFrame(data)# FIXME"
   ]
  },
  {
   "cell_type": "code",
   "execution_count": 0,
   "metadata": {
    "ExecuteTime": {
     "end_time": "2024-05-20T21:10:47.001453Z",
     "start_time": "2024-05-20T21:10:46.980790Z"
    },
    "application/vnd.databricks.v1+cell": {
     "cellMetadata": {
      "byteLimit": 2048000,
      "rowLimit": 10000
     },
     "inputWidgets": {},
     "nuid": "ad42bce3-b72b-4282-85c4-a7e17a294a64",
     "showTitle": false,
     "tableResultSettingsMap": {},
     "title": ""
    }
   },
   "outputs": [
    {
     "output_type": "display_data",
     "data": {
      "text/html": [
       "<div>\n",
       "<style scoped>\n",
       "    .dataframe tbody tr th:only-of-type {\n",
       "        vertical-align: middle;\n",
       "    }\n",
       "\n",
       "    .dataframe tbody tr th {\n",
       "        vertical-align: top;\n",
       "    }\n",
       "\n",
       "    .dataframe thead th {\n",
       "        text-align: right;\n",
       "    }\n",
       "</style>\n",
       "<table border=\"1\" class=\"dataframe\">\n",
       "  <thead>\n",
       "    <tr style=\"text-align: right;\">\n",
       "      <th></th>\n",
       "      <th>accurate</th>\n",
       "      <th>kb_article</th>\n",
       "      <th>chat_history</th>\n",
       "      <th>assistant_response</th>\n",
       "    </tr>\n",
       "  </thead>\n",
       "  <tbody>\n",
       "    <tr>\n",
       "      <th>0</th>\n",
       "      <td>True</td>\n",
       "      <td>PRODUCT FEEDBACK POLICY\\n\\n1. **Ask the custom...</td>\n",
       "      <td>[{'role': 'user', 'content': 'I would like to ...</td>\n",
       "      <td>{'role': 'assistant', 'content': 'I apologize ...</td>\n",
       "    </tr>\n",
       "    <tr>\n",
       "      <th>1</th>\n",
       "      <td>true</td>\n",
       "      <td>SHIPMENT POLICY\\n\\n1. ** Provide information o...</td>\n",
       "      <td>[{'role': 'user', 'content': 'I have a questio...</td>\n",
       "      <td>{'role': 'assistant', 'content': 'Great! We ha...</td>\n",
       "    </tr>\n",
       "    <tr>\n",
       "      <th>2</th>\n",
       "      <td>True</td>\n",
       "      <td>WARRANTY POLICY\\n\\n1. ** Determine the type of...</td>\n",
       "      <td>[{'role': 'user', 'content': 'I have a problem...</td>\n",
       "      <td>{'role': 'assistant', 'content': 'Great! Could...</td>\n",
       "    </tr>\n",
       "    <tr>\n",
       "      <th>3</th>\n",
       "      <td>True</td>\n",
       "      <td>ACCOUNT DELETION\\n\\n1. ** Verify the user's id...</td>\n",
       "      <td>[{'role': 'user', 'content': 'I would like to ...</td>\n",
       "      <td>{'role': 'assistant', 'content': 'Thank you fo...</td>\n",
       "    </tr>\n",
       "    <tr>\n",
       "      <th>4</th>\n",
       "      <td>True</td>\n",
       "      <td>COMPLAINT RESOLUTION\\n\\n1. ** Acknowledge the ...</td>\n",
       "      <td>[{'role': 'user', 'content': 'I want to file a...</td>\n",
       "      <td>{'role': 'assistant', 'content': 'I apologize ...</td>\n",
       "    </tr>\n",
       "  </tbody>\n",
       "</table>\n",
       "</div>"
      ]
     },
     "metadata": {
      "application/vnd.databricks.v1+output": {
       "addedWidgets": {},
       "arguments": {},
       "data": "<div>\n<style scoped>\n    .dataframe tbody tr th:only-of-type {\n        vertical-align: middle;\n    }\n\n    .dataframe tbody tr th {\n        vertical-align: top;\n    }\n\n    .dataframe thead th {\n        text-align: right;\n    }\n</style>\n<table border=\"1\" class=\"dataframe\">\n  <thead>\n    <tr style=\"text-align: right;\">\n      <th></th>\n      <th>accurate</th>\n      <th>kb_article</th>\n      <th>chat_history</th>\n      <th>assistant_response</th>\n    </tr>\n  </thead>\n  <tbody>\n    <tr>\n      <th>0</th>\n      <td>True</td>\n      <td>PRODUCT FEEDBACK POLICY\\n\\n1. **Ask the custom...</td>\n      <td>[{'role': 'user', 'content': 'I would like to ...</td>\n      <td>{'role': 'assistant', 'content': 'I apologize ...</td>\n    </tr>\n    <tr>\n      <th>1</th>\n      <td>true</td>\n      <td>SHIPMENT POLICY\\n\\n1. ** Provide information o...</td>\n      <td>[{'role': 'user', 'content': 'I have a questio...</td>\n      <td>{'role': 'assistant', 'content': 'Great! We ha...</td>\n    </tr>\n    <tr>\n      <th>2</th>\n      <td>True</td>\n      <td>WARRANTY POLICY\\n\\n1. ** Determine the type of...</td>\n      <td>[{'role': 'user', 'content': 'I have a problem...</td>\n      <td>{'role': 'assistant', 'content': 'Great! Could...</td>\n    </tr>\n    <tr>\n      <th>3</th>\n      <td>True</td>\n      <td>ACCOUNT DELETION\\n\\n1. ** Verify the user's id...</td>\n      <td>[{'role': 'user', 'content': 'I would like to ...</td>\n      <td>{'role': 'assistant', 'content': 'Thank you fo...</td>\n    </tr>\n    <tr>\n      <th>4</th>\n      <td>True</td>\n      <td>COMPLAINT RESOLUTION\\n\\n1. ** Acknowledge the ...</td>\n      <td>[{'role': 'user', 'content': 'I want to file a...</td>\n      <td>{'role': 'assistant', 'content': 'I apologize ...</td>\n    </tr>\n  </tbody>\n</table>\n</div>",
       "datasetInfos": [],
       "metadata": {},
       "removedWidgets": [],
       "textData": null,
       "type": "htmlSandbox"
      }
     },
     "output_type": "display_data"
    }
   ],
   "source": [
    "df.head(10)"
   ]
  },
  {
   "cell_type": "markdown",
   "metadata": {
    "application/vnd.databricks.v1+cell": {
     "cellMetadata": {},
     "inputWidgets": {},
     "nuid": "ccc87d2d-7811-43f0-906f-541e270d638f",
     "showTitle": false,
     "tableResultSettingsMap": {},
     "title": ""
    }
   },
   "source": [
    "## 2. Constructing our hallucination guardrail\n",
    "\n",
    "When building out our hallucination guardrail, here are some guiding principles:\n",
    "\n",
    "1. Provide very descriptive metrics to evaluate whether a response is accurate\n",
    "- It is important to break down this idea of \"truth\" in easily identifiable metrics that we can measure\n",
    "- Metrics like truthfulness and relevance are difficult to measure. Giving concrete ways to score the statement can result in a more accurate guardrail\n",
    "2. Ensure consistency across key terminology\n",
    "- It is important to keep relevant terms such as knowledge base articles, assistants, and users consistent across the prompt\n",
    "- If we begin to use phrases such as assistant vs agent, the model could get confused\n",
    "3. Start with the most advanced model\n",
    "- There is a cost vs quality trade-off when using the most advanced models. Although GPT-4o may be more expensive, it is important to start with the most advanced model so we can ensure a high degree of accuracy\n",
    "- Once we have thoroughly tested out the guardrail and are confident in its performance, we can look to reducing cost by tuning it down to gpt-3.5-turbo\n",
    "4. Evaluate each sentence independently and the entire response as a whole\n",
    "- If the agent returns a long response, it can be useful to break down the response to individual sentences and evaluate them independently\n",
    "- In addition to that, evaluating the whole intent of the message as a whole can ensure that you don't lose important context\n",
    "\n",
    "With all of this in mind, let's build out a guardrail system and measure its performance."
   ]
  },
  {
   "cell_type": "code",
   "execution_count": 0,
   "metadata": {
    "ExecuteTime": {
     "end_time": "2024-05-20T21:10:58.610415Z",
     "start_time": "2024-05-20T21:10:58.605619Z"
    },
    "application/vnd.databricks.v1+cell": {
     "cellMetadata": {
      "byteLimit": 2048000,
      "rowLimit": 10000
     },
     "inputWidgets": {},
     "nuid": "b255ffc9-8d49-4a3e-91e2-72e3443d1884",
     "showTitle": false,
     "tableResultSettingsMap": {},
     "title": ""
    }
   },
   "outputs": [],
   "source": [
    "guardrail_system_message = \"\"\"You are a highly specialized assistant tasked with reviewing chatbot responses to identify and flag any inaccuracies or hallucinations. For each user message, you must thoroughly analyze the response by considering:\n",
    "    1. Knowledge Accuracy: Does the message accurately reflect information found in the knowledge base? Assess not only direct mentions but also contextually inferred knowledge.\n",
    "    2. Relevance: Does the message directly address the user's question or statement? Check if the response logically follows the user’s last message, maintaining coherence in the conversation thread.\n",
    "    3. Policy Compliance: Does the message adhere to company policies? Evaluate for subtleties such as misinformation, overpromises, or logical inconsistencies. Ensure the response is polite, non-discriminatory, and practical.\n",
    "\n",
    "To perform your task you will be given the following:\n",
    "    1. Knowledge Base Articles - These are your source of truth for verifying the content of assistant messages.\n",
    "    2. Chat Transcript - Provides context for the conversation between the user and the assistant.\n",
    "    3. Assistant Message - The message from the assistant that needs review.\n",
    "\n",
    "For each sentence in the assistant's most recent response, assign a score based on the following criteria:\n",
    "    1. Factual Accuracy:\n",
    "        - Score 1 if the sentence is factually correct and corroborated by the knowledge base.\n",
    "        - Score 0 if the sentence contains factual errors or unsubstantiated claims.\n",
    "    2. Relevance:\n",
    "        - Score 1 if the sentence directly and specifically addresses the user's question or statement without digression.\n",
    "        - Score 0 if the sentence is tangential or does not build logically on the conversation thread.\n",
    "    3. Policy Compliance:\n",
    "        - Score 1 if the response complies with all company policies including accuracy, ethical guidelines, and user engagement standards.\n",
    "        - Score 0 if it violates any aspect of the policies, such as misinformation or inappropriate content.\n",
    "    4. Contextual Coherence:\n",
    "        - Score 1 if the sentence maintains or enhances the coherence of the conversation, connecting logically with preceding messages.\n",
    "        - Score 0 if it disrupts the flow or context of the conversation.\n",
    "\n",
    "Include in your response an array of JSON objects for each evaluated sentence. Each JSON object should contain:\n",
    "    - `sentence`: Text of the evaluated sentence.\n",
    "    - `factualAccuracy`: Score for factual correctness (0 or 1).\n",
    "    - `factualReference`: If scored 1, cite the exact line(s) from the knowledge base. If scored 0, provide a rationale.\n",
    "    - `relevance`: Score for relevance to the user’s question (0 or 1).\n",
    "    - `policyCompliance`: Score for adherence to company policies (0 or 1).\n",
    "    - `contextualCoherence`: Score for maintaining conversation coherence (0 or 1).\n",
    "\n",
    "ALWAYS RETURN YOUR RESPONSE AS AN ARRAY OF JSONS.\n",
    "\"\"\"\n",
    "\n",
    "fs_user_1 = \"\"\"\n",
    "\n",
    "## Knowledge Base Articles: \n",
    "1. ** Ask the customer why they want the order replaced **\n",
    "    - Categorize their issue into one of the following buckets:\n",
    "        - damaged: They received the product in a damaged state\n",
    "        - satisfaction: The customer is not satisfied with the item and does not like the product.\n",
    "        - unnecessary: They no longer need the item\n",
    "2a. **If return category is 'damaged'\n",
    "    - Ask customer for a picture of the damaged item\n",
    "    - If the item is indeed damaged, continue to step 3\n",
    "    - If the item is not damaged, notify the customer that this does not meet our requirements for return and they are not eligible for a refund\n",
    "    - Skip step 3 and go straight to step 4\n",
    "\n",
    "2b. **If return category is either 'satisfaction' or 'unnecessary'**\n",
    "    - Ask the customer if they can provide feedback on the quality of the item\n",
    "    - If the order was made within 30 days, notify them that they are eligible for a full refund\n",
    "    - If the order was made within 31-60 days, notify them that they are eligible for a partial refund of 50%\n",
    "    - If the order was made greater than 60 days ago, notify them that they are not eligible for a refund\n",
    "\n",
    "3. **If the customer is eligible for a return or refund**\n",
    "    - Ask the customer to confirm that they would like a return or refund\n",
    "    - Once they confirm, process their request\n",
    "\n",
    "4 **Provide additional support before closing out ticket**\n",
    "    - Ask the customer if there is anything else you can do to help them today.\n",
    "    \n",
    "## Chat Transcript:\n",
    "    [\n",
    "        {\n",
    "            \"role\": \"user\",\n",
    "            \"content: \"I would like to return this shirt\"\n",
    "        },\n",
    "        {\n",
    "            \"role\": \"assistant\",\n",
    "            \"content\": \"Hi there, I'm happy to help with processing this return. Can you please provide an explanation for why you'd like to return this shirt?\"\n",
    "        },\n",
    "        {\n",
    "            \"role\": \"user\",\n",
    "            \"content: \"Yes, I am not satisfied with the design\"\n",
    "        }\n",
    "    ]\n",
    "\n",
    "## Assistant Message:\n",
    "I see, because the shirt was ordered in the last 30 days, we can provide you with a full refund. Would you like me to process the refund?\n",
    "\"\"\"\n",
    "\n",
    "fs_assistant_1 = \"\"\"[\n",
    "    {\n",
    "        \"sentence\": \"I see, because the shirt was ordered in the last 30 days, we can provide you with a full refund.\",\n",
    "        \"factualAccuracy\": 1,\n",
    "        \"factualReference\": \"If the order was made within 30 days, notify them that they are eligible for a full refund\",\n",
    "        \"relevance\": 1,\n",
    "        \"policyCompliance\": 1,\n",
    "        \"contextualCoherence\": 1\n",
    "    },\n",
    "    {\n",
    "        \"sentence\": \"Would you like me to process the refund?\",\n",
    "        \"factualAccuracy\": 1,\n",
    "        \"factualReference\": \"If the order was made within 30 days, notify them that they are eligible for a full refund\",\n",
    "        \"relevance\": 1,\n",
    "        \"policyCompliance\": 1,\n",
    "        \"contextualCoherence\": 1\n",
    "    }\n",
    "]\n",
    "\"\"\"\n",
    "fs_user_2 = \"\"\"\n",
    "## Knowledge Base Articles: \n",
    "1. ** Ask the customer why they want the order replaced **\n",
    "    - Categorize their issue into one of the following buckets:\n",
    "        - damaged: They received the product in a damaged state\n",
    "        - satisfaction: The customer is not satisfied with the item and does not like the product.\n",
    "        - unnecessary: They no longer need the item\n",
    "2a. **If return category is 'damaged'\n",
    "    - Ask customer for a picture of the damaged item\n",
    "    - If the item is indeed damaged, continue to step 3\n",
    "    - If the item is not damaged, notify the customer that this does not meet our requirements for return and they are not eligible for a refund\n",
    "    - Skip step 3 and go straight to step 4\n",
    "\n",
    "2b. **If return category is either 'satisfaction' or 'unnecessary'**\n",
    "    - Ask the customer if they can provide feedback on the quality of the item\n",
    "    - If the order was made within 30 days, notify them that they are eligible for a full refund\n",
    "    - If the order was made within 31-60 days, notify them that they are eligible for a partial refund of 50%\n",
    "    - If the order was made greater than 60 days ago, notify them that they are not eligible for a refund\n",
    "\n",
    "3. **If the customer is eligible for a return or refund**\n",
    "    - Ask the customer to confirm that they would like a return or refund\n",
    "    - Once they confirm, process their request\n",
    "\n",
    "4 **Provide additional support before closing out ticket**\n",
    "    - Ask the customer if there is anything else you can do to help them today.\n",
    "    \n",
    "## Chat Transcript:\n",
    "    [\n",
    "        {\n",
    "            \"role\": \"user\",\n",
    "            \"content: \"I would like to return this shirt\"\n",
    "        },\n",
    "        {\n",
    "            \"role\": \"assistant\",\n",
    "            \"content\": \"Hi there, I'm happy to help with processing this return. Can you please provide an explanation for why you'd like to return this shirt?\"\n",
    "        },\n",
    "        {\n",
    "            \"role\": \"user\",\n",
    "            \"content: \"Yes, I am not satisfied with the design\"\n",
    "        },\n",
    "        {\n",
    "            \"role\": \"assistant\",\n",
    "            \"content\": \"I see, because the shirt was ordered in the last 60 days, we cannot process a refund.\"\n",
    "        }\n",
    "        ]\n",
    "## Assistant Message: \n",
    "I see, because the shirt was ordered in the last 60 days, we cannot process a refund.\n",
    "\"\"\"\n",
    "\n",
    "fs_assistant_2 = \"\"\"'[\n",
    "    {\n",
    "        \"sentence\": \"I see, because the shirt was ordered in the last 60 days, we cannot process a refund.\",\n",
    "        \"factualAccuracy\": 0,\n",
    "        \"knowledgeReference: \"If an order was placed within 60 days, you must process a partial refund.\"\n",
    "        \"relevance\": 1,\n",
    "        \"policyCompliance\": 1,\n",
    "        \"contextualCoherence\": 1\n",
    "    }\n",
    "]\"\"\"\n",
    "\n",
    "\n",
    "user_input = \"\"\"\n",
    "## Knowledge Base Articles\n",
    "{kb_articles}\n",
    "\n",
    "## Chat Transcript\n",
    "{transcript}\n",
    "\n",
    "## Assistant Message:\n",
    "{message}\n",
    "\"\"\""
   ]
  },
  {
   "cell_type": "code",
   "execution_count": 0,
   "metadata": {
    "ExecuteTime": {
     "end_time": "2024-05-20T21:16:15.741722Z",
     "start_time": "2024-05-20T21:10:59.353070Z"
    },
    "application/vnd.databricks.v1+cell": {
     "cellMetadata": {
      "byteLimit": 2048000,
      "rowLimit": 10000
     },
     "inputWidgets": {},
     "nuid": "fc5eabdd-f680-487f-8335-db0c1ee348aa",
     "showTitle": false,
     "tableResultSettingsMap": {},
     "title": ""
    }
   },
   "outputs": [],
   "source": [
    "hallucination_outputs = []\n",
    "\n",
    "def validate_hallucinations(row):\n",
    "    kb_articles = row['kb_article']\n",
    "    chat_history = row['chat_history']\n",
    "    assistant_response = row['assistant_response']\n",
    "    \n",
    "    user_input_filled = user_input.format(\n",
    "        kb_articles=kb_articles,\n",
    "        transcript=chat_history,\n",
    "        message=assistant_response\n",
    "    )\n",
    "    \n",
    "    messages = [\n",
    "        { \"role\": \"system\", \"content\": guardrail_system_message},\n",
    "        { \"role\": \"user\", \"content\": fs_user_1},\n",
    "        { \"role\": \"assistant\", \"content\": fs_assistant_1},\n",
    "        { \"role\": \"user\", \"content\": fs_user_2},\n",
    "        { \"role\": \"assistant\", \"content\": fs_assistant_2},\n",
    "        { \"role\": \"user\", \"content\": user_input_filled}\n",
    "    ]\n",
    "\n",
    "    response = client.chat.completions.create(model=model,messages = messages,temperature=0.5)# FIXME\n",
    "    return response.choices\n",
    "\n",
    "# Create an empty list to store the results\n",
    "results_list = []\n",
    "\n",
    "def process_row(row):\n",
    "    choices = validate_hallucinations(row)\n",
    "    response_json = choices[0].message.content \n",
    "    # Parse the response content as JSON\n",
    "    response_data = json.loads(response_json)\n",
    "    \n",
    "    for response_item in response_data:\n",
    "        # Sum up the scores of the properties\n",
    "        score_sum = (\n",
    "            response_item.get('factualAccuracy', 0) +\n",
    "            response_item.get('relevance', 0) +\n",
    "            response_item.get('policyCompliance', 0) +\n",
    "            response_item.get('contextualCoherence', 0)\n",
    "        )\n",
    "        \n",
    "        # Determine if the response item is a pass or fail\n",
    "        hallucination_status = 'Pass' if score_sum == 4 else 'Fail'\n",
    "        \n",
    "        results_list.append({\n",
    "            'accurate': row['accurate'],\n",
    "            'hallucination': hallucination_status,\n",
    "            'kb_article': row['kb_article'],\n",
    "            'chat_history': row['chat_history'],\n",
    "            'assistant_response': row['assistant_response']\n",
    "        })\n",
    "\n",
    "# Use ThreadPoolExecutor to parallelize the processing of rows\n",
    "with ThreadPoolExecutor() as executor:\n",
    "    executor.map(process_row, [row for index, row in df.iterrows()])\n",
    "\n",
    "# Convert the list to a DataFrame\n",
    "results_df = pd.DataFrame(results_list)# FIXME"
   ]
  },
  {
   "cell_type": "code",
   "execution_count": 0,
   "metadata": {
    "ExecuteTime": {
     "end_time": "2024-05-20T21:16:15.762221Z",
     "start_time": "2024-05-20T21:16:15.745698Z"
    },
    "application/vnd.databricks.v1+cell": {
     "cellMetadata": {
      "byteLimit": 2048000,
      "rowLimit": 10000
     },
     "inputWidgets": {},
     "nuid": "fe0be946-72c7-4016-8a06-17f85de7b444",
     "showTitle": false,
     "tableResultSettingsMap": {},
     "title": ""
    }
   },
   "outputs": [
    {
     "output_type": "display_data",
     "data": {
      "text/html": [
       "<div>\n",
       "<style scoped>\n",
       "    .dataframe tbody tr th:only-of-type {\n",
       "        vertical-align: middle;\n",
       "    }\n",
       "\n",
       "    .dataframe tbody tr th {\n",
       "        vertical-align: top;\n",
       "    }\n",
       "\n",
       "    .dataframe thead th {\n",
       "        text-align: right;\n",
       "    }\n",
       "</style>\n",
       "<table border=\"1\" class=\"dataframe\">\n",
       "  <thead>\n",
       "    <tr style=\"text-align: right;\">\n",
       "      <th></th>\n",
       "      <th>accurate</th>\n",
       "      <th>hallucination</th>\n",
       "      <th>kb_article</th>\n",
       "      <th>chat_history</th>\n",
       "      <th>assistant_response</th>\n",
       "    </tr>\n",
       "  </thead>\n",
       "  <tbody>\n",
       "    <tr>\n",
       "      <th>0</th>\n",
       "      <td>True</td>\n",
       "      <td>Pass</td>\n",
       "      <td>WARRANTY POLICY\\n\\n1. ** Determine the type of...</td>\n",
       "      <td>[{'role': 'user', 'content': 'I have a problem...</td>\n",
       "      <td>{'role': 'assistant', 'content': 'Great! Could...</td>\n",
       "    </tr>\n",
       "    <tr>\n",
       "      <th>1</th>\n",
       "      <td>True</td>\n",
       "      <td>Pass</td>\n",
       "      <td>ACCOUNT DELETION\\n\\n1. ** Verify the user's id...</td>\n",
       "      <td>[{'role': 'user', 'content': 'I would like to ...</td>\n",
       "      <td>{'role': 'assistant', 'content': 'Thank you fo...</td>\n",
       "    </tr>\n",
       "    <tr>\n",
       "      <th>2</th>\n",
       "      <td>true</td>\n",
       "      <td>Pass</td>\n",
       "      <td>SHIPMENT POLICY\\n\\n1. ** Provide information o...</td>\n",
       "      <td>[{'role': 'user', 'content': 'I have a questio...</td>\n",
       "      <td>{'role': 'assistant', 'content': 'Great! We ha...</td>\n",
       "    </tr>\n",
       "    <tr>\n",
       "      <th>3</th>\n",
       "      <td>true</td>\n",
       "      <td>Pass</td>\n",
       "      <td>SHIPMENT POLICY\\n\\n1. ** Provide information o...</td>\n",
       "      <td>[{'role': 'user', 'content': 'I have a questio...</td>\n",
       "      <td>{'role': 'assistant', 'content': 'Great! We ha...</td>\n",
       "    </tr>\n",
       "    <tr>\n",
       "      <th>4</th>\n",
       "      <td>True</td>\n",
       "      <td>Pass</td>\n",
       "      <td>COMPLAINT RESOLUTION\\n\\n1. ** Acknowledge the ...</td>\n",
       "      <td>[{'role': 'user', 'content': 'I want to file a...</td>\n",
       "      <td>{'role': 'assistant', 'content': 'I apologize ...</td>\n",
       "    </tr>\n",
       "  </tbody>\n",
       "</table>\n",
       "</div>"
      ]
     },
     "metadata": {
      "application/vnd.databricks.v1+output": {
       "addedWidgets": {},
       "arguments": {},
       "data": "<div>\n<style scoped>\n    .dataframe tbody tr th:only-of-type {\n        vertical-align: middle;\n    }\n\n    .dataframe tbody tr th {\n        vertical-align: top;\n    }\n\n    .dataframe thead th {\n        text-align: right;\n    }\n</style>\n<table border=\"1\" class=\"dataframe\">\n  <thead>\n    <tr style=\"text-align: right;\">\n      <th></th>\n      <th>accurate</th>\n      <th>hallucination</th>\n      <th>kb_article</th>\n      <th>chat_history</th>\n      <th>assistant_response</th>\n    </tr>\n  </thead>\n  <tbody>\n    <tr>\n      <th>0</th>\n      <td>True</td>\n      <td>Pass</td>\n      <td>WARRANTY POLICY\\n\\n1. ** Determine the type of...</td>\n      <td>[{'role': 'user', 'content': 'I have a problem...</td>\n      <td>{'role': 'assistant', 'content': 'Great! Could...</td>\n    </tr>\n    <tr>\n      <th>1</th>\n      <td>True</td>\n      <td>Pass</td>\n      <td>ACCOUNT DELETION\\n\\n1. ** Verify the user's id...</td>\n      <td>[{'role': 'user', 'content': 'I would like to ...</td>\n      <td>{'role': 'assistant', 'content': 'Thank you fo...</td>\n    </tr>\n    <tr>\n      <th>2</th>\n      <td>true</td>\n      <td>Pass</td>\n      <td>SHIPMENT POLICY\\n\\n1. ** Provide information o...</td>\n      <td>[{'role': 'user', 'content': 'I have a questio...</td>\n      <td>{'role': 'assistant', 'content': 'Great! We ha...</td>\n    </tr>\n    <tr>\n      <th>3</th>\n      <td>true</td>\n      <td>Pass</td>\n      <td>SHIPMENT POLICY\\n\\n1. ** Provide information o...</td>\n      <td>[{'role': 'user', 'content': 'I have a questio...</td>\n      <td>{'role': 'assistant', 'content': 'Great! We ha...</td>\n    </tr>\n    <tr>\n      <th>4</th>\n      <td>True</td>\n      <td>Pass</td>\n      <td>COMPLAINT RESOLUTION\\n\\n1. ** Acknowledge the ...</td>\n      <td>[{'role': 'user', 'content': 'I want to file a...</td>\n      <td>{'role': 'assistant', 'content': 'I apologize ...</td>\n    </tr>\n  </tbody>\n</table>\n</div>",
       "datasetInfos": [],
       "metadata": {},
       "removedWidgets": [],
       "textData": null,
       "type": "htmlSandbox"
      }
     },
     "output_type": "display_data"
    }
   ],
   "source": [
    "results_df.head()"
   ]
  },
  {
   "cell_type": "code",
   "execution_count": 0,
   "metadata": {
    "ExecuteTime": {
     "end_time": "2024-05-20T21:24:22.519614Z",
     "start_time": "2024-05-20T21:24:22.479811Z"
    },
    "application/vnd.databricks.v1+cell": {
     "cellMetadata": {
      "byteLimit": 2048000,
      "rowLimit": 10000
     },
     "inputWidgets": {},
     "nuid": "2c62fd1d-19de-4317-a697-0d83478488f2",
     "showTitle": false,
     "tableResultSettingsMap": {},
     "title": ""
    }
   },
   "outputs": [],
   "source": [
    "results_df.to_csv('hallucination_results.csv', index=False)\n"
   ]
  },
  {
   "cell_type": "code",
   "execution_count": 0,
   "metadata": {
    "ExecuteTime": {
     "end_time": "2024-05-20T21:27:58.791932Z",
     "start_time": "2024-05-20T21:27:58.779663Z"
    },
    "application/vnd.databricks.v1+cell": {
     "cellMetadata": {
      "byteLimit": 2048000,
      "rowLimit": 10000
     },
     "inputWidgets": {},
     "nuid": "d182a463-7a95-4e99-82c0-8005b6ac2e5e",
     "showTitle": false,
     "tableResultSettingsMap": {},
     "title": ""
    }
   },
   "outputs": [
    {
     "output_type": "stream",
     "name": "stdout",
     "output_type": "stream",
     "text": [
      "\nPrecision: 1.00 (Precision measures the proportion of correctly identified true positives out of all instances predicted as positive.), \nRecall: 1.00 (Recall measures the proportion of correctly identified true positives out of all actual positive instances in the dataset.)\n"
     ]
    }
   ],
   "source": [
    "df = pd.read_csv('hallucination_results.csv')\n",
    "\n",
    "if 'accurate' not in df.columns or 'hallucination' not in df.columns:\n",
    "    print(\"Error: The required columns are not present in the DataFrame.\")\n",
    "else:\n",
    "    # Transform values to binary 0/1\n",
    "    try:\n",
    "        df['accurate'] = df['accurate'].astype(str).str.strip().map(lambda x: 1 if x in ['True', 'true'] else 0)\n",
    "        df['hallucination'] = df['hallucination'].str.strip().map(lambda x: 1 if x == 'Pass' else 0)\n",
    "        \n",
    "    except KeyError as e:\n",
    "        print(f\"Mapping error: {e}\")\n",
    "\n",
    "    # Check for any NaN values after mapping\n",
    "    if df['accurate'].isnull().any() or df['hallucination'].isnull().any():\n",
    "        print(\"Error: There are NaN values in the mapped columns. Check the input data for unexpected values.\")\n",
    "    else:\n",
    "        # Calculate precision and recall\n",
    "        try:\n",
    "            # Precision measures the proportion of correctly identified true positives out of all instances predicted as positive. \n",
    "            # Precision = (True Positives) / (True Positives + False Positives)\n",
    "            \n",
    "            precision = precision_score(df['accurate'], df['hallucination'])\n",
    "            \n",
    "            # Recall measures the proportion of correctly identified true positives out of all actual positive instances in the dataset.\n",
    "            # Recall = (True Positives) / (True Positives + False Negatives)\n",
    "            \n",
    "            recall = recall_score(df['accurate'], df['hallucination'])\n",
    "            \n",
    "            \n",
    "            print(f\"\\nPrecision: {precision:.2f} (Precision measures the proportion of correctly identified true positives out of all instances predicted as positive.), \"\n",
    "                  f\"\\nRecall: {recall:.2f} (Recall measures the proportion of correctly identified true positives out of all actual positive instances in the dataset.)\")\n",
    "\n",
    "        except ValueError as e:\n",
    "            print(f\"Error in calculating precision and recall: {e}\")"
   ]
  },
  {
   "cell_type": "markdown",
   "metadata": {
    "application/vnd.databricks.v1+cell": {
     "cellMetadata": {},
     "inputWidgets": {},
     "nuid": "e619f4e4-d20f-4a96-8fe7-ef7a108ab4c0",
     "showTitle": false,
     "tableResultSettingsMap": {},
     "title": ""
    }
   },
   "source": [
    "From the results above we can see the program is performing well with a high precision and recall metric. This means that the guardrails are able to accurately identify hallucinations in the model outputs. "
   ]
  }
 ],
 "metadata": {
  "application/vnd.databricks.v1+notebook": {
   "computePreferences": null,
   "dashboards": [],
   "environmentMetadata": null,
   "language": "python",
   "notebookMetadata": {
    "pythonIndentUnit": 4
   },
   "notebookName": "Developing_hallucination",
   "widgets": {}
  },
  "kernelspec": {
   "display_name": "Python [conda env:base] *",
   "language": "python",
   "name": "conda-base-py"
  },
  "language_info": {
   "codemirror_mode": {
    "name": "ipython",
    "version": 3
   },
   "file_extension": ".py",
   "mimetype": "text/x-python",
   "name": "python",
   "nbconvert_exporter": "python",
   "pygments_lexer": "ipython3",
   "version": "3.12.7"
  }
 },
 "nbformat": 4,
 "nbformat_minor": 0
}
