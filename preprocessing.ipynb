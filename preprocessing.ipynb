{
 "cells": [
  {
   "cell_type": "markdown",
   "metadata": {
    "application/vnd.databricks.v1+cell": {
     "cellMetadata": {
      "byteLimit": 2048000,
      "rowLimit": 10000
     },
     "inputWidgets": {},
     "nuid": "0e710e48-d686-4959-917c-7e240b1e8130",
     "showTitle": false,
     "tableResultSettingsMap": {},
     "title": ""
    }
   },
   "source": [
    "# Data Preprocessing and Cleaning\n",
    "\n",
    "Data cleaning is an essential step in the process of preparing data for further processing and serving into a large language model. Without data cleaning, the language model would be limited in its ability to interpret and process the data accurately. Data cleaning helps to ensure that the data is in a consistent format, free of any inconsistencies or errors that could lead to incorrect results. It also helps to reduce the amount of time needed to process the data, as it eliminates the need to manually check for any inconsistencies or errors. Additionally, data cleaning can help to improve the accuracy of the language model by removing any irrelevant or incorrect data. By taking the time to properly clean the data, the language model can more accurately interpret and process the data, leading to better results.\n",
    "\n",
    "> 📍 Fill out the missing pieces in the source source to get everything working (indicated by `#FIXME`)."
   ]
  },
  {
   "cell_type": "markdown",
   "metadata": {
    "application/vnd.databricks.v1+cell": {
     "cellMetadata": {
      "byteLimit": 2048000,
      "rowLimit": 10000
     },
     "inputWidgets": {},
     "nuid": "f07f2130-28ea-4737-a3e1-2e3f0ea61d5a",
     "showTitle": false,
     "tableResultSettingsMap": {},
     "title": ""
    }
   },
   "source": [
    "## Count tokens\n",
    "\n",
    "> **Important note**\n",
    ">\n",
    "> *You do not need to manually tokenize strings before feeding texts into the model. This will be done automatically once you put instructions into the `prompt` parameter. However, you can use the `tiktoken` library to check how a string is tokenized and count the numbers of tokens to calculate the cost of an API call. Learn more [here](https://platform.openai.com/docs/introduction/tokens).*\n",
    "\n",
    "Tokenizing text strings is an important step in natural language processing (NLP) as it helps models like GPT-3 understand the structure of a text string. Tokenizing breaks a text string into smaller pieces called tokens, which can then be analyzed and used by the model. By understanding the structure of a text string, models can better understand the meaning of the text. Additionally, tokenizing helps to determine the cost of an Azure OpenAI Service API call, as usage is priced by token. Furthermore, different models use different encodings, so it is important to tokenize text strings in the appropriate format.\n",
    "\n",
    "`tiktoken` supports three encodings used by Azure OpenAI Service models:\n",
    "\n",
    "| Encoding name | Azure OpenAI Service models |\n",
    "| ------------- | -------------- |\n",
    "| gpt2 (or r50k_base) | Most GPT-3 models |\n",
    "| p50k_base | Code models, text-davinci-002, text-davinci-003 |\n",
    "| cl100k_base | text-embedding-ada-002 |\n",
    "\n",
    "Tokens in English typically range from one character to one word (e.g. \"t\" or \"great\"), though some languages may have tokens that are shorter or longer than one character or word. Spaces are usually placed at the beginning of words (e.g. \" is\" instead of \"is \" or \"+\"is\"). You can use the Tokenizer to quickly check how a string is tokenized."
   ]
  },
  {
   "cell_type": "markdown",
   "metadata": {
    "application/vnd.databricks.v1+cell": {
     "cellMetadata": {
      "byteLimit": 2048000,
      "rowLimit": 10000
     },
     "inputWidgets": {},
     "nuid": "8fee92f9-f064-426e-9ee8-411080c61451",
     "showTitle": false,
     "tableResultSettingsMap": {},
     "title": ""
    }
   },
   "source": [
    "To show it briefly, we will use `tiktoken` to tokenize a text string and see how the output looks like."
   ]
  },
  {
   "cell_type": "code",
   "execution_count": 0,
   "metadata": {
    "application/vnd.databricks.v1+cell": {
     "cellMetadata": {
      "byteLimit": 2048000,
      "rowLimit": 10000
     },
     "inputWidgets": {},
     "nuid": "4f708762-01e0-4243-842a-ac98f4f9c1ac",
     "showTitle": false,
     "tableResultSettingsMap": {},
     "title": ""
    }
   },
   "outputs": [
    {
     "output_type": "stream",
     "name": "stdout",
     "output_type": "stream",
     "text": [
      "Python interpreter will be restarted.\nRequirement already satisfied: tiktoken in /local_disk0/.ephemeral_nfs/envs/pythonEnv-532bae65-a6ea-4e11-aced-48d93cd4c4ee/lib/python3.9/site-packages (0.8.0)\nRequirement already satisfied: requests>=2.26.0 in /databricks/python3/lib/python3.9/site-packages (from tiktoken) (2.27.1)\nRequirement already satisfied: regex>=2022.1.18 in /local_disk0/.ephemeral_nfs/envs/pythonEnv-532bae65-a6ea-4e11-aced-48d93cd4c4ee/lib/python3.9/site-packages (from tiktoken) (2024.11.6)\nRequirement already satisfied: charset-normalizer~=2.0.0 in /databricks/python3/lib/python3.9/site-packages (from requests>=2.26.0->tiktoken) (2.0.4)\nRequirement already satisfied: idna<4,>=2.5 in /databricks/python3/lib/python3.9/site-packages (from requests>=2.26.0->tiktoken) (3.3)\nRequirement already satisfied: certifi>=2017.4.17 in /databricks/python3/lib/python3.9/site-packages (from requests>=2.26.0->tiktoken) (2021.10.8)\nRequirement already satisfied: urllib3<1.27,>=1.21.1 in /databricks/python3/lib/python3.9/site-packages (from requests>=2.26.0->tiktoken) (1.26.9)\nPython interpreter will be restarted.\n"
     ]
    }
   ],
   "source": [
    "%pip install tiktoken"
   ]
  },
  {
   "cell_type": "code",
   "execution_count": 0,
   "metadata": {
    "application/vnd.databricks.v1+cell": {
     "cellMetadata": {
      "byteLimit": 2048000,
      "rowLimit": 10000
     },
     "inputWidgets": {},
     "nuid": "602be379-cb72-4713-8f66-869934437594",
     "showTitle": false,
     "tableResultSettingsMap": {},
     "title": ""
    }
   },
   "outputs": [
    {
     "output_type": "stream",
     "name": "stdout",
     "output_type": "stream",
     "text": [
      "Out[1]: [15496, 995, 11, 428, 318, 1257, 0]"
     ]
    }
   ],
   "source": [
    "import tiktoken\n",
    "\n",
    "encoding = tiktoken.get_encoding(\"p50k_base\")\n",
    "encoding.encode(\"Hello world, this is fun!\")"
   ]
  },
  {
   "cell_type": "markdown",
   "metadata": {
    "application/vnd.databricks.v1+cell": {
     "cellMetadata": {
      "byteLimit": 2048000,
      "rowLimit": 10000
     },
     "inputWidgets": {},
     "nuid": "053c050d-994b-468d-af8f-28d4326315ef",
     "showTitle": false,
     "tableResultSettingsMap": {},
     "title": ""
    }
   },
   "source": [
    "Write a script that shows the string tokens from an input phrase."
   ]
  },
  {
   "cell_type": "code",
   "execution_count": 0,
   "metadata": {
    "application/vnd.databricks.v1+cell": {
     "cellMetadata": {
      "byteLimit": 2048000,
      "rowLimit": 10000
     },
     "inputWidgets": {},
     "nuid": "5972adaf-bca0-4cb3-bbb1-363c3788c540",
     "showTitle": false,
     "tableResultSettingsMap": {},
     "title": ""
    }
   },
   "outputs": [
    {
     "output_type": "stream",
     "name": "stdout",
     "output_type": "stream",
     "text": [
      "Out[2]: [b'Hello', b' world', b',', b' this', b' is', b' fun', b'!']"
     ]
    }
   ],
   "source": [
    "[encoding.decode_single_token_bytes(token) for token in encoding.encode(\"Hello world, this is fun!\")]"
   ]
  },
  {
   "cell_type": "markdown",
   "metadata": {
    "application/vnd.databricks.v1+cell": {
     "cellMetadata": {
      "byteLimit": 2048000,
      "rowLimit": 10000
     },
     "inputWidgets": {},
     "nuid": "5189ba5e-a1a2-42dd-be37-7b817f7af150",
     "showTitle": false,
     "tableResultSettingsMap": {},
     "title": ""
    }
   },
   "source": [
    "Let's write a function to count the number of tokens in a text string."
   ]
  },
  {
   "cell_type": "code",
   "execution_count": 0,
   "metadata": {
    "application/vnd.databricks.v1+cell": {
     "cellMetadata": {
      "byteLimit": 2048000,
      "rowLimit": 10000
     },
     "inputWidgets": {},
     "nuid": "38bead16-020e-4c2e-94df-74c0e93b9a72",
     "showTitle": false,
     "tableResultSettingsMap": {},
     "title": ""
    }
   },
   "outputs": [
    {
     "output_type": "stream",
     "name": "stdout",
     "output_type": "stream",
     "text": [
      "Out[3]: 7"
     ]
    }
   ],
   "source": [
    "def get_num_tokens_from_string(string: str, encoding_name: str='p50k_base') -> int:\n",
    "    \"\"\"Returns the number of tokens in a text by a given encoding.\"\"\"\n",
    "    encoding = tiktoken.get_encoding(encoding_name)\n",
    "    return len(encoding.encode(string))\n",
    "\n",
    "get_num_tokens_from_string(\"Hello World, this is fun!\")"
   ]
  },
  {
   "cell_type": "markdown",
   "metadata": {
    "application/vnd.databricks.v1+cell": {
     "cellMetadata": {
      "byteLimit": 2048000,
      "rowLimit": 10000
     },
     "inputWidgets": {},
     "nuid": "bd94eb28-b7d6-46b5-b775-06f0bdfc450b",
     "showTitle": false,
     "tableResultSettingsMap": {},
     "title": ""
    }
   },
   "source": [
    "## Clean data"
   ]
  },
  {
   "cell_type": "markdown",
   "metadata": {
    "application/vnd.databricks.v1+cell": {
     "cellMetadata": {
      "byteLimit": 2048000,
      "rowLimit": 10000
     },
     "inputWidgets": {},
     "nuid": "0f96bfd8-58b7-4bce-ab3b-4e185afa4238",
     "showTitle": false,
     "tableResultSettingsMap": {},
     "title": ""
    }
   },
   "source": [
    "Next we'll perform some light data cleaning by removing redundant whitespace and cleaning up the punctuation to prepare the data for tokenization. Again, tokenization is not required for the model to work, but it is a good practice to do so to ensure that the data is in a consistent format and that the model is able to process the data correctly. Also, it makes sure that the request is not too long for the model as the maximum number of tokens for davinci is 2048, e.g., equivalent to around 2-3 pages of text.\n",
    "\n",
    "> **Best Practices**\n",
    "> - **Replace newlines with a single space**: Unless you're embedding code, we suggest replacing newlines (\\n) in your input with a single space, as we have observed inferior results when newlines are present."
   ]
  },
  {
   "cell_type": "code",
   "execution_count": 0,
   "metadata": {
    "application/vnd.databricks.v1+cell": {
     "cellMetadata": {
      "byteLimit": 2048000,
      "rowLimit": 10000
     },
     "inputWidgets": {},
     "nuid": "1eedcee0-b8b0-42b7-af07-77d277ce15a8",
     "showTitle": false,
     "tableResultSettingsMap": {},
     "title": ""
    }
   },
   "outputs": [],
   "source": [
    "import re\n",
    "\n",
    "def normalize_text(string, sep_token = \" \\n \"):\n",
    "    \"\"\"Normalize text by removing unnecessary characters and altering the format of words.\"\"\"\n",
    "    # make text lowercase\n",
    "    string = re.sub(r'\\s+',  ' ', string).strip()\n",
    "    string = re.sub(r\". ,\",\"\",string)\n",
    "    # remove all instances of multiple spaces\n",
    "    string = string.replace(\"..\",\".\")\n",
    "    string = string.replace(\". .\",\".\")\n",
    "    string = string.replace(\"\\n\", \"\")\n",
    "    string = string.strip()\n",
    "    return string"
   ]
  },
  {
   "cell_type": "markdown",
   "metadata": {
    "application/vnd.databricks.v1+cell": {
     "cellMetadata": {
      "byteLimit": 2048000,
      "rowLimit": 10000
     },
     "inputWidgets": {},
     "nuid": "147a2ce1-cd2c-4322-97db-4919c7d7a7e2",
     "showTitle": false,
     "tableResultSettingsMap": {},
     "title": ""
    }
   },
   "source": [
    "Generate some data to test the cleaning function."
   ]
  },
  {
   "cell_type": "code",
   "execution_count": 0,
   "metadata": {
    "application/vnd.databricks.v1+cell": {
     "cellMetadata": {
      "byteLimit": 2048000,
      "rowLimit": 10000
     },
     "inputWidgets": {},
     "nuid": "92ed81e8-98ea-4bf2-a70b-840286fe807b",
     "showTitle": false,
     "tableResultSettingsMap": {},
     "title": ""
    }
   },
   "outputs": [
    {
     "output_type": "stream",
     "name": "stdout",
     "output_type": "stream",
     "text": [
      "Out[5]: 'Hola que tal'"
     ]
    }
   ],
   "source": [
    "normalize_text(\"Hola que tal\") #FIXME"
   ]
  },
  {
   "cell_type": "markdown",
   "metadata": {
    "application/vnd.databricks.v1+cell": {
     "cellMetadata": {
      "byteLimit": 2048000,
      "rowLimit": 10000
     },
     "inputWidgets": {},
     "nuid": "3d4964d9-7ef5-4431-8bee-572a839d0a23",
     "showTitle": false,
     "tableResultSettingsMap": {},
     "title": ""
    }
   },
   "source": [
    "## Ejercicio 1: Validar longitud de texto antes de enviar a OpenAI\n",
    "\n",
    "Escribe una función llamada validate_text_length que valide si un texto supera un límite de tokens especificado. Si el texto supera el límite, la función debe dividirlo en segmentos de tamaño adecuado para enviarlos al modelo de OpenAI. Usa la codificación cl100k_base.\n",
    "\n"
   ]
  },
  {
   "cell_type": "code",
   "execution_count": 0,
   "metadata": {
    "application/vnd.databricks.v1+cell": {
     "cellMetadata": {
      "byteLimit": 2048000,
      "rowLimit": 10000
     },
     "inputWidgets": {},
     "nuid": "602b7d9a-c4e5-4ef6-bd65-af6c2e0e850d",
     "showTitle": false,
     "tableResultSettingsMap": {},
     "title": ""
    }
   },
   "outputs": [
    {
     "output_type": "stream",
     "name": "stdout",
     "output_type": "stream",
     "text": [
      "El texto no excede el límite de 2048 tokens.\n1\n1001\n"
     ]
    }
   ],
   "source": [
    "import tiktoken\n",
    "\n",
    "def validate_text_length(text, max_tokens=2048, encoding_name='cl100k_base'):\n",
    "    # Cargar el codificador especificado (cl100k_base por defecto)\n",
    "    encoding = tiktoken.get_encoding(encoding_name)\n",
    "    \n",
    "    # Tokenizar el texto\n",
    "    tokens = encoding.encode(text)\n",
    "    \n",
    "    # Verificar si la longitud del texto (en tokens) excede el límite\n",
    "    if len(tokens) > max_tokens:\n",
    "        print(f\"El texto excede el límite de {max_tokens} tokens. Se dividirá en segmentos.\")\n",
    "        \n",
    "        # Dividir el texto en segmentos de tamaño adecuado\n",
    "        segments = []\n",
    "        for i in range(0, len(tokens), max_tokens):\n",
    "            segment = tokens[i:i + max_tokens]\n",
    "            segment_text = encoding.decode(segment)\n",
    "            segments.append(segment_text)\n",
    "        \n",
    "        return segments\n",
    "    else:\n",
    "        print(f\"El texto no excede el límite de {max_tokens} tokens.\")\n",
    "        return [text]\n",
    "\n",
    "# Prueba la función\n",
    "text = \"Lorem ipsum \" * 500  # Texto largo\n",
    "segments = validate_text_length(text)  # Aquí se llama la función\n",
    "\n",
    "# Verifica el número de segmentos y su longitud\n",
    "print(len(segments))  # Resultado esperado: Más de 1 segmento\n",
    "\n",
    "# Verifica el número de tokens en el primer segmento\n",
    "print(len(tiktoken.get_encoding('cl100k_base').encode(segments[0])))  # <= 2048 tokens\n"
   ]
  },
  {
   "cell_type": "markdown",
   "metadata": {
    "application/vnd.databricks.v1+cell": {
     "cellMetadata": {
      "byteLimit": 2048000,
      "rowLimit": 10000
     },
     "inputWidgets": {},
     "nuid": "eab2c621-33ed-4181-9578-b442806c0fdc",
     "showTitle": false,
     "tableResultSettingsMap": {},
     "title": ""
    }
   },
   "source": [
    "## Ejercicio 2: Filtrar palabras prohibidas en un texto\n",
    "\n",
    "Escribe una función llamada filter_prohibited_words que remueva palabras prohibidas de un texto antes de enviarlo a OpenAI. \n",
    "\n",
    "Como ejemplo queremos Eliminar palabras como: ['password', 'confidential', 'secret']. \n",
    "\n"
   ]
  },
  {
   "cell_type": "code",
   "execution_count": 0,
   "metadata": {
    "application/vnd.databricks.v1+cell": {
     "cellMetadata": {
      "byteLimit": 2048000,
      "rowLimit": 10000
     },
     "inputWidgets": {},
     "nuid": "9e640601-f677-4471-982f-400793e41132",
     "showTitle": false,
     "tableResultSettingsMap": {},
     "title": ""
    }
   },
   "outputs": [
    {
     "output_type": "stream",
     "name": "stdout",
     "output_type": "stream",
     "text": [
      "This document contains [REDACTED] and [REDACTED] information.\n"
     ]
    }
   ],
   "source": [
    "import re\n",
    "\n",
    "def filter_prohibited_words(text, prohibited_words):\n",
    "    # Crear una expresión regular para encontrar las palabras prohibidas\n",
    "    prohibited_pattern = r'\\b(' + '|'.join(map(re.escape, prohibited_words)) + r')\\b'\n",
    "    \n",
    "    # Reemplazar las palabras prohibidas por [REDACTED]\n",
    "    cleaned_text = re.sub(prohibited_pattern, '[REDACTED]', text, flags=re.IGNORECASE)\n",
    "    \n",
    "    return cleaned_text\n",
    "\n",
    "# Prueba la función\n",
    "text = \"This document contains password and secret information.\"\n",
    "prohibited_words = ['password', 'confidential', 'secret']\n",
    "\n",
    "cleaned_text = filter_prohibited_words(text, prohibited_words)  # Llamada a la función\n",
    "print(cleaned_text)  # Resultado esperado: \"This document contains [REDACTED] and [REDACTED] information.\"\n"
   ]
  },
  {
   "cell_type": "markdown",
   "metadata": {
    "application/vnd.databricks.v1+cell": {
     "cellMetadata": {
      "byteLimit": 2048000,
      "rowLimit": 10000
     },
     "inputWidgets": {},
     "nuid": "78686047-d984-4c51-916c-50cc85b92325",
     "showTitle": false,
     "tableResultSettingsMap": {},
     "title": ""
    }
   },
   "source": [
    "## Ejercicio 3: Identificar idioma del texto\n",
    "\n",
    "Crea una función detect_language que use langdetect para identificar el idioma de un texto y devuelva el código del idioma (e.g., en, es). Verifica el idioma antes de enviarlo al modelo OpenAI. Debes instalar la libreria langdetect\n"
   ]
  },
  {
   "cell_type": "code",
   "execution_count": 0,
   "metadata": {
    "application/vnd.databricks.v1+cell": {
     "cellMetadata": {
      "byteLimit": 2048000,
      "rowLimit": 10000
     },
     "inputWidgets": {},
     "nuid": "06ad1119-71a1-419f-807a-31b8c51287a6",
     "showTitle": false,
     "tableResultSettingsMap": {},
     "title": ""
    }
   },
   "outputs": [
    {
     "output_type": "stream",
     "name": "stdout",
     "output_type": "stream",
     "text": [
      "Python interpreter will be restarted.\nCollecting langdetect\n  Downloading langdetect-1.0.9.tar.gz (981 kB)\nRequirement already satisfied: six in /databricks/python3/lib/python3.9/site-packages (from langdetect) (1.16.0)\nBuilding wheels for collected packages: langdetect\n  Building wheel for langdetect (setup.py): started\n  Building wheel for langdetect (setup.py): finished with status 'done'\n  Created wheel for langdetect: filename=langdetect-1.0.9-py3-none-any.whl size=993242 sha256=7b876fc25e3f2ae25a19f4695ece84e3eed69758981e012f446257f937aa22a0\n  Stored in directory: /root/.cache/pip/wheels/d1/c1/d9/7e068de779d863bc8f8fc9467d85e25cfe47fa5051fff1a1bb\nSuccessfully built langdetect\nInstalling collected packages: langdetect\nSuccessfully installed langdetect-1.0.9\nPython interpreter will be restarted.\n"
     ]
    }
   ],
   "source": [
    "%pip install langdetect"
   ]
  },
  {
   "cell_type": "code",
   "execution_count": 0,
   "metadata": {
    "application/vnd.databricks.v1+cell": {
     "cellMetadata": {
      "byteLimit": 2048000,
      "rowLimit": 10000
     },
     "inputWidgets": {},
     "nuid": "b16351d5-611b-4815-99ef-c23bc7872e93",
     "showTitle": false,
     "tableResultSettingsMap": {},
     "title": ""
    }
   },
   "outputs": [
    {
     "output_type": "stream",
     "name": "stdout",
     "output_type": "stream",
     "text": [
      "en\n"
     ]
    }
   ],
   "source": [
    "from langdetect import detect\n",
    "\n",
    "def detect_language(text):\n",
    "    \"\"\"Detecta el idioma de un texto.\"\"\"\n",
    "    # Usamos langdetect para detectar el idioma del texto\n",
    "    return detect(text)\n",
    "\n",
    "# Prueba la función\n",
    "textEN = \"This is futbol\"\n",
    "textEs= \"Este texto es en español\"\n",
    "language = detect_language(text)  # Llamada a la función\n",
    "print(language)  # Resultado esperado: 'es' (para español)\n"
   ]
  },
  {
   "cell_type": "markdown",
   "metadata": {
    "application/vnd.databricks.v1+cell": {
     "cellMetadata": {
      "byteLimit": 2048000,
      "rowLimit": 10000
     },
     "inputWidgets": {},
     "nuid": "cfea858d-c3e2-42d1-924c-350d428d1207",
     "showTitle": false,
     "tableResultSettingsMap": {},
     "title": ""
    }
   },
   "source": [
    "## Ejercicio 5: Generar prompts efectivos\n",
    "\n",
    "Escribe una función generate_effective_prompt que genere un prompt optimizado para OpenAI, dado un tema y un objetivo. Usa plantillas como:\n",
    "“Explain [tema] in simple terms for a [audiencia].”\n",
    "\n"
   ]
  },
  {
   "cell_type": "code",
   "execution_count": 0,
   "metadata": {
    "application/vnd.databricks.v1+cell": {
     "cellMetadata": {
      "byteLimit": 2048000,
      "rowLimit": 10000
     },
     "inputWidgets": {},
     "nuid": "899b09eb-fe4a-45ba-afd4-b073e435a75b",
     "showTitle": false,
     "tableResultSettingsMap": {},
     "title": ""
    }
   },
   "outputs": [
    {
     "output_type": "display_data",
     "data": {
      "text/plain": [
       ""
      ]
     },
     "metadata": {
      "application/vnd.databricks.v1+output": {
       "arguments": {},
       "data": "",
       "errorSummary": "Command skipped",
       "errorTraceType": "ansi",
       "metadata": {},
       "type": "ipynbError"
      }
     },
     "output_type": "display_data"
    }
   ],
   "source": [
    "def generate_effective_prompt(topic, audience=\"general audience\"):\n",
    "    \"\"\"Genera un prompt optimizado para OpenAI.\"\"\"\n",
    "    # Generar el prompt usando la plantilla indicada\n",
    "    prompt = f\"Explain {topic} in simple terms for a {audience}.\"\n",
    "    return prompt\n",
    "\n",
    "# Prueba la función\n",
    "topic = \"machine learning\"\n",
    "prompt = generate_effective_prompt(topic)  # Llamada a la función\n",
    "print(prompt)  # Resultado esperado: \"Explain machine learning in simple terms for a general audience.\"\n",
    "\n",
    "\n",
    "\n"
   ]
  },
  {
   "cell_type": "markdown",
   "metadata": {
    "application/vnd.databricks.v1+cell": {
     "cellMetadata": {
      "byteLimit": 2048000,
      "rowLimit": 10000
     },
     "inputWidgets": {},
     "nuid": "97860999-c685-4028-9541-32c4c39876ac",
     "showTitle": false,
     "tableResultSettingsMap": {},
     "title": ""
    }
   },
   "source": [
    "## Ejercicio 6: Medir costo estimado del uso de OpenAI\n",
    "\n",
    "Crea una función estimate_cost que calcule el costo estimado de una solicitud a OpenAI basado en el número de tokens. Supón un costo de $0.02 por 1000 tokens.\n",
    "\n"
   ]
  },
  {
   "cell_type": "code",
   "execution_count": 0,
   "metadata": {
    "application/vnd.databricks.v1+cell": {
     "cellMetadata": {
      "byteLimit": 2048000,
      "rowLimit": 10000
     },
     "inputWidgets": {},
     "nuid": "bdd066e1-2160-44e7-bacb-258ab965aff3",
     "showTitle": false,
     "tableResultSettingsMap": {},
     "title": ""
    }
   },
   "outputs": [
    {
     "output_type": "display_data",
     "data": {
      "text/plain": [
       ""
      ]
     },
     "metadata": {
      "application/vnd.databricks.v1+output": {
       "arguments": {},
       "data": "",
       "errorSummary": "Command skipped",
       "errorTraceType": "ansi",
       "metadata": {},
       "type": "ipynbError"
      }
     },
     "output_type": "display_data"
    }
   ],
   "source": [
    "import tiktoken\n",
    "\n",
    "def estimate_cost(text, encoding_name='cl100k_base', cost_per_1k_tokens=0.02):\n",
    "    \"\"\"Calcula el costo estimado de un texto basado en el número de tokens.\"\"\"\n",
    "    # Cargar el codificador especificado\n",
    "    encoding = tiktoken.get_encoding(encoding_name)\n",
    "    \n",
    "    # Tokenizar el texto\n",
    "    tokens = encoding.encode(text)\n",
    "    \n",
    "    # Calcular el número de tokens\n",
    "    num_tokens = len(tokens)\n",
    "    \n",
    "    # Calcular el costo estimado\n",
    "    cost = (num_tokens / 1000) * cost_per_1k_tokens\n",
    "    return cost\n",
    "text = \"Cuantos sera el coste de esto?\" * 100  # Texto de prueba\n",
    "cost = estimate_cost(text)  # Llamada a la función\n",
    "print(f\"El costo estimado es: ${cost:.4f}\")  # Resultado esperado: Costo aproximado basado en la cantidad de tokens\n",
    "\n",
    "\n"
   ]
  },
  {
   "cell_type": "markdown",
   "metadata": {
    "application/vnd.databricks.v1+cell": {
     "cellMetadata": {
      "byteLimit": 2048000,
      "rowLimit": 10000
     },
     "inputWidgets": {},
     "nuid": "e0b99675-f58d-4a6e-ae74-25ce4f1b8317",
     "showTitle": false,
     "tableResultSettingsMap": {},
     "title": ""
    }
   },
   "source": [
    "## Ejercicio 7: Limpiar texto JSON para OpenAI\n",
    "\n",
    "Escribe una función clean_json_text que tome un JSON como entrada y limpie todas las claves y valores de caracteres no ASCII.\n"
   ]
  },
  {
   "cell_type": "code",
   "execution_count": 0,
   "metadata": {
    "application/vnd.databricks.v1+cell": {
     "cellMetadata": {
      "byteLimit": 2048000,
      "rowLimit": 10000
     },
     "inputWidgets": {},
     "nuid": "35a238cd-f33b-4e23-90e7-1b75dc0afd4d",
     "showTitle": false,
     "tableResultSettingsMap": {},
     "title": ""
    }
   },
   "outputs": [
    {
     "output_type": "display_data",
     "data": {
      "text/plain": [
       ""
      ]
     },
     "metadata": {
      "application/vnd.databricks.v1+output": {
       "arguments": {},
       "data": "",
       "errorSummary": "Command skipped",
       "errorTraceType": "ansi",
       "metadata": {},
       "type": "ipynbError"
      }
     },
     "output_type": "display_data"
    }
   ],
   "source": [
    "import json\n",
    "import re\n",
    "\n",
    "def clean_json_text(json_obj):\n",
    "    \"\"\"Limpia texto JSON eliminando caracteres no ASCII.\"\"\"\n",
    "    \n",
    "    # Función auxiliar para limpiar los valores\n",
    "    def clean_value(value):\n",
    "        # Si el valor es un string, eliminamos los caracteres no ASCII\n",
    "        if isinstance(value, str):\n",
    "            return re.sub(r'[^\\x00-\\x7F]', '', value)\n",
    "        # Si el valor es un diccionario, limpiamos recursivamente\n",
    "        elif isinstance(value, dict):\n",
    "            return clean_json_text(value)\n",
    "        # Si el valor es una lista, limpiamos cada elemento\n",
    "        elif isinstance(value, list):\n",
    "            return [clean_value(v) for v in value]\n",
    "        # Si es otro tipo de dato, lo devolvemos tal cual\n",
    "        return value\n",
    "\n",
    "    # Limpiar todas las claves y valores del JSON\n",
    "    return {k: clean_value(v) for k, v in json_obj.items()}\n",
    "\n",
    "# Prueba la función\n",
    "data = {\"key1\": \"Hello 😊\", \"key2\": \"Café and thé\", \"key3\": {\"nestedKey\": \"Texto con símbolo ⚡\"}}\n",
    "cleaned_data = clean_json_text(data)\n",
    "print(cleaned_data)  \n",
    "# Resultado esperado: {\"key1\": \"Hello \", \"key2\": \"Caf and th\", \"key3\": {\"nestedKey\": \"Texto con símbolo \"}}\n"
   ]
  }
 ],
 "metadata": {
  "application/vnd.databricks.v1+notebook": {
   "computePreferences": null,
   "dashboards": [],
   "environmentMetadata": null,
   "language": "python",
   "notebookMetadata": {
    "pythonIndentUnit": 4
   },
   "notebookName": "preprocessing",
   "widgets": {}
  },
  "kernelspec": {
   "display_name": "Python [conda env:base] *",
   "language": "python",
   "name": "conda-base-py"
  },
  "language_info": {
   "codemirror_mode": {
    "name": "ipython",
    "version": 3
   },
   "file_extension": ".py",
   "mimetype": "text/x-python",
   "name": "python",
   "nbconvert_exporter": "python",
   "pygments_lexer": "ipython3",
   "version": "3.12.7"
  },
  "vscode": {
   "interpreter": {
    "hash": "eb4a0ac80907d7f44e1a5e88d3d3381b33e3dbedd3a24d113e876f30a0c46bee"
   }
  }
 },
 "nbformat": 4,
 "nbformat_minor": 0
}
